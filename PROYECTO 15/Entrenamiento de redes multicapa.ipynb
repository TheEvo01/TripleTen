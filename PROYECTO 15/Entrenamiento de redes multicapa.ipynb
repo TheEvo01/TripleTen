from tensorflow.keras.datasets import fashion_mnist
from tensorflow.keras.layers import Dense
from tensorflow.keras.models import Sequential
import numpy as np


def load_train(path):
    # Cargar los datos de entrenamiento
    features_train = np.load(path + 'train_features.npy')
    target_train = np.load(path + 'train_target.npy')
    features_train = (
        features_train.reshape(features_train.shape[0], 28 * 28) / 255.0
    )
    return features_train, target_train


def create_model(input_shape):
    # Crear una red neuronal con tres capas ocultas
    model = Sequential()
    model.add(Dense(64, input_shape=input_shape, activation='relu'))
    model.add(Dense(32, input_shape=input_shape, activation='relu'))
    model.add(Dense(32, input_shape=input_shape, activation='relu'))
    model.add(Dense(10, input_shape=input_shape, activation='softmax'))
    # Compilar el modelo con la función de pérdida 'sparse_categorical_crossentropy'
    model.compile(
        optimizer='adam',
        loss='sparse_categorical_crossentropy',
        metrics=['acc'],
    )

    return model


def train_model(
    model,
    train_data,
    test_data,
    batch_size=32,
    epochs=5,
    steps_per_epoch=None,
    validation_steps=None,
):

    # Entrenar el modelo con los datos de entrenamiento
    features_train, target_train = train_data
    features_test, target_test = test_data
    model.fit(
        features_train,
        target_train,
        validation_data=(features_test, target_test),
        batch_size=batch_size,
        epochs=epochs,
        steps_per_epoch=steps_per_epoch,
        validation_steps=validation_steps,
        verbose=2,
        shuffle=True,
    )

    return model