import pandas as pd
import tensorflow as tf
from tensorflow.keras.preprocessing.image import ImageDataGenerator
from tensorflow.keras.models import Sequential
from tensorflow.keras.layers import Conv2D, MaxPooling2D, Flatten, Dense

def load_train(path):
    """
    Carga el conjunto de datos de entrenamiento.
    """
    train_datagen = ImageDataGenerator(rescale=1./255)
    train_gen_flow = train_datagen.flow_from_dataframe(
        dataframe=pd.read_csv(path + 'labels.csv'),
        directory=path + 'final_files/',
        x_col='file_name',
        y_col='real_age',
        target_size=(224, 224),
        batch_size=32,
        class_mode='raw',
        seed=12345
    )
    return train_gen_flow

def load_test(path):
    """
    Carga el conjunto de datos de prueba.
    """
    test_datagen = ImageDataGenerator(rescale=1./255)
    test_gen_flow = test_datagen.flow_from_dataframe(
        dataframe=pd.read_csv(path + 'labels.csv'),
        directory=path + 'final_files/',
        x_col='file_name',
        y_col='real_age',
        target_size=(224, 224),
        batch_size=32,
        class_mode='raw',
        seed=12345
    )
    return test_gen_flow

def create_model(input_shape):
    """
    Define el modelo.
    """
    model = Sequential([
        Conv2D(32, (3, 3), activation='relu', input_shape=input_shape),
        MaxPooling2D(2, 2),
        Conv2D(64, (3, 3), activation='relu'),
        MaxPooling2D(2, 2),
        Conv2D(128, (3, 3), activation='relu'),
        MaxPooling2D(2, 2),
        Conv2D(128, (3, 3), activation='relu'),
        MaxPooling2D(2, 2),
        Flatten(),
        Dense(512, activation='relu'),
        Dense(1)
    ])
    return model

def train_model(model, train_data, test_data, batch_size=None, epochs=20,
                steps_per_epoch=None, validation_steps=None):
    """
    Entrena el modelo.
    """
    model.compile(optimizer='adam', loss='mse', metrics=['mae'])
    history = model.fit(
        train_data,
        epochs=epochs,
        validation_data=test_data,
        steps_per_epoch=steps_per_epoch,
        validation_steps=validation_steps
    )
    test_loss, test_mae = model.evaluate(test_data)
    print("Test MAE:", test_mae)
    return model

# Cargar los datos
train_data = load_train('/datasets/faces/')
test_data = load_test('/datasets/faces/')

# Definir el modelo
model = create_model((224, 224, 3))

# Entrenar el modelo
model = train_model(model, train_data, test_data, epochs=20, steps_per_epoch=356, validation_steps=119)