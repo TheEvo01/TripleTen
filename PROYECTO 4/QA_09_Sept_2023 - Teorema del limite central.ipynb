{
  "nbformat": 4,
  "nbformat_minor": 0,
  "metadata": {
    "colab": {
      "provenance": []
    },
    "kernelspec": {
      "name": "python3",
      "display_name": "Python 3"
    },
    "language_info": {
      "name": "python"
    }
  },
  "cells": [
    {
      "cell_type": "code",
      "execution_count": 1,
      "metadata": {
        "id": "YRMl9hSIBxfo"
      },
      "outputs": [],
      "source": [
        "# Teorema de límite central"
      ]
    },
    {
      "cell_type": "code",
      "source": [
        "import numpy as np\n",
        "import pandas as pd"
      ],
      "metadata": {
        "id": "J5kkga_aB1Hd"
      },
      "execution_count": 19,
      "outputs": []
    },
    {
      "cell_type": "markdown",
      "source": [
        "# ¿ por qué candidato votará usted en las próximas elecciones presidenciales?"
      ],
      "metadata": {
        "id": "Lo5EuiGYCsMS"
      }
    },
    {
      "cell_type": "code",
      "source": [
        "lista_aleatoria = []\n",
        "\n",
        "for x in range(1000000):\n",
        "  lista_aleatoria.append(np.random.normal())"
      ],
      "metadata": {
        "id": "afG00_OEB7bK"
      },
      "execution_count": 28,
      "outputs": []
    },
    {
      "cell_type": "code",
      "source": [
        "pd.Series(lista_aleatoria).hist(bins=10)"
      ],
      "metadata": {
        "id": "wWphfT6gCOva"
      },
      "execution_count": null,
      "outputs": []
    },
    {
      "cell_type": "markdown",
      "source": [
        "# Moraleja\n",
        "\n",
        "Quiero tener el mayor número de muestra posible -> Machine learning, Data Science, Big Data, Investigación de Mercados, Medicina,\n",
        "\n",
        "El problema es que generalmente (casi siempre) tener un mayor número de muestra representa un mayor costo monetario o de procesamiento de cómputo.\n",
        "\n",
        "# Diseño de muestras\n",
        "La sub rama de la estadística de \"muestreo\" es dónde se estudian todas las técnicas para crear muestras (idealmente con el tamaño/ costo menor posible) que garantiza tener cierta confianza en los resultados.\n",
        "\n",
        "# ¿ y qué pasa con el límite central?"
      ],
      "metadata": {
        "id": "UBsxGj2qDEiR"
      }
    },
    {
      "cell_type": "code",
      "source": [
        "pd.Series(lista_aleatoria).mean()"
      ],
      "metadata": {
        "colab": {
          "base_uri": "https://localhost:8080/"
        },
        "id": "HSRn95FcDUgh",
        "outputId": "d67750bd-a07c-4dea-bfcb-35cd1e5c8c43"
      },
      "execution_count": 32,
      "outputs": [
        {
          "output_type": "execute_result",
          "data": {
            "text/plain": [
              "0.00015371069105085967"
            ]
          },
          "metadata": {},
          "execution_count": 32
        }
      ]
    },
    {
      "cell_type": "code",
      "source": [
        "# ¿Cuánta muestra necesito para poder conseguir el mismo estadístico (el promedio) ?"
      ],
      "metadata": {
        "id": "XLFQm36AD73M"
      },
      "execution_count": 33,
      "outputs": []
    },
    {
      "cell_type": "code",
      "source": [
        "lista_aleatoria = []\n",
        "\n",
        "for x in range(10):\n",
        "  lista_aleatoria.append(np.random.normal())\n",
        "\n",
        "pd.Series(lista_aleatoria).mean()"
      ],
      "metadata": {
        "colab": {
          "base_uri": "https://localhost:8080/"
        },
        "id": "P0I6nscoEMgS",
        "outputId": "dce0ea5f-e288-45e9-bebf-5cb8bebe0ced"
      },
      "execution_count": 41,
      "outputs": [
        {
          "output_type": "execute_result",
          "data": {
            "text/plain": [
              "0.5504986880820119"
            ]
          },
          "metadata": {},
          "execution_count": 41
        }
      ]
    },
    {
      "cell_type": "markdown",
      "source": [
        "En condiciones muy generales, si S_n es la suma de n variables aleatorias independientes, con media y varianza finitas, entonces la función de distribución de S_n «se aproxima bien» a una distribución normal"
      ],
      "metadata": {
        "id": "icKdBKGuEdrb"
      }
    },
    {
      "cell_type": "code",
      "source": [
        "n_muestras   = 1000\n",
        "n            = 10\n",
        "lista_medias = []\n",
        "\n",
        "for experimento in range(n_muestras):\n",
        "\n",
        "  lista_aleatoria = []\n",
        "  for x in range(10):\n",
        "    lista_aleatoria.append(np.random.normal())\n",
        "\n",
        "  lista_medias.append(pd.Series(lista_aleatoria).mean())\n"
      ],
      "metadata": {
        "id": "WfNLBbXrEiS6"
      },
      "execution_count": 58,
      "outputs": []
    },
    {
      "cell_type": "code",
      "source": [
        "100*10"
      ],
      "metadata": {
        "colab": {
          "base_uri": "https://localhost:8080/"
        },
        "id": "8Ui9Rce6GT9y",
        "outputId": "15e787dd-b998-4c01-eacc-80677a34ef47"
      },
      "execution_count": 54,
      "outputs": [
        {
          "output_type": "execute_result",
          "data": {
            "text/plain": [
              "1000"
            ]
          },
          "metadata": {},
          "execution_count": 54
        }
      ]
    },
    {
      "cell_type": "code",
      "source": [
        "pd.Series(lista_medias).hist(bins=10)"
      ],
      "metadata": {
        "colab": {
          "base_uri": "https://localhost:8080/",
          "height": 447
        },
        "id": "Zed08HcrFIyq",
        "outputId": "59e10c5d-8653-401a-8403-8541334cb38f"
      },
      "execution_count": 59,
      "outputs": [
        {
          "output_type": "execute_result",
          "data": {
            "text/plain": [
              "<Axes: >"
            ]
          },
          "metadata": {},
          "execution_count": 59
        },
        {
          "output_type": "display_data",
          "data": {
            "text/plain": [
              "<Figure size 640x480 with 1 Axes>"
            ],
            "image/png": "[encoded data removed]"
          },
          "metadata": {}
        }
      ]
    },
    {
      "cell_type": "code",
      "source": [
        "pd.Series(lista_medias).plot.box()"
      ],
      "metadata": {
        "colab": {
          "base_uri": "https://localhost:8080/",
          "height": 428
        },
        "id": "YRvgkY7PGFyu",
        "outputId": "11dbccda-9efd-4259-900a-2818331e7330"
      },
      "execution_count": 51,
      "outputs": [
        {
          "output_type": "execute_result",
          "data": {
            "text/plain": [
              "<Axes: >"
            ]
          },
          "metadata": {},
          "execution_count": 51
        },
        {
          "output_type": "display_data",
          "data": {
            "text/plain": [
              "<Figure size 640x480 with 1 Axes>"
            ],
            "image/png": "[encoded data removed]"
          },
          "metadata": {}
        }
      ]
    },
    {
      "cell_type": "markdown",
      "source": [
        "## Remuestreo con  Bootstrap\n",
        "\n",
        "Este concepto del teorema del límite central es la antesala para una técnica de estadística llamada Boostrap. Esta es una técnica muy utilizada y fundamental para el análisis de datos avanzado."
      ],
      "metadata": {
        "id": "nEMH5qhlGbos"
      }
    },
    {
      "cell_type": "code",
      "source": [
        "import seaborn as sns\n",
        "\n",
        "titanic = sns.load_dataset('titanic')"
      ],
      "metadata": {
        "id": "sEIYsBPpGmdK"
      },
      "execution_count": 60,
      "outputs": []
    },
    {
      "cell_type": "code",
      "source": [
        "edades = titanic['age'].dropna()\n",
        "edades"
      ],
      "metadata": {
        "colab": {
          "base_uri": "https://localhost:8080/"
        },
        "id": "PVMuI7EyHkYC",
        "outputId": "9eb1d346-f2eb-47c7-b713-4b8b803d728e"
      },
      "execution_count": 63,
      "outputs": [
        {
          "output_type": "execute_result",
          "data": {
            "text/plain": [
              "0      22.0\n",
              "1      38.0\n",
              "2      26.0\n",
              "3      35.0\n",
              "4      35.0\n",
              "       ... \n",
              "885    39.0\n",
              "886    27.0\n",
              "887    19.0\n",
              "889    26.0\n",
              "890    32.0\n",
              "Name: age, Length: 714, dtype: float64"
            ]
          },
          "metadata": {},
          "execution_count": 63
        }
      ]
    },
    {
      "cell_type": "code",
      "source": [
        "edades.describe()"
      ],
      "metadata": {
        "colab": {
          "base_uri": "https://localhost:8080/"
        },
        "id": "xBZAHRDrISYv",
        "outputId": "07c546b0-401b-45fc-bf18-c15e4e86b2c9"
      },
      "execution_count": 88,
      "outputs": [
        {
          "output_type": "execute_result",
          "data": {
            "text/plain": [
              "count    714.000000\n",
              "mean      29.699118\n",
              "std       14.526497\n",
              "min        0.420000\n",
              "25%       20.125000\n",
              "50%       28.000000\n",
              "75%       38.000000\n",
              "max       80.000000\n",
              "Name: age, dtype: float64"
            ]
          },
          "metadata": {},
          "execution_count": 88
        }
      ]
    },
    {
      "cell_type": "code",
      "source": [
        "edades.plot.box()"
      ],
      "metadata": {
        "colab": {
          "base_uri": "https://localhost:8080/",
          "height": 447
        },
        "id": "nXstgvoAHrs-",
        "outputId": "a9782da2-8f04-4470-b5a1-1f42c2997676"
      },
      "execution_count": 64,
      "outputs": [
        {
          "output_type": "execute_result",
          "data": {
            "text/plain": [
              "<Axes: >"
            ]
          },
          "metadata": {},
          "execution_count": 64
        },
        {
          "output_type": "display_data",
          "data": {
            "text/plain": [
              "<Figure size 640x480 with 1 Axes>"
            ],
            "image/png": "[encoded data removed]"
          },
          "metadata": {}
        }
      ]
    },
    {
      "cell_type": "code",
      "source": [
        "# Remuestreo Bootstrap\n",
        "n_muestras = 100\n",
        "n          = 10\n",
        "\n",
        "coleccion_promedios = []\n",
        "\n",
        "for x in range(n_muestras):\n",
        "  coleccion_promedios.append(\n",
        "      edades.sample(n,replace=True).mean()\n",
        "  )"
      ],
      "metadata": {
        "id": "0dv7zbqSHzqF"
      },
      "execution_count": 89,
      "outputs": []
    },
    {
      "cell_type": "code",
      "source": [
        "pd.Series(coleccion_promedios).hist()"
      ],
      "metadata": {
        "colab": {
          "base_uri": "https://localhost:8080/",
          "height": 447
        },
        "id": "zPjdAVwhIMiq",
        "outputId": "155c55d3-3266-46ed-9e5b-68978464d62e"
      },
      "execution_count": 90,
      "outputs": [
        {
          "output_type": "execute_result",
          "data": {
            "text/plain": [
              "<Axes: >"
            ]
          },
          "metadata": {},
          "execution_count": 90
        },
        {
          "output_type": "display_data",
          "data": {
            "text/plain": [
              "<Figure size 640x480 with 1 Axes>"
            ],
            "image/png": "[encoded data removed]"
          },
          "metadata": {}
        }
      ]
    },
    {
      "cell_type": "code",
      "source": [
        "pd.Series(coleccion_promedios).plot.box()"
      ],
      "metadata": {
        "colab": {
          "base_uri": "https://localhost:8080/",
          "height": 428
        },
        "id": "8G5SwoW5IZDp",
        "outputId": "f6f89fc1-3c57-42eb-d0e6-331d6dcfe176"
      },
      "execution_count": 91,
      "outputs": [
        {
          "output_type": "execute_result",
          "data": {
            "text/plain": [
              "<Axes: >"
            ]
          },
          "metadata": {},
          "execution_count": 91
        },
        {
          "output_type": "display_data",
          "data": {
            "text/plain": [
              "<Figure size 640x480 with 1 Axes>"
            ],
            "image/png": "[encoded data removed]"
          },
          "metadata": {}
        }
      ]
    },
    {
      "cell_type": "code",
      "source": [
        "pd.Series(coleccion_promedios).mean()"
      ],
      "metadata": {
        "colab": {
          "base_uri": "https://localhost:8080/"
        },
        "id": "o4tlhvxVIfNJ",
        "outputId": "dd54414c-4f14-46aa-be4e-196b3b19c00d"
      },
      "execution_count": 92,
      "outputs": [
        {
          "output_type": "execute_result",
          "data": {
            "text/plain": [
              "29.58"
            ]
          },
          "metadata": {},
          "execution_count": 92
        }
      ]
    },
    {
      "cell_type": "markdown",
      "source": [
        "### Por qué querría usar remuestreo? O teorema de límite central?\n",
        "\n",
        "Big Data"
      ],
      "metadata": {
        "id": "D9mKf9RYIr_e"
      }
    },
    {
      "cell_type": "code",
      "source": [
        "100000000"
      ],
      "metadata": {
        "id": "es3OTRQzIvax"
      },
      "execution_count": null,
      "outputs": []
    }
  ]
}