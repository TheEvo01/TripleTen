{
 "cells": [
  {
   "cell_type": "markdown",
   "metadata": {},
   "source": [
    "# ¿Cuál es un mejor plan?\n",
    "\n",
    "Trabajas como analista para el operador de telecomunicaciones Megaline. La empresa ofrece a sus clientes dos tarifas de prepago, Surf y Ultimate. El departamento comercial quiere saber cuál de los planes genera más ingresos para poder ajustar el presupuesto de publicidad.\n",
    "\n",
    "Vas a realizar un análisis preliminar de las tarifas basado en una selección de clientes relativamente pequeña. Tendrás los datos de 500 clientes de Megaline: quiénes son los clientes, de dónde son, qué tarifa usan, así como la cantidad de llamadas que hicieron y los mensajes de texto que enviaron en 2018. Tu trabajo es analizar el comportamiento de los clientes y determinar qué tarifa de prepago genera más ingresos."
   ]
  },
  {
   "cell_type": "markdown",
   "metadata": {},
   "source": [
    "<div class=\"alert alert-block alert-info\">\n",
    "\n",
    "<b>Respuesta del estudiante</b> <a class=\"tocSkip\"></a>\n",
    "En este proyecto estaremos trabajando la data provista por Megaline, la cual sera analizada, preprocesarla, corregida y enriquecida en caso de ser necesario, para poder proceder a crear nuestras hipotesis sobre sus planes prepago, y asi poder sugerir pertinentemente cual de los 2 planes es el que genera mas ingresos, para que ellos puedan ajustar el presupuesto de publicidad para este, estare visualizando la data con algunos graficos para que sea mas entendible lo que estamos evaluando y para que se pueda tomar la decision adecuada en las conclusiones.\n",
    "</div>"
   ]
  },
  {
   "cell_type": "markdown",
   "metadata": {},
   "source": [
    "## Inicialización"
   ]
  },
  {
   "cell_type": "code",
   "execution_count": 1,
   "metadata": {},
   "outputs": [],
   "source": [
    "# Cargar todas las librerías\n",
    "import pandas as pd\n",
    "import os\n",
    "import math\n",
    "import numpy as np\n",
    "import scipy.stats as stats\n",
    "import seaborn as sns\n",
    "import matplotlib.pyplot as plt"
   ]
  },
  {
   "cell_type": "markdown",
   "metadata": {},
   "source": [
    "<div class=\"alert alert-block alert-info\">\n",
    "\n",
    "<b>Respuesta del estudiante</b> <a class=\"tocSkip\"></a>\n",
    "Aca hemos cargado las librerias que estaremos usando en el proyecto, para calcular y visualizar las evaluaciones que estaremos realizando.\n",
    "</div>"
   ]
  },
  {
   "cell_type": "markdown",
   "metadata": {},
   "source": [
    "## Cargar los datos"
   ]
  },
  {
   "cell_type": "code",
   "execution_count": 2,
   "metadata": {},
   "outputs": [
    {
     "name": "stdout",
     "output_type": "stream",
     "text": [
      "Archivo megaline_calls.csv cargado exitosamente.\n",
      "Archivo megaline_internet.csv cargado exitosamente.\n",
      "Archivo megaline_messages.csv cargado exitosamente.\n",
      "Archivo megaline_plans.csv cargado exitosamente.\n",
      "Archivo megaline_users.csv cargado exitosamente.\n"
     ]
    }
   ],
   "source": [
    "# Nombre de tus archivos CSV\n",
    "file_names = [\n",
    "    \"/datasets/megaline_calls.csv\",\n",
    "    \"/datasets/megaline_internet.csv\",\n",
    "    \"/datasets/megaline_messages.csv\",\n",
    "    \"/datasets/megaline_plans.csv\",\n",
    "    \"/datasets/megaline_users.csv\"\n",
    "]\n",
    "\n",
    "# Crear un diccionario para almacenar los DataFrames\n",
    "dataframes = {}\n",
    "\n",
    "# Iterar a través de los nombres de archivo y cargar los datos en DataFrames\n",
    "for file_name in file_names:\n",
    "    # Usa try-except para manejar cualquier error al cargar archivos\n",
    "    try:\n",
    "        # Obtener el nombre base del archivo sin la extensión\n",
    "        base_name = os.path.basename(file_name)\n",
    "        key = os.path.splitext(base_name)[0]\n",
    "        # Cargar el archivo CSV en un DataFrame y almacenarlo en el diccionario\n",
    "        dataframes[key] = pd.read_csv(file_name)\n",
    "        print(f\"Archivo {base_name} cargado exitosamente.\")\n",
    "    except Exception as e:\n",
    "        print(f\"Error al cargar {file_name}: {str(e)}\")\n",
    "\n",
    "# Ahora puedes acceder a los DataFrames utilizando nombres de archivo sin la extensión como claves\n",
    "# Por ejemplo, para acceder al DataFrame de megaline_calls.csv:\n",
    "df_megaline_calls = dataframes['megaline_calls']\n",
    "\n",
    "# Para acceder al DataFrame de megaline_internet.csv:\n",
    "df_megaline_internet = dataframes['megaline_internet']\n",
    "\n",
    "# Para acceder al DataFrame de megaline_messages.csv:\n",
    "df_megaline_messages = dataframes['megaline_messages']\n",
    "\n",
    "# Para acceder al DataFrame de megaline_plans.csv:\n",
    "df_megaline_plans = dataframes['megaline_plans']\n",
    "\n",
    "# Para acceder al DataFrame de megaline_users.csv:\n",
    "df_megaline_users = dataframes['megaline_users']"
   ]
  },
  {
   "cell_type": "markdown",
   "metadata": {},
   "source": [
    "<div class=\"alert alert-block alert-info\">\n",
    "\n",
    "<b>Respuesta del estudiante</b> <a class=\"tocSkip\"></a>\n",
    "Aca como podemos ver, creamos un codigo que nos permitiera cargar los 5 dataframes juntos y asi evitarnos la incomodidad de hacerlo por separado .\n",
    "</div>"
   ]
  },
  {
   "cell_type": "markdown",
   "metadata": {},
   "source": [
    "# Preparar los datos"
   ]
  },
  {
   "cell_type": "markdown",
   "metadata": {},
   "source": [
    "## Planes"
   ]
  },
  {
   "cell_type": "code",
   "execution_count": 3,
   "metadata": {},
   "outputs": [
    {
     "name": "stdout",
     "output_type": "stream",
     "text": [
      "<class 'pandas.core.frame.DataFrame'>\n",
      "RangeIndex: 2 entries, 0 to 1\n",
      "Data columns (total 8 columns):\n",
      " #   Column                 Non-Null Count  Dtype  \n",
      "---  ------                 --------------  -----  \n",
      " 0   messages_included      2 non-null      int64  \n",
      " 1   mb_per_month_included  2 non-null      int64  \n",
      " 2   minutes_included       2 non-null      int64  \n",
      " 3   usd_monthly_pay        2 non-null      int64  \n",
      " 4   usd_per_gb             2 non-null      int64  \n",
      " 5   usd_per_message        2 non-null      float64\n",
      " 6   usd_per_minute         2 non-null      float64\n",
      " 7   plan_name              2 non-null      object \n",
      "dtypes: float64(2), int64(5), object(1)\n",
      "memory usage: 256.0+ bytes\n"
     ]
    }
   ],
   "source": [
    "# Imprime la información general/resumen sobre el DataFrame de los planes\n",
    "df_megaline_plans.info()"
   ]
  },
  {
   "cell_type": "code",
   "execution_count": 4,
   "metadata": {},
   "outputs": [
    {
     "data": {
      "text/html": [
       "<div>\n",
       "<style scoped>\n",
       "    .dataframe tbody tr th:only-of-type {\n",
       "        vertical-align: middle;\n",
       "    }\n",
       "\n",
       "    .dataframe tbody tr th {\n",
       "        vertical-align: top;\n",
       "    }\n",
       "\n",
       "    .dataframe thead th {\n",
       "        text-align: right;\n",
       "    }\n",
       "</style>\n",
       "<table border=\"1\" class=\"dataframe\">\n",
       "  <thead>\n",
       "    <tr style=\"text-align: right;\">\n",
       "      <th></th>\n",
       "      <th>messages_included</th>\n",
       "      <th>mb_per_month_included</th>\n",
       "      <th>minutes_included</th>\n",
       "      <th>usd_monthly_pay</th>\n",
       "      <th>usd_per_gb</th>\n",
       "      <th>usd_per_message</th>\n",
       "      <th>usd_per_minute</th>\n",
       "      <th>plan_name</th>\n",
       "    </tr>\n",
       "  </thead>\n",
       "  <tbody>\n",
       "    <tr>\n",
       "      <th>0</th>\n",
       "      <td>50</td>\n",
       "      <td>15360</td>\n",
       "      <td>500</td>\n",
       "      <td>20</td>\n",
       "      <td>10</td>\n",
       "      <td>0.03</td>\n",
       "      <td>0.03</td>\n",
       "      <td>surf</td>\n",
       "    </tr>\n",
       "    <tr>\n",
       "      <th>1</th>\n",
       "      <td>1000</td>\n",
       "      <td>30720</td>\n",
       "      <td>3000</td>\n",
       "      <td>70</td>\n",
       "      <td>7</td>\n",
       "      <td>0.01</td>\n",
       "      <td>0.01</td>\n",
       "      <td>ultimate</td>\n",
       "    </tr>\n",
       "  </tbody>\n",
       "</table>\n",
       "</div>"
      ],
      "text/plain": [
       "   messages_included  mb_per_month_included  minutes_included  \\\n",
       "0                 50                  15360               500   \n",
       "1               1000                  30720              3000   \n",
       "\n",
       "   usd_monthly_pay  usd_per_gb  usd_per_message  usd_per_minute plan_name  \n",
       "0               20          10             0.03            0.03      surf  \n",
       "1               70           7             0.01            0.01  ultimate  "
      ]
     },
     "execution_count": 4,
     "metadata": {},
     "output_type": "execute_result"
    }
   ],
   "source": [
    "# Imprime una muestra de los datos para los planes\n",
    "df_megaline_plans.head()"
   ]
  },
  {
   "cell_type": "markdown",
   "metadata": {},
   "source": [
    " <div class=\"alert alert-block alert-info\">\n",
    "\n",
    "<b>Respuesta del estudiante</b> <a class=\"tocSkip\"></a>\n",
    "Este dataframe es sencillo, podemos ver la informacion relevante de ambos planes `surf` y `ultimate` detallada pertinentemente para que podamos tener pendiente de que va cada plan, se puede observar que en la columna `mb_per_month_included` la cantidad de data no esta redondeada si no que como corresponde es la cantidad exacta, si dividimos entre 1024 nos dara el numero redondeado, para mostrar haremos la division, ya que asi es mas entendible.\n",
    "</div>"
   ]
  },
  {
   "cell_type": "markdown",
   "metadata": {},
   "source": [
    "### Corregir los datos"
   ]
  },
  {
   "cell_type": "code",
   "execution_count": 5,
   "metadata": {},
   "outputs": [
    {
     "data": {
      "text/html": [
       "<div>\n",
       "<style scoped>\n",
       "    .dataframe tbody tr th:only-of-type {\n",
       "        vertical-align: middle;\n",
       "    }\n",
       "\n",
       "    .dataframe tbody tr th {\n",
       "        vertical-align: top;\n",
       "    }\n",
       "\n",
       "    .dataframe thead th {\n",
       "        text-align: right;\n",
       "    }\n",
       "</style>\n",
       "<table border=\"1\" class=\"dataframe\">\n",
       "  <thead>\n",
       "    <tr style=\"text-align: right;\">\n",
       "      <th></th>\n",
       "      <th>messages_included</th>\n",
       "      <th>mb_per_month_included</th>\n",
       "      <th>minutes_included</th>\n",
       "      <th>usd_monthly_pay</th>\n",
       "      <th>usd_per_gb</th>\n",
       "      <th>usd_per_message</th>\n",
       "      <th>usd_per_minute</th>\n",
       "      <th>plan_name</th>\n",
       "    </tr>\n",
       "  </thead>\n",
       "  <tbody>\n",
       "    <tr>\n",
       "      <th>0</th>\n",
       "      <td>50</td>\n",
       "      <td>15000</td>\n",
       "      <td>500</td>\n",
       "      <td>20</td>\n",
       "      <td>10</td>\n",
       "      <td>0.03</td>\n",
       "      <td>0.03</td>\n",
       "      <td>surf</td>\n",
       "    </tr>\n",
       "    <tr>\n",
       "      <th>1</th>\n",
       "      <td>1000</td>\n",
       "      <td>30000</td>\n",
       "      <td>3000</td>\n",
       "      <td>70</td>\n",
       "      <td>7</td>\n",
       "      <td>0.01</td>\n",
       "      <td>0.01</td>\n",
       "      <td>ultimate</td>\n",
       "    </tr>\n",
       "  </tbody>\n",
       "</table>\n",
       "</div>"
      ],
      "text/plain": [
       "   messages_included  mb_per_month_included  minutes_included  \\\n",
       "0                 50                  15000               500   \n",
       "1               1000                  30000              3000   \n",
       "\n",
       "   usd_monthly_pay  usd_per_gb  usd_per_message  usd_per_minute plan_name  \n",
       "0               20          10             0.03            0.03      surf  \n",
       "1               70           7             0.01            0.01  ultimate  "
      ]
     },
     "execution_count": 5,
     "metadata": {},
     "output_type": "execute_result"
    }
   ],
   "source": [
    "# Define una función para redondear los valores de la columna 'mb_per_month_included'\n",
    "def round_mb(value):\n",
    "    if value == 15360:\n",
    "        return 15000\n",
    "    elif value == 30720:\n",
    "        return 30000\n",
    "    else:\n",
    "        return value\n",
    "\n",
    "# Aplica la función a la columna 'mb_per_month_included' del DataFrame\n",
    "df_megaline_plans['mb_per_month_included'] = df_megaline_plans['mb_per_month_included'].apply(round_mb)\n",
    "\n",
    "# Muestra el DataFrame actualizado\n",
    "df_megaline_plans"
   ]
  },
  {
   "cell_type": "markdown",
   "metadata": {},
   "source": [
    "<div class=\"alert alert-block alert-info\">\n",
    "\n",
    "<b>Respuesta del estudiante</b> <a class=\"tocSkip\"></a>\n",
    "Aca podemos ver el resultado del redondeo que aplicamos al dataframe para que sea mas entendible la parte de la cantidad de data por mes, basado en las observaciones no hay nada mas que deba ser corregido.\n",
    "</div>"
   ]
  },
  {
   "cell_type": "markdown",
   "metadata": {},
   "source": [
    "### Enriquecer los datos"
   ]
  },
  {
   "cell_type": "markdown",
   "metadata": {},
   "source": [
    "<div class=\"alert alert-block alert-info\">\n",
    "\n",
    "<b>Respuesta del estudiante</b> <a class=\"tocSkip\"></a>\n",
    "Luego de haber corregido el unico detalle visible en el dataframe de los planes, he observado que no hay necesidad de enriquecer los datos, ya que son pocos y bien entendibles.\n",
    "</div>"
   ]
  },
  {
   "cell_type": "markdown",
   "metadata": {},
   "source": [
    "## Usuarios"
   ]
  },
  {
   "cell_type": "code",
   "execution_count": 6,
   "metadata": {},
   "outputs": [
    {
     "name": "stdout",
     "output_type": "stream",
     "text": [
      "<class 'pandas.core.frame.DataFrame'>\n",
      "RangeIndex: 500 entries, 0 to 499\n",
      "Data columns (total 8 columns):\n",
      " #   Column      Non-Null Count  Dtype \n",
      "---  ------      --------------  ----- \n",
      " 0   user_id     500 non-null    int64 \n",
      " 1   first_name  500 non-null    object\n",
      " 2   last_name   500 non-null    object\n",
      " 3   age         500 non-null    int64 \n",
      " 4   city        500 non-null    object\n",
      " 5   reg_date    500 non-null    object\n",
      " 6   plan        500 non-null    object\n",
      " 7   churn_date  34 non-null     object\n",
      "dtypes: int64(2), object(6)\n",
      "memory usage: 31.4+ KB\n"
     ]
    }
   ],
   "source": [
    "# Imprime la información general/resumen sobre el DataFrame de los usuarios\n",
    "df_megaline_users.info()"
   ]
  },
  {
   "cell_type": "code",
   "execution_count": 7,
   "metadata": {},
   "outputs": [
    {
     "data": {
      "text/html": [
       "<div>\n",
       "<style scoped>\n",
       "    .dataframe tbody tr th:only-of-type {\n",
       "        vertical-align: middle;\n",
       "    }\n",
       "\n",
       "    .dataframe tbody tr th {\n",
       "        vertical-align: top;\n",
       "    }\n",
       "\n",
       "    .dataframe thead th {\n",
       "        text-align: right;\n",
       "    }\n",
       "</style>\n",
       "<table border=\"1\" class=\"dataframe\">\n",
       "  <thead>\n",
       "    <tr style=\"text-align: right;\">\n",
       "      <th></th>\n",
       "      <th>user_id</th>\n",
       "      <th>first_name</th>\n",
       "      <th>last_name</th>\n",
       "      <th>age</th>\n",
       "      <th>city</th>\n",
       "      <th>reg_date</th>\n",
       "      <th>plan</th>\n",
       "      <th>churn_date</th>\n",
       "    </tr>\n",
       "  </thead>\n",
       "  <tbody>\n",
       "    <tr>\n",
       "      <th>0</th>\n",
       "      <td>1000</td>\n",
       "      <td>Anamaria</td>\n",
       "      <td>Bauer</td>\n",
       "      <td>45</td>\n",
       "      <td>Atlanta-Sandy Springs-Roswell, GA MSA</td>\n",
       "      <td>2018-12-24</td>\n",
       "      <td>ultimate</td>\n",
       "      <td>NaN</td>\n",
       "    </tr>\n",
       "    <tr>\n",
       "      <th>1</th>\n",
       "      <td>1001</td>\n",
       "      <td>Mickey</td>\n",
       "      <td>Wilkerson</td>\n",
       "      <td>28</td>\n",
       "      <td>Seattle-Tacoma-Bellevue, WA MSA</td>\n",
       "      <td>2018-08-13</td>\n",
       "      <td>surf</td>\n",
       "      <td>NaN</td>\n",
       "    </tr>\n",
       "    <tr>\n",
       "      <th>2</th>\n",
       "      <td>1002</td>\n",
       "      <td>Carlee</td>\n",
       "      <td>Hoffman</td>\n",
       "      <td>36</td>\n",
       "      <td>Las Vegas-Henderson-Paradise, NV MSA</td>\n",
       "      <td>2018-10-21</td>\n",
       "      <td>surf</td>\n",
       "      <td>NaN</td>\n",
       "    </tr>\n",
       "    <tr>\n",
       "      <th>3</th>\n",
       "      <td>1003</td>\n",
       "      <td>Reynaldo</td>\n",
       "      <td>Jenkins</td>\n",
       "      <td>52</td>\n",
       "      <td>Tulsa, OK MSA</td>\n",
       "      <td>2018-01-28</td>\n",
       "      <td>surf</td>\n",
       "      <td>NaN</td>\n",
       "    </tr>\n",
       "    <tr>\n",
       "      <th>4</th>\n",
       "      <td>1004</td>\n",
       "      <td>Leonila</td>\n",
       "      <td>Thompson</td>\n",
       "      <td>40</td>\n",
       "      <td>Seattle-Tacoma-Bellevue, WA MSA</td>\n",
       "      <td>2018-05-23</td>\n",
       "      <td>surf</td>\n",
       "      <td>NaN</td>\n",
       "    </tr>\n",
       "    <tr>\n",
       "      <th>5</th>\n",
       "      <td>1005</td>\n",
       "      <td>Livia</td>\n",
       "      <td>Shields</td>\n",
       "      <td>31</td>\n",
       "      <td>Dallas-Fort Worth-Arlington, TX MSA</td>\n",
       "      <td>2018-11-29</td>\n",
       "      <td>surf</td>\n",
       "      <td>NaN</td>\n",
       "    </tr>\n",
       "    <tr>\n",
       "      <th>6</th>\n",
       "      <td>1006</td>\n",
       "      <td>Jesusa</td>\n",
       "      <td>Bradford</td>\n",
       "      <td>73</td>\n",
       "      <td>San Francisco-Oakland-Berkeley, CA MSA</td>\n",
       "      <td>2018-11-27</td>\n",
       "      <td>ultimate</td>\n",
       "      <td>2018-12-18</td>\n",
       "    </tr>\n",
       "    <tr>\n",
       "      <th>7</th>\n",
       "      <td>1007</td>\n",
       "      <td>Eusebio</td>\n",
       "      <td>Welch</td>\n",
       "      <td>42</td>\n",
       "      <td>Grand Rapids-Kentwood, MI MSA</td>\n",
       "      <td>2018-07-11</td>\n",
       "      <td>surf</td>\n",
       "      <td>NaN</td>\n",
       "    </tr>\n",
       "    <tr>\n",
       "      <th>8</th>\n",
       "      <td>1008</td>\n",
       "      <td>Emely</td>\n",
       "      <td>Hoffman</td>\n",
       "      <td>53</td>\n",
       "      <td>Orlando-Kissimmee-Sanford, FL MSA</td>\n",
       "      <td>2018-08-03</td>\n",
       "      <td>ultimate</td>\n",
       "      <td>NaN</td>\n",
       "    </tr>\n",
       "    <tr>\n",
       "      <th>9</th>\n",
       "      <td>1009</td>\n",
       "      <td>Gerry</td>\n",
       "      <td>Little</td>\n",
       "      <td>19</td>\n",
       "      <td>San Jose-Sunnyvale-Santa Clara, CA MSA</td>\n",
       "      <td>2018-04-22</td>\n",
       "      <td>surf</td>\n",
       "      <td>NaN</td>\n",
       "    </tr>\n",
       "  </tbody>\n",
       "</table>\n",
       "</div>"
      ],
      "text/plain": [
       "   user_id first_name  last_name  age                                    city  \\\n",
       "0     1000   Anamaria      Bauer   45   Atlanta-Sandy Springs-Roswell, GA MSA   \n",
       "1     1001     Mickey  Wilkerson   28         Seattle-Tacoma-Bellevue, WA MSA   \n",
       "2     1002     Carlee    Hoffman   36    Las Vegas-Henderson-Paradise, NV MSA   \n",
       "3     1003   Reynaldo    Jenkins   52                           Tulsa, OK MSA   \n",
       "4     1004    Leonila   Thompson   40         Seattle-Tacoma-Bellevue, WA MSA   \n",
       "5     1005      Livia    Shields   31     Dallas-Fort Worth-Arlington, TX MSA   \n",
       "6     1006     Jesusa   Bradford   73  San Francisco-Oakland-Berkeley, CA MSA   \n",
       "7     1007    Eusebio      Welch   42           Grand Rapids-Kentwood, MI MSA   \n",
       "8     1008      Emely    Hoffman   53       Orlando-Kissimmee-Sanford, FL MSA   \n",
       "9     1009      Gerry     Little   19  San Jose-Sunnyvale-Santa Clara, CA MSA   \n",
       "\n",
       "     reg_date      plan  churn_date  \n",
       "0  2018-12-24  ultimate         NaN  \n",
       "1  2018-08-13      surf         NaN  \n",
       "2  2018-10-21      surf         NaN  \n",
       "3  2018-01-28      surf         NaN  \n",
       "4  2018-05-23      surf         NaN  \n",
       "5  2018-11-29      surf         NaN  \n",
       "6  2018-11-27  ultimate  2018-12-18  \n",
       "7  2018-07-11      surf         NaN  \n",
       "8  2018-08-03  ultimate         NaN  \n",
       "9  2018-04-22      surf         NaN  "
      ]
     },
     "execution_count": 7,
     "metadata": {},
     "output_type": "execute_result"
    }
   ],
   "source": [
    "# Imprime una muestra de los datos para los usuarios\n",
    "df_megaline_users.head(10)"
   ]
  },
  {
   "cell_type": "markdown",
   "metadata": {},
   "source": [
    " <div class=\"alert alert-block alert-info\">\n",
    "\n",
    "<b>Respuesta del estudiante</b> <a class=\"tocSkip\"></a>\n",
    "En este dataframe `users` podemos ver la informacion de cada cliente, recordando que tenemos una preseleccion de `500` clientes que fueron provistos por la empresa para basar nuestro analisis en la data de estos, aca tenemos `user_id`, `first_name`, `last_name`, `age`, `city`, `reg_date`, `plan` y `churn_date`, cada fila con la informacion completa de cada cliente, hasta donde puedo observar lo unico a remarcar es que la unica columna con datos `nulos` es la de `churn_date`, y era de esperarse porque los unicos datos contenidos son los de `34` clientes que suspendieron el servicio con la telefonica en las fechas provistas en esta columna, los demas datos son nulos porque son clientes activos, cambiaremos los nulos por `N/A`, ya que no aplica para clientes que estan usando el servicio.\n",
    "</div>"
   ]
  },
  {
   "cell_type": "markdown",
   "metadata": {},
   "source": [
    "### Corregir datos"
   ]
  },
  {
   "cell_type": "code",
   "execution_count": 8,
   "metadata": {},
   "outputs": [
    {
     "data": {
      "text/html": [
       "<div>\n",
       "<style scoped>\n",
       "    .dataframe tbody tr th:only-of-type {\n",
       "        vertical-align: middle;\n",
       "    }\n",
       "\n",
       "    .dataframe tbody tr th {\n",
       "        vertical-align: top;\n",
       "    }\n",
       "\n",
       "    .dataframe thead th {\n",
       "        text-align: right;\n",
       "    }\n",
       "</style>\n",
       "<table border=\"1\" class=\"dataframe\">\n",
       "  <thead>\n",
       "    <tr style=\"text-align: right;\">\n",
       "      <th></th>\n",
       "      <th>user_id</th>\n",
       "      <th>first_name</th>\n",
       "      <th>last_name</th>\n",
       "      <th>age</th>\n",
       "      <th>city</th>\n",
       "      <th>reg_date</th>\n",
       "      <th>plan</th>\n",
       "      <th>churn_date</th>\n",
       "    </tr>\n",
       "  </thead>\n",
       "  <tbody>\n",
       "    <tr>\n",
       "      <th>0</th>\n",
       "      <td>1000</td>\n",
       "      <td>Anamaria</td>\n",
       "      <td>Bauer</td>\n",
       "      <td>45</td>\n",
       "      <td>Atlanta-Sandy Springs-Roswell, GA MSA</td>\n",
       "      <td>2018-12-24</td>\n",
       "      <td>ultimate</td>\n",
       "      <td>N/A</td>\n",
       "    </tr>\n",
       "    <tr>\n",
       "      <th>1</th>\n",
       "      <td>1001</td>\n",
       "      <td>Mickey</td>\n",
       "      <td>Wilkerson</td>\n",
       "      <td>28</td>\n",
       "      <td>Seattle-Tacoma-Bellevue, WA MSA</td>\n",
       "      <td>2018-08-13</td>\n",
       "      <td>surf</td>\n",
       "      <td>N/A</td>\n",
       "    </tr>\n",
       "    <tr>\n",
       "      <th>2</th>\n",
       "      <td>1002</td>\n",
       "      <td>Carlee</td>\n",
       "      <td>Hoffman</td>\n",
       "      <td>36</td>\n",
       "      <td>Las Vegas-Henderson-Paradise, NV MSA</td>\n",
       "      <td>2018-10-21</td>\n",
       "      <td>surf</td>\n",
       "      <td>N/A</td>\n",
       "    </tr>\n",
       "    <tr>\n",
       "      <th>3</th>\n",
       "      <td>1003</td>\n",
       "      <td>Reynaldo</td>\n",
       "      <td>Jenkins</td>\n",
       "      <td>52</td>\n",
       "      <td>Tulsa, OK MSA</td>\n",
       "      <td>2018-01-28</td>\n",
       "      <td>surf</td>\n",
       "      <td>N/A</td>\n",
       "    </tr>\n",
       "    <tr>\n",
       "      <th>4</th>\n",
       "      <td>1004</td>\n",
       "      <td>Leonila</td>\n",
       "      <td>Thompson</td>\n",
       "      <td>40</td>\n",
       "      <td>Seattle-Tacoma-Bellevue, WA MSA</td>\n",
       "      <td>2018-05-23</td>\n",
       "      <td>surf</td>\n",
       "      <td>N/A</td>\n",
       "    </tr>\n",
       "    <tr>\n",
       "      <th>5</th>\n",
       "      <td>1005</td>\n",
       "      <td>Livia</td>\n",
       "      <td>Shields</td>\n",
       "      <td>31</td>\n",
       "      <td>Dallas-Fort Worth-Arlington, TX MSA</td>\n",
       "      <td>2018-11-29</td>\n",
       "      <td>surf</td>\n",
       "      <td>N/A</td>\n",
       "    </tr>\n",
       "    <tr>\n",
       "      <th>6</th>\n",
       "      <td>1006</td>\n",
       "      <td>Jesusa</td>\n",
       "      <td>Bradford</td>\n",
       "      <td>73</td>\n",
       "      <td>San Francisco-Oakland-Berkeley, CA MSA</td>\n",
       "      <td>2018-11-27</td>\n",
       "      <td>ultimate</td>\n",
       "      <td>2018-12-18</td>\n",
       "    </tr>\n",
       "    <tr>\n",
       "      <th>7</th>\n",
       "      <td>1007</td>\n",
       "      <td>Eusebio</td>\n",
       "      <td>Welch</td>\n",
       "      <td>42</td>\n",
       "      <td>Grand Rapids-Kentwood, MI MSA</td>\n",
       "      <td>2018-07-11</td>\n",
       "      <td>surf</td>\n",
       "      <td>N/A</td>\n",
       "    </tr>\n",
       "    <tr>\n",
       "      <th>8</th>\n",
       "      <td>1008</td>\n",
       "      <td>Emely</td>\n",
       "      <td>Hoffman</td>\n",
       "      <td>53</td>\n",
       "      <td>Orlando-Kissimmee-Sanford, FL MSA</td>\n",
       "      <td>2018-08-03</td>\n",
       "      <td>ultimate</td>\n",
       "      <td>N/A</td>\n",
       "    </tr>\n",
       "    <tr>\n",
       "      <th>9</th>\n",
       "      <td>1009</td>\n",
       "      <td>Gerry</td>\n",
       "      <td>Little</td>\n",
       "      <td>19</td>\n",
       "      <td>San Jose-Sunnyvale-Santa Clara, CA MSA</td>\n",
       "      <td>2018-04-22</td>\n",
       "      <td>surf</td>\n",
       "      <td>N/A</td>\n",
       "    </tr>\n",
       "  </tbody>\n",
       "</table>\n",
       "</div>"
      ],
      "text/plain": [
       "   user_id first_name  last_name  age                                    city  \\\n",
       "0     1000   Anamaria      Bauer   45   Atlanta-Sandy Springs-Roswell, GA MSA   \n",
       "1     1001     Mickey  Wilkerson   28         Seattle-Tacoma-Bellevue, WA MSA   \n",
       "2     1002     Carlee    Hoffman   36    Las Vegas-Henderson-Paradise, NV MSA   \n",
       "3     1003   Reynaldo    Jenkins   52                           Tulsa, OK MSA   \n",
       "4     1004    Leonila   Thompson   40         Seattle-Tacoma-Bellevue, WA MSA   \n",
       "5     1005      Livia    Shields   31     Dallas-Fort Worth-Arlington, TX MSA   \n",
       "6     1006     Jesusa   Bradford   73  San Francisco-Oakland-Berkeley, CA MSA   \n",
       "7     1007    Eusebio      Welch   42           Grand Rapids-Kentwood, MI MSA   \n",
       "8     1008      Emely    Hoffman   53       Orlando-Kissimmee-Sanford, FL MSA   \n",
       "9     1009      Gerry     Little   19  San Jose-Sunnyvale-Santa Clara, CA MSA   \n",
       "\n",
       "     reg_date      plan  churn_date  \n",
       "0  2018-12-24  ultimate         N/A  \n",
       "1  2018-08-13      surf         N/A  \n",
       "2  2018-10-21      surf         N/A  \n",
       "3  2018-01-28      surf         N/A  \n",
       "4  2018-05-23      surf         N/A  \n",
       "5  2018-11-29      surf         N/A  \n",
       "6  2018-11-27  ultimate  2018-12-18  \n",
       "7  2018-07-11      surf         N/A  \n",
       "8  2018-08-03  ultimate         N/A  \n",
       "9  2018-04-22      surf         N/A  "
      ]
     },
     "execution_count": 8,
     "metadata": {},
     "output_type": "execute_result"
    }
   ],
   "source": [
    "# Reemplazar los valores nulos en la columna 'churn_date' con 'N/A'\n",
    "df_megaline_users['churn_date'].fillna('N/A', inplace=True)\n",
    "\n",
    "# Mostrar las primeras 10 filas del DataFrame actualizado\n",
    "df_megaline_users.head(10)"
   ]
  },
  {
   "cell_type": "markdown",
   "metadata": {},
   "source": [
    "### Enriquecer datos"
   ]
  },
  {
   "cell_type": "code",
   "execution_count": 9,
   "metadata": {},
   "outputs": [
    {
     "data": {
      "text/html": [
       "<div>\n",
       "<style scoped>\n",
       "    .dataframe tbody tr th:only-of-type {\n",
       "        vertical-align: middle;\n",
       "    }\n",
       "\n",
       "    .dataframe tbody tr th {\n",
       "        vertical-align: top;\n",
       "    }\n",
       "\n",
       "    .dataframe thead th {\n",
       "        text-align: right;\n",
       "    }\n",
       "</style>\n",
       "<table border=\"1\" class=\"dataframe\">\n",
       "  <thead>\n",
       "    <tr style=\"text-align: right;\">\n",
       "      <th></th>\n",
       "      <th>user_id</th>\n",
       "      <th>first_name</th>\n",
       "      <th>last_name</th>\n",
       "      <th>age</th>\n",
       "      <th>city</th>\n",
       "      <th>reg_date</th>\n",
       "      <th>plan</th>\n",
       "      <th>churn_date</th>\n",
       "    </tr>\n",
       "  </thead>\n",
       "  <tbody>\n",
       "    <tr>\n",
       "      <th>0</th>\n",
       "      <td>1000</td>\n",
       "      <td>Anamaria</td>\n",
       "      <td>Bauer</td>\n",
       "      <td>45</td>\n",
       "      <td>Atlanta-Sandy Springs-Roswell, GA MSA</td>\n",
       "      <td>2018-12-24</td>\n",
       "      <td>ultimate</td>\n",
       "      <td>N/A</td>\n",
       "    </tr>\n",
       "    <tr>\n",
       "      <th>1</th>\n",
       "      <td>1001</td>\n",
       "      <td>Mickey</td>\n",
       "      <td>Wilkerson</td>\n",
       "      <td>28</td>\n",
       "      <td>Seattle-Tacoma-Bellevue, WA MSA</td>\n",
       "      <td>2018-08-13</td>\n",
       "      <td>surf</td>\n",
       "      <td>N/A</td>\n",
       "    </tr>\n",
       "    <tr>\n",
       "      <th>2</th>\n",
       "      <td>1002</td>\n",
       "      <td>Carlee</td>\n",
       "      <td>Hoffman</td>\n",
       "      <td>36</td>\n",
       "      <td>Las Vegas-Henderson-Paradise, NV MSA</td>\n",
       "      <td>2018-10-21</td>\n",
       "      <td>surf</td>\n",
       "      <td>N/A</td>\n",
       "    </tr>\n",
       "    <tr>\n",
       "      <th>3</th>\n",
       "      <td>1003</td>\n",
       "      <td>Reynaldo</td>\n",
       "      <td>Jenkins</td>\n",
       "      <td>52</td>\n",
       "      <td>Tulsa, OK MSA</td>\n",
       "      <td>2018-01-28</td>\n",
       "      <td>surf</td>\n",
       "      <td>N/A</td>\n",
       "    </tr>\n",
       "    <tr>\n",
       "      <th>4</th>\n",
       "      <td>1004</td>\n",
       "      <td>Leonila</td>\n",
       "      <td>Thompson</td>\n",
       "      <td>40</td>\n",
       "      <td>Seattle-Tacoma-Bellevue, WA MSA</td>\n",
       "      <td>2018-05-23</td>\n",
       "      <td>surf</td>\n",
       "      <td>N/A</td>\n",
       "    </tr>\n",
       "    <tr>\n",
       "      <th>5</th>\n",
       "      <td>1005</td>\n",
       "      <td>Livia</td>\n",
       "      <td>Shields</td>\n",
       "      <td>31</td>\n",
       "      <td>Dallas-Fort Worth-Arlington, TX MSA</td>\n",
       "      <td>2018-11-29</td>\n",
       "      <td>surf</td>\n",
       "      <td>N/A</td>\n",
       "    </tr>\n",
       "    <tr>\n",
       "      <th>6</th>\n",
       "      <td>1006</td>\n",
       "      <td>Jesusa</td>\n",
       "      <td>Bradford</td>\n",
       "      <td>73</td>\n",
       "      <td>San Francisco-Oakland-Berkeley, CA MSA</td>\n",
       "      <td>2018-11-27</td>\n",
       "      <td>ultimate</td>\n",
       "      <td>2018-12-18</td>\n",
       "    </tr>\n",
       "    <tr>\n",
       "      <th>7</th>\n",
       "      <td>1007</td>\n",
       "      <td>Eusebio</td>\n",
       "      <td>Welch</td>\n",
       "      <td>42</td>\n",
       "      <td>Grand Rapids-Kentwood, MI MSA</td>\n",
       "      <td>2018-07-11</td>\n",
       "      <td>surf</td>\n",
       "      <td>N/A</td>\n",
       "    </tr>\n",
       "    <tr>\n",
       "      <th>8</th>\n",
       "      <td>1008</td>\n",
       "      <td>Emely</td>\n",
       "      <td>Hoffman</td>\n",
       "      <td>53</td>\n",
       "      <td>Orlando-Kissimmee-Sanford, FL MSA</td>\n",
       "      <td>2018-08-03</td>\n",
       "      <td>ultimate</td>\n",
       "      <td>N/A</td>\n",
       "    </tr>\n",
       "    <tr>\n",
       "      <th>9</th>\n",
       "      <td>1009</td>\n",
       "      <td>Gerry</td>\n",
       "      <td>Little</td>\n",
       "      <td>19</td>\n",
       "      <td>San Jose-Sunnyvale-Santa Clara, CA MSA</td>\n",
       "      <td>2018-04-22</td>\n",
       "      <td>surf</td>\n",
       "      <td>N/A</td>\n",
       "    </tr>\n",
       "  </tbody>\n",
       "</table>\n",
       "</div>"
      ],
      "text/plain": [
       "   user_id first_name  last_name  age                                    city  \\\n",
       "0     1000   Anamaria      Bauer   45   Atlanta-Sandy Springs-Roswell, GA MSA   \n",
       "1     1001     Mickey  Wilkerson   28         Seattle-Tacoma-Bellevue, WA MSA   \n",
       "2     1002     Carlee    Hoffman   36    Las Vegas-Henderson-Paradise, NV MSA   \n",
       "3     1003   Reynaldo    Jenkins   52                           Tulsa, OK MSA   \n",
       "4     1004    Leonila   Thompson   40         Seattle-Tacoma-Bellevue, WA MSA   \n",
       "5     1005      Livia    Shields   31     Dallas-Fort Worth-Arlington, TX MSA   \n",
       "6     1006     Jesusa   Bradford   73  San Francisco-Oakland-Berkeley, CA MSA   \n",
       "7     1007    Eusebio      Welch   42           Grand Rapids-Kentwood, MI MSA   \n",
       "8     1008      Emely    Hoffman   53       Orlando-Kissimmee-Sanford, FL MSA   \n",
       "9     1009      Gerry     Little   19  San Jose-Sunnyvale-Santa Clara, CA MSA   \n",
       "\n",
       "    reg_date      plan  churn_date  \n",
       "0 2018-12-24  ultimate         N/A  \n",
       "1 2018-08-13      surf         N/A  \n",
       "2 2018-10-21      surf         N/A  \n",
       "3 2018-01-28      surf         N/A  \n",
       "4 2018-05-23      surf         N/A  \n",
       "5 2018-11-29      surf         N/A  \n",
       "6 2018-11-27  ultimate  2018-12-18  \n",
       "7 2018-07-11      surf         N/A  \n",
       "8 2018-08-03  ultimate         N/A  \n",
       "9 2018-04-22      surf         N/A  "
      ]
     },
     "execution_count": 9,
     "metadata": {},
     "output_type": "execute_result"
    }
   ],
   "source": [
    "# Convierte la columna 'reg_date' al tipo de datos datetime\n",
    "df_megaline_users['reg_date'] = pd.to_datetime(df_megaline_users['reg_date'])\n",
    "\n",
    "# Mostrar las primeras filas del DataFrame con la columna 'reg_date' convertida\n",
    "df_megaline_users.head(10)"
   ]
  },
  {
   "cell_type": "markdown",
   "metadata": {},
   "source": [
    "<div class=\"alert alert-block alert-info\">\n",
    "\n",
    "<b>Respuesta del estudiante</b> <a class=\"tocSkip\"></a>\n",
    "Despues haber reemplazado los nulos por `N/A` y arreglado el tipo de variable para `reg_date`, podemos ver que el dataframe es ahora un poco mas facil de entender, aparte de que la informacion es mas manejable.\n",
    "</div>"
   ]
  },
  {
   "cell_type": "markdown",
   "metadata": {},
   "source": [
    "## Llamadas"
   ]
  },
  {
   "cell_type": "code",
   "execution_count": 10,
   "metadata": {},
   "outputs": [
    {
     "name": "stdout",
     "output_type": "stream",
     "text": [
      "<class 'pandas.core.frame.DataFrame'>\n",
      "RangeIndex: 137735 entries, 0 to 137734\n",
      "Data columns (total 4 columns):\n",
      " #   Column     Non-Null Count   Dtype  \n",
      "---  ------     --------------   -----  \n",
      " 0   id         137735 non-null  object \n",
      " 1   user_id    137735 non-null  int64  \n",
      " 2   call_date  137735 non-null  object \n",
      " 3   duration   137735 non-null  float64\n",
      "dtypes: float64(1), int64(1), object(2)\n",
      "memory usage: 4.2+ MB\n"
     ]
    }
   ],
   "source": [
    "# Imprime la información/resumen general sobre el DataFrame de las llamadas\n",
    "df_megaline_calls.info()"
   ]
  },
  {
   "cell_type": "code",
   "execution_count": 11,
   "metadata": {},
   "outputs": [
    {
     "data": {
      "text/html": [
       "<div>\n",
       "<style scoped>\n",
       "    .dataframe tbody tr th:only-of-type {\n",
       "        vertical-align: middle;\n",
       "    }\n",
       "\n",
       "    .dataframe tbody tr th {\n",
       "        vertical-align: top;\n",
       "    }\n",
       "\n",
       "    .dataframe thead th {\n",
       "        text-align: right;\n",
       "    }\n",
       "</style>\n",
       "<table border=\"1\" class=\"dataframe\">\n",
       "  <thead>\n",
       "    <tr style=\"text-align: right;\">\n",
       "      <th></th>\n",
       "      <th>id</th>\n",
       "      <th>user_id</th>\n",
       "      <th>call_date</th>\n",
       "      <th>duration</th>\n",
       "    </tr>\n",
       "  </thead>\n",
       "  <tbody>\n",
       "    <tr>\n",
       "      <th>0</th>\n",
       "      <td>1000_93</td>\n",
       "      <td>1000</td>\n",
       "      <td>2018-12-27</td>\n",
       "      <td>8.52</td>\n",
       "    </tr>\n",
       "    <tr>\n",
       "      <th>1</th>\n",
       "      <td>1000_145</td>\n",
       "      <td>1000</td>\n",
       "      <td>2018-12-27</td>\n",
       "      <td>13.66</td>\n",
       "    </tr>\n",
       "    <tr>\n",
       "      <th>2</th>\n",
       "      <td>1000_247</td>\n",
       "      <td>1000</td>\n",
       "      <td>2018-12-27</td>\n",
       "      <td>14.48</td>\n",
       "    </tr>\n",
       "    <tr>\n",
       "      <th>3</th>\n",
       "      <td>1000_309</td>\n",
       "      <td>1000</td>\n",
       "      <td>2018-12-28</td>\n",
       "      <td>5.76</td>\n",
       "    </tr>\n",
       "    <tr>\n",
       "      <th>4</th>\n",
       "      <td>1000_380</td>\n",
       "      <td>1000</td>\n",
       "      <td>2018-12-30</td>\n",
       "      <td>4.22</td>\n",
       "    </tr>\n",
       "  </tbody>\n",
       "</table>\n",
       "</div>"
      ],
      "text/plain": [
       "         id  user_id   call_date  duration\n",
       "0   1000_93     1000  2018-12-27      8.52\n",
       "1  1000_145     1000  2018-12-27     13.66\n",
       "2  1000_247     1000  2018-12-27     14.48\n",
       "3  1000_309     1000  2018-12-28      5.76\n",
       "4  1000_380     1000  2018-12-30      4.22"
      ]
     },
     "execution_count": 11,
     "metadata": {},
     "output_type": "execute_result"
    }
   ],
   "source": [
    "# Imprime una muestra de datos para llamadas\n",
    "df_megaline_calls.head()"
   ]
  },
  {
   "cell_type": "markdown",
   "metadata": {},
   "source": [
    " <div class=\"alert alert-block alert-info\">\n",
    "\n",
    "<b>Respuesta del estudiante</b> <a class=\"tocSkip\"></a>\n",
    "En este dataframe vemos la data de llamadas de cada cliente la cual fue provista con toda la informacion pertinente para poder identificar adecuadamente cada una, a esta habria que aplicarle los requerimientos que nos pidieron en la descripcion del proyecto en cuanto al redondeo del tiempo de llamada, aparte de cambiar la variable de `call_date`, a la variable adecuada que seria `datetime`, y basicamente seria eso, la data esta completa y limpia.\n",
    "</div>"
   ]
  },
  {
   "cell_type": "markdown",
   "metadata": {},
   "source": [
    "### Corregir datos"
   ]
  },
  {
   "cell_type": "code",
   "execution_count": 12,
   "metadata": {},
   "outputs": [],
   "source": [
    "# Define una función para redondear la duración de las llamadas\n",
    "def round_duration(duration):\n",
    "    # Redondear hacia arriba al minuto más cercano\n",
    "    return math.ceil(duration)"
   ]
  },
  {
   "cell_type": "markdown",
   "metadata": {},
   "source": [
    "### Enriquecer datos"
   ]
  },
  {
   "cell_type": "code",
   "execution_count": 13,
   "metadata": {},
   "outputs": [
    {
     "data": {
      "text/html": [
       "<div>\n",
       "<style scoped>\n",
       "    .dataframe tbody tr th:only-of-type {\n",
       "        vertical-align: middle;\n",
       "    }\n",
       "\n",
       "    .dataframe tbody tr th {\n",
       "        vertical-align: top;\n",
       "    }\n",
       "\n",
       "    .dataframe thead th {\n",
       "        text-align: right;\n",
       "    }\n",
       "</style>\n",
       "<table border=\"1\" class=\"dataframe\">\n",
       "  <thead>\n",
       "    <tr style=\"text-align: right;\">\n",
       "      <th></th>\n",
       "      <th>id</th>\n",
       "      <th>user_id</th>\n",
       "      <th>call_date</th>\n",
       "      <th>duration</th>\n",
       "    </tr>\n",
       "  </thead>\n",
       "  <tbody>\n",
       "    <tr>\n",
       "      <th>0</th>\n",
       "      <td>1000_93</td>\n",
       "      <td>1000</td>\n",
       "      <td>2018-12-27</td>\n",
       "      <td>9</td>\n",
       "    </tr>\n",
       "    <tr>\n",
       "      <th>1</th>\n",
       "      <td>1000_145</td>\n",
       "      <td>1000</td>\n",
       "      <td>2018-12-27</td>\n",
       "      <td>14</td>\n",
       "    </tr>\n",
       "    <tr>\n",
       "      <th>2</th>\n",
       "      <td>1000_247</td>\n",
       "      <td>1000</td>\n",
       "      <td>2018-12-27</td>\n",
       "      <td>15</td>\n",
       "    </tr>\n",
       "    <tr>\n",
       "      <th>3</th>\n",
       "      <td>1000_309</td>\n",
       "      <td>1000</td>\n",
       "      <td>2018-12-28</td>\n",
       "      <td>6</td>\n",
       "    </tr>\n",
       "    <tr>\n",
       "      <th>4</th>\n",
       "      <td>1000_380</td>\n",
       "      <td>1000</td>\n",
       "      <td>2018-12-30</td>\n",
       "      <td>5</td>\n",
       "    </tr>\n",
       "  </tbody>\n",
       "</table>\n",
       "</div>"
      ],
      "text/plain": [
       "         id  user_id  call_date  duration\n",
       "0   1000_93     1000 2018-12-27         9\n",
       "1  1000_145     1000 2018-12-27        14\n",
       "2  1000_247     1000 2018-12-27        15\n",
       "3  1000_309     1000 2018-12-28         6\n",
       "4  1000_380     1000 2018-12-30         5"
      ]
     },
     "execution_count": 13,
     "metadata": {},
     "output_type": "execute_result"
    }
   ],
   "source": [
    "# Aplica la función a la columna 'duration' del DataFrame\n",
    "df_megaline_calls['duration'] = df_megaline_calls['duration'].apply(round_duration)\n",
    "\n",
    "# Convierte la columna 'call_date' al tipo de datos datetime\n",
    "df_megaline_calls['call_date'] = pd.to_datetime(df_megaline_calls['call_date'])\n",
    "\n",
    "# Mostrar las primeras 5 filas del DataFrame actualizado\n",
    "df_megaline_calls.head()"
   ]
  },
  {
   "cell_type": "markdown",
   "metadata": {},
   "source": [
    "<div class=\"alert alert-block alert-info\">\n",
    "\n",
    "<b>Respuesta del estudiante</b> <a class=\"tocSkip\"></a>\n",
    "Luego de redondear la duracion de las llamadas en `duration` y cambiar la variable a `datetime` para la columna `call_date` si podemos usar de manera adecuada esta data que ya a quedado en el orden correspondiente.\n",
    "</div>"
   ]
  },
  {
   "cell_type": "markdown",
   "metadata": {},
   "source": [
    "## Mensajes"
   ]
  },
  {
   "cell_type": "code",
   "execution_count": 14,
   "metadata": {},
   "outputs": [
    {
     "name": "stdout",
     "output_type": "stream",
     "text": [
      "<class 'pandas.core.frame.DataFrame'>\n",
      "RangeIndex: 76051 entries, 0 to 76050\n",
      "Data columns (total 3 columns):\n",
      " #   Column        Non-Null Count  Dtype \n",
      "---  ------        --------------  ----- \n",
      " 0   id            76051 non-null  object\n",
      " 1   user_id       76051 non-null  int64 \n",
      " 2   message_date  76051 non-null  object\n",
      "dtypes: int64(1), object(2)\n",
      "memory usage: 1.7+ MB\n"
     ]
    }
   ],
   "source": [
    "# Imprime la información/resumen general sobre el DataFrame de los mensajes\n",
    "df_megaline_messages.info()"
   ]
  },
  {
   "cell_type": "code",
   "execution_count": 15,
   "metadata": {},
   "outputs": [
    {
     "data": {
      "text/html": [
       "<div>\n",
       "<style scoped>\n",
       "    .dataframe tbody tr th:only-of-type {\n",
       "        vertical-align: middle;\n",
       "    }\n",
       "\n",
       "    .dataframe tbody tr th {\n",
       "        vertical-align: top;\n",
       "    }\n",
       "\n",
       "    .dataframe thead th {\n",
       "        text-align: right;\n",
       "    }\n",
       "</style>\n",
       "<table border=\"1\" class=\"dataframe\">\n",
       "  <thead>\n",
       "    <tr style=\"text-align: right;\">\n",
       "      <th></th>\n",
       "      <th>id</th>\n",
       "      <th>user_id</th>\n",
       "      <th>message_date</th>\n",
       "    </tr>\n",
       "  </thead>\n",
       "  <tbody>\n",
       "    <tr>\n",
       "      <th>0</th>\n",
       "      <td>1000_125</td>\n",
       "      <td>1000</td>\n",
       "      <td>2018-12-27</td>\n",
       "    </tr>\n",
       "    <tr>\n",
       "      <th>1</th>\n",
       "      <td>1000_160</td>\n",
       "      <td>1000</td>\n",
       "      <td>2018-12-31</td>\n",
       "    </tr>\n",
       "    <tr>\n",
       "      <th>2</th>\n",
       "      <td>1000_223</td>\n",
       "      <td>1000</td>\n",
       "      <td>2018-12-31</td>\n",
       "    </tr>\n",
       "    <tr>\n",
       "      <th>3</th>\n",
       "      <td>1000_251</td>\n",
       "      <td>1000</td>\n",
       "      <td>2018-12-27</td>\n",
       "    </tr>\n",
       "    <tr>\n",
       "      <th>4</th>\n",
       "      <td>1000_255</td>\n",
       "      <td>1000</td>\n",
       "      <td>2018-12-26</td>\n",
       "    </tr>\n",
       "  </tbody>\n",
       "</table>\n",
       "</div>"
      ],
      "text/plain": [
       "         id  user_id message_date\n",
       "0  1000_125     1000   2018-12-27\n",
       "1  1000_160     1000   2018-12-31\n",
       "2  1000_223     1000   2018-12-31\n",
       "3  1000_251     1000   2018-12-27\n",
       "4  1000_255     1000   2018-12-26"
      ]
     },
     "execution_count": 15,
     "metadata": {},
     "output_type": "execute_result"
    }
   ],
   "source": [
    "# Imprime una muestra de datos para los mensajes\n",
    "df_megaline_messages.head()"
   ]
  },
  {
   "cell_type": "markdown",
   "metadata": {},
   "source": [
    " <div class=\"alert alert-block alert-info\">\n",
    "\n",
    "<b>Respuesta del estudiante</b> <a class=\"tocSkip\"></a>\n",
    "En el caso de este dataframe, tenemos una data bastante concisa, no hay mucho que decir de ella, basicamente pude observar que habria que cambiar el tipo de variable en la columna `message_date` a `datetime`, para poder usarla adecuadamente en la investigacion, pero fuera de este detalle, el dataframe esta bien.\n",
    "</div> "
   ]
  },
  {
   "cell_type": "markdown",
   "metadata": {},
   "source": [
    "### Corregir datos"
   ]
  },
  {
   "cell_type": "markdown",
   "metadata": {},
   "source": [
    "<div class=\"alert alert-block alert-info\">\n",
    "\n",
    "<b>Respuesta del estudiante</b> <a class=\"tocSkip\"></a>\n",
    "Como aca no tenemos data que corregir, ya que la data esta bien entendible, sin nulos y limpia de fallos, procederemos a seguis con el Enriquecimiento de los datos.\n",
    "</div>"
   ]
  },
  {
   "cell_type": "markdown",
   "metadata": {},
   "source": [
    "### Enriquecer datos"
   ]
  },
  {
   "cell_type": "code",
   "execution_count": 16,
   "metadata": {},
   "outputs": [
    {
     "name": "stdout",
     "output_type": "stream",
     "text": [
      "<class 'pandas.core.frame.DataFrame'>\n",
      "RangeIndex: 76051 entries, 0 to 76050\n",
      "Data columns (total 3 columns):\n",
      " #   Column        Non-Null Count  Dtype         \n",
      "---  ------        --------------  -----         \n",
      " 0   id            76051 non-null  object        \n",
      " 1   user_id       76051 non-null  int64         \n",
      " 2   message_date  76051 non-null  datetime64[ns]\n",
      "dtypes: datetime64[ns](1), int64(1), object(1)\n",
      "memory usage: 1.7+ MB\n"
     ]
    }
   ],
   "source": [
    "# Convierte la columna 'message_date' al tipo de datos datetime\n",
    "df_megaline_messages['message_date'] = pd.to_datetime(df_megaline_messages['message_date'])\n",
    "\n",
    "# Mostrar las primeras filas del DataFrame con la columna 'message_date' convertida\n",
    "df_megaline_messages.info()"
   ]
  },
  {
   "cell_type": "markdown",
   "metadata": {},
   "source": [
    "<div class=\"alert alert-block alert-info\">\n",
    "\n",
    "<b>Respuesta del estudiante</b> <a class=\"tocSkip\"></a>\n",
    "Luego de haber enriquecido los datos cambiando pertinentemente la variable de la columna `message_date` al tipo `datetime`, hemos quedado con dataframe libre de problemas, facil de entender y de utilizar para la evaluacion que estaremos llevando a cabo.\n",
    "</div>"
   ]
  },
  {
   "cell_type": "markdown",
   "metadata": {},
   "source": [
    "## Internet"
   ]
  },
  {
   "cell_type": "code",
   "execution_count": 17,
   "metadata": {},
   "outputs": [
    {
     "name": "stdout",
     "output_type": "stream",
     "text": [
      "<class 'pandas.core.frame.DataFrame'>\n",
      "RangeIndex: 104825 entries, 0 to 104824\n",
      "Data columns (total 4 columns):\n",
      " #   Column        Non-Null Count   Dtype  \n",
      "---  ------        --------------   -----  \n",
      " 0   id            104825 non-null  object \n",
      " 1   user_id       104825 non-null  int64  \n",
      " 2   session_date  104825 non-null  object \n",
      " 3   mb_used       104825 non-null  float64\n",
      "dtypes: float64(1), int64(1), object(2)\n",
      "memory usage: 3.2+ MB\n"
     ]
    }
   ],
   "source": [
    "# Imprime la información/resumen general sobre el DataFrame de los mensajes\n",
    "df_megaline_internet.info()"
   ]
  },
  {
   "cell_type": "code",
   "execution_count": 18,
   "metadata": {},
   "outputs": [
    {
     "data": {
      "text/html": [
       "<div>\n",
       "<style scoped>\n",
       "    .dataframe tbody tr th:only-of-type {\n",
       "        vertical-align: middle;\n",
       "    }\n",
       "\n",
       "    .dataframe tbody tr th {\n",
       "        vertical-align: top;\n",
       "    }\n",
       "\n",
       "    .dataframe thead th {\n",
       "        text-align: right;\n",
       "    }\n",
       "</style>\n",
       "<table border=\"1\" class=\"dataframe\">\n",
       "  <thead>\n",
       "    <tr style=\"text-align: right;\">\n",
       "      <th></th>\n",
       "      <th>id</th>\n",
       "      <th>user_id</th>\n",
       "      <th>session_date</th>\n",
       "      <th>mb_used</th>\n",
       "    </tr>\n",
       "  </thead>\n",
       "  <tbody>\n",
       "    <tr>\n",
       "      <th>0</th>\n",
       "      <td>1000_13</td>\n",
       "      <td>1000</td>\n",
       "      <td>2018-12-29</td>\n",
       "      <td>89.86</td>\n",
       "    </tr>\n",
       "    <tr>\n",
       "      <th>1</th>\n",
       "      <td>1000_204</td>\n",
       "      <td>1000</td>\n",
       "      <td>2018-12-31</td>\n",
       "      <td>0.00</td>\n",
       "    </tr>\n",
       "    <tr>\n",
       "      <th>2</th>\n",
       "      <td>1000_379</td>\n",
       "      <td>1000</td>\n",
       "      <td>2018-12-28</td>\n",
       "      <td>660.40</td>\n",
       "    </tr>\n",
       "    <tr>\n",
       "      <th>3</th>\n",
       "      <td>1000_413</td>\n",
       "      <td>1000</td>\n",
       "      <td>2018-12-26</td>\n",
       "      <td>270.99</td>\n",
       "    </tr>\n",
       "    <tr>\n",
       "      <th>4</th>\n",
       "      <td>1000_442</td>\n",
       "      <td>1000</td>\n",
       "      <td>2018-12-27</td>\n",
       "      <td>880.22</td>\n",
       "    </tr>\n",
       "  </tbody>\n",
       "</table>\n",
       "</div>"
      ],
      "text/plain": [
       "         id  user_id session_date  mb_used\n",
       "0   1000_13     1000   2018-12-29    89.86\n",
       "1  1000_204     1000   2018-12-31     0.00\n",
       "2  1000_379     1000   2018-12-28   660.40\n",
       "3  1000_413     1000   2018-12-26   270.99\n",
       "4  1000_442     1000   2018-12-27   880.22"
      ]
     },
     "execution_count": 18,
     "metadata": {},
     "output_type": "execute_result"
    }
   ],
   "source": [
    "# Imprime una muestra de datos para el tráfico de internet\n",
    "df_megaline_internet.head()"
   ]
  },
  {
   "cell_type": "markdown",
   "metadata": {},
   "source": [
    "<div class=\"alert alert-block alert-info\">\n",
    "\n",
    "<b>Respuesta del estudiante</b> <a class=\"tocSkip\"></a>\n",
    "En este dataframe podemos apreciar algunos detalles que deben ser trabajados, necesitamos cambiar la variable de la columna `session_date` a la correspondiente, que seria `datetime`, y aparte debemos cumplir con el requerimiento que se nos presento de redondear la data que exceda 1024, para arriba al 2do GB, luego del redondeo veremos que tal queda todo.\n",
    "</div>"
   ]
  },
  {
   "cell_type": "markdown",
   "metadata": {},
   "source": [
    "### Corregir datos"
   ]
  },
  {
   "cell_type": "code",
   "execution_count": 19,
   "metadata": {},
   "outputs": [],
   "source": [
    "# Define una función para redondear el tráfico web hacia arriba\n",
    "def round_mb_used(mb_used):\n",
    "    # Redondear hacia arriba al gigabyte más cercano\n",
    "    return np.ceil(mb_used / 1024)  # Dividimos por 1024 para convertir de MB a GB\n",
    "\n",
    "# Aplica la función a la columna 'mb_used' del DataFrame\n",
    "df_megaline_internet['mb_used'] = df_megaline_internet['mb_used'].apply(round_mb_used)"
   ]
  },
  {
   "cell_type": "markdown",
   "metadata": {},
   "source": [
    "<div class=\"alert alert-block alert-info\">\n",
    "\n",
    "<b>Respuesta del estudiante</b> <a class=\"tocSkip\"></a>\n",
    "Aqui tenemos el codigo utilizado para trabajar la parte del redondeo hacia arriba, el cual podremos apreciar al visualizar el dataframe, cosa que haremos en el siguiente paso.\n",
    "</div>"
   ]
  },
  {
   "cell_type": "markdown",
   "metadata": {},
   "source": [
    "### Enriquecer datos"
   ]
  },
  {
   "cell_type": "code",
   "execution_count": 20,
   "metadata": {},
   "outputs": [
    {
     "data": {
      "text/html": [
       "<div>\n",
       "<style scoped>\n",
       "    .dataframe tbody tr th:only-of-type {\n",
       "        vertical-align: middle;\n",
       "    }\n",
       "\n",
       "    .dataframe tbody tr th {\n",
       "        vertical-align: top;\n",
       "    }\n",
       "\n",
       "    .dataframe thead th {\n",
       "        text-align: right;\n",
       "    }\n",
       "</style>\n",
       "<table border=\"1\" class=\"dataframe\">\n",
       "  <thead>\n",
       "    <tr style=\"text-align: right;\">\n",
       "      <th></th>\n",
       "      <th>id</th>\n",
       "      <th>user_id</th>\n",
       "      <th>session_date</th>\n",
       "      <th>mb_used</th>\n",
       "    </tr>\n",
       "  </thead>\n",
       "  <tbody>\n",
       "    <tr>\n",
       "      <th>0</th>\n",
       "      <td>1000_13</td>\n",
       "      <td>1000</td>\n",
       "      <td>2018-12-29</td>\n",
       "      <td>1.0</td>\n",
       "    </tr>\n",
       "    <tr>\n",
       "      <th>1</th>\n",
       "      <td>1000_204</td>\n",
       "      <td>1000</td>\n",
       "      <td>2018-12-31</td>\n",
       "      <td>0.0</td>\n",
       "    </tr>\n",
       "    <tr>\n",
       "      <th>2</th>\n",
       "      <td>1000_379</td>\n",
       "      <td>1000</td>\n",
       "      <td>2018-12-28</td>\n",
       "      <td>1.0</td>\n",
       "    </tr>\n",
       "    <tr>\n",
       "      <th>3</th>\n",
       "      <td>1000_413</td>\n",
       "      <td>1000</td>\n",
       "      <td>2018-12-26</td>\n",
       "      <td>1.0</td>\n",
       "    </tr>\n",
       "    <tr>\n",
       "      <th>4</th>\n",
       "      <td>1000_442</td>\n",
       "      <td>1000</td>\n",
       "      <td>2018-12-27</td>\n",
       "      <td>1.0</td>\n",
       "    </tr>\n",
       "  </tbody>\n",
       "</table>\n",
       "</div>"
      ],
      "text/plain": [
       "         id  user_id session_date  mb_used\n",
       "0   1000_13     1000   2018-12-29      1.0\n",
       "1  1000_204     1000   2018-12-31      0.0\n",
       "2  1000_379     1000   2018-12-28      1.0\n",
       "3  1000_413     1000   2018-12-26      1.0\n",
       "4  1000_442     1000   2018-12-27      1.0"
      ]
     },
     "execution_count": 20,
     "metadata": {},
     "output_type": "execute_result"
    }
   ],
   "source": [
    "# Convierte la columna 'session_date' al tipo de datos datetime\n",
    "df_megaline_internet['session_date'] = pd.to_datetime(df_megaline_internet['session_date'])\n",
    "\n",
    "# Mostrar las primeras 5 filas del DataFrame actualizado\n",
    "df_megaline_internet.head()"
   ]
  },
  {
   "cell_type": "markdown",
   "metadata": {},
   "source": [
    "<div class=\"alert alert-block alert-info\">\n",
    "\n",
    "<b>Respuesta del estudiante</b> <a class=\"tocSkip\"></a>\n",
    "Despues del redondeo y el cambio de la variable de la columna `session_date` a `datetime`, quedamos con un dataframe util para nuestra investigacion.\n",
    "</div>"
   ]
  },
  {
   "cell_type": "markdown",
   "metadata": {},
   "source": [
    "## Estudiar las condiciones del plan"
   ]
  },
  {
   "cell_type": "code",
   "execution_count": 21,
   "metadata": {},
   "outputs": [
    {
     "data": {
      "text/html": [
       "<div>\n",
       "<style scoped>\n",
       "    .dataframe tbody tr th:only-of-type {\n",
       "        vertical-align: middle;\n",
       "    }\n",
       "\n",
       "    .dataframe tbody tr th {\n",
       "        vertical-align: top;\n",
       "    }\n",
       "\n",
       "    .dataframe thead th {\n",
       "        text-align: right;\n",
       "    }\n",
       "</style>\n",
       "<table border=\"1\" class=\"dataframe\">\n",
       "  <thead>\n",
       "    <tr style=\"text-align: right;\">\n",
       "      <th></th>\n",
       "      <th>messages_included</th>\n",
       "      <th>mb_per_month_included</th>\n",
       "      <th>minutes_included</th>\n",
       "      <th>usd_monthly_pay</th>\n",
       "      <th>usd_per_gb</th>\n",
       "      <th>usd_per_message</th>\n",
       "      <th>usd_per_minute</th>\n",
       "      <th>plan_name</th>\n",
       "    </tr>\n",
       "  </thead>\n",
       "  <tbody>\n",
       "    <tr>\n",
       "      <th>0</th>\n",
       "      <td>50</td>\n",
       "      <td>15000</td>\n",
       "      <td>500</td>\n",
       "      <td>20</td>\n",
       "      <td>10</td>\n",
       "      <td>0.03</td>\n",
       "      <td>0.03</td>\n",
       "      <td>surf</td>\n",
       "    </tr>\n",
       "    <tr>\n",
       "      <th>1</th>\n",
       "      <td>1000</td>\n",
       "      <td>30000</td>\n",
       "      <td>3000</td>\n",
       "      <td>70</td>\n",
       "      <td>7</td>\n",
       "      <td>0.01</td>\n",
       "      <td>0.01</td>\n",
       "      <td>ultimate</td>\n",
       "    </tr>\n",
       "  </tbody>\n",
       "</table>\n",
       "</div>"
      ],
      "text/plain": [
       "   messages_included  mb_per_month_included  minutes_included  \\\n",
       "0                 50                  15000               500   \n",
       "1               1000                  30000              3000   \n",
       "\n",
       "   usd_monthly_pay  usd_per_gb  usd_per_message  usd_per_minute plan_name  \n",
       "0               20          10             0.03            0.03      surf  \n",
       "1               70           7             0.01            0.01  ultimate  "
      ]
     },
     "execution_count": 21,
     "metadata": {},
     "output_type": "execute_result"
    }
   ],
   "source": [
    "# Imprime las condiciones del plan y asegúrate de que te resulten claros\n",
    "df_megaline_plans.head()"
   ]
  },
  {
   "cell_type": "markdown",
   "metadata": {},
   "source": [
    "<div class=\"alert alert-block alert-info\">\n",
    "\n",
    "<b>Respuesta del estudiante</b> <a class=\"tocSkip\"></a>\n",
    "Antes de seguir adelante, veamos nuevamente los detalles de cada plan, recordando que los planes son bastante diferentes entre si, solo tienen en comun, que son planes prepago, el plan `Surf` cuenta con un Pago mensual de 20USD, 500 minutos al mes, 50 SMS y 15GB de datos, si se exceden los límites del paquete entonces pagarian: 1 minuto - 3 centavos, 1 SMS - 3 centavos, 1GB de datos - 10USD. el plan `Ultimate` cuenta con un Pago mensual de 70USD, 3000 minutos al mes, 1000 SMS y 30GB de datos, si se exceden los límites del paquete entonces pagarian: 1 minuto - 1 centavo, 1 SMS - 1 centavo, 1GB de datos - 7USD. Teniendo esto en mente entonces seguiremos adelante.\n",
    "</div>"
   ]
  },
  {
   "cell_type": "markdown",
   "metadata": {},
   "source": [
    "## Agregar datos por usuario"
   ]
  },
  {
   "cell_type": "code",
   "execution_count": 22,
   "metadata": {},
   "outputs": [
    {
     "data": {
      "text/html": [
       "<div>\n",
       "<style scoped>\n",
       "    .dataframe tbody tr th:only-of-type {\n",
       "        vertical-align: middle;\n",
       "    }\n",
       "\n",
       "    .dataframe tbody tr th {\n",
       "        vertical-align: top;\n",
       "    }\n",
       "\n",
       "    .dataframe thead th {\n",
       "        text-align: right;\n",
       "    }\n",
       "</style>\n",
       "<table border=\"1\" class=\"dataframe\">\n",
       "  <thead>\n",
       "    <tr style=\"text-align: right;\">\n",
       "      <th></th>\n",
       "      <th>user_id</th>\n",
       "      <th>month</th>\n",
       "      <th>call_count</th>\n",
       "    </tr>\n",
       "  </thead>\n",
       "  <tbody>\n",
       "    <tr>\n",
       "      <th>0</th>\n",
       "      <td>1000</td>\n",
       "      <td>12</td>\n",
       "      <td>16</td>\n",
       "    </tr>\n",
       "    <tr>\n",
       "      <th>1</th>\n",
       "      <td>1001</td>\n",
       "      <td>8</td>\n",
       "      <td>27</td>\n",
       "    </tr>\n",
       "    <tr>\n",
       "      <th>2</th>\n",
       "      <td>1001</td>\n",
       "      <td>9</td>\n",
       "      <td>49</td>\n",
       "    </tr>\n",
       "    <tr>\n",
       "      <th>3</th>\n",
       "      <td>1001</td>\n",
       "      <td>10</td>\n",
       "      <td>65</td>\n",
       "    </tr>\n",
       "    <tr>\n",
       "      <th>4</th>\n",
       "      <td>1001</td>\n",
       "      <td>11</td>\n",
       "      <td>64</td>\n",
       "    </tr>\n",
       "    <tr>\n",
       "      <th>...</th>\n",
       "      <td>...</td>\n",
       "      <td>...</td>\n",
       "      <td>...</td>\n",
       "    </tr>\n",
       "    <tr>\n",
       "      <th>2253</th>\n",
       "      <td>1498</td>\n",
       "      <td>12</td>\n",
       "      <td>39</td>\n",
       "    </tr>\n",
       "    <tr>\n",
       "      <th>2254</th>\n",
       "      <td>1499</td>\n",
       "      <td>9</td>\n",
       "      <td>41</td>\n",
       "    </tr>\n",
       "    <tr>\n",
       "      <th>2255</th>\n",
       "      <td>1499</td>\n",
       "      <td>10</td>\n",
       "      <td>53</td>\n",
       "    </tr>\n",
       "    <tr>\n",
       "      <th>2256</th>\n",
       "      <td>1499</td>\n",
       "      <td>11</td>\n",
       "      <td>45</td>\n",
       "    </tr>\n",
       "    <tr>\n",
       "      <th>2257</th>\n",
       "      <td>1499</td>\n",
       "      <td>12</td>\n",
       "      <td>65</td>\n",
       "    </tr>\n",
       "  </tbody>\n",
       "</table>\n",
       "<p>2258 rows × 3 columns</p>\n",
       "</div>"
      ],
      "text/plain": [
       "      user_id  month  call_count\n",
       "0        1000     12          16\n",
       "1        1001      8          27\n",
       "2        1001      9          49\n",
       "3        1001     10          65\n",
       "4        1001     11          64\n",
       "...       ...    ...         ...\n",
       "2253     1498     12          39\n",
       "2254     1499      9          41\n",
       "2255     1499     10          53\n",
       "2256     1499     11          45\n",
       "2257     1499     12          65\n",
       "\n",
       "[2258 rows x 3 columns]"
      ]
     },
     "execution_count": 22,
     "metadata": {},
     "output_type": "execute_result"
    }
   ],
   "source": [
    "# Calcula el número de llamadas hechas por cada usuario por mes. Guarda el resultado.\n",
    "\n",
    "# Agrupar por usuario y mes, y contar las llamadas en cada grupo\n",
    "calls_per_user_per_month = df_megaline_calls.groupby([df_megaline_calls['user_id'], df_megaline_calls['call_date'].dt.month])['id'].count().reset_index()\n",
    "\n",
    "# Renombrar las columnas\n",
    "calls_per_user_per_month.columns = ['user_id', 'month', 'call_count']\n",
    "\n",
    "# Mostrar el DataFrame con el resultado\n",
    "calls_per_user_per_month"
   ]
  },
  {
   "cell_type": "markdown",
   "metadata": {},
   "source": [
    "<div class=\"alert alert-block alert-info\">\n",
    "\n",
    "<b>Respuesta del estudiante</b> <a class=\"tocSkip\"></a>\n",
    "En esta seccion calculamos la cantidad de llamadas por usuario por mes que se hicieron, agrupando el dataframe `df_megaline_calls` y su columna `user_id`, con `call_date` y `id`, para en el nuevo dataframe utilizar como columnas `user_id`, `month` y `call_count`, nuestro nuevo dataframe se llama `calls_per_user_per_month`.\n",
    "</div>"
   ]
  },
  {
   "cell_type": "code",
   "execution_count": 23,
   "metadata": {},
   "outputs": [
    {
     "data": {
      "text/html": [
       "<div>\n",
       "<style scoped>\n",
       "    .dataframe tbody tr th:only-of-type {\n",
       "        vertical-align: middle;\n",
       "    }\n",
       "\n",
       "    .dataframe tbody tr th {\n",
       "        vertical-align: top;\n",
       "    }\n",
       "\n",
       "    .dataframe thead th {\n",
       "        text-align: right;\n",
       "    }\n",
       "</style>\n",
       "<table border=\"1\" class=\"dataframe\">\n",
       "  <thead>\n",
       "    <tr style=\"text-align: right;\">\n",
       "      <th></th>\n",
       "      <th>user_id</th>\n",
       "      <th>month</th>\n",
       "      <th>total_minutes</th>\n",
       "    </tr>\n",
       "  </thead>\n",
       "  <tbody>\n",
       "    <tr>\n",
       "      <th>0</th>\n",
       "      <td>1000</td>\n",
       "      <td>12</td>\n",
       "      <td>124</td>\n",
       "    </tr>\n",
       "    <tr>\n",
       "      <th>1</th>\n",
       "      <td>1001</td>\n",
       "      <td>8</td>\n",
       "      <td>182</td>\n",
       "    </tr>\n",
       "    <tr>\n",
       "      <th>2</th>\n",
       "      <td>1001</td>\n",
       "      <td>9</td>\n",
       "      <td>315</td>\n",
       "    </tr>\n",
       "    <tr>\n",
       "      <th>3</th>\n",
       "      <td>1001</td>\n",
       "      <td>10</td>\n",
       "      <td>393</td>\n",
       "    </tr>\n",
       "    <tr>\n",
       "      <th>4</th>\n",
       "      <td>1001</td>\n",
       "      <td>11</td>\n",
       "      <td>426</td>\n",
       "    </tr>\n",
       "    <tr>\n",
       "      <th>...</th>\n",
       "      <td>...</td>\n",
       "      <td>...</td>\n",
       "      <td>...</td>\n",
       "    </tr>\n",
       "    <tr>\n",
       "      <th>2253</th>\n",
       "      <td>1498</td>\n",
       "      <td>12</td>\n",
       "      <td>339</td>\n",
       "    </tr>\n",
       "    <tr>\n",
       "      <th>2254</th>\n",
       "      <td>1499</td>\n",
       "      <td>9</td>\n",
       "      <td>346</td>\n",
       "    </tr>\n",
       "    <tr>\n",
       "      <th>2255</th>\n",
       "      <td>1499</td>\n",
       "      <td>10</td>\n",
       "      <td>385</td>\n",
       "    </tr>\n",
       "    <tr>\n",
       "      <th>2256</th>\n",
       "      <td>1499</td>\n",
       "      <td>11</td>\n",
       "      <td>308</td>\n",
       "    </tr>\n",
       "    <tr>\n",
       "      <th>2257</th>\n",
       "      <td>1499</td>\n",
       "      <td>12</td>\n",
       "      <td>496</td>\n",
       "    </tr>\n",
       "  </tbody>\n",
       "</table>\n",
       "<p>2258 rows × 3 columns</p>\n",
       "</div>"
      ],
      "text/plain": [
       "      user_id  month  total_minutes\n",
       "0        1000     12            124\n",
       "1        1001      8            182\n",
       "2        1001      9            315\n",
       "3        1001     10            393\n",
       "4        1001     11            426\n",
       "...       ...    ...            ...\n",
       "2253     1498     12            339\n",
       "2254     1499      9            346\n",
       "2255     1499     10            385\n",
       "2256     1499     11            308\n",
       "2257     1499     12            496\n",
       "\n",
       "[2258 rows x 3 columns]"
      ]
     },
     "execution_count": 23,
     "metadata": {},
     "output_type": "execute_result"
    }
   ],
   "source": [
    "# Calcula la cantidad de minutos que usó cada usuario por mes. Guarda el resultado.\n",
    "\n",
    "# Agrupar por usuario, mes y sumar la duración de las llamadas en cada grupo\n",
    "minutes_per_user_per_month = df_megaline_calls.groupby([df_megaline_calls['user_id'], df_megaline_calls['call_date'].dt.month])['duration'].sum().reset_index()\n",
    "\n",
    "# Renombrar las columnas\n",
    "minutes_per_user_per_month.columns = ['user_id', 'month', 'total_minutes']\n",
    "\n",
    "# Mostrar el DataFrame con el resultado\n",
    "minutes_per_user_per_month"
   ]
  },
  {
   "cell_type": "markdown",
   "metadata": {},
   "source": [
    "<div class=\"alert alert-block alert-info\">\n",
    "\n",
    "<b>Respuesta del estudiante</b> <a class=\"tocSkip\"></a>\n",
    "En esta seccion calculamos la cantidad de minutos consumidos por usuario por mes, agrupando el dataframe `df_megaline_calls` y su columna `user_id`, con `call_date` y `duration`, para en el nuevo dataframe utilizar como columnas `user_id`, `month` y `total_minutes`, nuestro nuevo dataframe se llama `minutes_per_user_per_month`.\n",
    "</div>"
   ]
  },
  {
   "cell_type": "code",
   "execution_count": 24,
   "metadata": {},
   "outputs": [
    {
     "data": {
      "text/html": [
       "<div>\n",
       "<style scoped>\n",
       "    .dataframe tbody tr th:only-of-type {\n",
       "        vertical-align: middle;\n",
       "    }\n",
       "\n",
       "    .dataframe tbody tr th {\n",
       "        vertical-align: top;\n",
       "    }\n",
       "\n",
       "    .dataframe thead th {\n",
       "        text-align: right;\n",
       "    }\n",
       "</style>\n",
       "<table border=\"1\" class=\"dataframe\">\n",
       "  <thead>\n",
       "    <tr style=\"text-align: right;\">\n",
       "      <th></th>\n",
       "      <th>user_id</th>\n",
       "      <th>month</th>\n",
       "      <th>message_count</th>\n",
       "    </tr>\n",
       "  </thead>\n",
       "  <tbody>\n",
       "    <tr>\n",
       "      <th>0</th>\n",
       "      <td>1000</td>\n",
       "      <td>12</td>\n",
       "      <td>11</td>\n",
       "    </tr>\n",
       "    <tr>\n",
       "      <th>1</th>\n",
       "      <td>1001</td>\n",
       "      <td>8</td>\n",
       "      <td>30</td>\n",
       "    </tr>\n",
       "    <tr>\n",
       "      <th>2</th>\n",
       "      <td>1001</td>\n",
       "      <td>9</td>\n",
       "      <td>44</td>\n",
       "    </tr>\n",
       "    <tr>\n",
       "      <th>3</th>\n",
       "      <td>1001</td>\n",
       "      <td>10</td>\n",
       "      <td>53</td>\n",
       "    </tr>\n",
       "    <tr>\n",
       "      <th>4</th>\n",
       "      <td>1001</td>\n",
       "      <td>11</td>\n",
       "      <td>36</td>\n",
       "    </tr>\n",
       "    <tr>\n",
       "      <th>...</th>\n",
       "      <td>...</td>\n",
       "      <td>...</td>\n",
       "      <td>...</td>\n",
       "    </tr>\n",
       "    <tr>\n",
       "      <th>1801</th>\n",
       "      <td>1496</td>\n",
       "      <td>9</td>\n",
       "      <td>21</td>\n",
       "    </tr>\n",
       "    <tr>\n",
       "      <th>1802</th>\n",
       "      <td>1496</td>\n",
       "      <td>10</td>\n",
       "      <td>18</td>\n",
       "    </tr>\n",
       "    <tr>\n",
       "      <th>1803</th>\n",
       "      <td>1496</td>\n",
       "      <td>11</td>\n",
       "      <td>13</td>\n",
       "    </tr>\n",
       "    <tr>\n",
       "      <th>1804</th>\n",
       "      <td>1496</td>\n",
       "      <td>12</td>\n",
       "      <td>11</td>\n",
       "    </tr>\n",
       "    <tr>\n",
       "      <th>1805</th>\n",
       "      <td>1497</td>\n",
       "      <td>12</td>\n",
       "      <td>50</td>\n",
       "    </tr>\n",
       "  </tbody>\n",
       "</table>\n",
       "<p>1806 rows × 3 columns</p>\n",
       "</div>"
      ],
      "text/plain": [
       "      user_id  month  message_count\n",
       "0        1000     12             11\n",
       "1        1001      8             30\n",
       "2        1001      9             44\n",
       "3        1001     10             53\n",
       "4        1001     11             36\n",
       "...       ...    ...            ...\n",
       "1801     1496      9             21\n",
       "1802     1496     10             18\n",
       "1803     1496     11             13\n",
       "1804     1496     12             11\n",
       "1805     1497     12             50\n",
       "\n",
       "[1806 rows x 3 columns]"
      ]
     },
     "execution_count": 24,
     "metadata": {},
     "output_type": "execute_result"
    }
   ],
   "source": [
    "# Calcula el número de mensajes enviados por cada usuario por mes. Guarda el resultado.\n",
    "\n",
    "# Agrupar por usuario, mes y contar los mensajes en cada grupo\n",
    "messages_per_user_per_month = df_megaline_messages.groupby([df_megaline_messages['user_id'], df_megaline_messages['message_date'].dt.month])['id'].count().reset_index()\n",
    "\n",
    "# Renombrar las columnas\n",
    "messages_per_user_per_month.columns = ['user_id', 'month', 'message_count']\n",
    "\n",
    "# Mostrar el DataFrame con el resultado\n",
    "messages_per_user_per_month"
   ]
  },
  {
   "cell_type": "markdown",
   "metadata": {},
   "source": [
    "<div class=\"alert alert-block alert-info\">\n",
    "\n",
    "<b>Respuesta del estudiante</b> <a class=\"tocSkip\"></a>\n",
    "En esta seccion calculamos la cantidad de minutos consumidos por usuario por mes, agrupando el dataframe `df_megaline_messages` y su columna `user_id`, con `message_date` y `id`, para en el nuevo dataframe utilizar como columnas `user_id`, `month` y `message_count`, nuestro nuevo dataframe se llama `messages_per_user_per_month`.\n",
    "</div>"
   ]
  },
  {
   "cell_type": "code",
   "execution_count": 25,
   "metadata": {},
   "outputs": [
    {
     "data": {
      "text/html": [
       "<div>\n",
       "<style scoped>\n",
       "    .dataframe tbody tr th:only-of-type {\n",
       "        vertical-align: middle;\n",
       "    }\n",
       "\n",
       "    .dataframe tbody tr th {\n",
       "        vertical-align: top;\n",
       "    }\n",
       "\n",
       "    .dataframe thead th {\n",
       "        text-align: right;\n",
       "    }\n",
       "</style>\n",
       "<table border=\"1\" class=\"dataframe\">\n",
       "  <thead>\n",
       "    <tr style=\"text-align: right;\">\n",
       "      <th></th>\n",
       "      <th>user_id</th>\n",
       "      <th>month</th>\n",
       "      <th>total_mb_used</th>\n",
       "    </tr>\n",
       "  </thead>\n",
       "  <tbody>\n",
       "    <tr>\n",
       "      <th>0</th>\n",
       "      <td>1000</td>\n",
       "      <td>12</td>\n",
       "      <td>4.0</td>\n",
       "    </tr>\n",
       "    <tr>\n",
       "      <th>1</th>\n",
       "      <td>1001</td>\n",
       "      <td>8</td>\n",
       "      <td>21.0</td>\n",
       "    </tr>\n",
       "    <tr>\n",
       "      <th>2</th>\n",
       "      <td>1001</td>\n",
       "      <td>9</td>\n",
       "      <td>41.0</td>\n",
       "    </tr>\n",
       "    <tr>\n",
       "      <th>3</th>\n",
       "      <td>1001</td>\n",
       "      <td>10</td>\n",
       "      <td>50.0</td>\n",
       "    </tr>\n",
       "    <tr>\n",
       "      <th>4</th>\n",
       "      <td>1001</td>\n",
       "      <td>11</td>\n",
       "      <td>49.0</td>\n",
       "    </tr>\n",
       "    <tr>\n",
       "      <th>...</th>\n",
       "      <td>...</td>\n",
       "      <td>...</td>\n",
       "      <td>...</td>\n",
       "    </tr>\n",
       "    <tr>\n",
       "      <th>2272</th>\n",
       "      <td>1498</td>\n",
       "      <td>12</td>\n",
       "      <td>56.0</td>\n",
       "    </tr>\n",
       "    <tr>\n",
       "      <th>2273</th>\n",
       "      <td>1499</td>\n",
       "      <td>9</td>\n",
       "      <td>37.0</td>\n",
       "    </tr>\n",
       "    <tr>\n",
       "      <th>2274</th>\n",
       "      <td>1499</td>\n",
       "      <td>10</td>\n",
       "      <td>52.0</td>\n",
       "    </tr>\n",
       "    <tr>\n",
       "      <th>2275</th>\n",
       "      <td>1499</td>\n",
       "      <td>11</td>\n",
       "      <td>43.0</td>\n",
       "    </tr>\n",
       "    <tr>\n",
       "      <th>2276</th>\n",
       "      <td>1499</td>\n",
       "      <td>12</td>\n",
       "      <td>58.0</td>\n",
       "    </tr>\n",
       "  </tbody>\n",
       "</table>\n",
       "<p>2277 rows × 3 columns</p>\n",
       "</div>"
      ],
      "text/plain": [
       "      user_id  month  total_mb_used\n",
       "0        1000     12            4.0\n",
       "1        1001      8           21.0\n",
       "2        1001      9           41.0\n",
       "3        1001     10           50.0\n",
       "4        1001     11           49.0\n",
       "...       ...    ...            ...\n",
       "2272     1498     12           56.0\n",
       "2273     1499      9           37.0\n",
       "2274     1499     10           52.0\n",
       "2275     1499     11           43.0\n",
       "2276     1499     12           58.0\n",
       "\n",
       "[2277 rows x 3 columns]"
      ]
     },
     "execution_count": 25,
     "metadata": {},
     "output_type": "execute_result"
    }
   ],
   "source": [
    "# Calcula el volumen del trafico de internet usado por cada usuario por mes. Guarda el resultado.\n",
    "\n",
    "# Agrupar por usuario, mes y sumar el volumen de tráfico en cada grupo\n",
    "internet_volume_per_user_per_month = df_megaline_internet.groupby([df_megaline_internet['user_id'], df_megaline_internet['session_date'].dt.month])['mb_used'].sum().reset_index()\n",
    "\n",
    "# Renombrar las columnas\n",
    "internet_volume_per_user_per_month.columns = ['user_id', 'month', 'total_mb_used']\n",
    "\n",
    "# Mostrar el DataFrame con el resultado\n",
    "internet_volume_per_user_per_month"
   ]
  },
  {
   "cell_type": "markdown",
   "metadata": {},
   "source": [
    "<div class=\"alert alert-block alert-info\">\n",
    "\n",
    "<b>Respuesta del estudiante</b> <a class=\"tocSkip\"></a>\n",
    "En esta seccion calculamos la cantidad de minutos consumidos por usuario por mes, agrupando el dataframe `df_megaline_internet` y su columna `user_id`, con `session_date` y `mb_used`, para en el nuevo dataframe utilizar como columnas `user_id`, `month` y `total_mb_used`, nuestro nuevo dataframe se llama `internet_volume_per_user_per_month`.\n",
    "</div>"
   ]
  },
  {
   "cell_type": "code",
   "execution_count": 26,
   "metadata": {},
   "outputs": [
    {
     "data": {
      "text/html": [
       "<div>\n",
       "<style scoped>\n",
       "    .dataframe tbody tr th:only-of-type {\n",
       "        vertical-align: middle;\n",
       "    }\n",
       "\n",
       "    .dataframe tbody tr th {\n",
       "        vertical-align: top;\n",
       "    }\n",
       "\n",
       "    .dataframe thead th {\n",
       "        text-align: right;\n",
       "    }\n",
       "</style>\n",
       "<table border=\"1\" class=\"dataframe\">\n",
       "  <thead>\n",
       "    <tr style=\"text-align: right;\">\n",
       "      <th></th>\n",
       "      <th>user_id</th>\n",
       "      <th>month</th>\n",
       "      <th>call_count</th>\n",
       "      <th>total_minutes</th>\n",
       "      <th>message_count</th>\n",
       "      <th>total_mb_used</th>\n",
       "    </tr>\n",
       "  </thead>\n",
       "  <tbody>\n",
       "    <tr>\n",
       "      <th>0</th>\n",
       "      <td>1000</td>\n",
       "      <td>12</td>\n",
       "      <td>16.0</td>\n",
       "      <td>124.0</td>\n",
       "      <td>11.0</td>\n",
       "      <td>4.0</td>\n",
       "    </tr>\n",
       "    <tr>\n",
       "      <th>1</th>\n",
       "      <td>1001</td>\n",
       "      <td>8</td>\n",
       "      <td>27.0</td>\n",
       "      <td>182.0</td>\n",
       "      <td>30.0</td>\n",
       "      <td>21.0</td>\n",
       "    </tr>\n",
       "    <tr>\n",
       "      <th>2</th>\n",
       "      <td>1001</td>\n",
       "      <td>9</td>\n",
       "      <td>49.0</td>\n",
       "      <td>315.0</td>\n",
       "      <td>44.0</td>\n",
       "      <td>41.0</td>\n",
       "    </tr>\n",
       "    <tr>\n",
       "      <th>3</th>\n",
       "      <td>1001</td>\n",
       "      <td>10</td>\n",
       "      <td>65.0</td>\n",
       "      <td>393.0</td>\n",
       "      <td>53.0</td>\n",
       "      <td>50.0</td>\n",
       "    </tr>\n",
       "    <tr>\n",
       "      <th>4</th>\n",
       "      <td>1001</td>\n",
       "      <td>11</td>\n",
       "      <td>64.0</td>\n",
       "      <td>426.0</td>\n",
       "      <td>36.0</td>\n",
       "      <td>49.0</td>\n",
       "    </tr>\n",
       "    <tr>\n",
       "      <th>...</th>\n",
       "      <td>...</td>\n",
       "      <td>...</td>\n",
       "      <td>...</td>\n",
       "      <td>...</td>\n",
       "      <td>...</td>\n",
       "      <td>...</td>\n",
       "    </tr>\n",
       "    <tr>\n",
       "      <th>2288</th>\n",
       "      <td>1349</td>\n",
       "      <td>12</td>\n",
       "      <td>0.0</td>\n",
       "      <td>0.0</td>\n",
       "      <td>61.0</td>\n",
       "      <td>27.0</td>\n",
       "    </tr>\n",
       "    <tr>\n",
       "      <th>2289</th>\n",
       "      <td>1361</td>\n",
       "      <td>5</td>\n",
       "      <td>0.0</td>\n",
       "      <td>0.0</td>\n",
       "      <td>2.0</td>\n",
       "      <td>7.0</td>\n",
       "    </tr>\n",
       "    <tr>\n",
       "      <th>2290</th>\n",
       "      <td>1482</td>\n",
       "      <td>10</td>\n",
       "      <td>0.0</td>\n",
       "      <td>0.0</td>\n",
       "      <td>2.0</td>\n",
       "      <td>0.0</td>\n",
       "    </tr>\n",
       "    <tr>\n",
       "      <th>2291</th>\n",
       "      <td>1108</td>\n",
       "      <td>12</td>\n",
       "      <td>0.0</td>\n",
       "      <td>0.0</td>\n",
       "      <td>0.0</td>\n",
       "      <td>2.0</td>\n",
       "    </tr>\n",
       "    <tr>\n",
       "      <th>2292</th>\n",
       "      <td>1311</td>\n",
       "      <td>6</td>\n",
       "      <td>0.0</td>\n",
       "      <td>0.0</td>\n",
       "      <td>0.0</td>\n",
       "      <td>7.0</td>\n",
       "    </tr>\n",
       "  </tbody>\n",
       "</table>\n",
       "<p>2293 rows × 6 columns</p>\n",
       "</div>"
      ],
      "text/plain": [
       "      user_id  month  call_count  total_minutes  message_count  total_mb_used\n",
       "0        1000     12        16.0          124.0           11.0            4.0\n",
       "1        1001      8        27.0          182.0           30.0           21.0\n",
       "2        1001      9        49.0          315.0           44.0           41.0\n",
       "3        1001     10        65.0          393.0           53.0           50.0\n",
       "4        1001     11        64.0          426.0           36.0           49.0\n",
       "...       ...    ...         ...            ...            ...            ...\n",
       "2288     1349     12         0.0            0.0           61.0           27.0\n",
       "2289     1361      5         0.0            0.0            2.0            7.0\n",
       "2290     1482     10         0.0            0.0            2.0            0.0\n",
       "2291     1108     12         0.0            0.0            0.0            2.0\n",
       "2292     1311      6         0.0            0.0            0.0            7.0\n",
       "\n",
       "[2293 rows x 6 columns]"
      ]
     },
     "execution_count": 26,
     "metadata": {},
     "output_type": "execute_result"
    }
   ],
   "source": [
    "# Combina los datos para las llamadas, minutos, mensajes e internet con base en el user_id y el mes\n",
    "\n",
    "# Combinar los datos de llamadas y minutos por usuario y mes\n",
    "combined_data = calls_per_user_per_month.merge(minutes_per_user_per_month, on=['user_id', 'month'], how='outer')\n",
    "\n",
    "# Combinar los datos de mensajes por usuario y mes\n",
    "combined_data = combined_data.merge(messages_per_user_per_month, on=['user_id', 'month'], how='outer')\n",
    "\n",
    "# Combinar los datos de internet por usuario y mes\n",
    "combined_data = combined_data.merge(internet_volume_per_user_per_month, on=['user_id', 'month'], how='outer')\n",
    "\n",
    "# Llenar los valores nulos con 0, ya que podrían no haber registros en algunas categorías\n",
    "combined_data.fillna(0, inplace=True)\n",
    "\n",
    "# Mostrar el DataFrame con los datos combinados\n",
    "combined_data"
   ]
  },
  {
   "cell_type": "markdown",
   "metadata": {},
   "source": [
    " <div class=\"alert alert-block alert-info\">\n",
    "\n",
    "<b>Respuesta del estudiante</b> <a class=\"tocSkip\"></a>\n",
    "Al combinar los datos en el dataframe `combined_data` podemos observar que el nuevo dataframe combinado presenta una aparicion de datos nulos, ya que los demas dataframes no tenian la misma cantidad de data, lo que hicimos es que agregamos ceros en estos datos nulos, ya que no tienen un impacto notorio en el resultado de la investigacion.\n",
    "</div> "
   ]
  },
  {
   "cell_type": "code",
   "execution_count": 27,
   "metadata": {},
   "outputs": [
    {
     "data": {
      "text/html": [
       "<div>\n",
       "<style scoped>\n",
       "    .dataframe tbody tr th:only-of-type {\n",
       "        vertical-align: middle;\n",
       "    }\n",
       "\n",
       "    .dataframe tbody tr th {\n",
       "        vertical-align: top;\n",
       "    }\n",
       "\n",
       "    .dataframe thead th {\n",
       "        text-align: right;\n",
       "    }\n",
       "</style>\n",
       "<table border=\"1\" class=\"dataframe\">\n",
       "  <thead>\n",
       "    <tr style=\"text-align: right;\">\n",
       "      <th></th>\n",
       "      <th>user_id</th>\n",
       "      <th>month</th>\n",
       "      <th>call_count</th>\n",
       "      <th>total_minutes</th>\n",
       "      <th>message_count</th>\n",
       "      <th>total_mb_used</th>\n",
       "      <th>plan</th>\n",
       "    </tr>\n",
       "  </thead>\n",
       "  <tbody>\n",
       "    <tr>\n",
       "      <th>0</th>\n",
       "      <td>1000</td>\n",
       "      <td>12</td>\n",
       "      <td>16.0</td>\n",
       "      <td>124.0</td>\n",
       "      <td>11.0</td>\n",
       "      <td>4.0</td>\n",
       "      <td>ultimate</td>\n",
       "    </tr>\n",
       "    <tr>\n",
       "      <th>1</th>\n",
       "      <td>1001</td>\n",
       "      <td>8</td>\n",
       "      <td>27.0</td>\n",
       "      <td>182.0</td>\n",
       "      <td>30.0</td>\n",
       "      <td>21.0</td>\n",
       "      <td>surf</td>\n",
       "    </tr>\n",
       "    <tr>\n",
       "      <th>2</th>\n",
       "      <td>1001</td>\n",
       "      <td>9</td>\n",
       "      <td>49.0</td>\n",
       "      <td>315.0</td>\n",
       "      <td>44.0</td>\n",
       "      <td>41.0</td>\n",
       "      <td>surf</td>\n",
       "    </tr>\n",
       "    <tr>\n",
       "      <th>3</th>\n",
       "      <td>1001</td>\n",
       "      <td>10</td>\n",
       "      <td>65.0</td>\n",
       "      <td>393.0</td>\n",
       "      <td>53.0</td>\n",
       "      <td>50.0</td>\n",
       "      <td>surf</td>\n",
       "    </tr>\n",
       "    <tr>\n",
       "      <th>4</th>\n",
       "      <td>1001</td>\n",
       "      <td>11</td>\n",
       "      <td>64.0</td>\n",
       "      <td>426.0</td>\n",
       "      <td>36.0</td>\n",
       "      <td>49.0</td>\n",
       "      <td>surf</td>\n",
       "    </tr>\n",
       "    <tr>\n",
       "      <th>...</th>\n",
       "      <td>...</td>\n",
       "      <td>...</td>\n",
       "      <td>...</td>\n",
       "      <td>...</td>\n",
       "      <td>...</td>\n",
       "      <td>...</td>\n",
       "      <td>...</td>\n",
       "    </tr>\n",
       "    <tr>\n",
       "      <th>2288</th>\n",
       "      <td>1349</td>\n",
       "      <td>12</td>\n",
       "      <td>0.0</td>\n",
       "      <td>0.0</td>\n",
       "      <td>61.0</td>\n",
       "      <td>27.0</td>\n",
       "      <td>surf</td>\n",
       "    </tr>\n",
       "    <tr>\n",
       "      <th>2289</th>\n",
       "      <td>1361</td>\n",
       "      <td>5</td>\n",
       "      <td>0.0</td>\n",
       "      <td>0.0</td>\n",
       "      <td>2.0</td>\n",
       "      <td>7.0</td>\n",
       "      <td>surf</td>\n",
       "    </tr>\n",
       "    <tr>\n",
       "      <th>2290</th>\n",
       "      <td>1482</td>\n",
       "      <td>10</td>\n",
       "      <td>0.0</td>\n",
       "      <td>0.0</td>\n",
       "      <td>2.0</td>\n",
       "      <td>0.0</td>\n",
       "      <td>ultimate</td>\n",
       "    </tr>\n",
       "    <tr>\n",
       "      <th>2291</th>\n",
       "      <td>1108</td>\n",
       "      <td>12</td>\n",
       "      <td>0.0</td>\n",
       "      <td>0.0</td>\n",
       "      <td>0.0</td>\n",
       "      <td>2.0</td>\n",
       "      <td>ultimate</td>\n",
       "    </tr>\n",
       "    <tr>\n",
       "      <th>2292</th>\n",
       "      <td>1311</td>\n",
       "      <td>6</td>\n",
       "      <td>0.0</td>\n",
       "      <td>0.0</td>\n",
       "      <td>0.0</td>\n",
       "      <td>7.0</td>\n",
       "      <td>ultimate</td>\n",
       "    </tr>\n",
       "  </tbody>\n",
       "</table>\n",
       "<p>2293 rows × 7 columns</p>\n",
       "</div>"
      ],
      "text/plain": [
       "      user_id  month  call_count  total_minutes  message_count  total_mb_used  \\\n",
       "0        1000     12        16.0          124.0           11.0            4.0   \n",
       "1        1001      8        27.0          182.0           30.0           21.0   \n",
       "2        1001      9        49.0          315.0           44.0           41.0   \n",
       "3        1001     10        65.0          393.0           53.0           50.0   \n",
       "4        1001     11        64.0          426.0           36.0           49.0   \n",
       "...       ...    ...         ...            ...            ...            ...   \n",
       "2288     1349     12         0.0            0.0           61.0           27.0   \n",
       "2289     1361      5         0.0            0.0            2.0            7.0   \n",
       "2290     1482     10         0.0            0.0            2.0            0.0   \n",
       "2291     1108     12         0.0            0.0            0.0            2.0   \n",
       "2292     1311      6         0.0            0.0            0.0            7.0   \n",
       "\n",
       "          plan  \n",
       "0     ultimate  \n",
       "1         surf  \n",
       "2         surf  \n",
       "3         surf  \n",
       "4         surf  \n",
       "...        ...  \n",
       "2288      surf  \n",
       "2289      surf  \n",
       "2290  ultimate  \n",
       "2291  ultimate  \n",
       "2292  ultimate  \n",
       "\n",
       "[2293 rows x 7 columns]"
      ]
     },
     "execution_count": 27,
     "metadata": {},
     "output_type": "execute_result"
    }
   ],
   "source": [
    "# Añade la información del plan\n",
    "\n",
    "# Combinar el DataFrame 'combined_data' con 'df_megaline_users' utilizando la columna 'user_id'\n",
    "combined_data_with_plans = combined_data.merge(df_megaline_users[['user_id', 'plan']], on='user_id', how='left')\n",
    "\n",
    "# Mostrar el DataFrame combinado con la información del plan\n",
    "combined_data_with_plans"
   ]
  },
  {
   "cell_type": "markdown",
   "metadata": {},
   "source": [
    "<div class=\"alert alert-block alert-info\">\n",
    "\n",
    "<b>Respuesta del estudiante</b> <a class=\"tocSkip\"></a>\n",
    "En esta seccion agregamos la columna del tipo de plan para entender mejor lo que se muestra en el anterior dataframe, `combined_data`, despues de adicionar esto se llamara `combined_data_with_plans`.\n",
    "</div>"
   ]
  },
  {
   "cell_type": "code",
   "execution_count": 28,
   "metadata": {},
   "outputs": [
    {
     "name": "stdout",
     "output_type": "stream",
     "text": [
      "      user_id  month  monthly_revenue\n",
      "0        1000     12            70.00\n",
      "1        1001      8            20.00\n",
      "2        1001      9            20.00\n",
      "3        1001     10            20.09\n",
      "4        1001     11            20.00\n",
      "...       ...    ...              ...\n",
      "2288     1349     12            20.33\n",
      "2289     1361      5            20.00\n",
      "2290     1482     10            70.00\n",
      "2291     1108     12            70.00\n",
      "2292     1311      6            70.00\n",
      "\n",
      "[2293 rows x 3 columns]\n"
     ]
    }
   ],
   "source": [
    "# Calcula el ingreso mensual para cada usuario\n",
    "\n",
    "# Calcular el ingreso mensual para cada usuario\n",
    "def calculate_monthly_revenue(row):\n",
    "    user_plan = df_megaline_plans[df_megaline_plans['plan_name'] == row['plan']]\n",
    "    \n",
    "    # Obtener la tarifa mensual del plan del usuario\n",
    "    usd_monthly_pay = user_plan['usd_monthly_pay'].values[0]\n",
    "    \n",
    "    # Obtener el límite de minutos incluidos en el plan del usuario\n",
    "    minutes_included = user_plan['minutes_included'].values[0]\n",
    "    \n",
    "    # Calcular el costo adicional por minutos y mensajes\n",
    "    extra_minutes_cost = max(0, row['total_minutes'] - minutes_included) * user_plan['usd_per_minute'].values[0]\n",
    "    extra_messages_cost = max(0, row['message_count'] - user_plan['messages_included'].values[0]) * user_plan['usd_per_message'].values[0]\n",
    "    \n",
    "    # Calcular el costo adicional por datos\n",
    "    extra_data_cost = max(0, (row['total_mb_used'] / 1024) - user_plan['mb_per_month_included'].values[0]) * user_plan['usd_per_gb'].values[0]\n",
    "    \n",
    "    # Calcular el ingreso mensual total incluyendo el costo adicional por minutos\n",
    "    total_monthly_revenue = usd_monthly_pay + extra_minutes_cost + extra_messages_cost + extra_data_cost\n",
    "    \n",
    "    return total_monthly_revenue\n",
    "\n",
    "# Aplicar la función para calcular el ingreso mensual a cada fila del DataFrame\n",
    "combined_data_with_plans['monthly_revenue'] = combined_data_with_plans.apply(calculate_monthly_revenue, axis=1)\n",
    "\n",
    "# Mostrar el DataFrame con el ingreso mensual calculado\n",
    "monthly_revenue_data = combined_data_with_plans[['user_id', 'month', 'monthly_revenue']]\n",
    "print(monthly_revenue_data)"
   ]
  },
  {
   "cell_type": "markdown",
   "metadata": {},
   "source": [
    "<div class=\"alert alert-block alert-info\">\n",
    "\n",
    "<b>Respuesta del estudiante</b> <a class=\"tocSkip\"></a>\n",
    "Aqui vemos como basados en los calculos presentes en este codigo que vimos anteriormente, podemos calcular las ganancias mensuales por usuario, lo cual nos permitira poder ir teniendo idea de las hipotesis que debemos probar y de que tipos de graficos comparativos usar, ademas de ir construyendo la idea de por donde debe ir la conclusion de la investigacion.\n",
    "</div>"
   ]
  },
  {
   "cell_type": "markdown",
   "metadata": {},
   "source": [
    "## Estudia el comportamiento del usuario"
   ]
  },
  {
   "cell_type": "markdown",
   "metadata": {},
   "source": [
    "<div class=\"alert alert-block alert-info\">\n",
    "\n",
    "<b>Respuesta del estudiante</b> <a class=\"tocSkip\"></a>\n",
    "Por aca estaremos trabajando la data por cada dataframe, llamadas, mensajes, internet y los ingresos, tambien haremos la interpretacion de los graficos para empezar a sacar nuestras conclusiones.\n",
    "</div>"
   ]
  },
  {
   "cell_type": "markdown",
   "metadata": {},
   "source": [
    "### Llamadas"
   ]
  },
  {
   "cell_type": "code",
   "execution_count": 29,
   "metadata": {},
   "outputs": [
    {
     "data": {
      "image/png": "[encoded data removed]",
      "text/plain": [
       "<Figure size 864x432 with 1 Axes>"
      ]
     },
     "metadata": {},
     "output_type": "display_data"
    }
   ],
   "source": [
    "# Compara la duración promedio de llamadas por cada plan por cada mes. Dibuja una gráfica de barras para visualizarlo.\n",
    "\n",
    "# Unir los datos de llamadas con la información del plan\n",
    "calls_with_plan_info = combined_data_with_plans.merge(df_megaline_plans, left_on='plan', right_on='plan_name')\n",
    "\n",
    "# Agrupar los datos por mes y plan, calculando la duración promedio de llamadas\n",
    "average_call_duration_by_month_and_plan = calls_with_plan_info.groupby(['month', 'plan'])['total_minutes'].mean().reset_index()\n",
    "\n",
    "# Configurar el estilo de la gráfica\n",
    "sns.set(style=\"whitegrid\")\n",
    "plt.figure(figsize=(12, 6))\n",
    "\n",
    "# Crear la gráfica de barras\n",
    "barplot = sns.barplot(x='month', y='total_minutes', hue='plan', data=average_call_duration_by_month_and_plan)\n",
    "plt.title('Duración Promedio de Llamadas por Plan y Mes')\n",
    "plt.xlabel('Mes')\n",
    "plt.ylabel('Duración Promedio de Llamadas (minutos)')\n",
    "\n",
    "# Mostrar la gráfica\n",
    "plt.xticks(rotation=45)\n",
    "plt.legend(title='Plan', loc='upper right')\n",
    "plt.show()"
   ]
  },
  {
   "cell_type": "markdown",
   "metadata": {},
   "source": [
    "<div class=\"alert alert-block alert-info\">\n",
    "\n",
    "<b>Respuesta del estudiante</b> <a class=\"tocSkip\"></a>\n",
    "Aca vemos que el gráfico muestra que el plan “surf” tiene una mayor duración promedio de las llamadas que el plan “ultimate” en todos los meses. Esto puede deberse a que el plan “surf” ofrece 500 minutos gratis al mes, mientras que el plan “ultimate” ofrece 3000 minutos gratis al mes. Los clientes que usan el plan “surf” pueden estar aprovechando al máximo sus minutos gratis, mientras que los clientes que usan el plan “ultimate” pueden tener suficientes minutos para cubrir sus necesidades sin excederse.\n",
    "    \n",
    "El gráfico también muestra que la duración promedio de las llamadas varía según el mes, tanto para el plan “surf” como para el plan “ultimate”. El mes con la mayor duración promedio de las llamadas para el plan “surf” es el mes 12, mientras que el mes con la mayor duración promedio de las llamadas para el plan “ultimate” es el mes 9. Esto puede deberse a factores estacionales, como las vacaciones, los eventos o las condiciones climáticas, que pueden influir en el comportamiento de los clientes.\n",
    "</div>"
   ]
  },
  {
   "cell_type": "code",
   "execution_count": 30,
   "metadata": {},
   "outputs": [
    {
     "data": {
      "image/png": "[encoded data removed]",
      "text/plain": [
       "<Figure size 864x432 with 1 Axes>"
      ]
     },
     "metadata": {},
     "output_type": "display_data"
    }
   ],
   "source": [
    "# Compara el número de minutos que los usuarios de cada plan requieren cada mes. Traza un histograma.\n",
    "\n",
    "# Filtrar los datos por plan\n",
    "plan_A_data = combined_data_with_plans[combined_data_with_plans['plan'] == 'surf']\n",
    "plan_B_data = combined_data_with_plans[combined_data_with_plans['plan'] == 'ultimate']\n",
    "\n",
    "# Configurar el estilo de la gráfica\n",
    "sns.set(style='whitegrid') \n",
    "plt.figure(figsize=(12, 6))\n",
    "\n",
    "# Crear histogramas para los planes\n",
    "sns.histplot(data=combined_data_with_plans, x='month', y='total_minutes', hue='plan', bins=20)\n",
    "\n",
    "# Configurar etiquetas y título\n",
    "plt.title('Histograma de Minutos de Llamadas por Mes y Plan')\n",
    "plt.xlabel('Mes')\n",
    "plt.ylabel('Número de Minutos de Llamadas')\n",
    "\n",
    "# Mostrar la gráfica\n",
    "plt.xticks(rotation=45)\n",
    "plt.show()"
   ]
  },
  {
   "cell_type": "markdown",
   "metadata": {},
   "source": [
    " <div class=\"alert alert-block alert-info\">\n",
    "\n",
    "<b>Respuesta del estudiante</b> <a class=\"tocSkip\"></a>\n",
    "Como podemos ver, el gráfico muestra la distribución de los minutos de llamadas por mes y por plan. Se observa que el plan Surf tiene una mayor variabilidad en los minutos de llamadas que el plan Ultimate, y que ambos planes tienen un pico en el mes 12. También se puede apreciar que hay algunos meses en los que el plan Surf supera el límite de 500 minutos incluidos en el plan, mientras que el plan Ultimate nunca supera el límite de 3000 minutos.\n",
    "</div> "
   ]
  },
  {
   "cell_type": "code",
   "execution_count": 31,
   "metadata": {},
   "outputs": [
    {
     "name": "stdout",
     "output_type": "stream",
     "text": [
      "Duración Mensual Promedio de Llamadas:\n",
      "month\n",
      "1     196.666667\n",
      "2     343.437500\n",
      "3     321.171429\n",
      "4     347.197183\n",
      "5     401.405660\n",
      "6     411.604167\n",
      "7     442.472222\n",
      "8     413.562232\n",
      "9     421.378571\n",
      "10    436.221574\n",
      "11    430.100000\n",
      "12    469.091684\n",
      "Name: total_minutes, dtype: float64\n",
      "\n",
      "Varianza de la Duración Mensual de Llamadas:\n",
      "month\n",
      "1     13135.866667\n",
      "2     61567.329167\n",
      "3     43378.499160\n",
      "4     45620.531992\n",
      "5     54950.510063\n",
      "6     45086.240822\n",
      "7     64525.781347\n",
      "8     53926.747188\n",
      "9     49735.899181\n",
      "10    52829.190527\n",
      "11    54351.738142\n",
      "12    63180.258670\n",
      "Name: total_minutes, dtype: float64\n"
     ]
    }
   ],
   "source": [
    "# Calcula la media y la varianza de la duración mensual de llamadas.\n",
    "\n",
    "# Agrupar los datos por mes y calcular la duración mensual promedio de llamadas\n",
    "average_call_duration_by_month = combined_data_with_plans.groupby('month')['total_minutes'].mean()\n",
    "\n",
    "# Calcular la varianza de la duración mensual de llamadas\n",
    "call_duration_variance_by_month = combined_data_with_plans.groupby('month')['total_minutes'].var()\n",
    "\n",
    "# Mostrar los resultados\n",
    "print(\"Duración Mensual Promedio de Llamadas:\")\n",
    "print(average_call_duration_by_month)\n",
    "print(\"\\nVarianza de la Duración Mensual de Llamadas:\")\n",
    "print(call_duration_variance_by_month)"
   ]
  },
  {
   "cell_type": "markdown",
   "metadata": {},
   "source": [
    " <div class=\"alert alert-block alert-info\">\n",
    "\n",
    "<b>Respuesta del estudiante</b> <a class=\"tocSkip\"></a>\n",
    "Viendo los resultados podemos deducir que: La duración mensual promedio de las llamadas es la media de los minutos totales que los clientes usan cada mes para hacer llamadas. La varianza de la duración mensual de las llamadas es una medida de la dispersión de los minutos totales que los clientes usan cada mes para hacer llamadas. Ambas medidas pueden ayudar a analizar el comportamiento y las preferencias de los clientes respecto a las llamadas.\n",
    "\n",
    "La duración mensual promedio de las llamadas aumenta a lo largo del año, tanto para el plan “surf” como para el plan “ultimate”. Esto puede indicar que los clientes hacen más llamadas en los últimos meses del año, posiblemente por motivos personales o profesionales. El plan “surf” tiene una mayor duración mensual promedio de las llamadas que el plan “ultimate” en todos los meses, lo que puede sugerir que los clientes que usan el plan “surf” valoran más el servicio de llamadas que los que usan el plan “ultimate”.\n",
    "\n",
    "La varianza de la duración mensual de las llamadas también aumenta a lo largo del año, tanto para el plan “surf” como para el plan “ultimate”. Esto puede indicar que hay más variabilidad en el uso de las llamadas entre los clientes en los últimos meses del año, lo que puede reflejar diferencias en sus necesidades o hábitos. El plan “surf” tiene una mayor varianza de la duración mensual de las llamadas que el plan “ultimate” en todos los meses, lo que puede implicar que hay más heterogeneidad entre los clientes que usan el plan “surf” que entre los que usan el plan “ultimate”.\n",
    "</div> "
   ]
  },
  {
   "cell_type": "code",
   "execution_count": 32,
   "metadata": {},
   "outputs": [
    {
     "data": {
      "image/png": "[encoded data removed]",
      "text/plain": [
       "<Figure size 864x432 with 1 Axes>"
      ]
     },
     "metadata": {},
     "output_type": "display_data"
    }
   ],
   "source": [
    "# Traza un diagrama de caja para visualizar la distribución de la duración mensual de llamadas.\n",
    "\n",
    "# Configurar el estilo de la gráfica\n",
    "sns.set(style=\"whitegrid\")\n",
    "plt.figure(figsize=(12, 6))\n",
    "\n",
    "# Crear un diagrama de caja para la duración mensual de llamadas\n",
    "sns.boxplot(x='month', y='total_minutes', data=combined_data_with_plans, palette='Set3')\n",
    "\n",
    "# Configurar etiquetas y título\n",
    "plt.title('Diagrama de Caja de Duración Mensual de Llamadas')\n",
    "plt.xlabel('Mes')\n",
    "plt.ylabel('Duración de Llamadas (minutos)')\n",
    "\n",
    "# Rotar las etiquetas del eje x para mayor legibilidad\n",
    "plt.xticks(rotation=45)\n",
    "\n",
    "# Mostrar la gráfica\n",
    "plt.show()"
   ]
  },
  {
   "cell_type": "markdown",
   "metadata": {},
   "source": [
    " <div class=\"alert alert-block alert-info\">\n",
    "\n",
    "<b>Respuesta del estudiante</b> <a class=\"tocSkip\"></a>\n",
    "En el grafico podemos ver que hay algunos valores atípicos representados por puntos negros sobre los bigotes.\n",
    "El gráfico muestra que la duración mensual de las llamadas tiene una distribución asimétrica, con una cola más larga hacia la derecha. Esto significa que hay más clientes que usan más minutos de los que se esperaría por la media. El gráfico también muestra que hay una gran variabilidad en la duración mensual de las llamadas entre los clientes, lo que se refleja en el tamaño y la forma de las cajas y los bigotes.\n",
    "\n",
    "El gráfico muestra que la duración mensual de las llamadas varía según el mes, tanto en términos de media como de dispersión. El mes con la mayor duración mediana de las llamadas es el mes 12, mientras que el mes con la menor duración mediana de las llamadas es el mes 1. El mes con la mayor dispersión de la duración de las llamadas es el mes 7, mientras que el mes con la menor dispersión de la duración de las llamadas es el mes 1. Esto puede deberse a factores estacionales, como las vacaciones, los eventos o las condiciones climáticas, que pueden influir en el comportamiento de los clientes.\n",
    "</div> "
   ]
  },
  {
   "cell_type": "markdown",
   "metadata": {},
   "source": [
    "#### Conclusiones sobre cómo se comportan los usuarios en cuanto a las llamadas. ¿Este comportamiento es diferente entre los planes?"
   ]
  },
  {
   "cell_type": "markdown",
   "metadata": {},
   "source": [
    " <div class=\"alert alert-block alert-info\">\n",
    "\n",
    "<b>Respuesta del estudiante</b> <a class=\"tocSkip\"></a>\n",
    "Los usuarios hacen más llamadas en los últimos meses del año, posiblemente por motivos personales o profesionales. La duración promedio de las llamadas aumenta a lo largo del año, tanto para el plan “surf” como para el plan “ultimate”.\n",
    "\n",
    "Los usuarios que usan el plan “surf” hacen más llamadas que los que usan el plan “ultimate” en todos los meses. Esto puede deberse a que el plan “surf” ofrece 500 minutos gratis al mes, mientras que el plan “ultimate” ofrece 3000 minutos gratis al mes. Los usuarios que usan el plan “surf” pueden estar aprovechando al máximo sus minutos gratis, mientras que los usuarios que usan el plan “ultimate” pueden tener suficientes minutos para cubrir sus necesidades sin excederse.\n",
    "\n",
    "Los usuarios que usan el plan “surf” tienen más variabilidad en la duración de las llamadas que los que usan el plan “ultimate” en todos los meses. Esto puede indicar que hay más diferencias entre los usuarios que usan el plan “surf” en cuanto a su consumo y pago. Algunos usuarios pagan mucho más que otros, lo que se refleja en los valores atípicos del gráfico de caja.\n",
    "\n",
    "El comportamiento de los usuarios en cuanto a las llamadas es diferente entre los planes, tanto en términos de media como de dispersión. El plan “surf” tiene una mayor media y una mayor dispersión de la duración de las llamadas que el plan “ultimate”. Esto puede sugerir que el plan “surf” es más adecuado para los usuarios que valoran más el servicio de llamadas y que tienen un uso más variable del mismo, mientras que el plan “ultimate” es más adecuado para los usuarios que buscan un servicio más estable y predecible.\n",
    "</div> "
   ]
  },
  {
   "cell_type": "markdown",
   "metadata": {},
   "source": [
    "### Mensajes"
   ]
  },
  {
   "cell_type": "code",
   "execution_count": 33,
   "metadata": {},
   "outputs": [
    {
     "data": {
      "image/png": "[encoded data removed]",
      "text/plain": [
       "<Figure size 864x432 with 1 Axes>"
      ]
     },
     "metadata": {},
     "output_type": "display_data"
    }
   ],
   "source": [
    "# Comprara el número de mensajes que tienden a enviar cada mes los usuarios de cada plan\n",
    "\n",
    "# Configurar el estilo de la gráfica\n",
    "sns.set(style=\"whitegrid\")\n",
    "plt.figure(figsize=(12, 6))\n",
    "\n",
    "# Crear un gráfico de barras para el número de mensajes por mes y plan\n",
    "sns.barplot(x='month', y='message_count', hue='plan', data=combined_data_with_plans, ci=None)\n",
    "\n",
    "# Configurar etiquetas y título\n",
    "plt.title('Número de Mensajes por Mes y Plan')\n",
    "plt.xlabel('Mes')\n",
    "plt.ylabel('Número de Mensajes')\n",
    "\n",
    "# Rotar las etiquetas del eje x para mayor legibilidad\n",
    "plt.xticks(rotation=45)\n",
    "\n",
    "# Mostrar la gráfica\n",
    "plt.legend(title='Plan')\n",
    "plt.show()"
   ]
  },
  {
   "cell_type": "markdown",
   "metadata": {},
   "source": [
    " <div class=\"alert alert-block alert-info\">\n",
    "\n",
    "<b>Respuesta del estudiante</b> <a class=\"tocSkip\"></a>\n",
    "El gráfico muestra que el plan “ultimate” tiene un mayor número de mensajes que el plan “surf” en todos los meses. Esto significa que los clientes que usan el plan “ultimate” envían más mensajes que los que usan el plan “surf”. El plan “ultimate” ofrece mensajes ilimitados al mes, mientras que el plan “surf” ofrece 50 mensajes gratis al mes. Los clientes que usan el plan “ultimate” pueden estar aprovechando la ventaja de tener mensajes ilimitados, mientras que los clientes que usan el plan “surf” pueden estar limitando su uso de mensajes para evitar cargos adicionales.\n",
    "\n",
    "El gráfico también muestra que el número de mensajes varía según el mes, tanto para el plan “ultimate” como para el plan “surf”. El mes con el mayor número de mensajes para el plan “ultimate” es el mes 12, con alrededor de 40 mensajes. El mes con el mayor número de mensajes para el plan “surf” es el mes 9, con alrededor de 25 mensajes. Esto puede deberse a factores estacionales, como las vacaciones, los eventos o las condiciones climáticas, que pueden influir en la comunicación de los clientes.\n",
    "</div> "
   ]
  },
  {
   "cell_type": "code",
   "execution_count": 34,
   "metadata": {},
   "outputs": [
    {
     "data": {
      "image/png": "[encoded data removed]",
      "text/plain": [
       "<Figure size 864x432 with 1 Axes>"
      ]
     },
     "metadata": {},
     "output_type": "display_data"
    }
   ],
   "source": [
    "# Compara la cantidad de mensajes consumidos por usuarios por plan\n",
    "\n",
    "# Filtrar los datos por plan\n",
    "plan_A_data = combined_data_with_plans[combined_data_with_plans['plan'] == 'surf']\n",
    "plan_B_data = combined_data_with_plans[combined_data_with_plans['plan'] == 'ultimate']\n",
    "\n",
    "# Configurar el estilo de la gráfica\n",
    "sns.set(style='whitegrid') \n",
    "plt.figure(figsize=(12, 6))\n",
    "\n",
    "# Crear histogramas para los planes\n",
    "sns.histplot(data=combined_data_with_plans, x='month', y='message_count', hue='plan', bins=20)\n",
    "\n",
    "# Configurar etiquetas y título\n",
    "plt.title('Número de Mensajes por Mes y Plan')\n",
    "plt.xlabel('Mes')\n",
    "plt.ylabel('Número de Mensajes')\n",
    "\n",
    "# Mostrar la gráfica\n",
    "plt.xticks(rotation=45)\n",
    "plt.show()"
   ]
  },
  {
   "cell_type": "markdown",
   "metadata": {},
   "source": [
    " <div class=\"alert alert-block alert-info\">\n",
    "\n",
    "<b>Respuesta del estudiante</b> <a class=\"tocSkip\"></a>\n",
    "El gráfico muestra que el plan “ultimate” tiene un mayor número de mensajes que el plan “surf” en todos los meses. Esto significa que los clientes que usan el plan “ultimate” envían más mensajes que los que usan el plan “surf”. El plan “ultimate” ofrece mensajes ilimitados al mes, mientras que el plan “surf” ofrece 50 mensajes gratis al mes. Los clientes que usan el plan “ultimate” pueden estar aprovechando la ventaja de tener mensajes ilimitados, mientras que los clientes que usan el plan “surf” pueden estar limitando su uso de mensajes para evitar cargos adicionales.\n",
    "\n",
    "El gráfico también muestra que el número de mensajes varía según el mes, tanto para el plan “surf” como para el plan “ultimate”. El mes con el mayor número de mensajes para el plan “surf” es el mes 12, con alrededor de 150 mensajes. El mes con el mayor número de mensajes para el plan “ultimate” es el mes 12, con alrededor de 250 mensajes. Esto puede deberse a factores estacionales, como las vacaciones, los eventos o las condiciones climáticas, que pueden influir en la comunicación de los clientes.\n",
    "</div> "
   ]
  },
  {
   "cell_type": "code",
   "execution_count": 35,
   "metadata": {},
   "outputs": [
    {
     "name": "stdout",
     "output_type": "stream",
     "text": [
      "Conteo de Mensajes Promedio por Mes:\n",
      "month\n",
      "1     13.833333\n",
      "2     16.187500\n",
      "3     16.971429\n",
      "4     18.774648\n",
      "5     26.226415\n",
      "6     26.618056\n",
      "7     28.933333\n",
      "8     31.733906\n",
      "9     32.953571\n",
      "10    35.571429\n",
      "11    34.312195\n",
      "12    40.663113\n",
      "Name: message_count, dtype: float64\n",
      "\n",
      "Varianza de la cantidad Mensual de Mensajes:\n",
      "month\n",
      "1      238.966667\n",
      "2      421.229167\n",
      "3      441.734454\n",
      "4      511.148491\n",
      "5      972.291105\n",
      "6      893.706245\n",
      "7      938.051397\n",
      "8     1095.446130\n",
      "9     1025.442281\n",
      "10    1261.771930\n",
      "11    1122.582003\n",
      "12    1493.270880\n",
      "Name: message_count, dtype: float64\n"
     ]
    }
   ],
   "source": [
    "# Calcula la media y la varianza de la cantidad mensual de mensajes.\n",
    "\n",
    "# Agrupar los datos por mes y calcular la duración mensual promedio de llamadas\n",
    "average_message_count_by_month = combined_data_with_plans.groupby('month')['message_count'].mean()\n",
    "\n",
    "# Calcular la varianza de la duración mensual de llamadas\n",
    "message_count_variance_by_month = combined_data_with_plans.groupby('month')['message_count'].var()\n",
    "\n",
    "# Mostrar los resultados\n",
    "print(\"Conteo de Mensajes Promedio por Mes:\")\n",
    "print(average_message_count_by_month)\n",
    "print(\"\\nVarianza de la cantidad Mensual de Mensajes:\")\n",
    "print(message_count_variance_by_month)"
   ]
  },
  {
   "cell_type": "markdown",
   "metadata": {},
   "source": [
    " <div class=\"alert alert-block alert-info\">\n",
    "\n",
    "<b>Respuesta del estudiante</b> <a class=\"tocSkip\"></a>\n",
    "El conteo de mensajes promedio por mes aumenta a lo largo del año, tanto para el plan “surf” como para el plan “ultimate”. Esto puede indicar que los clientes envían más mensajes en los últimos meses del año, posiblemente por motivos personales o profesionales. El plan “ultimate” tiene un mayor conteo de mensajes promedio por mes que el plan “surf” en todos los meses, lo que puede sugerir que los clientes que usan el plan “ultimate” valoran más el servicio de mensajes que los que usan el plan “surf”.\n",
    "\n",
    "La varianza de la cantidad mensual de mensajes también aumenta a lo largo del año, tanto para el plan “surf” como para el plan “ultimate”. Esto puede indicar que hay más variabilidad en el uso de los mensajes entre los clientes en los últimos meses del año, lo que puede reflejar diferencias en sus necesidades o hábitos. El plan “surf” tiene una mayor varianza de la cantidad mensual de mensajes que el plan “ultimate” en todos los meses, lo que puede implicar que hay más heterogeneidad entre los clientes que usan el plan “surf” que entre los que usan el plan “ultimate”.\n",
    "</div> "
   ]
  },
  {
   "cell_type": "code",
   "execution_count": 36,
   "metadata": {},
   "outputs": [
    {
     "data": {
      "image/png": "[encoded data removed]",
      "text/plain": [
       "<Figure size 864x432 with 1 Axes>"
      ]
     },
     "metadata": {},
     "output_type": "display_data"
    }
   ],
   "source": [
    "# Traza un diagrama de caja para visualizar la distribución de los mensajes mensualmente.\n",
    "\n",
    "# Configurar el estilo de la gráfica\n",
    "sns.set(style=\"whitegrid\")\n",
    "plt.figure(figsize=(12, 6))\n",
    "\n",
    "# Crear un diagrama de caja para la cantidad mensual de mensajes\n",
    "sns.boxplot(x='month', y='message_count', data=combined_data_with_plans, palette='Set3')\n",
    "\n",
    "# Configurar etiquetas y título\n",
    "plt.title('Diagrama de Caja de la Cantidad Mensual de Mensajes')\n",
    "plt.xlabel('Mes')\n",
    "plt.ylabel('Cantidad de Mensajes')\n",
    "\n",
    "# Rotar las etiquetas del eje x para mayor legibilidad\n",
    "plt.xticks(rotation=45)\n",
    "\n",
    "# Mostrar la gráfica\n",
    "plt.show()"
   ]
  },
  {
   "cell_type": "markdown",
   "metadata": {},
   "source": [
    " <div class=\"alert alert-block alert-info\">\n",
    "\n",
    "<b>Respuesta del estudiante</b> <a class=\"tocSkip\"></a>\n",
    "El gráfico muestra que la cantidad mensual de mensajes tiene una distribución asimétrica, con una cola más larga hacia la derecha. Esto significa que hay más clientes que envían más mensajes de los que se esperaría por la media. El gráfico también muestra que hay una gran variabilidad en la cantidad mensual de mensajes entre los clientes, lo que se refleja en el tamaño y la forma de las cajas y los bigotes.\n",
    "\n",
    "El gráfico muestra que la cantidad mensual de mensajes varía según el mes, tanto en términos de media como de dispersión. El mes con la mayor cantidad mediana de mensajes es el mes 12, mientras que el mes con la menor cantidad mediana de mensajes es el mes 1. El mes con la mayor dispersión de la cantidad de mensajes es el mes 12, mientras que el mes con la menor dispersión de la cantidad de mensajes es el mes 1. Esto puede deberse a factores estacionales, como las vacaciones, los eventos o las condiciones climáticas, que pueden influir en la comunicación de los clientes.\n",
    "</div> "
   ]
  },
  {
   "cell_type": "markdown",
   "metadata": {},
   "source": [
    "#### Conclusiones sobre cómo se comportan los usuarios en cuanto a las mensajes. ¿Este comportamiento es diferente entre los planes?"
   ]
  },
  {
   "cell_type": "markdown",
   "metadata": {},
   "source": [
    " <div class=\"alert alert-block alert-info\">\n",
    "\n",
    "<b>Respuesta del estudiante</b> <a class=\"tocSkip\"></a>\n",
    "Los usuarios envían más mensajes en los últimos meses del año, posiblemente por motivos personales o profesionales. El conteo de mensajes promedio por mes aumenta a lo largo del año, tanto para el plan “surf” como para el plan “ultimate”.\n",
    "\n",
    "Los usuarios que usan el plan “ultimate” envían más mensajes que los que usan el plan “surf” en todos los meses. Esto puede deberse a que el plan “ultimate” ofrece mensajes ilimitados al mes, mientras que el plan “surf” ofrece 50 mensajes gratis al mes. Los usuarios que usan el plan “ultimate” pueden estar aprovechando la ventaja de tener mensajes ilimitados, mientras que los usuarios que usan el plan “surf” pueden estar limitando su uso de mensajes para evitar cargos adicionales.\n",
    "\n",
    "Los usuarios que usan el plan “surf” tienen más variabilidad en la cantidad de mensajes que los que usan el plan “ultimate” en todos los meses. Esto puede indicar que hay más diferencias entre los usuarios que usan el plan “surf” en cuanto a su consumo y pago. Algunos usuarios pagan mucho más que otros, lo que se refleja en los valores atípicos del gráfico de caja.\n",
    "\n",
    "El comportamiento de los usuarios en cuanto a los mensajes es diferente entre los planes, tanto en términos de media como de dispersión. El plan “ultimate” tiene una mayor media y una menor dispersión de la cantidad de mensajes que el plan “surf”. Esto puede sugerir que el plan “ultimate” es más adecuado para los usuarios que buscan un servicio de mensajes más estable y predecible, mientras que el plan “surf” es más adecuado para los usuarios que valoran más el servicio de mensajes y que tienen un uso más variable del mismo.\n",
    "</div> "
   ]
  },
  {
   "cell_type": "markdown",
   "metadata": {},
   "source": [
    " "
   ]
  },
  {
   "cell_type": "markdown",
   "metadata": {},
   "source": [
    "### Internet"
   ]
  },
  {
   "cell_type": "code",
   "execution_count": 37,
   "metadata": {},
   "outputs": [
    {
     "data": {
      "image/png": "[encoded data removed]",
      "text/plain": [
       "<Figure size 864x432 with 1 Axes>"
      ]
     },
     "metadata": {},
     "output_type": "display_data"
    }
   ],
   "source": [
    "# Comprara la cantidad de data que tienden a usar cada mes los usuarios de cada plan\n",
    "\n",
    "# Configurar el estilo de la gráfica\n",
    "sns.set(style=\"whitegrid\")\n",
    "plt.figure(figsize=(12, 6))\n",
    "\n",
    "# Crear un gráfico de barras para el número de mensajes por mes y plan\n",
    "sns.barplot(x='month', y='total_mb_used', hue='plan', data=combined_data_with_plans, ci=None)\n",
    "\n",
    "# Configurar etiquetas y título\n",
    "plt.title('Tráfico de Internet por Mes y Plan')\n",
    "plt.xlabel('Mes')\n",
    "plt.ylabel('Tráfico de Internet (MB)')\n",
    "\n",
    "# Rotar las etiquetas del eje x para mayor legibilidad\n",
    "plt.xticks(rotation=45)\n",
    "\n",
    "# Mostrar la gráfica\n",
    "plt.legend(title='Plan')\n",
    "plt.show()"
   ]
  },
  {
   "cell_type": "markdown",
   "metadata": {},
   "source": [
    " <div class=\"alert alert-block alert-info\">\n",
    "\n",
    "<b>Respuesta del estudiante</b> <a class=\"tocSkip\"></a>\n",
    "El gráfico muestra que el plan “ultimate” tiene un mayor tráfico de internet que el plan “surf” en todos los meses. Esto significa que los clientes que usan el plan “ultimate” consumen más datos que los que usan el plan “surf”. El plan “ultimate” ofrece 30 GB de datos al mes, mientras que el plan “surf” ofrece 15 GB de datos al mes. Los clientes que usan el plan “ultimate” pueden estar aprovechando la ventaja de tener más datos disponibles, mientras que los clientes que usan el plan “surf” pueden estar limitando su uso de datos para evitar cargos adicionales.\n",
    "\n",
    "El gráfico también muestra que el tráfico de internet varía según el mes, tanto para el plan “surf” como para el plan “ultimate”. El mes con el mayor tráfico de internet para el plan “surf” son el mes 6 y el 10, mientras que el mes con el mayor tráfico de internet para el plan “ultimate” es el mes 12. El mes con el menor tráfico de internet para ambos planes es el mes 1. Esto puede deberse a factores estacionales, como las vacaciones, los eventos o las condiciones climáticas, que pueden influir en el uso de internet de los clientes.\n",
    "</div> "
   ]
  },
  {
   "cell_type": "code",
   "execution_count": 38,
   "metadata": {},
   "outputs": [
    {
     "data": {
      "image/png": "[encoded data removed]",
      "text/plain": [
       "<Figure size 864x432 with 1 Axes>"
      ]
     },
     "metadata": {},
     "output_type": "display_data"
    }
   ],
   "source": [
    "# Compara la cantidad de tráfico de internet consumido por usuarios por plan\n",
    "\n",
    "# Filtrar los datos por plan\n",
    "plan_A_data = combined_data_with_plans[combined_data_with_plans['plan'] == 'surf']\n",
    "plan_B_data = combined_data_with_plans[combined_data_with_plans['plan'] == 'ultimate']\n",
    "\n",
    "# Configurar el estilo de la gráfica\n",
    "sns.set(style='whitegrid') \n",
    "plt.figure(figsize=(12, 6))\n",
    "\n",
    "# Crear histogramas para los planes\n",
    "sns.histplot(data=combined_data_with_plans, x='month', y='total_mb_used', hue='plan', bins=20)\n",
    "\n",
    "# Configurar etiquetas y título\n",
    "plt.title('Tráfico de Internet por Mes y Plan')\n",
    "plt.xlabel('Mes')\n",
    "plt.ylabel('Tráfico de Internet (MB)')\n",
    "\n",
    "# Mostrar la gráfica\n",
    "plt.xticks(rotation=45)\n",
    "plt.show()"
   ]
  },
  {
   "cell_type": "markdown",
   "metadata": {},
   "source": [
    " <div class=\"alert alert-block alert-info\">\n",
    "\n",
    "<b>Respuesta del estudiante</b> <a class=\"tocSkip\"></a>\n",
    "El gráfico muestra que el plan “surf” tiene un mayor tráfico de internet que el plan “ultimate” en todos los meses. Esto significa que los clientes que usan el plan “surf” consumen más datos que los que usan el plan “ultimate”. El plan “surf” ofrece 15 GB de datos al mes, mientras que el plan “ultimate” ofrece 30 GB de datos al mes. Los clientes que usan el plan “surf” pueden estar usando más datos de los que necesitan, mientras que los clientes que usan el plan “ultimate” pueden estar ahorrando datos o usando otras fuentes de conexión.\n",
    "\n",
    "El gráfico también muestra que el tráfico de internet varía según el mes, tanto para el plan “surf” como para el plan “ultimate”. El mes con el mayor tráfico de internet para el plan “surf” es el mes 6, mientras que el mes con el mayor tráfico de internet para el plan “ultimate” es el mes 9. El mes con el menor tráfico de internet para ambos planes es el mes 1. Esto puede deberse a factores estacionales, como las vacaciones, los eventos o las condiciones climáticas, que pueden influir en el uso de internet de los clientes.\n",
    "</div> "
   ]
  },
  {
   "cell_type": "code",
   "execution_count": 39,
   "metadata": {},
   "outputs": [
    {
     "name": "stdout",
     "output_type": "stream",
     "text": [
      "Trafico Mensual Promedio en MB:\n",
      "month\n",
      "1     14.833333\n",
      "2     34.250000\n",
      "3     34.342857\n",
      "4     31.704225\n",
      "5     35.339623\n",
      "6     36.972222\n",
      "7     40.061111\n",
      "8     40.991416\n",
      "9     40.296429\n",
      "10    41.854227\n",
      "11    40.197561\n",
      "12    44.087420\n",
      "Name: total_mb_used, dtype: float64\n",
      "\n",
      "Varianza del trafico Mensual en MB:\n",
      "month\n",
      "1      61.366667\n",
      "2     297.000000\n",
      "3     456.467227\n",
      "4     363.439839\n",
      "5     300.912129\n",
      "6     264.628594\n",
      "7     310.940379\n",
      "8     333.413719\n",
      "9     240.553392\n",
      "10    279.440677\n",
      "11    277.596571\n",
      "12    320.695333\n",
      "Name: total_mb_used, dtype: float64\n"
     ]
    }
   ],
   "source": [
    "# Agrupar los datos por mes y plan, y calcular la media y la varianza del tráfico de internet\n",
    "\n",
    "# Agrupar los datos por mes y calcular la duración mensual promedio de trafico\n",
    "average_trafic_by_month = combined_data_with_plans.groupby('month')['total_mb_used'].mean()\n",
    "\n",
    "# Calcular la varianza de la duración mensual del trafico\n",
    "trafic_variance_by_month = combined_data_with_plans.groupby('month')['total_mb_used'].var()\n",
    "\n",
    "# Mostrar los resultados\n",
    "print(\"Trafico Mensual Promedio en MB:\")\n",
    "print(average_trafic_by_month)\n",
    "print(\"\\nVarianza del trafico Mensual en MB:\")\n",
    "print(trafic_variance_by_month)"
   ]
  },
  {
   "cell_type": "markdown",
   "metadata": {},
   "source": [
    " <div class=\"alert alert-block alert-info\">\n",
    "\n",
    "<b>Respuesta del estudiante</b> <a class=\"tocSkip\"></a>\n",
    "El tráfico mensual promedio en MB es la media de los MB que los clientes usan cada mes para acceder a internet. La varianza del tráfico mensual en MB es una medida de la dispersión de los MB que los clientes usan cada mes para acceder a internet. Ambas medidas pueden ayudar a analizar el comportamiento y las preferencias de los clientes respecto a la data consumida.\n",
    "\n",
    "El tráfico mensual promedio en MB aumenta a lo largo del año, tanto para el plan “surf” como para el plan “ultimate”. Esto puede indicar que los clientes usan más internet en los últimos meses del año, posiblemente por motivos personales o profesionales. El plan “ultimate” tiene un mayor tráfico mensual promedio en MB que el plan “surf” en todos los meses, lo que puede sugerir que los clientes que usan el plan “ultimate” valoran más el servicio de internet que los que usan el plan “surf”.\n",
    "\n",
    "La varianza del tráfico mensual en MB también aumenta a lo largo del año, tanto para el plan “surf” como para el plan “ultimate”. Esto puede indicar que hay más variabilidad en el uso de internet entre los clientes en los últimos meses del año, lo que puede reflejar diferencias en sus necesidades o hábitos. El plan “surf” tiene una mayor varianza del tráfico mensual en MB que el plan “ultimate” en todos los meses, lo que puede implicar que hay más heterogeneidad entre los clientes que usan el plan “surf” que entre los que usan el plan “ultimate”.\n",
    "</div> "
   ]
  },
  {
   "cell_type": "code",
   "execution_count": 40,
   "metadata": {},
   "outputs": [
    {
     "data": {
      "image/png": "[encoded data removed]",
      "text/plain": [
       "<Figure size 864x432 with 1 Axes>"
      ]
     },
     "metadata": {},
     "output_type": "display_data"
    }
   ],
   "source": [
    "# Traza un diagrama de caja para visualizar la distribución del uso de la Data mensualmente.\n",
    "\n",
    "# Configurar el estilo de la gráfica\n",
    "sns.set(style=\"whitegrid\")\n",
    "plt.figure(figsize=(12, 6))\n",
    "\n",
    "# Crear un diagrama de caja para la duración mensual de llamadas\n",
    "sns.boxplot(x='month', y='total_mb_used', data=combined_data_with_plans, palette='Set3')\n",
    "\n",
    "# Configurar etiquetas y título\n",
    "plt.title('Diagrama de Caja de Trafico Mensual en MB')\n",
    "plt.xlabel('Mes')\n",
    "plt.ylabel('Trafico en MB')\n",
    "\n",
    "# Rotar las etiquetas del eje x para mayor legibilidad\n",
    "plt.xticks(rotation=45)\n",
    "\n",
    "# Mostrar la gráfica\n",
    "plt.show()"
   ]
  },
  {
   "cell_type": "markdown",
   "metadata": {},
   "source": [
    " <div class=\"alert alert-block alert-info\">\n",
    "\n",
    "<b>Respuesta del estudiante</b> <a class=\"tocSkip\"></a>\n",
    "El gráfico muestra que el tráfico mensual en MB tiene una distribución asimétrica, con una cola más larga hacia la derecha. Esto significa que hay más clientes que usan más datos de los que se esperaría por la media. El gráfico también muestra que hay una gran variabilidad en el tráfico mensual en MB entre los clientes, lo que se refleja en el tamaño y la forma de las cajas y los bigotes.\n",
    "\n",
    "El gráfico muestra que el tráfico mensual en MB varía según el mes, tanto en términos de media como de dispersión. El mes con el mayor tráfico mediano en MB es el mes 12, mientras que el mes con el menor tráfico mediano en MB es el mes 1. El mes con la mayor dispersión del tráfico en MB es el mes 12, mientras que el mes con la menor dispersión del tráfico en MB es el mes 1. Esto puede deberse a factores estacionales, como las vacaciones, los eventos o las condiciones climáticas, que pueden influir en el uso de internet de los clientes.\n",
    "</div> "
   ]
  },
  {
   "cell_type": "markdown",
   "metadata": {},
   "source": [
    "#### Conclusiones sobre cómo se comportan los usuarios en cuanto a trafico de internet. ¿Este comportamiento es diferente entre los planes?"
   ]
  },
  {
   "cell_type": "markdown",
   "metadata": {},
   "source": [
    " <div class=\"alert alert-block alert-info\">\n",
    "\n",
    "<b>Respuesta del estudiante</b> <a class=\"tocSkip\"></a>\n",
    "Los usuarios usan más internet en los últimos meses del año, posiblemente por motivos personales o profesionales. El tráfico mensual promedio en MB aumenta a lo largo del año, tanto para el plan “surf” como para el plan “ultimate”.\n",
    "\n",
    "Los usuarios que usan el plan “ultimate” usan más internet que los que usan el plan “plan” en todos los meses. Esto puede deberse a que el plan “ultimate” ofrece 30 GB de datos al mes, mientras que el plan “plan” ofrece 15 GB de datos al mes. Los usuarios que usan el plan “ultimate” pueden estar aprovechando la ventaja de tener más datos disponibles, mientras que los usuarios que usan el plan “plan” pueden estar limitando su uso de datos para evitar cargos adicionales.\n",
    "\n",
    "Los usuarios que usan el plan “plan” tienen más variabilidad en el tráfico de internet que los que usan el plan “ultimate” en todos los meses. Esto puede indicar que hay más diferencias entre los usuarios que usan el plan “plan” en cuanto a su consumo y pago. Algunos usuarios pagan mucho más que otros, lo que se refleja en los valores atípicos del gráfico de caja.\n",
    "\n",
    "El comportamiento de los usuarios en cuanto a tráfico de internet es diferente entre los planes, tanto en términos de media como de dispersión. El plan “ultimate” tiene una mayor media y una menor dispersión del tráfico de internet que el plan “plan”. Esto puede sugerir que el plan “ultimate” es más adecuado para los usuarios que buscan un servicio de internet más estable y predecible, mientras que el plan “plan” es más adecuado para los usuarios que valoran más el servicio de internet y que tienen un uso más variable del mismo.\n",
    "</div> "
   ]
  },
  {
   "cell_type": "markdown",
   "metadata": {},
   "source": [
    "### Ingreso"
   ]
  },
  {
   "cell_type": "code",
   "execution_count": 41,
   "metadata": {},
   "outputs": [
    {
     "data": {
      "image/png": "[encoded data removed]",
      "text/plain": [
       "<Figure size 864x432 with 1 Axes>"
      ]
     },
     "metadata": {},
     "output_type": "display_data"
    }
   ],
   "source": [
    "# Comprara las ganancias que tienden a tener cada plan, cada mes por usuario\n",
    "\n",
    "# Agrupar los datos por mes y plan y calcular la suma de los ingresos mensuales\n",
    "monthly_revenue_by_plan = combined_data_with_plans.groupby(['month', 'plan'])['monthly_revenue'].sum().reset_index()\n",
    "\n",
    "# Configurar el estilo de la gráfica\n",
    "sns.set(style=\"whitegrid\")\n",
    "plt.figure(figsize=(12, 6))\n",
    "\n",
    "# Crear un gráfico de barras para comparar las ganancias por plan cada mes\n",
    "sns.barplot(data=monthly_revenue_by_plan, x='month', y='monthly_revenue', hue='plan', ci=None)\n",
    "\n",
    "# Configurar etiquetas y título\n",
    "plt.title('Ganancia por Plan por Mes')\n",
    "plt.xlabel('Mes')\n",
    "plt.ylabel('Ganancia Mensual')\n",
    "plt.legend(title='Plan')\n",
    "\n",
    "# Rotar las etiquetas del eje x para mayor claridad\n",
    "plt.xticks(rotation=45)\n",
    "\n",
    "# Mostrar la gráfica\n",
    "plt.show()"
   ]
  },
  {
   "cell_type": "markdown",
   "metadata": {},
   "source": [
    " <div class=\"alert alert-block alert-info\">\n",
    "\n",
    "<b>Respuesta del estudiante</b> <a class=\"tocSkip\"></a>\n",
    "El gráfico muestra que los planes generan ganancias para la empresa en todos los meses, pero con diferentes niveles y tendencias. El plan “ultimate” es el que más ganancias aporta, seguido del plan “surf”. El plan “ultimate” tiene un aumento constante de las ganancias de mes a mes, mientras que el plan “surf” tiene un aumento fluctuante.\n",
    "\n",
    "El gráfico también muestra que hay diferencias entre los planes en cuanto al precio, la oferta y la demanda. El plan “ultimate” es el más caro, pero también el que ofrece más beneficios, como llamadas, mensajes y datos ilimitados. El plan “surf” es más barato, pero también el que ofrece menos beneficios, como 50 mensajes, 500 minutos y 15 GB de datos al mes.\n",
    "</div> "
   ]
  },
  {
   "cell_type": "code",
   "execution_count": 42,
   "metadata": {},
   "outputs": [
    {
     "data": {
      "image/png": "[encoded data removed]",
      "text/plain": [
       "<Figure size 864x432 with 1 Axes>"
      ]
     },
     "metadata": {},
     "output_type": "display_data"
    }
   ],
   "source": [
    "# Compara la Ganancia por usuarios por plan\n",
    "\n",
    "# Filtrar los datos por plan\n",
    "plan_A_data = combined_data_with_plans[combined_data_with_plans['plan'] == 'surf']\n",
    "plan_B_data = combined_data_with_plans[combined_data_with_plans['plan'] == 'ultimate']\n",
    "\n",
    "# Configurar el estilo de la gráfica\n",
    "sns.set(style='whitegrid') \n",
    "plt.figure(figsize=(12, 6))\n",
    "\n",
    "# Crear histogramas para los planes\n",
    "sns.histplot(data=combined_data_with_plans, x='month', y='monthly_revenue', hue='plan', bins=20)\n",
    "\n",
    "# Configurar etiquetas y título\n",
    "plt.title('Ganancias por Mes y Plan')\n",
    "plt.xlabel('Mes')\n",
    "plt.ylabel('Ganancia Mensual')\n",
    "\n",
    "# Mostrar la gráfica\n",
    "plt.xticks(rotation=45)\n",
    "plt.show()"
   ]
  },
  {
   "cell_type": "markdown",
   "metadata": {},
   "source": [
    " <div class=\"alert alert-block alert-info\">\n",
    "\n",
    "<b>Respuesta del estudiante</b> <a class=\"tocSkip\"></a>\n",
    "El gráfico muestra que el plan “ultimate” tiene unas ganancias consistentemente mayores que el plan “surf” en todos los meses. Esto significa que la empresa recibe más dinero por la venta del plan “ultimate” que por la venta del plan “surf”. El plan “ultimate” es el más caro, pero también el que ofrece más beneficios, como llamadas, mensajes y datos ilimitados. El plan “surf” es el más barato, pero también el que ofrece menos beneficios, como 50 mensajes, 500 minutos y 15 GB de datos al mes.\n",
    "\n",
    "El gráfico también muestra que las ganancias varían según el mes, tanto para el plan “ultimate” como para el plan “surf”. El mes con las mayores ganancias para el plan “ultimate” es el mes 6, mientras que el mes con las menores ganancias para el plan “surf” es el mes 2. Esto puede deberse a factores estacionales, como las vacaciones, los eventos o las condiciones climáticas, que pueden influir en la demanda de los planes.\n",
    "</div> "
   ]
  },
  {
   "cell_type": "code",
   "execution_count": 43,
   "metadata": {},
   "outputs": [
    {
     "name": "stdout",
     "output_type": "stream",
     "text": [
      "Ganancia Mensual Promedio por Mes:\n",
      "month\n",
      "1     53.333333\n",
      "2     42.473125\n",
      "3     37.618571\n",
      "4     35.570845\n",
      "5     34.975189\n",
      "6     37.498611\n",
      "7     37.964222\n",
      "8     36.510086\n",
      "9     36.480964\n",
      "10    36.865394\n",
      "11    36.841976\n",
      "12    38.032281\n",
      "Name: monthly_revenue, dtype: float64\n",
      "\n",
      "Varianza de la Ganancia Mensual:\n",
      "month\n",
      "1     666.666667\n",
      "2     634.061556\n",
      "3     566.538366\n",
      "4     511.422471\n",
      "5     476.038515\n",
      "6     523.343725\n",
      "7     515.528683\n",
      "8     502.855271\n",
      "9     507.501395\n",
      "10    501.798750\n",
      "11    503.517300\n",
      "12    503.640580\n",
      "Name: monthly_revenue, dtype: float64\n"
     ]
    }
   ],
   "source": [
    "# Agrupar los datos por mes y plan, y calcular la media y la varianza del tráfico de internet\n",
    "\n",
    "# Agrupar los datos por mes y calcular la duración mensual promedio de trafico\n",
    "average_revenue_by_month = combined_data_with_plans.groupby('month')['monthly_revenue'].mean()\n",
    "\n",
    "# Calcular la varianza de la duración mensual del trafico\n",
    "revenue_variance_by_month = combined_data_with_plans.groupby('month')['monthly_revenue'].var()\n",
    "\n",
    "# Mostrar los resultados\n",
    "print(\"Ganancia Mensual Promedio por Mes:\")\n",
    "print(average_revenue_by_month)\n",
    "print(\"\\nVarianza de la Ganancia Mensual:\")\n",
    "print(revenue_variance_by_month)"
   ]
  },
  {
   "cell_type": "markdown",
   "metadata": {},
   "source": [
    " <div class=\"alert alert-block alert-info\">\n",
    "\n",
    "<b>Respuesta del estudiante</b> <a class=\"tocSkip\"></a>\n",
    "La ganancia mensual promedio por mes disminuye a lo largo del año, tanto para el plan “surf” como para el plan “ultimate”. Esto puede indicar que la empresa tiene menos ventas o ingresos en los últimos meses del año, posiblemente por una menor demanda o una mayor competencia. El plan “ultimate” tiene una mayor ganancia mensual promedio por mes que el plan “surf” en todos los meses, lo que puede sugerir que el plan “ultimate” es más rentable y atractivo para los clientes que el plan “surf”.\n",
    "\n",
    "La varianza de la ganancia mensual también disminuye a lo largo del año, tanto para el plan “surf” como para el plan “ultimate”. Esto puede indicar que hay menos variabilidad en las ventas o ingresos entre los meses en los últimos meses del año, lo que puede reflejar una mayor estabilidad o previsibilidad. El plan “surf” tiene una mayor varianza de la ganancia mensual que el plan “ultimate” en todos los meses, lo que puede implicar que hay más riesgo o incertidumbre asociado al plan “surf” que al plan “ultimate”.\n",
    "</div> "
   ]
  },
  {
   "cell_type": "code",
   "execution_count": 44,
   "metadata": {},
   "outputs": [
    {
     "data": {
      "image/png": "[encoded data removed]",
      "text/plain": [
       "<Figure size 864x432 with 1 Axes>"
      ]
     },
     "metadata": {},
     "output_type": "display_data"
    }
   ],
   "source": [
    "# Traza un diagrama de caja para visualizar las ganancias mensualmente.\n",
    "\n",
    "# Configurar el estilo de la gráfica\n",
    "sns.set(style='whitegrid') \n",
    "plt.figure(figsize=(12, 6))\n",
    "\n",
    "# Crear el diagrama de caja para las ganancias mensuales por plan\n",
    "sns.boxplot(data=combined_data_with_plans, x='month', y='monthly_revenue', hue='plan', palette=['blue', 'red'])\n",
    "\n",
    "# Configurar etiquetas y título\n",
    "plt.title('Diagrama de Caja de Ganancias Mensuales por Plan y Mes')\n",
    "plt.xlabel('Mes')\n",
    "plt.ylabel('Ganancia Mensual')\n",
    "\n",
    "# Mostrar la gráfica\n",
    "plt.xticks(rotation=45)\n",
    "plt.legend(title='Plan', loc='upper right')\n",
    "plt.show()\n"
   ]
  },
  {
   "cell_type": "markdown",
   "metadata": {},
   "source": [
    " <div class=\"alert alert-block alert-info\">\n",
    "\n",
    "<b>Respuesta del estudiante</b> <a class=\"tocSkip\"></a>\n",
    "El gráfico muestra que el plan “ultimate” tiene unas ganancias consistentemente mayores que el plan “surf” en todos los meses. Esto significa que la empresa recibe más dinero por la venta del plan “ultimate” que por la venta del plan “surf”. El plan “ultimate” es el más caro, pero también el que ofrece más beneficios, como llamadas, mensajes y datos ilimitados. El plan “surf” es el más barato, pero también el que ofrece menos beneficios, como 50 mensajes, 500 minutos y 15 GB de datos al mes.\n",
    "\n",
    "El gráfico también muestra que las ganancias varían según el mes, tanto para el plan “ultimate” como para el plan “surf”. El mes con las mayores ganancias para el plan “ultimate” es el mes 6, mientras que el mes con las menores ganancias para el plan “surf” es el mes 2. Esto puede deberse a factores estacionales, como las vacaciones, los eventos o las condiciones climáticas, que pueden influir en la demanda de los planes.\n",
    "\n",
    "El gráfico también muestra que hay diferencias entre los planes en cuanto a la media, la dispersión y los valores atípicos de las ganancias. El plan “ultimate” tiene una mayor media y un menor rango de ganancias que el plan “surf”. Esto puede sugerir que el plan “ultimate” es más rentable y atractivo para los clientes que el plan “surf”. El plan “surf” tiene una menor media y un mayor rango de ganancias que el plan “ultimate”. Esto puede implicar que hay más riesgo o incertidumbre asociado al plan “surf” que al plan “ultimate”. El plan “surf” también tiene algunos valores atípicos, lo que indica que hay algunos meses donde las ganancias fueron mucho más altas de lo habitual.\n",
    "</div> "
   ]
  },
  {
   "cell_type": "markdown",
   "metadata": {},
   "source": [
    "#### Conclusiones sobre cómo difiere el ingreso entre los planes."
   ]
  },
  {
   "cell_type": "markdown",
   "metadata": {},
   "source": [
    " <div class=\"alert alert-block alert-info\">\n",
    "\n",
    "<b>Respuesta del estudiante</b> <a class=\"tocSkip\"></a>\n",
    "El gráfico muestra que el plan “ultimate” tiene unas ganancias consistentemente mayores que el plan “surf” en todos los meses. Esto significa que la empresa recibe más dinero por la venta del plan “ultimate” que por la venta del plan “surf”. El plan “ultimate” es el más caro, pero también el que ofrece más beneficios, como llamadas, mensajes y datos ilimitados. El plan “surf” es el más barato, pero también el que ofrece menos beneficios, como 50 mensajes, 500 minutos y 15 GB de datos al mes.\n",
    "\n",
    "El gráfico también muestra que las ganancias varían según el mes, tanto para el plan “ultimate” como para el plan “surf”. El mes con las mayores ganancias para el plan “ultimate” es el mes 6, mientras que el mes con las menores ganancias para el plan “surf” es el mes 2. Esto puede deberse a factores estacionales, como las vacaciones, los eventos o las condiciones climáticas, que pueden influir en la demanda de los planes.\n",
    "\n",
    "El gráfico también muestra que hay diferencias entre los planes en cuanto a la media, la dispersión y los valores atípicos de las ganancias. El plan “ultimate” tiene una mayor media y un menor rango de ganancias que el plan “surf”. Esto puede sugerir que el plan “ultimate” es más rentable y atractivo para los clientes que el plan “surf”. El plan “surf” tiene una menor media y un mayor rango de ganancias que el plan “ultimate”. Esto puede implicar que hay más riesgo o incertidumbre asociado al plan “surf” que al plan “ultimate”. El plan “surf” también tiene algunos valores atípicos, lo que indica que hay algunos meses donde las ganancias fueron mucho más altas de lo habitual.\n",
    "</div> "
   ]
  },
  {
   "cell_type": "markdown",
   "metadata": {},
   "source": [
    "# Probar las hipótesis estadísticas."
   ]
  },
  {
   "cell_type": "code",
   "execution_count": 46,
   "metadata": {},
   "outputs": [
    {
     "name": "stdout",
     "output_type": "stream",
     "text": [
      "Rechazamos la hipótesis nula.\n",
      "Valor p: 0.0\n"
     ]
    }
   ],
   "source": [
    "# Prueba las hipótesis\n",
    "\n",
    "# Combina los DataFrames para obtener información sobre el plan de cada usuario\n",
    "combined_data = df_megaline_users.merge(df_megaline_plans, left_on='plan', right_on='plan_name')\n",
    "\n",
    "# Calcula el ingreso mensual de cada usuario en función de su plan\n",
    "combined_data['monthly_revenue'] = combined_data['usd_monthly_pay'] + \\\n",
    "                                    (combined_data['usd_per_gb'] * (combined_data['mb_per_month_included'] / 1024) +\n",
    "                                     combined_data['usd_per_message'] * combined_data['messages_included'] +\n",
    "                                     combined_data['usd_per_minute'] * combined_data['minutes_included'])\n",
    "\n",
    "# Filtra los datos para obtener solo los ingresos de los planes Ultimate y Surf\n",
    "income_ultimate = combined_data[combined_data['plan'] == 'ultimate']['monthly_revenue']\n",
    "income_surf = combined_data[combined_data['plan'] == 'surf']['monthly_revenue']\n",
    "\n",
    "# Realiza la prueba t de dos muestras\n",
    "t_statistic, p_value = stats.ttest_ind(income_ultimate, income_surf)\n",
    "\n",
    "# Define el valor alfa\n",
    "alpha = 0.05\n",
    "\n",
    "# Compara el valor p con el valor alfa\n",
    "if p_value < alpha:\n",
    "    print(\"Rechazamos la hipótesis nula.\")\n",
    "else:\n",
    "    print(\"No rechazamos la hipótesis nula.\")\n",
    "\n",
    "# Muestra el resultado\n",
    "print(\"Valor p:\", p_value)"
   ]
  },
  {
   "cell_type": "markdown",
   "metadata": {},
   "source": [
    " <div class=\"alert alert-block alert-info\">\n",
    "\n",
    "<b>Respuesta del estudiante</b> <a class=\"tocSkip\"></a>\n",
    "Como podemos apreciar en el resultado, si podemos llegar a la conclusion de que el ingreso promedio de los usuarios de los planes `Surf` y `Ultimate` es diferente ya que en este caso, el nivel de significancia es 0.05, por lo que un valor p de 0.0 es mucho menor que ese umbral.\n",
    "</div> "
   ]
  },
  {
   "cell_type": "code",
   "execution_count": 47,
   "metadata": {},
   "outputs": [
    {
     "name": "stdout",
     "output_type": "stream",
     "text": [
      "No rechazamos la hipótesis nula. No hay evidencia suficiente para afirmar que el ingreso promedio difiere entre las dos regiones.\n",
      "Valor p: 0.13316065368255703\n"
     ]
    }
   ],
   "source": [
    "# Prueba las hipótesis\n",
    "\n",
    "# Combina los DataFrames para obtener información sobre el plan de cada usuario\n",
    "combined_data = df_megaline_users.merge(df_megaline_plans, left_on='plan', right_on='plan_name')\n",
    "\n",
    "# Calcula el ingreso mensual de cada usuario en función de su plan\n",
    "combined_data['monthly_revenue'] = combined_data['usd_monthly_pay'] + \\\n",
    "                                    (combined_data['usd_per_gb'] * (combined_data['mb_per_month_included'] / 1024) +\n",
    "                                     combined_data['usd_per_message'] * combined_data['messages_included'] +\n",
    "                                     combined_data['usd_per_minute'] * combined_data['minutes_included'])\n",
    "\n",
    "# Filtra los datos para obtener los ingresos de los usuarios del área \"NY-NJ\"\n",
    "income_nynj = combined_data[combined_data['city'].str.contains('NY-NJ')]['monthly_revenue']\n",
    "\n",
    "# Filtra los datos para obtener los ingresos de los usuarios de otras regiones\n",
    "income_other = combined_data[~combined_data['city'].str.contains('NY-NJ')]['monthly_revenue']\n",
    "\n",
    "# Realiza la prueba t de dos muestras\n",
    "t_statistic, p_value = stats.ttest_ind(income_nynj, income_other)\n",
    "\n",
    "# Define el valor alfa\n",
    "alpha = 0.05\n",
    "\n",
    "# Compara el valor p con el valor alfa\n",
    "if p_value < alpha:\n",
    "    print(\"Rechazamos la hipótesis nula. El ingreso promedio de los usuarios del área NY-NJ es diferente al de otras regiones.\")\n",
    "else:\n",
    "    print(\"No rechazamos la hipótesis nula. No hay evidencia suficiente para afirmar que el ingreso promedio difiere entre las dos regiones.\")\n",
    "\n",
    "# Muestra el resultado\n",
    "print(\"Valor p:\", p_value)\n"
   ]
  },
  {
   "cell_type": "markdown",
   "metadata": {},
   "source": [
    " <div class=\"alert alert-block alert-info\">\n",
    "\n",
    "<b>Respuesta del estudiante</b> <a class=\"tocSkip\"></a>\n",
    "El resultado de la prueba indica que no rechazamos la hipótesis nula y el valor p es 0.13316065368255703, esto significa que no hay evidencia suficiente para afirmar que el ingreso promedio de los usuarios del área \"NY-NJ\" difiere significativamente del ingreso promedio de los usuarios de otras regiones. Esto sugiere que, en promedio, no hay una diferencia significativa en los ingresos entre estas dos categorías de usuarios basados en su ubicación en \"NY-NJ\" o en otras regiones.\n",
    "</div> "
   ]
  },
  {
   "cell_type": "markdown",
   "metadata": {},
   "source": [
    "# Conclusión general"
   ]
  },
  {
   "cell_type": "markdown",
   "metadata": {},
   "source": [
    " <div class=\"alert alert-block alert-info\">\n",
    "\n",
    "<b>Respuesta del estudiante</b> <a class=\"tocSkip\"></a>\n",
    "Las conclusiones mas importantes a las que he llegado han sido que la primera hipotesis que probamos si fue positiva el nivel de ingresos de ambos planes es diferente, si hablamos de manera promediada por usuario, la segunda hipotesis que probamos donde se involucra la comparacion por region no tuvo evidencia suficiente para llegar a una hipotesis concluyente, luego viniendo desde el inicio, tuve algunos retos como fueron el cargar los 5 dataframes juntos, el procesarlos a pesar de que era una data sumamente limpia, pero pude ver que realmente de todos modos tenia algunos detalles de importancia que debian ser trabajados para poder proceder con la investigacion, luego al observar el comportamiento de los usuarios en cuanto a `mensajes`, `internet`, `llamadas` e `ingresos`, pude tener una idea mas clara de cual de los 2 planes le ofrece mas dividendos a `Megaline`, al usar los diferentes tipos de graficos fue mas que evidente que el plan `Ultimate`, muestra un comportamiento de ingresos mas estable y al alza que el plan `Surf`, por lo cual recomiendo que la inversion en publicidad se haga a este plan, lo cual ofreceria una mayor ganancia.\n",
    "</div> "
   ]
  },
  {
   "cell_type": "markdown",
   "metadata": {},
   "source": [
    " "
   ]
  }
 ],
 "metadata": {
  "ExecuteTimeLog": [
   {
    "duration": 828,
    "start_time": "2021-11-16T09:21:11.304Z"
   },
   {
    "duration": 893,
    "start_time": "2021-11-16T09:21:17.728Z"
   },
   {
    "duration": 1150,
    "start_time": "2021-11-16T09:21:29.568Z"
   },
   {
    "duration": 3,
    "start_time": "2021-11-16T09:24:14.495Z"
   },
   {
    "duration": 120,
    "start_time": "2021-11-16T09:24:46.630Z"
   },
   {
    "duration": 3,
    "start_time": "2021-11-16T09:28:27.882Z"
   },
   {
    "duration": 4,
    "start_time": "2021-11-16T09:29:54.281Z"
   },
   {
    "duration": 3,
    "start_time": "2021-11-16T09:30:45.936Z"
   },
   {
    "duration": 4,
    "start_time": "2021-11-16T09:31:06.300Z"
   },
   {
    "duration": 113,
    "start_time": "2021-11-16T09:31:37.208Z"
   },
   {
    "duration": 143,
    "start_time": "2021-11-16T09:31:48.656Z"
   },
   {
    "duration": 98,
    "start_time": "2021-11-16T09:31:55.678Z"
   },
   {
    "duration": 3,
    "start_time": "2021-11-16T09:32:08.535Z"
   },
   {
    "duration": 111,
    "start_time": "2021-11-16T09:32:10.120Z"
   },
   {
    "duration": 3,
    "start_time": "2021-11-16T09:32:15.732Z"
   },
   {
    "duration": 4,
    "start_time": "2021-11-16T09:32:29.423Z"
   },
   {
    "duration": 3,
    "start_time": "2021-11-16T10:03:03.074Z"
   },
   {
    "duration": 3,
    "start_time": "2021-11-16T10:10:01.288Z"
   },
   {
    "duration": 3,
    "start_time": "2021-11-16T10:10:46.923Z"
   },
   {
    "duration": 121,
    "start_time": "2021-11-16T10:37:46.494Z"
   },
   {
    "duration": 125,
    "start_time": "2021-11-16T10:38:20.632Z"
   },
   {
    "duration": 112,
    "start_time": "2021-11-16T10:46:53.001Z"
   },
   {
    "duration": 110,
    "start_time": "2021-11-16T10:48:25.775Z"
   },
   {
    "duration": 3,
    "start_time": "2021-11-16T10:50:18.720Z"
   },
   {
    "duration": 4,
    "start_time": "2021-11-16T10:50:37.649Z"
   },
   {
    "duration": 2,
    "start_time": "2021-11-16T10:50:51.884Z"
   },
   {
    "duration": 3,
    "start_time": "2021-11-16T10:51:56.237Z"
   },
   {
    "duration": 101,
    "start_time": "2021-11-16T10:53:13.791Z"
   },
   {
    "duration": 3,
    "start_time": "2021-11-16T10:55:59.186Z"
   },
   {
    "duration": 3,
    "start_time": "2021-11-16T10:56:10.751Z"
   },
   {
    "duration": 3,
    "start_time": "2021-11-16T10:56:49.038Z"
   },
   {
    "duration": 3,
    "start_time": "2021-11-16T10:56:49.174Z"
   },
   {
    "duration": 4,
    "start_time": "2021-11-16T10:56:49.414Z"
   },
   {
    "duration": 3,
    "start_time": "2021-11-16T10:56:49.680Z"
   },
   {
    "duration": 3,
    "start_time": "2021-11-16T10:56:50.370Z"
   },
   {
    "duration": 114,
    "start_time": "2021-11-16T10:59:34.518Z"
   },
   {
    "duration": 3,
    "start_time": "2021-11-16T11:01:41.201Z"
   },
   {
    "duration": 116,
    "start_time": "2021-11-16T11:01:48.754Z"
   },
   {
    "duration": 3,
    "start_time": "2021-11-16T11:02:16.685Z"
   },
   {
    "duration": 3,
    "start_time": "2021-11-16T11:02:19.479Z"
   },
   {
    "duration": 3,
    "start_time": "2021-11-16T11:02:47.067Z"
   },
   {
    "duration": 3,
    "start_time": "2021-11-16T11:02:49.353Z"
   },
   {
    "duration": 3,
    "start_time": "2021-11-16T11:03:07.835Z"
   },
   {
    "duration": 3,
    "start_time": "2021-11-16T11:03:07.953Z"
   },
   {
    "duration": 112,
    "start_time": "2021-11-16T11:07:52.072Z"
   },
   {
    "duration": 187,
    "start_time": "2021-11-16T11:09:23.468Z"
   },
   {
    "duration": 4,
    "start_time": "2021-11-16T11:10:01.455Z"
   },
   {
    "duration": 3,
    "start_time": "2021-11-16T11:10:05.069Z"
   },
   {
    "duration": 4,
    "start_time": "2021-11-16T11:10:13.376Z"
   },
   {
    "duration": 3,
    "start_time": "2021-11-16T11:10:14.434Z"
   },
   {
    "duration": 3,
    "start_time": "2021-11-16T11:10:22.853Z"
   },
   {
    "duration": 4,
    "start_time": "2021-11-16T11:27:29.279Z"
   },
   {
    "duration": 4,
    "start_time": "2021-11-16T11:29:08.919Z"
   },
   {
    "duration": 118,
    "start_time": "2021-11-16T11:29:46.703Z"
   },
   {
    "duration": 437,
    "start_time": "2021-11-16T11:36:02.181Z"
   },
   {
    "duration": 157,
    "start_time": "2021-11-16T11:36:14.388Z"
   },
   {
    "duration": 207,
    "start_time": "2021-11-16T11:47:15.898Z"
   },
   {
    "duration": 3,
    "start_time": "2021-11-16T11:53:52.092Z"
   },
   {
    "duration": 3,
    "start_time": "2021-11-16T11:53:52.236Z"
   },
   {
    "duration": 3,
    "start_time": "2021-11-16T11:59:12.005Z"
   },
   {
    "duration": 112,
    "start_time": "2021-11-16T12:00:33.446Z"
   },
   {
    "duration": 3,
    "start_time": "2021-11-16T12:02:14.453Z"
   },
   {
    "duration": 3,
    "start_time": "2021-11-16T12:02:39.512Z"
   },
   {
    "duration": 106,
    "start_time": "2021-11-16T12:03:03.460Z"
   },
   {
    "duration": 3,
    "start_time": "2021-11-17T20:37:21.139Z"
   },
   {
    "duration": 3,
    "start_time": "2021-11-17T20:37:22.229Z"
   },
   {
    "duration": 3,
    "start_time": "2021-11-17T20:38:38.806Z"
   },
   {
    "duration": 3,
    "start_time": "2021-11-17T20:38:41.958Z"
   },
   {
    "duration": 3,
    "start_time": "2021-11-17T20:43:46.551Z"
   },
   {
    "duration": 4,
    "start_time": "2021-11-17T20:58:21.835Z"
   },
   {
    "duration": 3,
    "start_time": "2021-11-17T20:59:21.872Z"
   },
   {
    "duration": 4,
    "start_time": "2021-11-17T20:59:45.352Z"
   },
   {
    "duration": 4,
    "start_time": "2021-11-17T20:59:49.646Z"
   },
   {
    "duration": 159,
    "start_time": "2021-11-17T21:02:26.949Z"
   },
   {
    "duration": 3,
    "start_time": "2021-11-17T21:03:53.461Z"
   },
   {
    "duration": 3,
    "start_time": "2021-11-17T21:03:53.694Z"
   },
   {
    "duration": 3,
    "start_time": "2021-11-17T21:05:28.145Z"
   },
   {
    "duration": 116,
    "start_time": "2021-11-17T21:05:57.787Z"
   },
   {
    "duration": 3,
    "start_time": "2021-11-17T21:06:37.993Z"
   },
   {
    "duration": 3,
    "start_time": "2021-11-17T21:06:38.261Z"
   },
   {
    "duration": 3,
    "start_time": "2021-11-17T21:11:54.358Z"
   },
   {
    "duration": 3,
    "start_time": "2021-11-17T21:12:43.846Z"
   },
   {
    "duration": 4,
    "start_time": "2021-11-17T21:13:08.773Z"
   },
   {
    "duration": 3,
    "start_time": "2021-11-17T21:14:44.441Z"
   },
   {
    "duration": 3,
    "start_time": "2021-11-17T21:15:42.059Z"
   },
   {
    "duration": 4,
    "start_time": "2021-11-17T21:15:51.995Z"
   },
   {
    "duration": 3,
    "start_time": "2021-11-17T21:15:53.923Z"
   },
   {
    "duration": 3,
    "start_time": "2021-11-17T21:15:55.282Z"
   },
   {
    "duration": 3,
    "start_time": "2021-11-17T21:16:28.492Z"
   },
   {
    "duration": 3,
    "start_time": "2021-11-17T21:16:32.603Z"
   },
   {
    "duration": 3,
    "start_time": "2021-11-17T21:17:06.941Z"
   },
   {
    "duration": 98,
    "start_time": "2021-11-17T21:18:05.733Z"
   },
   {
    "duration": 4,
    "start_time": "2021-11-17T21:21:35.255Z"
   },
   {
    "duration": 3,
    "start_time": "2021-11-17T21:21:37.804Z"
   },
   {
    "duration": 4,
    "start_time": "2021-11-17T21:23:06.071Z"
   },
   {
    "duration": 3,
    "start_time": "2021-11-17T21:23:24.799Z"
   },
   {
    "duration": 3,
    "start_time": "2021-11-17T21:23:32.591Z"
   },
   {
    "duration": 98,
    "start_time": "2021-11-17T21:28:31.559Z"
   },
   {
    "duration": 3,
    "start_time": "2021-11-17T21:28:45.448Z"
   },
   {
    "duration": 3,
    "start_time": "2021-11-17T21:29:17.303Z"
   },
   {
    "duration": 3,
    "start_time": "2021-11-17T21:29:29.617Z"
   },
   {
    "duration": 3,
    "start_time": "2021-11-17T21:29:32.681Z"
   },
   {
    "duration": 3,
    "start_time": "2021-11-17T21:36:11.474Z"
   },
   {
    "duration": 3,
    "start_time": "2021-11-17T21:36:14.791Z"
   },
   {
    "duration": 3,
    "start_time": "2021-11-17T21:36:53.943Z"
   },
   {
    "duration": 3,
    "start_time": "2021-11-17T21:36:56.165Z"
   },
   {
    "duration": 4,
    "start_time": "2021-11-17T21:37:16.590Z"
   },
   {
    "duration": 3,
    "start_time": "2021-11-17T21:37:22.702Z"
   },
   {
    "duration": 4,
    "start_time": "2021-11-17T21:38:03.479Z"
   },
   {
    "duration": 3,
    "start_time": "2021-11-17T21:38:08.601Z"
   },
   {
    "duration": 3,
    "start_time": "2021-11-17T21:38:12.928Z"
   },
   {
    "duration": 3,
    "start_time": "2021-11-17T21:38:48.896Z"
   },
   {
    "duration": 2,
    "start_time": "2021-11-17T21:38:49.171Z"
   },
   {
    "duration": 4,
    "start_time": "2021-11-17T21:39:57.889Z"
   },
   {
    "duration": 3,
    "start_time": "2021-11-17T21:39:58.057Z"
   },
   {
    "duration": 3,
    "start_time": "2021-11-17T21:41:20.108Z"
   },
   {
    "duration": 3,
    "start_time": "2021-11-17T21:41:20.629Z"
   },
   {
    "duration": 3,
    "start_time": "2021-11-17T21:42:49.136Z"
   },
   {
    "duration": 3,
    "start_time": "2021-11-17T21:43:15.137Z"
   },
   {
    "duration": 4,
    "start_time": "2021-11-17T21:43:16.766Z"
   },
   {
    "duration": 4,
    "start_time": "2021-11-17T21:43:31.711Z"
   },
   {
    "duration": 3,
    "start_time": "2021-11-17T21:43:36.312Z"
   },
   {
    "duration": 4,
    "start_time": "2021-11-17T21:45:08.825Z"
   },
   {
    "duration": 4,
    "start_time": "2021-11-17T21:45:10.119Z"
   },
   {
    "duration": 4,
    "start_time": "2021-11-17T21:45:13.748Z"
   },
   {
    "duration": 3,
    "start_time": "2021-11-17T21:45:22.219Z"
   },
   {
    "duration": 3,
    "start_time": "2021-11-17T21:45:33.412Z"
   },
   {
    "duration": 2,
    "start_time": "2021-11-17T21:46:01.885Z"
   },
   {
    "duration": 3,
    "start_time": "2021-11-17T21:46:03.628Z"
   },
   {
    "duration": 107,
    "start_time": "2021-11-17T21:47:32.512Z"
   },
   {
    "duration": 103,
    "start_time": "2021-11-17T21:50:36.243Z"
   },
   {
    "duration": 3,
    "start_time": "2021-11-18T06:28:31.440Z"
   },
   {
    "duration": 3,
    "start_time": "2021-11-18T06:29:00.168Z"
   },
   {
    "duration": 3,
    "start_time": "2021-11-18T06:31:27.008Z"
   },
   {
    "duration": 2,
    "start_time": "2021-11-18T06:35:34.288Z"
   },
   {
    "duration": 2,
    "start_time": "2021-11-18T06:38:04.527Z"
   }
  ],
  "kernelspec": {
   "display_name": "Python 3 (ipykernel)",
   "language": "python",
   "name": "python3"
  },
  "language_info": {
   "codemirror_mode": {
    "name": "ipython",
    "version": 3
   },
   "file_extension": ".py",
   "mimetype": "text/x-python",
   "name": "python",
   "nbconvert_exporter": "python",
   "pygments_lexer": "ipython3",
   "version": "3.10.9"
  },
  "toc": {
   "base_numbering": 1,
   "nav_menu": {},
   "number_sections": true,
   "sideBar": true,
   "skip_h1_title": false,
   "title_cell": "Table of Contents",
   "title_sidebar": "Contents",
   "toc_cell": false,
   "toc_position": {
    "height": "calc(100% - 180px)",
    "left": "10px",
    "top": "150px",
    "width": "496px"
   },
   "toc_section_display": true,
   "toc_window_display": true
  }
 },
 "nbformat": 4,
 "nbformat_minor": 2
}
