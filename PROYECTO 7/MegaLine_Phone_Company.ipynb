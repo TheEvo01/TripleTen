{
 "cells": [
  {
   "cell_type": "markdown",
   "metadata": {},
   "source": [
    "# Descripcion\n",
    "\n",
    "La compañía móvil Megaline no está satisfecha al ver que muchos de sus clientes utilizan planes heredados. Quieren desarrollar un modelo que pueda analizar el comportamiento de los clientes y recomendar uno de los nuevos planes de Megaline: Smart o Ultra.\n",
    "Tienes acceso a los datos de comportamiento de los suscriptores que ya se han cambiado a los planes nuevos (del proyecto del curso de Análisis estadístico de datos). Para esta tarea de clasificación debes crear un modelo que escoja el plan correcto. Como ya hiciste el paso de procesar los datos, puedes lanzarte directo a crear el modelo.\n",
    "Desarrolla un modelo con la mayor exactitud posible. En este proyecto, el umbral de exactitud es 0.75. Usa el dataset para comprobar la exactitud."
   ]
  },
  {
   "cell_type": "markdown",
   "metadata": {},
   "source": [
    "<div class=\"alert alert-block alert-info\">\n",
    "\n",
    "<b>Respuesta del estudiante</b> <a class=\"tocSkip\"></a>\n",
    "El proyecto estara enfocado en encontrar el modelo de prediccion que mas se ajuste a la tarea que `Megaline` nos ha asignado, veremos como los diferentes proyectos se desenvuelven usando este dataframe, mientras los ajustaremos y evaluaremos para escoger el indicado para la tarea requerida, al final haremos una prueba de cordura para estar `100%` seguro de haber escogido el modelo adecuado para la tarea y poder llegar a las conclusiones necesarias para completar el trabajo adecuadamente.\n",
    "</div>"
   ]
  },
  {
   "cell_type": "markdown",
   "metadata": {},
   "source": [
    "## Inicialización"
   ]
  },
  {
   "cell_type": "code",
   "execution_count": 1,
   "metadata": {},
   "outputs": [],
   "source": [
    "# Cargar todas las librerías\n",
    "import pandas as pd\n",
    "import numpy as np\n",
    "from sklearn.model_selection import train_test_split\n",
    "from sklearn.tree import DecisionTreeClassifier\n",
    "from sklearn.linear_model import LogisticRegression\n",
    "from sklearn.ensemble import RandomForestClassifier\n",
    "from sklearn.model_selection import GridSearchCV"
   ]
  },
  {
   "cell_type": "markdown",
   "metadata": {},
   "source": [
    "## Cargar los Datos"
   ]
  },
  {
   "cell_type": "code",
   "execution_count": 2,
   "metadata": {},
   "outputs": [],
   "source": [
    "# Carga el archivo de datos en un DataFrame\n",
    "\n",
    "try:\n",
    "    df = pd.read_csv('users_behavior.csv')\n",
    "except:\n",
    "    df = pd.read_csv('/datasets/users_behavior.csv')"
   ]
  },
  {
   "cell_type": "markdown",
   "metadata": {},
   "source": [
    "## Explorar datos iniciales"
   ]
  },
  {
   "cell_type": "markdown",
   "metadata": {},
   "source": [
    "La información dada es la siguiente:\n",
    "- `сalls` — número de llamadas,\n",
    "- `minutes` — duración total de la llamada en minutos,\n",
    "- `messages` — número de mensajes de texto,\n",
    "- `mb_used` — Tráfico de Internet utilizado en MB,\n",
    "- `is_ultra` — plan para el mes actual (Ultra - 1, Smart - 0)."
   ]
  },
  {
   "cell_type": "markdown",
   "metadata": {},
   "source": [
    "<div class=\"alert alert-block alert-info\">\n",
    "\n",
    "<b>Respuesta del estudiante</b> <a class=\"tocSkip\"></a>\n",
    "Aca hemos cargado las librerias necesarias para el proyecto, cargamos el dataframe que usaremos y definimos el tipo de informacion que contiene el dataframe a ser usado.\n",
    "</div>"
   ]
  },
  {
   "cell_type": "code",
   "execution_count": 3,
   "metadata": {},
   "outputs": [
    {
     "data": {
      "text/plain": [
       "(3214, 5)"
      ]
     },
     "execution_count": 3,
     "metadata": {},
     "output_type": "execute_result"
    }
   ],
   "source": [
    "# imprime la información general/resumida sobre el DataFrame\n",
    "\n",
    "df.shape"
   ]
  },
  {
   "cell_type": "code",
   "execution_count": 4,
   "metadata": {},
   "outputs": [
    {
     "data": {
      "text/html": [
       "<div>\n",
       "<style scoped>\n",
       "    .dataframe tbody tr th:only-of-type {\n",
       "        vertical-align: middle;\n",
       "    }\n",
       "\n",
       "    .dataframe tbody tr th {\n",
       "        vertical-align: top;\n",
       "    }\n",
       "\n",
       "    .dataframe thead th {\n",
       "        text-align: right;\n",
       "    }\n",
       "</style>\n",
       "<table border=\"1\" class=\"dataframe\">\n",
       "  <thead>\n",
       "    <tr style=\"text-align: right;\">\n",
       "      <th></th>\n",
       "      <th>calls</th>\n",
       "      <th>minutes</th>\n",
       "      <th>messages</th>\n",
       "      <th>mb_used</th>\n",
       "      <th>is_ultra</th>\n",
       "    </tr>\n",
       "  </thead>\n",
       "  <tbody>\n",
       "    <tr>\n",
       "      <th>0</th>\n",
       "      <td>40.0</td>\n",
       "      <td>311.90</td>\n",
       "      <td>83.0</td>\n",
       "      <td>19915.42</td>\n",
       "      <td>0</td>\n",
       "    </tr>\n",
       "    <tr>\n",
       "      <th>1</th>\n",
       "      <td>85.0</td>\n",
       "      <td>516.75</td>\n",
       "      <td>56.0</td>\n",
       "      <td>22696.96</td>\n",
       "      <td>0</td>\n",
       "    </tr>\n",
       "    <tr>\n",
       "      <th>2</th>\n",
       "      <td>77.0</td>\n",
       "      <td>467.66</td>\n",
       "      <td>86.0</td>\n",
       "      <td>21060.45</td>\n",
       "      <td>0</td>\n",
       "    </tr>\n",
       "    <tr>\n",
       "      <th>3</th>\n",
       "      <td>106.0</td>\n",
       "      <td>745.53</td>\n",
       "      <td>81.0</td>\n",
       "      <td>8437.39</td>\n",
       "      <td>1</td>\n",
       "    </tr>\n",
       "    <tr>\n",
       "      <th>4</th>\n",
       "      <td>66.0</td>\n",
       "      <td>418.74</td>\n",
       "      <td>1.0</td>\n",
       "      <td>14502.75</td>\n",
       "      <td>0</td>\n",
       "    </tr>\n",
       "    <tr>\n",
       "      <th>5</th>\n",
       "      <td>58.0</td>\n",
       "      <td>344.56</td>\n",
       "      <td>21.0</td>\n",
       "      <td>15823.37</td>\n",
       "      <td>0</td>\n",
       "    </tr>\n",
       "    <tr>\n",
       "      <th>6</th>\n",
       "      <td>57.0</td>\n",
       "      <td>431.64</td>\n",
       "      <td>20.0</td>\n",
       "      <td>3738.90</td>\n",
       "      <td>1</td>\n",
       "    </tr>\n",
       "    <tr>\n",
       "      <th>7</th>\n",
       "      <td>15.0</td>\n",
       "      <td>132.40</td>\n",
       "      <td>6.0</td>\n",
       "      <td>21911.60</td>\n",
       "      <td>0</td>\n",
       "    </tr>\n",
       "    <tr>\n",
       "      <th>8</th>\n",
       "      <td>7.0</td>\n",
       "      <td>43.39</td>\n",
       "      <td>3.0</td>\n",
       "      <td>2538.67</td>\n",
       "      <td>1</td>\n",
       "    </tr>\n",
       "    <tr>\n",
       "      <th>9</th>\n",
       "      <td>90.0</td>\n",
       "      <td>665.41</td>\n",
       "      <td>38.0</td>\n",
       "      <td>17358.61</td>\n",
       "      <td>0</td>\n",
       "    </tr>\n",
       "  </tbody>\n",
       "</table>\n",
       "</div>"
      ],
      "text/plain": [
       "   calls  minutes  messages   mb_used  is_ultra\n",
       "0   40.0   311.90      83.0  19915.42         0\n",
       "1   85.0   516.75      56.0  22696.96         0\n",
       "2   77.0   467.66      86.0  21060.45         0\n",
       "3  106.0   745.53      81.0   8437.39         1\n",
       "4   66.0   418.74       1.0  14502.75         0\n",
       "5   58.0   344.56      21.0  15823.37         0\n",
       "6   57.0   431.64      20.0   3738.90         1\n",
       "7   15.0   132.40       6.0  21911.60         0\n",
       "8    7.0    43.39       3.0   2538.67         1\n",
       "9   90.0   665.41      38.0  17358.61         0"
      ]
     },
     "execution_count": 4,
     "metadata": {},
     "output_type": "execute_result"
    }
   ],
   "source": [
    "# imprimir una muestra de datos\n",
    "\n",
    "df.head(10)"
   ]
  },
  {
   "cell_type": "code",
   "execution_count": 5,
   "metadata": {},
   "outputs": [
    {
     "name": "stdout",
     "output_type": "stream",
     "text": [
      "Valores nulos por columna:\n"
     ]
    },
    {
     "data": {
      "text/plain": [
       "calls       0\n",
       "minutes     0\n",
       "messages    0\n",
       "mb_used     0\n",
       "is_ultra    0\n",
       "dtype: int64"
      ]
     },
     "execution_count": 5,
     "metadata": {},
     "output_type": "execute_result"
    }
   ],
   "source": [
    "# Verificar si hay valores nulos en cada columna\n",
    "\n",
    "null_values = df.isnull().sum()\n",
    "\n",
    "print(\"Valores nulos por columna:\")\n",
    "null_values"
   ]
  },
  {
   "cell_type": "markdown",
   "metadata": {},
   "source": [
    "<div class=\"alert alert-block alert-info\">\n",
    "\n",
    "<b>Respuesta del estudiante</b> <a class=\"tocSkip\"></a>\n",
    "Como podemos ver no hay valores nulos existente en el dataframe, por lo cual procederemos a por conveniencia ajustar el tipo de datos contenidos en este, por ejemplo el hecho de que las columnas `calls` y `messages` no tengan valores enteros debemos corregirlo para mayor facilidad de uso, al igual que en el caso de las columnas `minutes` y `mb_used`, estas las redondearemos hacia arriba para trabajar unicamente con numeros enteros.\n",
    "</div>"
   ]
  },
  {
   "cell_type": "code",
   "execution_count": 6,
   "metadata": {},
   "outputs": [
    {
     "data": {
      "text/html": [
       "<div>\n",
       "<style scoped>\n",
       "    .dataframe tbody tr th:only-of-type {\n",
       "        vertical-align: middle;\n",
       "    }\n",
       "\n",
       "    .dataframe tbody tr th {\n",
       "        vertical-align: top;\n",
       "    }\n",
       "\n",
       "    .dataframe thead th {\n",
       "        text-align: right;\n",
       "    }\n",
       "</style>\n",
       "<table border=\"1\" class=\"dataframe\">\n",
       "  <thead>\n",
       "    <tr style=\"text-align: right;\">\n",
       "      <th></th>\n",
       "      <th>calls</th>\n",
       "      <th>minutes</th>\n",
       "      <th>messages</th>\n",
       "      <th>mb_used</th>\n",
       "      <th>is_ultra</th>\n",
       "    </tr>\n",
       "  </thead>\n",
       "  <tbody>\n",
       "    <tr>\n",
       "      <th>0</th>\n",
       "      <td>40</td>\n",
       "      <td>312</td>\n",
       "      <td>83</td>\n",
       "      <td>19916</td>\n",
       "      <td>0</td>\n",
       "    </tr>\n",
       "    <tr>\n",
       "      <th>1</th>\n",
       "      <td>85</td>\n",
       "      <td>517</td>\n",
       "      <td>56</td>\n",
       "      <td>22697</td>\n",
       "      <td>0</td>\n",
       "    </tr>\n",
       "    <tr>\n",
       "      <th>2</th>\n",
       "      <td>77</td>\n",
       "      <td>468</td>\n",
       "      <td>86</td>\n",
       "      <td>21061</td>\n",
       "      <td>0</td>\n",
       "    </tr>\n",
       "    <tr>\n",
       "      <th>3</th>\n",
       "      <td>106</td>\n",
       "      <td>746</td>\n",
       "      <td>81</td>\n",
       "      <td>8438</td>\n",
       "      <td>1</td>\n",
       "    </tr>\n",
       "    <tr>\n",
       "      <th>4</th>\n",
       "      <td>66</td>\n",
       "      <td>419</td>\n",
       "      <td>1</td>\n",
       "      <td>14503</td>\n",
       "      <td>0</td>\n",
       "    </tr>\n",
       "    <tr>\n",
       "      <th>5</th>\n",
       "      <td>58</td>\n",
       "      <td>345</td>\n",
       "      <td>21</td>\n",
       "      <td>15824</td>\n",
       "      <td>0</td>\n",
       "    </tr>\n",
       "    <tr>\n",
       "      <th>6</th>\n",
       "      <td>57</td>\n",
       "      <td>432</td>\n",
       "      <td>20</td>\n",
       "      <td>3739</td>\n",
       "      <td>1</td>\n",
       "    </tr>\n",
       "    <tr>\n",
       "      <th>7</th>\n",
       "      <td>15</td>\n",
       "      <td>133</td>\n",
       "      <td>6</td>\n",
       "      <td>21912</td>\n",
       "      <td>0</td>\n",
       "    </tr>\n",
       "    <tr>\n",
       "      <th>8</th>\n",
       "      <td>7</td>\n",
       "      <td>44</td>\n",
       "      <td>3</td>\n",
       "      <td>2539</td>\n",
       "      <td>1</td>\n",
       "    </tr>\n",
       "    <tr>\n",
       "      <th>9</th>\n",
       "      <td>90</td>\n",
       "      <td>666</td>\n",
       "      <td>38</td>\n",
       "      <td>17359</td>\n",
       "      <td>0</td>\n",
       "    </tr>\n",
       "  </tbody>\n",
       "</table>\n",
       "</div>"
      ],
      "text/plain": [
       "   calls  minutes  messages  mb_used  is_ultra\n",
       "0     40      312        83    19916         0\n",
       "1     85      517        56    22697         0\n",
       "2     77      468        86    21061         0\n",
       "3    106      746        81     8438         1\n",
       "4     66      419         1    14503         0\n",
       "5     58      345        21    15824         0\n",
       "6     57      432        20     3739         1\n",
       "7     15      133         6    21912         0\n",
       "8      7       44         3     2539         1\n",
       "9     90      666        38    17359         0"
      ]
     },
     "execution_count": 6,
     "metadata": {},
     "output_type": "execute_result"
    }
   ],
   "source": [
    "# Ajustar los tipos de datos y redondear las columnas\n",
    "\n",
    "df['calls'] = df['calls'].astype(int)\n",
    "df['messages'] = df['messages'].astype(int)\n",
    "df['minutes'] = np.ceil(df['minutes']).astype(int)  # Redondear hacia arriba\n",
    "df['mb_used'] = np.ceil(df['mb_used']).astype(int)  # Redondear hacia arriba\n",
    "\n",
    "# Mostrar las primeras filas del DataFrame para verificar los cambios\n",
    "df.head(10)"
   ]
  },
  {
   "cell_type": "markdown",
   "metadata": {},
   "source": [
    "<div class=\"alert alert-block alert-info\">\n",
    "\n",
    "<b>Respuesta del estudiante, al comentario del revisor</b> <a class=\"tocSkip\"></a>\n",
    "Aca he corregido la forma de aplicar la funcion `np.ceil` usandola directamente en las columnas, sin usar el metodo `apply` como se me requirio.\n",
    "</div>"
   ]
  },
  {
   "cell_type": "markdown",
   "metadata": {},
   "source": [
    "## Segmentacion Dataframe antes de trabajar con los modelos predictivos"
   ]
  },
  {
   "cell_type": "code",
   "execution_count": 7,
   "metadata": {},
   "outputs": [
    {
     "name": "stdout",
     "output_type": "stream",
     "text": [
      "Entrenamiento: (1928, 5)\n",
      "Validación: (643, 5)\n",
      "Pruebas: (643, 5)\n"
     ]
    }
   ],
   "source": [
    "# Dividir el DataFrame en conjunto de entrenamiento (60%), validación (20%) y pruebas (20%)\n",
    "\n",
    "train_df, test_df = train_test_split(df, test_size=0.4, random_state=42)\n",
    "validation_df, test_df = train_test_split(test_df, test_size=0.5, random_state=42)\n",
    "\n",
    "# Verificar las formas (tamaños) de los conjuntos resultantes\n",
    "print(\"Entrenamiento:\", train_df.shape)\n",
    "print(\"Validación:\", validation_df.shape)\n",
    "print(\"Pruebas:\", test_df.shape)"
   ]
  },
  {
   "cell_type": "markdown",
   "metadata": {},
   "source": [
    "<div class=\"alert alert-block alert-info\">\n",
    "\n",
    "<b>Respuesta del estudiante</b> <a class=\"tocSkip\"></a>\n",
    "La segmentacion que fue realizada en los datos cumple con lo aprendido previamente para estandarizar los resultados, dividir el `dataframe` en partes `3:1:1`, en este caso `60%: Entrenamiento`, `20%: Validacion` y `20%: Pruebas`, ahora vamos a investigar la calidad de los diferentes modelos aprendidos para saber con cual podriamos seleccionar que nos ayude a cumplir el cometido de la mejor manera posible.\n",
    "</div>"
   ]
  },
  {
   "cell_type": "markdown",
   "metadata": {},
   "source": [
    "## Elegir modelos y configurar hiperparámetros"
   ]
  },
  {
   "cell_type": "code",
   "execution_count": 8,
   "metadata": {},
   "outputs": [
    {
     "data": {
      "text/plain": [
       "DecisionTreeClassifier(random_state=42)"
      ]
     },
     "execution_count": 8,
     "metadata": {},
     "output_type": "execute_result"
    }
   ],
   "source": [
    "# Crear un modelo de árbol de decisión para clasificación\n",
    "decision_tree_classifier = DecisionTreeClassifier(random_state=42)\n",
    "\n",
    "# Entrenar el modelo con train_df\n",
    "decision_tree_classifier.fit(train_df.drop('is_ultra', axis=1), train_df['is_ultra'])\n",
    "\n",
    "# El modelo está entrenado y listo para su uso"
   ]
  },
  {
   "cell_type": "code",
   "execution_count": 9,
   "metadata": {},
   "outputs": [
    {
     "data": {
      "text/plain": [
       "LogisticRegression(random_state=42)"
      ]
     },
     "execution_count": 9,
     "metadata": {},
     "output_type": "execute_result"
    }
   ],
   "source": [
    "# Crear un modelo de regresión logística\n",
    "logistic_regression = LogisticRegression(random_state=42)\n",
    "\n",
    "# Entrenar el modelo con train_df\n",
    "logistic_regression.fit(train_df.drop('is_ultra', axis=1), train_df['is_ultra'])\n",
    "\n",
    "# El modelo está entrenado y listo para su uso"
   ]
  },
  {
   "cell_type": "code",
   "execution_count": 10,
   "metadata": {},
   "outputs": [
    {
     "data": {
      "text/plain": [
       "RandomForestClassifier(random_state=42)"
      ]
     },
     "execution_count": 10,
     "metadata": {},
     "output_type": "execute_result"
    }
   ],
   "source": [
    "# Crear un modelo de bosque aleatorio para clasificación\n",
    "random_forest_classifier = RandomForestClassifier(random_state=42)\n",
    "\n",
    "# Entrenar el modelo con train_df\n",
    "random_forest_classifier.fit(train_df.drop('is_ultra', axis=1), train_df['is_ultra'])\n",
    "\n",
    "# El modelo está entrenado y listo para su uso"
   ]
  },
  {
   "cell_type": "markdown",
   "metadata": {},
   "source": [
    "<div class=\"alert alert-block alert-info\">\n",
    "\n",
    "<b>Respuesta del estudiante CORREGIDO</b> <a class=\"tocSkip\"></a>\n",
    "Aca he hecho la correccion sugerida para utilizar unicamente los modelos que funcionarian correctamente en el caso que se esta presentando en este proyecto especificamente para `Megaline`.\n",
    "</div>"
   ]
  },
  {
   "cell_type": "markdown",
   "metadata": {},
   "source": [
    "<div class=\"alert alert-block alert-info\">\n",
    "\n",
    "<b>Respuesta del estudiante</b> <a class=\"tocSkip\"></a>\n",
    "Como se puede observar dimos uso a todos los modelos que funcionan con el caso especifico que tenemos en `Megaline`, a pesar de que cada uno tiene diferencias con los demas, para el proposito que haremos uso esta vez, es mas que valido, ahora que vemos que los modelos estan entrenados, vamos a validarlos y ajustarlos antes de evaluarlos.\n",
    "</div>"
   ]
  },
  {
   "cell_type": "markdown",
   "metadata": {},
   "source": [
    "## Entrenar y ajustar los modelos"
   ]
  },
  {
   "cell_type": "code",
   "execution_count": 11,
   "metadata": {},
   "outputs": [
    {
     "name": "stdout",
     "output_type": "stream",
     "text": [
      "Mejores hiperparámetros para Decision Tree Classifier: {'max_depth': 3}\n",
      "Desempeño del modelo Decision Tree Classifier en el conjunto de validación: 0.7931570762052877\n"
     ]
    }
   ],
   "source": [
    "# Evaluar el modelo Decision Tree Classifier en el conjunto de validación\n",
    "decision_tree_classifier = DecisionTreeClassifier(random_state=42)\n",
    "\n",
    "# Definir los hiperparámetros a probar\n",
    "param_grid_decision_tree = {\n",
    "    'max_depth': [3, 5, 7, 10]  # Aquí puedes agregar más valores para probar\n",
    "}\n",
    "\n",
    "# Realizar la búsqueda en cuadrícula\n",
    "grid_search_decision_tree = GridSearchCV(decision_tree_classifier, param_grid_decision_tree, cv=5)\n",
    "grid_search_decision_tree.fit(train_df.drop('is_ultra', axis=1), train_df['is_ultra'])\n",
    "\n",
    "# Mostrar los mejores hiperparámetros encontrados\n",
    "print(\"Mejores hiperparámetros para Decision Tree Classifier:\", grid_search_decision_tree.best_params_)\n",
    "\n",
    "# Evaluar el modelo en el conjunto de validación con los mejores hiperparámetros encontrados\n",
    "decision_tree_classifier_score = grid_search_decision_tree.best_estimator_.score(validation_df.drop('is_ultra', axis=1), validation_df['is_ultra'])\n",
    "print(\"Desempeño del modelo Decision Tree Classifier en el conjunto de validación:\", decision_tree_classifier_score)"
   ]
  },
  {
   "cell_type": "code",
   "execution_count": 12,
   "metadata": {},
   "outputs": [
    {
     "name": "stdout",
     "output_type": "stream",
     "text": [
      "Mejores hiperparámetros para Logistic Regression: {'C': 0.1}\n",
      "Desempeño del modelo Logistic Regression en el conjunto de validación: 0.7402799377916018\n"
     ]
    }
   ],
   "source": [
    "# Evaluar el modelo Logistic Regression en el conjunto de validación\n",
    "logistic_regression = LogisticRegression(random_state=42)\n",
    "\n",
    "# Definir los hiperparámetros a probar\n",
    "param_grid_logistic_regression = {\n",
    "    'C': [0.1, 1, 10, 100]  # Aquí puedes agregar más valores para probar\n",
    "}\n",
    "\n",
    "# Realizar la búsqueda en cuadrícula\n",
    "grid_search_logistic_regression = GridSearchCV(logistic_regression, param_grid_logistic_regression, cv=5)\n",
    "grid_search_logistic_regression.fit(train_df.drop('is_ultra', axis=1), train_df['is_ultra'])\n",
    "\n",
    "# Mostrar los mejores hiperparámetros encontrados\n",
    "print(\"Mejores hiperparámetros para Logistic Regression:\", grid_search_logistic_regression.best_params_)\n",
    "\n",
    "# Evaluar el modelo en el conjunto de validación con los mejores hiperparámetros encontrados\n",
    "logistic_regression_score = grid_search_logistic_regression.best_estimator_.score(validation_df.drop('is_ultra', axis=1), validation_df['is_ultra'])\n",
    "print(\"Desempeño del modelo Logistic Regression en el conjunto de validación:\", logistic_regression_score)"
   ]
  },
  {
   "cell_type": "code",
   "execution_count": 13,
   "metadata": {},
   "outputs": [
    {
     "name": "stdout",
     "output_type": "stream",
     "text": [
      "Mejores hiperparámetros para Random Forest Classifier: {'max_depth': None, 'n_estimators': 200}\n",
      "Desempeño del modelo Random Forest Classifier en el conjunto de validación: 0.8087091757387247\n"
     ]
    }
   ],
   "source": [
    "# Evaluar el modelo Random Forest Classifier en el conjunto de validación\n",
    "random_forest_classifier = RandomForestClassifier(random_state=42)\n",
    "\n",
    "# Definir los hiperparámetros a probar\n",
    "param_grid_random_forest = {\n",
    "    'n_estimators': [100, 200, 300],  # Aquí puedes agregar más valores para probar\n",
    "    'max_depth': [3, 5, 7, None]  # Aquí puedes agregar más valores para probar\n",
    "}\n",
    "\n",
    "# Realizar la búsqueda en cuadrícula\n",
    "grid_search_random_forest = GridSearchCV(random_forest_classifier, param_grid_random_forest, cv=5)\n",
    "grid_search_random_forest.fit(train_df.drop('is_ultra', axis=1), train_df['is_ultra'])\n",
    "\n",
    "# Mostrar los mejores hiperparámetros encontrados\n",
    "print(\"Mejores hiperparámetros para Random Forest Classifier:\", grid_search_random_forest.best_params_)\n",
    "\n",
    "# Evaluar el modelo en el conjunto de validación con los mejores hiperparámetros encontrados\n",
    "random_forest_classifier_score = grid_search_random_forest.best_estimator_.score(validation_df.drop('is_ultra', axis=1), validation_df['is_ultra'])\n",
    "print(\"Desempeño del modelo Random Forest Classifier en el conjunto de validación:\", random_forest_classifier_score)"
   ]
  },
  {
   "cell_type": "markdown",
   "metadata": {},
   "source": [
    "<div class=\"alert alert-block alert-info\">\n",
    "\n",
    "<b>Respuesta del estudiante</b> <a class=\"tocSkip\"></a>\n",
    "Los modelos fueron entrenados utilizando el conjunto de entrenamiento y validacion para mayor precision y eficacia al momento de hacer las pruebas de exactitud, como podemos observar de los modelos que estamos probando vemos que se va perfilando el modelo `Random_Forest_Classifier` como el mas adecuado para la tarea que queremos realizar, ahora vamos a evaluar la precision de los modelos.\n",
    "</div>"
   ]
  },
  {
   "cell_type": "markdown",
   "metadata": {},
   "source": [
    "## Evaluar la calidad de los modelos"
   ]
  },
  {
   "cell_type": "code",
   "execution_count": 15,
   "metadata": {},
   "outputs": [
    {
     "name": "stdout",
     "output_type": "stream",
     "text": [
      "Desempeño del modelo Decision Tree Classifier en el conjunto de prueba: 0.7356143079315708\n"
     ]
    }
   ],
   "source": [
    "# Evaluar el modelo Decision Tree Classifier en el conjunto de prueba\n",
    "decision_tree_classifier = DecisionTreeClassifier(random_state=42)\n",
    "\n",
    "# Ajustar el modelo con los datos de entrenamiento\n",
    "decision_tree_classifier.fit(train_df.drop('is_ultra', axis=1), train_df['is_ultra'])\n",
    "\n",
    "# Evaluar el modelo en el conjunto de prueba\n",
    "decision_tree_classifier_score_test = decision_tree_classifier.score(test_df.drop('is_ultra', axis=1), test_df['is_ultra'])\n",
    "\n",
    "print(\"Desempeño del modelo Decision Tree Classifier en el conjunto de prueba:\", decision_tree_classifier_score_test)"
   ]
  },
  {
   "cell_type": "code",
   "execution_count": 16,
   "metadata": {},
   "outputs": [
    {
     "name": "stdout",
     "output_type": "stream",
     "text": [
      "Desempeño del modelo Logistic Regression en el conjunto de prueba: 0.7682737169517885\n"
     ]
    }
   ],
   "source": [
    "# Evaluar el modelo Logistic Regression en el conjunto de prueba\n",
    "logistic_regression = LogisticRegression(random_state=42)\n",
    "\n",
    "# Ajustar el modelo con los datos de entrenamiento\n",
    "logistic_regression.fit(train_df.drop('is_ultra', axis=1), train_df['is_ultra'])\n",
    "\n",
    "# Evaluar el modelo en el conjunto de prueba\n",
    "logistic_regression_score_test = logistic_regression.score(test_df.drop('is_ultra', axis=1), test_df['is_ultra'])\n",
    "\n",
    "print(\"Desempeño del modelo Logistic Regression en el conjunto de prueba:\", logistic_regression_score_test)"
   ]
  },
  {
   "cell_type": "code",
   "execution_count": 17,
   "metadata": {},
   "outputs": [
    {
     "name": "stdout",
     "output_type": "stream",
     "text": [
      "Desempeño del modelo Random Forest Classifier en el conjunto de prueba: 0.8133748055987559\n"
     ]
    }
   ],
   "source": [
    "# Evaluar el modelo Random Forest Classifier en el conjunto de prueba\n",
    "random_forest_classifier = RandomForestClassifier(random_state=42)\n",
    "\n",
    "# Ajustar el modelo con los datos de entrenamiento\n",
    "random_forest_classifier.fit(train_df.drop('is_ultra', axis=1), train_df['is_ultra'])\n",
    "\n",
    "# Evaluar el modelo en el conjunto de prueba\n",
    "random_forest_classifier_score_test = random_forest_classifier.score(test_df.drop('is_ultra', axis=1), test_df['is_ultra'])\n",
    "\n",
    "print(\"Desempeño del modelo Random Forest Classifier en el conjunto de prueba:\", random_forest_classifier_score_test)"
   ]
  },
  {
   "cell_type": "markdown",
   "metadata": {},
   "source": [
    "<div class=\"alert alert-block alert-info\">\n",
    "\n",
    "<b>Respuesta del estudiante</b> <a class=\"tocSkip\"></a>\n",
    "Las evaluaciones de calidad no nos defraudaron, la misma tendencia que vimos mientras entrenabamos y ajustabamos los modelos la podemos apreciar en la evaluacion, asi que al final vamos a utilizar `Random_Forest_Classifier` como nuestro modelo ganador, procederemos a validar la exactitud del modelo antes de proceder a la prueba de cordura.\n",
    "</div>"
   ]
  },
  {
   "cell_type": "code",
   "execution_count": 18,
   "metadata": {},
   "outputs": [
    {
     "name": "stdout",
     "output_type": "stream",
     "text": [
      "¡El modelo Random Forest Classifier ha alcanzado un rendimiento de 0.8133748055987559 en el conjunto de prueba, superando el umbral requerido de 0.75!\n"
     ]
    }
   ],
   "source": [
    "umbral_exactitud = 0.75\n",
    "\n",
    "if random_forest_classifier_score_test > umbral_exactitud:\n",
    "    print(f\"¡El modelo Random Forest Classifier ha alcanzado un rendimiento de {random_forest_classifier_score_test} en el conjunto de prueba, superando el umbral requerido de {umbral_exactitud}!\")\n",
    "else:\n",
    "    print(f\"El modelo Random Forest Classifier no alcanza el umbral requerido de {umbral_exactitud} en el conjunto de prueba, con un rendimiento de {random_forest_classifier_score_test}. Se recomienda realizar más ajustes o considerar otros enfoques.\")"
   ]
  },
  {
   "cell_type": "markdown",
   "metadata": {},
   "source": [
    "<div class=\"alert alert-block alert-info\">\n",
    "\n",
    "<b>Respuesta del estudiante</b> <a class=\"tocSkip\"></a>\n",
    "Luego de validar la certeza de que estamos ante un modelo que cumple de sobra con los requerimientos que nos impuso la empresa, vamos a hacer una prueba de cordura.\n",
    "</div>"
   ]
  },
  {
   "cell_type": "markdown",
   "metadata": {},
   "source": [
    "<div class=\"alert alert-block alert-info\">\n",
    "\n",
    "<b>Respuesta del estudiante, al comentario del revisor</b> <a class=\"tocSkip\"></a>\n",
    "En esta parte, he eliminado los modelos innecesarios como se me sugirio, luego en la optimizacion de hiperparametros utilice las variables de `entrenamiento` y `validacion` como me fue sugerido, para obtener unos resultados mas apropiados.\n",
    "</div>"
   ]
  },
  {
   "cell_type": "markdown",
   "metadata": {},
   "source": [
    "## Prueba de cordura con datos sinteticos"
   ]
  },
  {
   "cell_type": "code",
   "execution_count": 19,
   "metadata": {},
   "outputs": [
    {
     "name": "stdout",
     "output_type": "stream",
     "text": [
      "Predicción del modelo para datos inusuales: [1]\n"
     ]
    }
   ],
   "source": [
    "# Supongamos que tienes un cliente extremadamente inusual con valores altos\n",
    "datos_cliente_inusual = {\n",
    "    'calls': 300,\n",
    "    'minutes': 2000,\n",
    "    'messages': 100,\n",
    "    'mb_used': 50000,\n",
    "    'is_ultra': None  # Esta será la predicción que queremos obtener del modelo\n",
    "}\n",
    "\n",
    "# Realiza la predicción con el modelo\n",
    "nuevos_datos = [datos_cliente_inusual['calls'], datos_cliente_inusual['minutes'],\n",
    "                datos_cliente_inusual['messages'], datos_cliente_inusual['mb_used']]\n",
    "prediccion = random_forest_classifier.predict([nuevos_datos])\n",
    "\n",
    "# Imprime la predicción del modelo\n",
    "print(\"Predicción del modelo para datos inusuales:\", prediccion)"
   ]
  },
  {
   "cell_type": "markdown",
   "metadata": {},
   "source": [
    "<div class=\"alert alert-block alert-info\">\n",
    "\n",
    "<b>Respuesta del estudiante</b> <a class=\"tocSkip\"></a>\n",
    "Con esta prueba queda evidenciada la eficacia del modelo ya que ciertamente los datos sinteticos provistos corresponden al perfil de un cliente perteneciente al plan Ultra, designado con el numero `1`, digase que podemos proceder a sacar conclusiones de la investigacion.\n",
    "</div>"
   ]
  },
  {
   "cell_type": "markdown",
   "metadata": {},
   "source": [
    "## Conclusiones"
   ]
  },
  {
   "cell_type": "markdown",
   "metadata": {},
   "source": [
    "<div class=\"alert alert-block alert-info\">\n",
    "\n",
    "<b>Respuesta del estudiante</b> <a class=\"tocSkip\"></a>\n",
    "Al tener unos datos concluyentes y un resultado bastante satisfactorio podemos asumir que el tratar los datos con el modelo seleccionado sera de gran beneficio para `Megaline`, ya que con esto se podra automatizar la clasificacion de clientes y se podra ofrecer de manera mas precisa el plan que mas se ajuste al uso que muestra el cliente en cuestion, tambien, podemos concluir que para este tipo de tareas es mas adecuado usar el modelo `Random_Forest_Classifier` ya que se adapta mejor que los demas a la tarea dandonos una eficacia de `~81%` en sus predicciones.\n",
    "</div>"
   ]
  }
 ],
 "metadata": {
  "kernelspec": {
   "display_name": "Python 3 (ipykernel)",
   "language": "python",
   "name": "python3"
  },
  "language_info": {
   "codemirror_mode": {
    "name": "ipython",
    "version": 3
   },
   "file_extension": ".py",
   "mimetype": "text/x-python",
   "name": "python",
   "nbconvert_exporter": "python",
   "pygments_lexer": "ipython3",
   "version": "3.10.9"
  },
  "toc": {
   "base_numbering": 1,
   "nav_menu": {},
   "number_sections": true,
   "sideBar": true,
   "skip_h1_title": false,
   "title_cell": "Table of Contents",
   "title_sidebar": "Contents",
   "toc_cell": false,
   "toc_position": {},
   "toc_section_display": true,
   "toc_window_display": true
  }
 },
 "nbformat": 4,
 "nbformat_minor": 2
}
