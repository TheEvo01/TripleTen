{
 "cells": [
  {
   "cell_type": "markdown",
   "metadata": {},
   "source": [
    "# ¿Qué vende un coche?\n",
    "\n",
    "Eres un analista en Crankshaft List. Cientos de anuncios gratuitos de vehículos se publican en tu sitio web cada día. Necesitas estudiar los datos recopilados durante los últimos años y determinar qué factores influyen en el precio de un vehículo."
   ]
  },
  {
   "cell_type": "markdown",
   "metadata": {},
   "source": [
    "<div class=\"alert alert-block alert-info\">\n",
    "\n",
    "<b>Respuesta del estudiante</b> <a class=\"tocSkip\"></a>\n",
    "El proyecto sera orientado en descubrir que factores influyen en el precio de los vehiculos publicados en el sitio web, en el proyecto dependiendo de lo que podamos encontrar en la data, tendremos que evaluar los datos que nos han entregado, corregir las variables, valores nulos, datos atipicos, estudiar la correlacion que hay entre las columnas que existen en el dataframe, y verificar los indicadores que nos permiten evaluar correctamente la premisa principal que es saber que factores influyen en la variabilidad de los precios de los vehiculos publicados, luego de las correcciones de lugar estaremos explicando las hipotesis que nos llevaran a la conclusion de que cosas influyen en estos cambios de precio, para poder tener una idea mas clara de como ofrecer un producto interesante a los clientes que tenemos en la pagina web, como ejemplo podriamos ofrecer un premium fee para los clientes de vehiculos mas nuevos que quieran publicarlos de manera mas visible en la pagina.\n",
    "</div>"
   ]
  },
  {
   "cell_type": "markdown",
   "metadata": {},
   "source": [
    "## Inicialización"
   ]
  },
  {
   "cell_type": "code",
   "execution_count": 1,
   "metadata": {},
   "outputs": [],
   "source": [
    "# Cargar todas las librerías\n",
    "\n",
    "import pandas as pd\n",
    "import seaborn as sns\n",
    "import matplotlib.pyplot as plt"
   ]
  },
  {
   "cell_type": "markdown",
   "metadata": {},
   "source": [
    "### Cargar datos"
   ]
  },
  {
   "cell_type": "code",
   "execution_count": 2,
   "metadata": {},
   "outputs": [],
   "source": [
    "# Carga el archivo de datos en un DataFrame\n",
    "\n",
    "try:\n",
    "    df = pd.read_csv('vehicles_us.csv')\n",
    "except:\n",
    "    df = pd.read_csv('/datasets/vehicles_us.csv')"
   ]
  },
  {
   "cell_type": "markdown",
   "metadata": {},
   "source": [
    "### Explorar datos iniciales"
   ]
  },
  {
   "cell_type": "markdown",
   "metadata": {},
   "source": [
    "El dataset contiene los siguientes campos:\n",
    "- `price`\n",
    "- `model_year`\n",
    "- `model`\n",
    "- `condition`\n",
    "- `cylinders`\n",
    "- `fuel` — gasolina, diesel, etc.\n",
    "- `odometer` — el millaje del vehículo cuando el anuncio fue publicado\n",
    "- `transmission`\n",
    "- `paint_color`\n",
    "- `is_4wd` — si el vehículo tiene tracción a las 4 ruedas (tipo Booleano)\n",
    "- `date_posted` — la fecha en la que el anuncio fue publicado\n",
    "- `days_listed` — desde la publicación hasta que se elimina"
   ]
  },
  {
   "cell_type": "code",
   "execution_count": 3,
   "metadata": {},
   "outputs": [
    {
     "data": {
      "text/plain": [
       "(51525, 13)"
      ]
     },
     "execution_count": 3,
     "metadata": {},
     "output_type": "execute_result"
    }
   ],
   "source": [
    "# imprime la información general/resumida sobre el DataFrame\n",
    "\n",
    "df.shape"
   ]
  },
  {
   "cell_type": "code",
   "execution_count": 4,
   "metadata": {},
   "outputs": [
    {
     "data": {
      "text/html": [
       "<div>\n",
       "<style scoped>\n",
       "    .dataframe tbody tr th:only-of-type {\n",
       "        vertical-align: middle;\n",
       "    }\n",
       "\n",
       "    .dataframe tbody tr th {\n",
       "        vertical-align: top;\n",
       "    }\n",
       "\n",
       "    .dataframe thead th {\n",
       "        text-align: right;\n",
       "    }\n",
       "</style>\n",
       "<table border=\"1\" class=\"dataframe\">\n",
       "  <thead>\n",
       "    <tr style=\"text-align: right;\">\n",
       "      <th></th>\n",
       "      <th>price</th>\n",
       "      <th>model_year</th>\n",
       "      <th>model</th>\n",
       "      <th>condition</th>\n",
       "      <th>cylinders</th>\n",
       "      <th>fuel</th>\n",
       "      <th>odometer</th>\n",
       "      <th>transmission</th>\n",
       "      <th>type</th>\n",
       "      <th>paint_color</th>\n",
       "      <th>is_4wd</th>\n",
       "      <th>date_posted</th>\n",
       "      <th>days_listed</th>\n",
       "    </tr>\n",
       "  </thead>\n",
       "  <tbody>\n",
       "    <tr>\n",
       "      <th>0</th>\n",
       "      <td>9400</td>\n",
       "      <td>2011.0</td>\n",
       "      <td>bmw x5</td>\n",
       "      <td>good</td>\n",
       "      <td>6.0</td>\n",
       "      <td>gas</td>\n",
       "      <td>145000.0</td>\n",
       "      <td>automatic</td>\n",
       "      <td>SUV</td>\n",
       "      <td>NaN</td>\n",
       "      <td>1.0</td>\n",
       "      <td>2018-06-23</td>\n",
       "      <td>19</td>\n",
       "    </tr>\n",
       "    <tr>\n",
       "      <th>1</th>\n",
       "      <td>25500</td>\n",
       "      <td>NaN</td>\n",
       "      <td>ford f-150</td>\n",
       "      <td>good</td>\n",
       "      <td>6.0</td>\n",
       "      <td>gas</td>\n",
       "      <td>88705.0</td>\n",
       "      <td>automatic</td>\n",
       "      <td>pickup</td>\n",
       "      <td>white</td>\n",
       "      <td>1.0</td>\n",
       "      <td>2018-10-19</td>\n",
       "      <td>50</td>\n",
       "    </tr>\n",
       "    <tr>\n",
       "      <th>2</th>\n",
       "      <td>5500</td>\n",
       "      <td>2013.0</td>\n",
       "      <td>hyundai sonata</td>\n",
       "      <td>like new</td>\n",
       "      <td>4.0</td>\n",
       "      <td>gas</td>\n",
       "      <td>110000.0</td>\n",
       "      <td>automatic</td>\n",
       "      <td>sedan</td>\n",
       "      <td>red</td>\n",
       "      <td>NaN</td>\n",
       "      <td>2019-02-07</td>\n",
       "      <td>79</td>\n",
       "    </tr>\n",
       "    <tr>\n",
       "      <th>3</th>\n",
       "      <td>1500</td>\n",
       "      <td>2003.0</td>\n",
       "      <td>ford f-150</td>\n",
       "      <td>fair</td>\n",
       "      <td>8.0</td>\n",
       "      <td>gas</td>\n",
       "      <td>NaN</td>\n",
       "      <td>automatic</td>\n",
       "      <td>pickup</td>\n",
       "      <td>NaN</td>\n",
       "      <td>NaN</td>\n",
       "      <td>2019-03-22</td>\n",
       "      <td>9</td>\n",
       "    </tr>\n",
       "    <tr>\n",
       "      <th>4</th>\n",
       "      <td>14900</td>\n",
       "      <td>2017.0</td>\n",
       "      <td>chrysler 200</td>\n",
       "      <td>excellent</td>\n",
       "      <td>4.0</td>\n",
       "      <td>gas</td>\n",
       "      <td>80903.0</td>\n",
       "      <td>automatic</td>\n",
       "      <td>sedan</td>\n",
       "      <td>black</td>\n",
       "      <td>NaN</td>\n",
       "      <td>2019-04-02</td>\n",
       "      <td>28</td>\n",
       "    </tr>\n",
       "    <tr>\n",
       "      <th>5</th>\n",
       "      <td>14990</td>\n",
       "      <td>2014.0</td>\n",
       "      <td>chrysler 300</td>\n",
       "      <td>excellent</td>\n",
       "      <td>6.0</td>\n",
       "      <td>gas</td>\n",
       "      <td>57954.0</td>\n",
       "      <td>automatic</td>\n",
       "      <td>sedan</td>\n",
       "      <td>black</td>\n",
       "      <td>1.0</td>\n",
       "      <td>2018-06-20</td>\n",
       "      <td>15</td>\n",
       "    </tr>\n",
       "    <tr>\n",
       "      <th>6</th>\n",
       "      <td>12990</td>\n",
       "      <td>2015.0</td>\n",
       "      <td>toyota camry</td>\n",
       "      <td>excellent</td>\n",
       "      <td>4.0</td>\n",
       "      <td>gas</td>\n",
       "      <td>79212.0</td>\n",
       "      <td>automatic</td>\n",
       "      <td>sedan</td>\n",
       "      <td>white</td>\n",
       "      <td>NaN</td>\n",
       "      <td>2018-12-27</td>\n",
       "      <td>73</td>\n",
       "    </tr>\n",
       "    <tr>\n",
       "      <th>7</th>\n",
       "      <td>15990</td>\n",
       "      <td>2013.0</td>\n",
       "      <td>honda pilot</td>\n",
       "      <td>excellent</td>\n",
       "      <td>6.0</td>\n",
       "      <td>gas</td>\n",
       "      <td>109473.0</td>\n",
       "      <td>automatic</td>\n",
       "      <td>SUV</td>\n",
       "      <td>black</td>\n",
       "      <td>1.0</td>\n",
       "      <td>2019-01-07</td>\n",
       "      <td>68</td>\n",
       "    </tr>\n",
       "    <tr>\n",
       "      <th>8</th>\n",
       "      <td>11500</td>\n",
       "      <td>2012.0</td>\n",
       "      <td>kia sorento</td>\n",
       "      <td>excellent</td>\n",
       "      <td>4.0</td>\n",
       "      <td>gas</td>\n",
       "      <td>104174.0</td>\n",
       "      <td>automatic</td>\n",
       "      <td>SUV</td>\n",
       "      <td>NaN</td>\n",
       "      <td>1.0</td>\n",
       "      <td>2018-07-16</td>\n",
       "      <td>19</td>\n",
       "    </tr>\n",
       "    <tr>\n",
       "      <th>9</th>\n",
       "      <td>9200</td>\n",
       "      <td>2008.0</td>\n",
       "      <td>honda pilot</td>\n",
       "      <td>excellent</td>\n",
       "      <td>NaN</td>\n",
       "      <td>gas</td>\n",
       "      <td>147191.0</td>\n",
       "      <td>automatic</td>\n",
       "      <td>SUV</td>\n",
       "      <td>blue</td>\n",
       "      <td>1.0</td>\n",
       "      <td>2019-02-15</td>\n",
       "      <td>17</td>\n",
       "    </tr>\n",
       "  </tbody>\n",
       "</table>\n",
       "</div>"
      ],
      "text/plain": [
       "   price  model_year           model  condition  cylinders fuel  odometer  \\\n",
       "0   9400      2011.0          bmw x5       good        6.0  gas  145000.0   \n",
       "1  25500         NaN      ford f-150       good        6.0  gas   88705.0   \n",
       "2   5500      2013.0  hyundai sonata   like new        4.0  gas  110000.0   \n",
       "3   1500      2003.0      ford f-150       fair        8.0  gas       NaN   \n",
       "4  14900      2017.0    chrysler 200  excellent        4.0  gas   80903.0   \n",
       "5  14990      2014.0    chrysler 300  excellent        6.0  gas   57954.0   \n",
       "6  12990      2015.0    toyota camry  excellent        4.0  gas   79212.0   \n",
       "7  15990      2013.0     honda pilot  excellent        6.0  gas  109473.0   \n",
       "8  11500      2012.0     kia sorento  excellent        4.0  gas  104174.0   \n",
       "9   9200      2008.0     honda pilot  excellent        NaN  gas  147191.0   \n",
       "\n",
       "  transmission    type paint_color  is_4wd date_posted  days_listed  \n",
       "0    automatic     SUV         NaN     1.0  2018-06-23           19  \n",
       "1    automatic  pickup       white     1.0  2018-10-19           50  \n",
       "2    automatic   sedan         red     NaN  2019-02-07           79  \n",
       "3    automatic  pickup         NaN     NaN  2019-03-22            9  \n",
       "4    automatic   sedan       black     NaN  2019-04-02           28  \n",
       "5    automatic   sedan       black     1.0  2018-06-20           15  \n",
       "6    automatic   sedan       white     NaN  2018-12-27           73  \n",
       "7    automatic     SUV       black     1.0  2019-01-07           68  \n",
       "8    automatic     SUV         NaN     1.0  2018-07-16           19  \n",
       "9    automatic     SUV        blue     1.0  2019-02-15           17  "
      ]
     },
     "execution_count": 4,
     "metadata": {},
     "output_type": "execute_result"
    }
   ],
   "source": [
    "# imprimir una muestra de datos\n",
    "\n",
    "df.head(10)"
   ]
  },
  {
   "cell_type": "markdown",
   "metadata": {},
   "source": [
    "<div class=\"alert alert-block alert-info\">\n",
    "\n",
    "<b>Respuesta del estudiante</b> <a class=\"tocSkip\"></a>\n",
    "Por aca podemos ver un DataFrame de 13 columnas el cual contiene la informacion necesaria para la investigacion, segun puedo observar hay varios detalles, valores ausentes `NaN`, la columna `model_year` usa valores con decimales, en vez de enteros, la columna `is_4wd`, deberia usar datos de tipo booleano.\n",
    "</div>"
   ]
  },
  {
   "cell_type": "markdown",
   "metadata": {},
   "source": [
    "<div class=\"alert alert-block alert-info\">\n",
    "\n",
    "<b>Respuesta del estudiante</b> <a class=\"tocSkip\"></a>\n",
    "Hay columnas con datos inapropiados en el DataFrame, las columnas con datos inapropiados puedo decir que estan en `model_year` y sus valores decimales, `is_4wd` con valores decimales en vez de booleanos.\n",
    "</div>"
   ]
  },
  {
   "cell_type": "markdown",
   "metadata": {},
   "source": [
    "<div class=\"alert alert-block alert-info\">\n",
    "\n",
    "<b>Respuesta del estudiante</b> <a class=\"tocSkip\"></a>\n",
    "Hay valores ausentes en algunas columnas, las columnas con mayor incidencia son `model_year`, `cylinders`, `odometer`, `paint_color` y `is_4wd`. A primera vista veo unos datos que no estan tan mal, donde Sí, debemos corregir unas cuantas cosas como los valores ausentes y los tipos de variables erroneas, tambien demostrar que los datos al ser tratados mantienen la coherencia y son viables para la investigacion.\n",
    "</div>"
   ]
  },
  {
   "cell_type": "markdown",
   "metadata": {},
   "source": [
    "### Conclusiones y siguientes pasos"
   ]
  },
  {
   "cell_type": "markdown",
   "metadata": {},
   "source": [
    "<div class=\"alert alert-block alert-info\">\n",
    "\n",
    "<b>Respuesta del estudiante</b> <a class=\"tocSkip\"></a>\n",
    "Entiendo que hay varias columnas que parecen normales, y a primera vista podrian usarse asi mismo, como son: `price`, `model`, `condition`, `fuel`, `transmission`, `type`, `date_posted` y `days_listed`, por otro lado tenemos las columnas con anomalias como: `model_year`, `cylinders`, `odometer`, `paint_color`, `is_4wd`, que deben ser evaluadas y corregidas para poder utilizar su data en la investigacion.\n",
    "</div>"
   ]
  },
  {
   "cell_type": "markdown",
   "metadata": {},
   "source": [
    "## Tratar los valores ausentes (si hay)"
   ]
  },
  {
   "cell_type": "markdown",
   "metadata": {},
   "source": [
    "<div class=\"alert alert-block alert-info\">\n",
    "\n",
    "<b>Respuesta del estudiante</b> <a class=\"tocSkip\"></a>\n",
    "Empezaremos por tratar los valores ausentes columna por columna, ya que cada una necesita un tratamiento ligeramente diferente, empecemos con `model_year`, `cylinders` y `odometer`.\n",
    "</div>"
   ]
  },
  {
   "cell_type": "code",
   "execution_count": 5,
   "metadata": {},
   "outputs": [],
   "source": [
    "# verificar la media y la mediana de 'model_year'\n",
    "\n",
    "var_meds = df.groupby(['model'])['model_year'].transform('median')"
   ]
  },
  {
   "cell_type": "code",
   "execution_count": 6,
   "metadata": {},
   "outputs": [],
   "source": [
    "# eliminar los valores ausentes de 'model_year'\n",
    "\n",
    "df['model_year'].fillna(var_meds, inplace=True)"
   ]
  },
  {
   "cell_type": "markdown",
   "metadata": {},
   "source": [
    "<div class=\"alert alert-block alert-info\">\n",
    "\n",
    "<b>Respuesta del estudiante</b> <a class=\"tocSkip\"></a>\n",
    "Luego de observar que la cantidad de valores Nulos de la columna `model_year` es solo un `7.02%` decidi que dado que la media para completar esos valores no nos conviene porque da un valor con decimales, la mediana si nos convendria, ya que su output es un numero entero y variaria poco los resultados finales a pesar de todo, solo habria que abordar el tipo de variable pasandola a `int64`, lo cual haremos un poco mas adelante.\n",
    "</div>"
   ]
  },
  {
   "cell_type": "code",
   "execution_count": 7,
   "metadata": {},
   "outputs": [],
   "source": [
    "# verificar la media y la mediana de 'cylinders'\n",
    "\n",
    "var_meds = df.groupby(['model'])['cylinders'].transform('median')"
   ]
  },
  {
   "cell_type": "code",
   "execution_count": 8,
   "metadata": {},
   "outputs": [],
   "source": [
    "# eliminar los valores ausentes de 'cylinders'\n",
    "\n",
    "df['cylinders'].fillna(var_meds, inplace=True)"
   ]
  },
  {
   "cell_type": "markdown",
   "metadata": {},
   "source": [
    "<div class=\"alert alert-block alert-info\">\n",
    "\n",
    "<b>Respuesta del estudiante</b> <a class=\"tocSkip\"></a>\n",
    "Dado que las observaciones en la columna `cylinders` van en la misma linea que la anterior, y la cantidad de valores Nulos de la columna es de un `10.20%`, y viendo que dado que la media para completar esos valores nos da un valor con decimales, la mediana seria la mejor opcion.\n",
    "</div>"
   ]
  },
  {
   "cell_type": "code",
   "execution_count": 9,
   "metadata": {},
   "outputs": [],
   "source": [
    "# verificar la media y la mediana de 'odometer'\n",
    "\n",
    "var_meds = df.groupby(['condition'])['odometer'].transform('median')"
   ]
  },
  {
   "cell_type": "markdown",
   "metadata": {},
   "source": [
    "<div class=\"alert alert-block alert-info\">\n",
    "\n",
    "<b>Respuesta del estudiante</b> <a class=\"tocSkip\"></a>\n",
    "En el caso de la columna `odometer` es un poco mas complicado ya que la cantidad de valores nulos es un `15.31%` y esa cantidad de valores ya si entra en un rango que podria afectar los resultados de manera negativa si no se trata adecuadamente.\n",
    "</div>"
   ]
  },
  {
   "cell_type": "markdown",
   "metadata": {},
   "source": [
    "<div class=\"alert alert-block alert-info\">\n",
    "\n",
    "<b>Respuesta del estudiante `al comentario #2 del revisor`</b> <a class=\"tocSkip\"></a>\n",
    "Aca he corregido con la sugerencia que me ha hecho, he podido observar que los datos siguen teniendo el output que nos interesa, asi que todo en orden para seguir adelante.\n",
    "</div>"
   ]
  },
  {
   "cell_type": "code",
   "execution_count": 10,
   "metadata": {},
   "outputs": [
    {
     "data": {
      "image/png": "[encoded data removed]",
      "text/plain": [
       "<Figure size 864x576 with 2 Axes>"
      ]
     },
     "metadata": {
      "needs_background": "light"
     },
     "output_type": "display_data"
    }
   ],
   "source": [
    "# Calcula la matriz de correlación\n",
    "\n",
    "correlation_matrix = df.corr()\n",
    "\n",
    "# Crea un mapa de calor para visualizar la matriz de correlación\n",
    "plt.figure(figsize=(12, 8))\n",
    "sns.heatmap(correlation_matrix, annot=True, cmap='coolwarm', center=0)\n",
    "plt.title('Matriz de Correlación')\n",
    "plt.show()"
   ]
  },
  {
   "cell_type": "markdown",
   "metadata": {},
   "source": [
    "<div class=\"alert alert-block alert-info\">\n",
    "\n",
    "<b>Respuesta del estudiante</b> <a class=\"tocSkip\"></a>\n",
    "Como se puede observar en la matriz de correlacion `odometer` tiene una correlacion ligeramente negativa con `price` y `model_year`, lo que nos indica algo que es entendible, mientras mas alto el precio y mas nuevo el año, menor sera el millaje del vehiculo, podriamos decir que si estos 2 valores son cambiados bruscamente habria una incidencia negativa de mas de un `40%` en la columna `odometer`, pero como los valores incluidos en estas columnas eran lo suficientemente limpios, no habra mucho problema, ahora podriamos intentar el reemplazo de estos valores en `odometer` y ver que tanto afectaria nuestro grafico de correlacion, si no varia mucho, podriamos decir que logramos un reemplazo de valores nulos exitoso, ya que teniamos calculada la media y la mediana en esta columna previamente, vamos a sustituir los valores, esta vez, usaremos la mediana, ya que es la que menos varia los valores en general, y el resultado es menos problematico.\n",
    "</div>"
   ]
  },
  {
   "cell_type": "code",
   "execution_count": 11,
   "metadata": {},
   "outputs": [],
   "source": [
    "# eliminar los valores ausentes de 'odometer'\n",
    "\n",
    "df['odometer'].fillna(var_meds, inplace=True)"
   ]
  },
  {
   "cell_type": "code",
   "execution_count": 12,
   "metadata": {},
   "outputs": [
    {
     "data": {
      "image/png": "[encoded data removed]",
      "text/plain": [
       "<Figure size 864x576 with 2 Axes>"
      ]
     },
     "metadata": {
      "needs_background": "light"
     },
     "output_type": "display_data"
    }
   ],
   "source": [
    "# Calcula la matriz de correlación\n",
    "\n",
    "correlation_matrix = df.corr()\n",
    "\n",
    "# Crea un mapa de calor para visualizar la matriz de correlación\n",
    "plt.figure(figsize=(12, 8))\n",
    "sns.heatmap(correlation_matrix, annot=True, cmap='coolwarm', center=0)\n",
    "plt.title('Matriz de Correlación')\n",
    "plt.show()"
   ]
  },
  {
   "cell_type": "markdown",
   "metadata": {},
   "source": [
    "<div class=\"alert alert-block alert-info\">\n",
    "\n",
    "<b>Respuesta del estudiante</b> <a class=\"tocSkip\"></a>\n",
    "Como podemos observar, haber cambiado los valores nulos por la mediana no tuvo una incidencia tan grande, que era lo que esperabamos, asi que estos valores los dejaremos asi, para poder continuar con la investigacion, si mas adelante apreciamos algun problema podriamos volver atras para corregir la resolucion de este problema.\n",
    "</div>"
   ]
  },
  {
   "cell_type": "code",
   "execution_count": 13,
   "metadata": {},
   "outputs": [
    {
     "data": {
      "text/html": [
       "<div>\n",
       "<style scoped>\n",
       "    .dataframe tbody tr th:only-of-type {\n",
       "        vertical-align: middle;\n",
       "    }\n",
       "\n",
       "    .dataframe tbody tr th {\n",
       "        vertical-align: top;\n",
       "    }\n",
       "\n",
       "    .dataframe thead th {\n",
       "        text-align: right;\n",
       "    }\n",
       "</style>\n",
       "<table border=\"1\" class=\"dataframe\">\n",
       "  <thead>\n",
       "    <tr style=\"text-align: right;\">\n",
       "      <th></th>\n",
       "      <th>price</th>\n",
       "      <th>model_year</th>\n",
       "      <th>model</th>\n",
       "      <th>condition</th>\n",
       "      <th>cylinders</th>\n",
       "      <th>fuel</th>\n",
       "      <th>odometer</th>\n",
       "      <th>transmission</th>\n",
       "      <th>type</th>\n",
       "      <th>paint_color</th>\n",
       "      <th>is_4wd</th>\n",
       "      <th>date_posted</th>\n",
       "      <th>days_listed</th>\n",
       "    </tr>\n",
       "  </thead>\n",
       "  <tbody>\n",
       "    <tr>\n",
       "      <th>0</th>\n",
       "      <td>9400</td>\n",
       "      <td>2011.0</td>\n",
       "      <td>bmw x5</td>\n",
       "      <td>good</td>\n",
       "      <td>6.0</td>\n",
       "      <td>gas</td>\n",
       "      <td>145000.0</td>\n",
       "      <td>automatic</td>\n",
       "      <td>SUV</td>\n",
       "      <td>unknown</td>\n",
       "      <td>1.0</td>\n",
       "      <td>2018-06-23</td>\n",
       "      <td>19</td>\n",
       "    </tr>\n",
       "    <tr>\n",
       "      <th>1</th>\n",
       "      <td>25500</td>\n",
       "      <td>2011.0</td>\n",
       "      <td>ford f-150</td>\n",
       "      <td>good</td>\n",
       "      <td>6.0</td>\n",
       "      <td>gas</td>\n",
       "      <td>88705.0</td>\n",
       "      <td>automatic</td>\n",
       "      <td>pickup</td>\n",
       "      <td>white</td>\n",
       "      <td>1.0</td>\n",
       "      <td>2018-10-19</td>\n",
       "      <td>50</td>\n",
       "    </tr>\n",
       "    <tr>\n",
       "      <th>2</th>\n",
       "      <td>5500</td>\n",
       "      <td>2013.0</td>\n",
       "      <td>hyundai sonata</td>\n",
       "      <td>like new</td>\n",
       "      <td>4.0</td>\n",
       "      <td>gas</td>\n",
       "      <td>110000.0</td>\n",
       "      <td>automatic</td>\n",
       "      <td>sedan</td>\n",
       "      <td>red</td>\n",
       "      <td>NaN</td>\n",
       "      <td>2019-02-07</td>\n",
       "      <td>79</td>\n",
       "    </tr>\n",
       "    <tr>\n",
       "      <th>3</th>\n",
       "      <td>1500</td>\n",
       "      <td>2003.0</td>\n",
       "      <td>ford f-150</td>\n",
       "      <td>fair</td>\n",
       "      <td>8.0</td>\n",
       "      <td>gas</td>\n",
       "      <td>181613.0</td>\n",
       "      <td>automatic</td>\n",
       "      <td>pickup</td>\n",
       "      <td>unknown</td>\n",
       "      <td>NaN</td>\n",
       "      <td>2019-03-22</td>\n",
       "      <td>9</td>\n",
       "    </tr>\n",
       "    <tr>\n",
       "      <th>4</th>\n",
       "      <td>14900</td>\n",
       "      <td>2017.0</td>\n",
       "      <td>chrysler 200</td>\n",
       "      <td>excellent</td>\n",
       "      <td>4.0</td>\n",
       "      <td>gas</td>\n",
       "      <td>80903.0</td>\n",
       "      <td>automatic</td>\n",
       "      <td>sedan</td>\n",
       "      <td>black</td>\n",
       "      <td>NaN</td>\n",
       "      <td>2019-04-02</td>\n",
       "      <td>28</td>\n",
       "    </tr>\n",
       "    <tr>\n",
       "      <th>5</th>\n",
       "      <td>14990</td>\n",
       "      <td>2014.0</td>\n",
       "      <td>chrysler 300</td>\n",
       "      <td>excellent</td>\n",
       "      <td>6.0</td>\n",
       "      <td>gas</td>\n",
       "      <td>57954.0</td>\n",
       "      <td>automatic</td>\n",
       "      <td>sedan</td>\n",
       "      <td>black</td>\n",
       "      <td>1.0</td>\n",
       "      <td>2018-06-20</td>\n",
       "      <td>15</td>\n",
       "    </tr>\n",
       "    <tr>\n",
       "      <th>6</th>\n",
       "      <td>12990</td>\n",
       "      <td>2015.0</td>\n",
       "      <td>toyota camry</td>\n",
       "      <td>excellent</td>\n",
       "      <td>4.0</td>\n",
       "      <td>gas</td>\n",
       "      <td>79212.0</td>\n",
       "      <td>automatic</td>\n",
       "      <td>sedan</td>\n",
       "      <td>white</td>\n",
       "      <td>NaN</td>\n",
       "      <td>2018-12-27</td>\n",
       "      <td>73</td>\n",
       "    </tr>\n",
       "    <tr>\n",
       "      <th>7</th>\n",
       "      <td>15990</td>\n",
       "      <td>2013.0</td>\n",
       "      <td>honda pilot</td>\n",
       "      <td>excellent</td>\n",
       "      <td>6.0</td>\n",
       "      <td>gas</td>\n",
       "      <td>109473.0</td>\n",
       "      <td>automatic</td>\n",
       "      <td>SUV</td>\n",
       "      <td>black</td>\n",
       "      <td>1.0</td>\n",
       "      <td>2019-01-07</td>\n",
       "      <td>68</td>\n",
       "    </tr>\n",
       "    <tr>\n",
       "      <th>8</th>\n",
       "      <td>11500</td>\n",
       "      <td>2012.0</td>\n",
       "      <td>kia sorento</td>\n",
       "      <td>excellent</td>\n",
       "      <td>4.0</td>\n",
       "      <td>gas</td>\n",
       "      <td>104174.0</td>\n",
       "      <td>automatic</td>\n",
       "      <td>SUV</td>\n",
       "      <td>unknown</td>\n",
       "      <td>1.0</td>\n",
       "      <td>2018-07-16</td>\n",
       "      <td>19</td>\n",
       "    </tr>\n",
       "    <tr>\n",
       "      <th>9</th>\n",
       "      <td>9200</td>\n",
       "      <td>2008.0</td>\n",
       "      <td>honda pilot</td>\n",
       "      <td>excellent</td>\n",
       "      <td>6.0</td>\n",
       "      <td>gas</td>\n",
       "      <td>147191.0</td>\n",
       "      <td>automatic</td>\n",
       "      <td>SUV</td>\n",
       "      <td>blue</td>\n",
       "      <td>1.0</td>\n",
       "      <td>2019-02-15</td>\n",
       "      <td>17</td>\n",
       "    </tr>\n",
       "  </tbody>\n",
       "</table>\n",
       "</div>"
      ],
      "text/plain": [
       "   price  model_year           model  condition  cylinders fuel  odometer  \\\n",
       "0   9400      2011.0          bmw x5       good        6.0  gas  145000.0   \n",
       "1  25500      2011.0      ford f-150       good        6.0  gas   88705.0   \n",
       "2   5500      2013.0  hyundai sonata   like new        4.0  gas  110000.0   \n",
       "3   1500      2003.0      ford f-150       fair        8.0  gas  181613.0   \n",
       "4  14900      2017.0    chrysler 200  excellent        4.0  gas   80903.0   \n",
       "5  14990      2014.0    chrysler 300  excellent        6.0  gas   57954.0   \n",
       "6  12990      2015.0    toyota camry  excellent        4.0  gas   79212.0   \n",
       "7  15990      2013.0     honda pilot  excellent        6.0  gas  109473.0   \n",
       "8  11500      2012.0     kia sorento  excellent        4.0  gas  104174.0   \n",
       "9   9200      2008.0     honda pilot  excellent        6.0  gas  147191.0   \n",
       "\n",
       "  transmission    type paint_color  is_4wd date_posted  days_listed  \n",
       "0    automatic     SUV     unknown     1.0  2018-06-23           19  \n",
       "1    automatic  pickup       white     1.0  2018-10-19           50  \n",
       "2    automatic   sedan         red     NaN  2019-02-07           79  \n",
       "3    automatic  pickup     unknown     NaN  2019-03-22            9  \n",
       "4    automatic   sedan       black     NaN  2019-04-02           28  \n",
       "5    automatic   sedan       black     1.0  2018-06-20           15  \n",
       "6    automatic   sedan       white     NaN  2018-12-27           73  \n",
       "7    automatic     SUV       black     1.0  2019-01-07           68  \n",
       "8    automatic     SUV     unknown     1.0  2018-07-16           19  \n",
       "9    automatic     SUV        blue     1.0  2019-02-15           17  "
      ]
     },
     "execution_count": 13,
     "metadata": {},
     "output_type": "execute_result"
    }
   ],
   "source": [
    "# Rellena los valores nulos en 'paint_color' con unknown\n",
    "\n",
    "df['paint_color'].fillna('unknown', inplace=True)\n",
    "\n",
    "# Imprime el DataFrame con los valores nulos rellenados\n",
    "df.head(10)"
   ]
  },
  {
   "cell_type": "markdown",
   "metadata": {},
   "source": [
    "<div class=\"alert alert-block alert-info\">\n",
    "\n",
    "<b>Respuesta del estudiante</b> <a class=\"tocSkip\"></a>\n",
    "Como podemos apreciar los valores nulos faltantes fueron sustituidos en la columna `paint_color`, como no hay informacion suficiente para saber el color de un vehiculo, utilizamos el valor `unknown` para rellenar dichos valores nulos, asi que ya tenemos un dataframe libre de valores nulos, ahora si podremos evaluar adecuadamente la data.\n",
    "</div>"
   ]
  },
  {
   "cell_type": "code",
   "execution_count": 14,
   "metadata": {},
   "outputs": [
    {
     "data": {
      "text/plain": [
       "count     51525.000000\n",
       "mean     115199.014508\n",
       "std       60484.863376\n",
       "min           0.000000\n",
       "25%       75668.000000\n",
       "50%      110908.000000\n",
       "75%      147821.000000\n",
       "max      990000.000000\n",
       "Name: odometer, dtype: float64"
      ]
     },
     "execution_count": 14,
     "metadata": {},
     "output_type": "execute_result"
    }
   ],
   "source": [
    "# Constancia de que los valores nulos fueron abordados correctamente\n",
    "\n",
    "df['odometer'].describe()"
   ]
  },
  {
   "cell_type": "markdown",
   "metadata": {},
   "source": [
    "<div class=\"alert alert-block alert-info\">\n",
    "\n",
    "<b>Respuesta del estudiante `al comentario del revisor`</b> <a class=\"tocSkip\"></a>\n",
    "Como sugirio aborde el codigo con los codigos simplificados sugeridos y se hizo la sustitucion correspondiente en `paint_color` con el valor sugerido para los nulos, los calculos han sido llevados a cabo correctamente, asi que no variaron gran cosa las conclusiones.\n",
    "</div>"
   ]
  },
  {
   "cell_type": "markdown",
   "metadata": {},
   "source": [
    "## Corregir los tipos de datos"
   ]
  },
  {
   "cell_type": "markdown",
   "metadata": {},
   "source": [
    "<div class=\"alert alert-block alert-info\">\n",
    "\n",
    "<b>Respuesta del estudiante</b> <a class=\"tocSkip\"></a>\n",
    "Vamos a corregir en primera instancia el tipo de variable usado por `model_year` (deberia usar valores enteros como representacion de los años) y luego el tipo de variable para `is_4wd` (deberia usar una variable bool, para simplificar su entendimiento), por ultimo corregiremos `date_posted`, ya que esta usando una variable tipo object, lo cual no nos permitira trabajar con ella de manera normal (como una fecha real), entonces despues de cambiar el tipo de variable a tipo datetime, si podriamos usar la fecha como una fecha real, en esta ocasion hemos estado discriminando la columna `paint_color` porque necesita un tratamiento un tanto especial.\n",
    "</div>"
   ]
  },
  {
   "cell_type": "code",
   "execution_count": 15,
   "metadata": {},
   "outputs": [],
   "source": [
    "# cambiar tipo de variables a las variables correctas, que permitiran mejor evaluacion de la data\n",
    "\n",
    "df['model_year'] = df['model_year'].astype('int64')\n",
    "df['odometer'] = df['odometer'].astype('int64')\n",
    "df['is_4wd'] = df['is_4wd'].fillna(False).astype(bool)"
   ]
  },
  {
   "cell_type": "markdown",
   "metadata": {},
   "source": [
    "## Enriquecer datos"
   ]
  },
  {
   "cell_type": "code",
   "execution_count": 16,
   "metadata": {},
   "outputs": [],
   "source": [
    "# Agrega valores de fecha y hora para cuando se colocó el anuncio\n",
    "\n",
    "df['date_posted'] = pd.to_datetime(df['date_posted'])"
   ]
  },
  {
   "cell_type": "markdown",
   "metadata": {},
   "source": [
    "<div class=\"alert alert-block alert-info\">\n",
    "\n",
    "<b>Respuesta del estudiante</b> <a class=\"tocSkip\"></a>\n",
    "Como se puede observar los valores de `date_posted` no tienen hora, pero ya que no tenemos esa informacion y no se utilizara en la investigacion, es irrelevante, podemos continuar sin problemas.\n",
    "</div>"
   ]
  },
  {
   "cell_type": "code",
   "execution_count": 17,
   "metadata": {},
   "outputs": [],
   "source": [
    "# Agrega los años del vehículo cuando el anuncio se colocó\n",
    "\n",
    "df['vehicle_age'] = df['date_posted'].dt.year - df['model_year'] + 1"
   ]
  },
  {
   "cell_type": "markdown",
   "metadata": {},
   "source": [
    "<div class=\"alert alert-block alert-info\">\n",
    "\n",
    "<b>Respuesta del estudiante `al comentario del revisor`</b> <a class=\"tocSkip\"></a>\n",
    "Por aca como se puede ver solventamos el fallo como me comento, le sumamos 1 a la edad de los vehiculos para tener la edad real de estos.\n",
    "</div>"
   ]
  },
  {
   "cell_type": "markdown",
   "metadata": {},
   "source": [
    "<div class=\"alert alert-block alert-info\">\n",
    "\n",
    "<b>Respuesta del estudiante</b> <a class=\"tocSkip\"></a>\n",
    "Este es un dato interesante ya que con el podremos saber la edad real del vehiculo que el cliente puede adquirir.\n",
    "</div>"
   ]
  },
  {
   "cell_type": "code",
   "execution_count": 18,
   "metadata": {},
   "outputs": [],
   "source": [
    "# Agrupa los datos por año del modelo y calcula el millaje promedio por año\n",
    "\n",
    "df['average_mileage_by_year'] = (df['odometer'] / df['vehicle_age']).astype('int64')"
   ]
  },
  {
   "cell_type": "markdown",
   "metadata": {},
   "source": [
    "<div class=\"alert alert-block alert-info\">\n",
    "\n",
    "<b>Respuesta del estudiante `al comentario del revisor`</b> <a class=\"tocSkip\"></a>\n",
    "Me pude dar cuenta de mi error al comentarme sobre el, por aca corregimos el tema y simplificamos el codigo como sugirio, eso si, el calculo debe ser millaje / cantidad de años, para saber que cantidad de millas recorrio cada año, si dividimos el millaje entre el año del modelo del vehiculo, nos da unos resultados irreales, por ejemplo `145000` entre `2011` (que es nuestra primera fila en el dataframe) daria como resultado `72.10`, nadie recorre tan pocos kilometros al año, a diferencia, si lo dividimos entre `8` que es la edad del vehiculo, nos daria `18125` que si seria el resultado correcto, aparte, como me interesa que los valores no tengan decimales cambie el tipo de variable a `int64`, para esta nueva columna, ya que con numeros enteros el proceso se simplifica mas.\n",
    "</div>"
   ]
  },
  {
   "cell_type": "markdown",
   "metadata": {},
   "source": [
    "<div class=\"alert alert-block alert-info\">\n",
    "\n",
    "<b>Respuesta del estudiante</b> <a class=\"tocSkip\"></a>\n",
    "La informacion del millaje promedio es super valiosa, ya que asi podremos saber que tanto abusaron del vehiculo antes de ponerlo en venta, eso tambien nos ayuda a saber que vehiculo tiene menor desgaste y esto podria llevar a un precio final mayor.\n",
    "</div>"
   ]
  },
  {
   "cell_type": "code",
   "execution_count": 19,
   "metadata": {},
   "outputs": [],
   "source": [
    "# Podría ser útil reemplazar los valores de condición con algo que se pueda manipular más fácilmente\n",
    "\n",
    "# Define el mapeo de valores de cadena a valores numéricos\n",
    "condition_mapping = {\n",
    "    'new': 5,\n",
    "    'like new': 4,\n",
    "    'excellent': 3,\n",
    "    'good': 2,\n",
    "    'fair': 1,\n",
    "    'salvage': 0\n",
    "}\n",
    "\n",
    "# Reemplaza los valores de la columna 'condition' con los valores numéricos\n",
    "df['condition'] = df['condition'].replace(condition_mapping)"
   ]
  },
  {
   "cell_type": "markdown",
   "metadata": {},
   "source": [
    "<div class=\"alert alert-block alert-info\">\n",
    "\n",
    "<b>Respuesta del estudiante</b> <a class=\"tocSkip\"></a>\n",
    "Al cambiar los valores en `condition`, por estos numericos nos simplificaremos la evaluacion, ya que los valores numericos son mas faciles de evaluar con miras al estudio de las correlaciones entre columna y demas.\n",
    "</div>"
   ]
  },
  {
   "cell_type": "markdown",
   "metadata": {},
   "source": [
    "## Comprobar datos limpios"
   ]
  },
  {
   "cell_type": "code",
   "execution_count": 20,
   "metadata": {},
   "outputs": [
    {
     "name": "stdout",
     "output_type": "stream",
     "text": [
      "<class 'pandas.core.frame.DataFrame'>\n",
      "RangeIndex: 51525 entries, 0 to 51524\n",
      "Data columns (total 15 columns):\n",
      " #   Column                   Non-Null Count  Dtype         \n",
      "---  ------                   --------------  -----         \n",
      " 0   price                    51525 non-null  int64         \n",
      " 1   model_year               51525 non-null  int64         \n",
      " 2   model                    51525 non-null  object        \n",
      " 3   condition                51525 non-null  int64         \n",
      " 4   cylinders                51525 non-null  float64       \n",
      " 5   fuel                     51525 non-null  object        \n",
      " 6   odometer                 51525 non-null  int64         \n",
      " 7   transmission             51525 non-null  object        \n",
      " 8   type                     51525 non-null  object        \n",
      " 9   paint_color              51525 non-null  object        \n",
      " 10  is_4wd                   51525 non-null  bool          \n",
      " 11  date_posted              51525 non-null  datetime64[ns]\n",
      " 12  days_listed              51525 non-null  int64         \n",
      " 13  vehicle_age              51525 non-null  int64         \n",
      " 14  average_mileage_by_year  51525 non-null  int64         \n",
      "dtypes: bool(1), datetime64[ns](1), float64(1), int64(7), object(5)\n",
      "memory usage: 5.6+ MB\n"
     ]
    }
   ],
   "source": [
    "# imprime la información general/resumida sobre el DataFrame\n",
    "\n",
    "df.info()"
   ]
  },
  {
   "cell_type": "markdown",
   "metadata": {},
   "source": [
    "<div class=\"alert alert-block alert-info\">\n",
    "\n",
    "<b>Respuesta del estudiante</b> <a class=\"tocSkip\"></a>\n",
    "Como podemos observar ya los datos estan limpios y listos para ser utilizados en la investigacion, todas las columnas tienen la misma cantidad de filas, sin datos ausentes ya podemos proceder a abordar la investigacion en torno a los datos atipicos, para poder llegar a unas conclusiones mas certeras.\n",
    "</div>"
   ]
  },
  {
   "cell_type": "code",
   "execution_count": 21,
   "metadata": {},
   "outputs": [
    {
     "data": {
      "text/html": [
       "<div>\n",
       "<style scoped>\n",
       "    .dataframe tbody tr th:only-of-type {\n",
       "        vertical-align: middle;\n",
       "    }\n",
       "\n",
       "    .dataframe tbody tr th {\n",
       "        vertical-align: top;\n",
       "    }\n",
       "\n",
       "    .dataframe thead th {\n",
       "        text-align: right;\n",
       "    }\n",
       "</style>\n",
       "<table border=\"1\" class=\"dataframe\">\n",
       "  <thead>\n",
       "    <tr style=\"text-align: right;\">\n",
       "      <th></th>\n",
       "      <th>price</th>\n",
       "      <th>model_year</th>\n",
       "      <th>model</th>\n",
       "      <th>condition</th>\n",
       "      <th>cylinders</th>\n",
       "      <th>fuel</th>\n",
       "      <th>odometer</th>\n",
       "      <th>transmission</th>\n",
       "      <th>type</th>\n",
       "      <th>paint_color</th>\n",
       "      <th>is_4wd</th>\n",
       "      <th>date_posted</th>\n",
       "      <th>days_listed</th>\n",
       "      <th>vehicle_age</th>\n",
       "      <th>average_mileage_by_year</th>\n",
       "    </tr>\n",
       "  </thead>\n",
       "  <tbody>\n",
       "    <tr>\n",
       "      <th>0</th>\n",
       "      <td>9400</td>\n",
       "      <td>2011</td>\n",
       "      <td>bmw x5</td>\n",
       "      <td>2</td>\n",
       "      <td>6.0</td>\n",
       "      <td>gas</td>\n",
       "      <td>145000</td>\n",
       "      <td>automatic</td>\n",
       "      <td>SUV</td>\n",
       "      <td>unknown</td>\n",
       "      <td>True</td>\n",
       "      <td>2018-06-23</td>\n",
       "      <td>19</td>\n",
       "      <td>8</td>\n",
       "      <td>18125</td>\n",
       "    </tr>\n",
       "    <tr>\n",
       "      <th>1</th>\n",
       "      <td>25500</td>\n",
       "      <td>2011</td>\n",
       "      <td>ford f-150</td>\n",
       "      <td>2</td>\n",
       "      <td>6.0</td>\n",
       "      <td>gas</td>\n",
       "      <td>88705</td>\n",
       "      <td>automatic</td>\n",
       "      <td>pickup</td>\n",
       "      <td>white</td>\n",
       "      <td>True</td>\n",
       "      <td>2018-10-19</td>\n",
       "      <td>50</td>\n",
       "      <td>8</td>\n",
       "      <td>11088</td>\n",
       "    </tr>\n",
       "    <tr>\n",
       "      <th>2</th>\n",
       "      <td>5500</td>\n",
       "      <td>2013</td>\n",
       "      <td>hyundai sonata</td>\n",
       "      <td>4</td>\n",
       "      <td>4.0</td>\n",
       "      <td>gas</td>\n",
       "      <td>110000</td>\n",
       "      <td>automatic</td>\n",
       "      <td>sedan</td>\n",
       "      <td>red</td>\n",
       "      <td>False</td>\n",
       "      <td>2019-02-07</td>\n",
       "      <td>79</td>\n",
       "      <td>7</td>\n",
       "      <td>15714</td>\n",
       "    </tr>\n",
       "    <tr>\n",
       "      <th>3</th>\n",
       "      <td>1500</td>\n",
       "      <td>2003</td>\n",
       "      <td>ford f-150</td>\n",
       "      <td>1</td>\n",
       "      <td>8.0</td>\n",
       "      <td>gas</td>\n",
       "      <td>181613</td>\n",
       "      <td>automatic</td>\n",
       "      <td>pickup</td>\n",
       "      <td>unknown</td>\n",
       "      <td>False</td>\n",
       "      <td>2019-03-22</td>\n",
       "      <td>9</td>\n",
       "      <td>17</td>\n",
       "      <td>10683</td>\n",
       "    </tr>\n",
       "    <tr>\n",
       "      <th>4</th>\n",
       "      <td>14900</td>\n",
       "      <td>2017</td>\n",
       "      <td>chrysler 200</td>\n",
       "      <td>3</td>\n",
       "      <td>4.0</td>\n",
       "      <td>gas</td>\n",
       "      <td>80903</td>\n",
       "      <td>automatic</td>\n",
       "      <td>sedan</td>\n",
       "      <td>black</td>\n",
       "      <td>False</td>\n",
       "      <td>2019-04-02</td>\n",
       "      <td>28</td>\n",
       "      <td>3</td>\n",
       "      <td>26967</td>\n",
       "    </tr>\n",
       "    <tr>\n",
       "      <th>5</th>\n",
       "      <td>14990</td>\n",
       "      <td>2014</td>\n",
       "      <td>chrysler 300</td>\n",
       "      <td>3</td>\n",
       "      <td>6.0</td>\n",
       "      <td>gas</td>\n",
       "      <td>57954</td>\n",
       "      <td>automatic</td>\n",
       "      <td>sedan</td>\n",
       "      <td>black</td>\n",
       "      <td>True</td>\n",
       "      <td>2018-06-20</td>\n",
       "      <td>15</td>\n",
       "      <td>5</td>\n",
       "      <td>11590</td>\n",
       "    </tr>\n",
       "    <tr>\n",
       "      <th>6</th>\n",
       "      <td>12990</td>\n",
       "      <td>2015</td>\n",
       "      <td>toyota camry</td>\n",
       "      <td>3</td>\n",
       "      <td>4.0</td>\n",
       "      <td>gas</td>\n",
       "      <td>79212</td>\n",
       "      <td>automatic</td>\n",
       "      <td>sedan</td>\n",
       "      <td>white</td>\n",
       "      <td>False</td>\n",
       "      <td>2018-12-27</td>\n",
       "      <td>73</td>\n",
       "      <td>4</td>\n",
       "      <td>19803</td>\n",
       "    </tr>\n",
       "    <tr>\n",
       "      <th>7</th>\n",
       "      <td>15990</td>\n",
       "      <td>2013</td>\n",
       "      <td>honda pilot</td>\n",
       "      <td>3</td>\n",
       "      <td>6.0</td>\n",
       "      <td>gas</td>\n",
       "      <td>109473</td>\n",
       "      <td>automatic</td>\n",
       "      <td>SUV</td>\n",
       "      <td>black</td>\n",
       "      <td>True</td>\n",
       "      <td>2019-01-07</td>\n",
       "      <td>68</td>\n",
       "      <td>7</td>\n",
       "      <td>15639</td>\n",
       "    </tr>\n",
       "    <tr>\n",
       "      <th>8</th>\n",
       "      <td>11500</td>\n",
       "      <td>2012</td>\n",
       "      <td>kia sorento</td>\n",
       "      <td>3</td>\n",
       "      <td>4.0</td>\n",
       "      <td>gas</td>\n",
       "      <td>104174</td>\n",
       "      <td>automatic</td>\n",
       "      <td>SUV</td>\n",
       "      <td>unknown</td>\n",
       "      <td>True</td>\n",
       "      <td>2018-07-16</td>\n",
       "      <td>19</td>\n",
       "      <td>7</td>\n",
       "      <td>14882</td>\n",
       "    </tr>\n",
       "    <tr>\n",
       "      <th>9</th>\n",
       "      <td>9200</td>\n",
       "      <td>2008</td>\n",
       "      <td>honda pilot</td>\n",
       "      <td>3</td>\n",
       "      <td>6.0</td>\n",
       "      <td>gas</td>\n",
       "      <td>147191</td>\n",
       "      <td>automatic</td>\n",
       "      <td>SUV</td>\n",
       "      <td>blue</td>\n",
       "      <td>True</td>\n",
       "      <td>2019-02-15</td>\n",
       "      <td>17</td>\n",
       "      <td>12</td>\n",
       "      <td>12265</td>\n",
       "    </tr>\n",
       "  </tbody>\n",
       "</table>\n",
       "</div>"
      ],
      "text/plain": [
       "   price  model_year           model  condition  cylinders fuel  odometer  \\\n",
       "0   9400        2011          bmw x5          2        6.0  gas    145000   \n",
       "1  25500        2011      ford f-150          2        6.0  gas     88705   \n",
       "2   5500        2013  hyundai sonata          4        4.0  gas    110000   \n",
       "3   1500        2003      ford f-150          1        8.0  gas    181613   \n",
       "4  14900        2017    chrysler 200          3        4.0  gas     80903   \n",
       "5  14990        2014    chrysler 300          3        6.0  gas     57954   \n",
       "6  12990        2015    toyota camry          3        4.0  gas     79212   \n",
       "7  15990        2013     honda pilot          3        6.0  gas    109473   \n",
       "8  11500        2012     kia sorento          3        4.0  gas    104174   \n",
       "9   9200        2008     honda pilot          3        6.0  gas    147191   \n",
       "\n",
       "  transmission    type paint_color  is_4wd date_posted  days_listed  \\\n",
       "0    automatic     SUV     unknown    True  2018-06-23           19   \n",
       "1    automatic  pickup       white    True  2018-10-19           50   \n",
       "2    automatic   sedan         red   False  2019-02-07           79   \n",
       "3    automatic  pickup     unknown   False  2019-03-22            9   \n",
       "4    automatic   sedan       black   False  2019-04-02           28   \n",
       "5    automatic   sedan       black    True  2018-06-20           15   \n",
       "6    automatic   sedan       white   False  2018-12-27           73   \n",
       "7    automatic     SUV       black    True  2019-01-07           68   \n",
       "8    automatic     SUV     unknown    True  2018-07-16           19   \n",
       "9    automatic     SUV        blue    True  2019-02-15           17   \n",
       "\n",
       "   vehicle_age  average_mileage_by_year  \n",
       "0            8                    18125  \n",
       "1            8                    11088  \n",
       "2            7                    15714  \n",
       "3           17                    10683  \n",
       "4            3                    26967  \n",
       "5            5                    11590  \n",
       "6            4                    19803  \n",
       "7            7                    15639  \n",
       "8            7                    14882  \n",
       "9           12                    12265  "
      ]
     },
     "execution_count": 21,
     "metadata": {},
     "output_type": "execute_result"
    }
   ],
   "source": [
    "# imprimir una muestra de datos\n",
    "\n",
    "df.head(10)"
   ]
  },
  {
   "cell_type": "markdown",
   "metadata": {},
   "source": [
    "## Estudiar parámetros principales\n",
    "\n",
    "Los parámetros son:\n",
    "- Precio\n",
    "- Los años del vehículo cuando el anuncio se colocó\n",
    "- Millaje\n",
    "- Número de cilindros\n",
    "- Estado"
   ]
  },
  {
   "cell_type": "markdown",
   "metadata": {},
   "source": [
    "<div class=\"alert alert-block alert-info\">\n",
    "\n",
    "<b>Respuesta del estudiante</b> <a class=\"tocSkip\"></a>\n",
    "En esta seccion vamos a abordar los datos atipicos, visualizaremos las columnas que tienen mayor relevancia en cuanto a lo que nos interesa de la investigacion, y basados en los histogramas que obtengamos de ellas entonces discriminaremos los valores atipicos.\n",
    "</div>"
   ]
  },
  {
   "cell_type": "code",
   "execution_count": 22,
   "metadata": {},
   "outputs": [],
   "source": [
    "# Función para generar histograma con análisis de valores atípicos\n",
    "\n",
    "def analyze_parameter(column_name, kde=True):\n",
    "    plt.figure(figsize=(10, 6))\n",
    "    sns.histplot(data=df, x=column_name, kde=kde)\n",
    "    plt.title(f'Histograma de {column_name}')\n",
    "    plt.xlabel(column_name)\n",
    "    plt.ylabel('Frecuencia')\n",
    "    plt.show()"
   ]
  },
  {
   "cell_type": "code",
   "execution_count": 23,
   "metadata": {},
   "outputs": [
    {
     "data": {
      "image/png": "[encoded data removed]",
      "text/plain": [
       "<Figure size 720x432 with 1 Axes>"
      ]
     },
     "metadata": {
      "needs_background": "light"
     },
     "output_type": "display_data"
    }
   ],
   "source": [
    "# Llamada a la función para analizar la columna 'price'\n",
    "\n",
    "analyze_parameter('price')"
   ]
  },
  {
   "cell_type": "code",
   "execution_count": 24,
   "metadata": {},
   "outputs": [
    {
     "data": {
      "image/png": "[encoded data removed]",
      "text/plain": [
       "<Figure size 720x432 with 1 Axes>"
      ]
     },
     "metadata": {
      "needs_background": "light"
     },
     "output_type": "display_data"
    }
   ],
   "source": [
    "# Llamada a la función para analizar la columna 'vehicle_age'\n",
    "\n",
    "analyze_parameter('vehicle_age')"
   ]
  },
  {
   "cell_type": "code",
   "execution_count": 25,
   "metadata": {},
   "outputs": [
    {
     "data": {
      "image/png": "[encoded data removed]",
      "text/plain": [
       "<Figure size 720x432 with 1 Axes>"
      ]
     },
     "metadata": {
      "needs_background": "light"
     },
     "output_type": "display_data"
    }
   ],
   "source": [
    "# Llamada a la función para analizar la columna 'odometer'\n",
    "\n",
    "analyze_parameter('odometer')"
   ]
  },
  {
   "cell_type": "code",
   "execution_count": 26,
   "metadata": {
    "scrolled": false
   },
   "outputs": [
    {
     "data": {
      "image/png": "[encoded data removed]",
      "text/plain": [
       "<Figure size 720x432 with 1 Axes>"
      ]
     },
     "metadata": {
      "needs_background": "light"
     },
     "output_type": "display_data"
    }
   ],
   "source": [
    "# Llamada a la función para analizar la columna 'cylinders'\n",
    "\n",
    "analyze_parameter('cylinders', kde=False)"
   ]
  },
  {
   "cell_type": "code",
   "execution_count": 27,
   "metadata": {},
   "outputs": [
    {
     "data": {
      "image/png": "[encoded data removed]",
      "text/plain": [
       "<Figure size 720x432 with 1 Axes>"
      ]
     },
     "metadata": {
      "needs_background": "light"
     },
     "output_type": "display_data"
    }
   ],
   "source": [
    "# Llamada a la función para analizar la columna 'condition'\n",
    "\n",
    "analyze_parameter('condition', kde=False)"
   ]
  },
  {
   "cell_type": "markdown",
   "metadata": {},
   "source": [
    "<div class=\"alert alert-block alert-info\">\n",
    "\n",
    "<b>Respuesta del estudiante `al comentario del revisor`</b> <a class=\"tocSkip\"></a>\n",
    "Aca como se puede apreciar, para solventar el problema, utilizamos una manera flexible del parametro `kde`, para asi no tener que repetir mucho codigo, de esta manera solo a los graficos que no lo necesiten se le agrega el parametro y asi podemos utilizar el `kde` en los demas para apreciar de mejor manera la tendencia que se nos muestra utilizandolo, y asi evitar perder esta herramienta que nos provee un mayor entendimiento del grafico.\n",
    "</div>"
   ]
  },
  {
   "cell_type": "markdown",
   "metadata": {},
   "source": [
    "<div class=\"alert alert-block alert-info\">\n",
    "\n",
    "<b>Respuesta del estudiante</b> <a class=\"tocSkip\"></a>\n",
    "Como podemos observar en los graficos, cerca del `10%` de la data tiene una tendencia atipica, esto lo veremos en la parte siguiente donde determinaremos cuales valores seran nuestro target como valores atipicos, para discriminarlos de forma efectiva y poder seguir adelante con la investigacion.\n",
    "</div>"
   ]
  },
  {
   "cell_type": "markdown",
   "metadata": {},
   "source": [
    "## Estudiar y tratar valores atípicos"
   ]
  },
  {
   "cell_type": "code",
   "execution_count": 28,
   "metadata": {},
   "outputs": [
    {
     "name": "stdout",
     "output_type": "stream",
     "text": [
      "Límites inferiores para valores atípicos:\n",
      "Price: -12758.5\n",
      "Vehicle Age: -7.0\n",
      "Odometer: -32561.5\n",
      "Cylinders: -2.0\n",
      "Condition: 0.5\n"
     ]
    }
   ],
   "source": [
    "# Determina los límites inferiores para valores atípicos\n",
    "\n",
    "def calculate_lower_bound(column):\n",
    "    q1 = column.quantile(0.25)\n",
    "    q3 = column.quantile(0.75)\n",
    "    iqr = q3 - q1\n",
    "    lower_bound = q1 - 1.5 * iqr\n",
    "    return lower_bound\n",
    "\n",
    "lower_bound_price = calculate_lower_bound(df['price'])\n",
    "lower_bound_vehicle_age = calculate_lower_bound(df['vehicle_age'])\n",
    "lower_bound_odometer = calculate_lower_bound(df['odometer'])\n",
    "lower_bound_cylinders = calculate_lower_bound(df['cylinders'])\n",
    "lower_bound_condition = calculate_lower_bound(df['condition'])\n",
    "\n",
    "print(\"Límites inferiores para valores atípicos:\")\n",
    "print(\"Price:\", lower_bound_price)\n",
    "print(\"Vehicle Age:\", lower_bound_vehicle_age)\n",
    "print(\"Odometer:\", lower_bound_odometer)\n",
    "print(\"Cylinders:\", lower_bound_cylinders)\n",
    "print(\"Condition:\", lower_bound_condition)"
   ]
  },
  {
   "cell_type": "markdown",
   "metadata": {},
   "source": [
    "<div class=\"alert alert-block alert-info\">\n",
    "\n",
    "<b>Respuesta del estudiante</b> <a class=\"tocSkip\"></a>\n",
    "Como podemos observar que hay valores atipicos bien marcados en los limites inferiores de la columna `price` y `odometer`, aparte tambien las columnas `vehicle_age` y `cylinders` tienen algunos de esos valores incoherentes, al igual que `condition` aunque esta ultima en menor medida.\n",
    "</div>"
   ]
  },
  {
   "cell_type": "code",
   "execution_count": 29,
   "metadata": {},
   "outputs": [
    {
     "name": "stdout",
     "output_type": "stream",
     "text": [
      "Límites superiores para valores atípicos:\n",
      "Price: 34597.5\n",
      "Vehicle Age: 25.0\n",
      "Odometer: 256050.5\n",
      "Cylinders: 14.0\n",
      "Condition: 4.5\n"
     ]
    }
   ],
   "source": [
    "# Determinar los límites superiores para valores atípicos\n",
    "\n",
    "def calculate_upper_bound(column):\n",
    "    q1 = column.quantile(0.25)\n",
    "    q3 = column.quantile(0.75)\n",
    "    iqr = q3 - q1\n",
    "    upper_bound = q3 + 1.5 * iqr\n",
    "    return upper_bound\n",
    "\n",
    "upper_bound_price = calculate_upper_bound(df['price'])\n",
    "upper_bound_vehicle_age = calculate_upper_bound(df['vehicle_age'])\n",
    "upper_bound_odometer = calculate_upper_bound(df['odometer'])\n",
    "upper_bound_cylinders = calculate_upper_bound(df['cylinders'])\n",
    "upper_bound_condition = calculate_upper_bound(df['condition'])\n",
    "\n",
    "print(\"Límites superiores para valores atípicos:\")\n",
    "print(\"Price:\", upper_bound_price)\n",
    "print(\"Vehicle Age:\", upper_bound_vehicle_age)\n",
    "print(\"Odometer:\", upper_bound_odometer)\n",
    "print(\"Cylinders:\", upper_bound_cylinders)\n",
    "print(\"Condition:\", upper_bound_condition)"
   ]
  },
  {
   "cell_type": "markdown",
   "metadata": {},
   "source": [
    "<div class=\"alert alert-block alert-info\">\n",
    "\n",
    "<b>Respuesta del estudiante</b> <a class=\"tocSkip\"></a>\n",
    "Igual por aca, podemos observar que hay valores atipicos en los limites superiores de la columna `price` y `odometer`, aparte tambien las columnas `vehicle_age` y `cylinders` tienen algunos de esos valores atipicos, al igual que `condition` aunque esta ultima en menor medida, igual que la anterior vez.\n",
    "</div>"
   ]
  },
  {
   "cell_type": "code",
   "execution_count": 30,
   "metadata": {},
   "outputs": [
    {
     "name": "stdout",
     "output_type": "stream",
     "text": [
      "Información general del DataFrame sin valores atípicos:\n",
      "<class 'pandas.core.frame.DataFrame'>\n",
      "Int64Index: 48092 entries, 0 to 51524\n",
      "Data columns (total 15 columns):\n",
      " #   Column                   Non-Null Count  Dtype         \n",
      "---  ------                   --------------  -----         \n",
      " 0   price                    48092 non-null  int64         \n",
      " 1   model_year               48092 non-null  int64         \n",
      " 2   model                    48092 non-null  object        \n",
      " 3   condition                48092 non-null  int64         \n",
      " 4   cylinders                48092 non-null  float64       \n",
      " 5   fuel                     48092 non-null  object        \n",
      " 6   odometer                 48092 non-null  int64         \n",
      " 7   transmission             48092 non-null  object        \n",
      " 8   type                     48092 non-null  object        \n",
      " 9   paint_color              48092 non-null  object        \n",
      " 10  is_4wd                   48092 non-null  bool          \n",
      " 11  date_posted              48092 non-null  datetime64[ns]\n",
      " 12  days_listed              48092 non-null  int64         \n",
      " 13  vehicle_age              48092 non-null  int64         \n",
      " 14  average_mileage_by_year  48092 non-null  int64         \n",
      "dtypes: bool(1), datetime64[ns](1), float64(1), int64(7), object(5)\n",
      "memory usage: 5.5+ MB\n"
     ]
    }
   ],
   "source": [
    "# Almacena los datos sin valores atípicos en un DataFrame separado\n",
    "\n",
    "filtered_df = df[\n",
    "    (df['price'] >= lower_bound_price) & (df['price'] <= upper_bound_price) &\n",
    "    (df['vehicle_age'] >= lower_bound_vehicle_age) & (df['vehicle_age'] <= upper_bound_vehicle_age) &\n",
    "    (df['odometer'] >= lower_bound_odometer) & (df['odometer'] <= upper_bound_odometer) &\n",
    "    (df['cylinders'] >= lower_bound_cylinders) & (df['cylinders'] <= upper_bound_cylinders) &\n",
    "    (df['condition'] >= lower_bound_condition) & (df['condition'] <= upper_bound_condition)\n",
    "]\n",
    "\n",
    "# Mostrar información general del nuevo DataFrame sin valores atípicos\n",
    "print(\"Información general del DataFrame sin valores atípicos:\")\n",
    "filtered_df.info()"
   ]
  },
  {
   "cell_type": "markdown",
   "metadata": {},
   "source": [
    "<div class=\"alert alert-block alert-info\">\n",
    "\n",
    "<b>Respuesta del estudiante `al comentario del revisor`</b> <a class=\"tocSkip\"></a>\n",
    "Ciertamente es mas simple tomar las variables directamente para que se hagan las operaciones sin tener que hacer malabares, aca esta solventado el problema como sugirio, utilizando las variables directamente.\n",
    "</div>"
   ]
  },
  {
   "cell_type": "markdown",
   "metadata": {},
   "source": [
    "<div class=\"alert alert-block alert-info\">\n",
    "\n",
    "<b>Respuesta del estudiante</b> <a class=\"tocSkip\"></a>\n",
    "Aqui ya hemos procedido a mitigar el inconveniente de los valores atipicos, nos hemos quedado con el `93.33%` de la data del dataframe original para la investigacion, lo que indica que la discriminacion de estos valores no va a influir de manera negativa con el trabajo que debe realizarse.\n",
    "</div>"
   ]
  },
  {
   "cell_type": "code",
   "execution_count": 31,
   "metadata": {},
   "outputs": [
    {
     "data": {
      "text/html": [
       "<div>\n",
       "<style scoped>\n",
       "    .dataframe tbody tr th:only-of-type {\n",
       "        vertical-align: middle;\n",
       "    }\n",
       "\n",
       "    .dataframe tbody tr th {\n",
       "        vertical-align: top;\n",
       "    }\n",
       "\n",
       "    .dataframe thead th {\n",
       "        text-align: right;\n",
       "    }\n",
       "</style>\n",
       "<table border=\"1\" class=\"dataframe\">\n",
       "  <thead>\n",
       "    <tr style=\"text-align: right;\">\n",
       "      <th></th>\n",
       "      <th>price</th>\n",
       "      <th>model_year</th>\n",
       "      <th>model</th>\n",
       "      <th>condition</th>\n",
       "      <th>cylinders</th>\n",
       "      <th>fuel</th>\n",
       "      <th>odometer</th>\n",
       "      <th>transmission</th>\n",
       "      <th>type</th>\n",
       "      <th>paint_color</th>\n",
       "      <th>is_4wd</th>\n",
       "      <th>date_posted</th>\n",
       "      <th>days_listed</th>\n",
       "      <th>vehicle_age</th>\n",
       "      <th>average_mileage_by_year</th>\n",
       "    </tr>\n",
       "  </thead>\n",
       "  <tbody>\n",
       "    <tr>\n",
       "      <th>0</th>\n",
       "      <td>9400</td>\n",
       "      <td>2011</td>\n",
       "      <td>bmw x5</td>\n",
       "      <td>2</td>\n",
       "      <td>6.0</td>\n",
       "      <td>gas</td>\n",
       "      <td>145000</td>\n",
       "      <td>automatic</td>\n",
       "      <td>SUV</td>\n",
       "      <td>unknown</td>\n",
       "      <td>True</td>\n",
       "      <td>2018-06-23</td>\n",
       "      <td>19</td>\n",
       "      <td>8</td>\n",
       "      <td>18125</td>\n",
       "    </tr>\n",
       "    <tr>\n",
       "      <th>1</th>\n",
       "      <td>25500</td>\n",
       "      <td>2011</td>\n",
       "      <td>ford f-150</td>\n",
       "      <td>2</td>\n",
       "      <td>6.0</td>\n",
       "      <td>gas</td>\n",
       "      <td>88705</td>\n",
       "      <td>automatic</td>\n",
       "      <td>pickup</td>\n",
       "      <td>white</td>\n",
       "      <td>True</td>\n",
       "      <td>2018-10-19</td>\n",
       "      <td>50</td>\n",
       "      <td>8</td>\n",
       "      <td>11088</td>\n",
       "    </tr>\n",
       "    <tr>\n",
       "      <th>2</th>\n",
       "      <td>5500</td>\n",
       "      <td>2013</td>\n",
       "      <td>hyundai sonata</td>\n",
       "      <td>4</td>\n",
       "      <td>4.0</td>\n",
       "      <td>gas</td>\n",
       "      <td>110000</td>\n",
       "      <td>automatic</td>\n",
       "      <td>sedan</td>\n",
       "      <td>red</td>\n",
       "      <td>False</td>\n",
       "      <td>2019-02-07</td>\n",
       "      <td>79</td>\n",
       "      <td>7</td>\n",
       "      <td>15714</td>\n",
       "    </tr>\n",
       "    <tr>\n",
       "      <th>3</th>\n",
       "      <td>1500</td>\n",
       "      <td>2003</td>\n",
       "      <td>ford f-150</td>\n",
       "      <td>1</td>\n",
       "      <td>8.0</td>\n",
       "      <td>gas</td>\n",
       "      <td>181613</td>\n",
       "      <td>automatic</td>\n",
       "      <td>pickup</td>\n",
       "      <td>unknown</td>\n",
       "      <td>False</td>\n",
       "      <td>2019-03-22</td>\n",
       "      <td>9</td>\n",
       "      <td>17</td>\n",
       "      <td>10683</td>\n",
       "    </tr>\n",
       "    <tr>\n",
       "      <th>4</th>\n",
       "      <td>14900</td>\n",
       "      <td>2017</td>\n",
       "      <td>chrysler 200</td>\n",
       "      <td>3</td>\n",
       "      <td>4.0</td>\n",
       "      <td>gas</td>\n",
       "      <td>80903</td>\n",
       "      <td>automatic</td>\n",
       "      <td>sedan</td>\n",
       "      <td>black</td>\n",
       "      <td>False</td>\n",
       "      <td>2019-04-02</td>\n",
       "      <td>28</td>\n",
       "      <td>3</td>\n",
       "      <td>26967</td>\n",
       "    </tr>\n",
       "    <tr>\n",
       "      <th>5</th>\n",
       "      <td>14990</td>\n",
       "      <td>2014</td>\n",
       "      <td>chrysler 300</td>\n",
       "      <td>3</td>\n",
       "      <td>6.0</td>\n",
       "      <td>gas</td>\n",
       "      <td>57954</td>\n",
       "      <td>automatic</td>\n",
       "      <td>sedan</td>\n",
       "      <td>black</td>\n",
       "      <td>True</td>\n",
       "      <td>2018-06-20</td>\n",
       "      <td>15</td>\n",
       "      <td>5</td>\n",
       "      <td>11590</td>\n",
       "    </tr>\n",
       "    <tr>\n",
       "      <th>6</th>\n",
       "      <td>12990</td>\n",
       "      <td>2015</td>\n",
       "      <td>toyota camry</td>\n",
       "      <td>3</td>\n",
       "      <td>4.0</td>\n",
       "      <td>gas</td>\n",
       "      <td>79212</td>\n",
       "      <td>automatic</td>\n",
       "      <td>sedan</td>\n",
       "      <td>white</td>\n",
       "      <td>False</td>\n",
       "      <td>2018-12-27</td>\n",
       "      <td>73</td>\n",
       "      <td>4</td>\n",
       "      <td>19803</td>\n",
       "    </tr>\n",
       "    <tr>\n",
       "      <th>7</th>\n",
       "      <td>15990</td>\n",
       "      <td>2013</td>\n",
       "      <td>honda pilot</td>\n",
       "      <td>3</td>\n",
       "      <td>6.0</td>\n",
       "      <td>gas</td>\n",
       "      <td>109473</td>\n",
       "      <td>automatic</td>\n",
       "      <td>SUV</td>\n",
       "      <td>black</td>\n",
       "      <td>True</td>\n",
       "      <td>2019-01-07</td>\n",
       "      <td>68</td>\n",
       "      <td>7</td>\n",
       "      <td>15639</td>\n",
       "    </tr>\n",
       "    <tr>\n",
       "      <th>8</th>\n",
       "      <td>11500</td>\n",
       "      <td>2012</td>\n",
       "      <td>kia sorento</td>\n",
       "      <td>3</td>\n",
       "      <td>4.0</td>\n",
       "      <td>gas</td>\n",
       "      <td>104174</td>\n",
       "      <td>automatic</td>\n",
       "      <td>SUV</td>\n",
       "      <td>unknown</td>\n",
       "      <td>True</td>\n",
       "      <td>2018-07-16</td>\n",
       "      <td>19</td>\n",
       "      <td>7</td>\n",
       "      <td>14882</td>\n",
       "    </tr>\n",
       "    <tr>\n",
       "      <th>9</th>\n",
       "      <td>9200</td>\n",
       "      <td>2008</td>\n",
       "      <td>honda pilot</td>\n",
       "      <td>3</td>\n",
       "      <td>6.0</td>\n",
       "      <td>gas</td>\n",
       "      <td>147191</td>\n",
       "      <td>automatic</td>\n",
       "      <td>SUV</td>\n",
       "      <td>blue</td>\n",
       "      <td>True</td>\n",
       "      <td>2019-02-15</td>\n",
       "      <td>17</td>\n",
       "      <td>12</td>\n",
       "      <td>12265</td>\n",
       "    </tr>\n",
       "  </tbody>\n",
       "</table>\n",
       "</div>"
      ],
      "text/plain": [
       "   price  model_year           model  condition  cylinders fuel  odometer  \\\n",
       "0   9400        2011          bmw x5          2        6.0  gas    145000   \n",
       "1  25500        2011      ford f-150          2        6.0  gas     88705   \n",
       "2   5500        2013  hyundai sonata          4        4.0  gas    110000   \n",
       "3   1500        2003      ford f-150          1        8.0  gas    181613   \n",
       "4  14900        2017    chrysler 200          3        4.0  gas     80903   \n",
       "5  14990        2014    chrysler 300          3        6.0  gas     57954   \n",
       "6  12990        2015    toyota camry          3        4.0  gas     79212   \n",
       "7  15990        2013     honda pilot          3        6.0  gas    109473   \n",
       "8  11500        2012     kia sorento          3        4.0  gas    104174   \n",
       "9   9200        2008     honda pilot          3        6.0  gas    147191   \n",
       "\n",
       "  transmission    type paint_color  is_4wd date_posted  days_listed  \\\n",
       "0    automatic     SUV     unknown    True  2018-06-23           19   \n",
       "1    automatic  pickup       white    True  2018-10-19           50   \n",
       "2    automatic   sedan         red   False  2019-02-07           79   \n",
       "3    automatic  pickup     unknown   False  2019-03-22            9   \n",
       "4    automatic   sedan       black   False  2019-04-02           28   \n",
       "5    automatic   sedan       black    True  2018-06-20           15   \n",
       "6    automatic   sedan       white   False  2018-12-27           73   \n",
       "7    automatic     SUV       black    True  2019-01-07           68   \n",
       "8    automatic     SUV     unknown    True  2018-07-16           19   \n",
       "9    automatic     SUV        blue    True  2019-02-15           17   \n",
       "\n",
       "   vehicle_age  average_mileage_by_year  \n",
       "0            8                    18125  \n",
       "1            8                    11088  \n",
       "2            7                    15714  \n",
       "3           17                    10683  \n",
       "4            3                    26967  \n",
       "5            5                    11590  \n",
       "6            4                    19803  \n",
       "7            7                    15639  \n",
       "8            7                    14882  \n",
       "9           12                    12265  "
      ]
     },
     "execution_count": 31,
     "metadata": {},
     "output_type": "execute_result"
    }
   ],
   "source": [
    "# Mostrar las primeras filas del DataFrame filtrado\n",
    "\n",
    "filtered_df.head(10)"
   ]
  },
  {
   "cell_type": "markdown",
   "metadata": {},
   "source": [
    "<div class=\"alert alert-block alert-info\">\n",
    "\n",
    "<b>Respuesta del estudiante</b> <a class=\"tocSkip\"></a>\n",
    "Aca podemos apreciar una muestra del dataframe filtrado, despues de la discriminacion de los valores atipicos.\n",
    "</div>"
   ]
  },
  {
   "cell_type": "markdown",
   "metadata": {},
   "source": [
    "## Estudiar parámetros principales sin valores atípicos"
   ]
  },
  {
   "cell_type": "code",
   "execution_count": 32,
   "metadata": {},
   "outputs": [],
   "source": [
    "# Definir función para crear histogramas\n",
    "\n",
    "def create_histogram(column_name, title, kde=True):\n",
    "    plt.figure(figsize=(10, 6))\n",
    "    sns.histplot(data=filtered_df, x=column_name, kde=kde)\n",
    "    plt.title(title)\n",
    "    plt.xlabel(column_name)\n",
    "    plt.ylabel('Frecuencia')\n",
    "    plt.show()"
   ]
  },
  {
   "cell_type": "code",
   "execution_count": 33,
   "metadata": {
    "scrolled": false
   },
   "outputs": [
    {
     "data": {
      "image/png": "[encoded data removed]",
      "text/plain": [
       "<Figure size 720x432 with 1 Axes>"
      ]
     },
     "metadata": {
      "needs_background": "light"
     },
     "output_type": "display_data"
    }
   ],
   "source": [
    "# Crear histograma para 'price'\n",
    "\n",
    "create_histogram('price', 'Histograma de Price sin valores atípicos')"
   ]
  },
  {
   "cell_type": "markdown",
   "metadata": {},
   "source": [
    "<div class=\"alert alert-block alert-info\">\n",
    "\n",
    "<b>Respuesta del estudiante</b> <a class=\"tocSkip\"></a>\n",
    "Comparando el nuevo histograma de `price`, la data parece tener un mayor nivel de relevancia, ya que es mas entendible y amigable para los no entendidos, se aprecia la misma tendencia a tener mas publicaciones con precios alrededor de los 5000, lo cual nos permite saber que acertamos al discriminar los valores que sacamos del dataframe sin filtrar.\n",
    "</div>"
   ]
  },
  {
   "cell_type": "code",
   "execution_count": 34,
   "metadata": {},
   "outputs": [
    {
     "data": {
      "image/png": "[encoded data removed]",
      "text/plain": [
       "<Figure size 720x432 with 1 Axes>"
      ]
     },
     "metadata": {
      "needs_background": "light"
     },
     "output_type": "display_data"
    }
   ],
   "source": [
    "# Crear histograma para 'vehicle_age'\n",
    "\n",
    "create_histogram('vehicle_age', 'Histograma de Vehicle Age sin valores atípicos')"
   ]
  },
  {
   "cell_type": "markdown",
   "metadata": {},
   "source": [
    "<div class=\"alert alert-block alert-info\">\n",
    "\n",
    "<b>Respuesta del estudiante</b> <a class=\"tocSkip\"></a>\n",
    "En este nuevo grafico de `vehicle_age` podemos observar la misma tendencia a publicaciones de vehiculos con edades que rondan los `7` años, lo cual es lo mismo que se observaba en el anterior grafico, pero la verdad era poco entendible, si no se hubiera hecho la discriminacion de valores atipicos, ese anterior grafico nos habria servido de poca cosa.\n",
    "</div>"
   ]
  },
  {
   "cell_type": "code",
   "execution_count": 35,
   "metadata": {
    "scrolled": false
   },
   "outputs": [
    {
     "data": {
      "image/png": "[encoded data removed]",
      "text/plain": [
       "<Figure size 720x432 with 1 Axes>"
      ]
     },
     "metadata": {
      "needs_background": "light"
     },
     "output_type": "display_data"
    }
   ],
   "source": [
    "# Crear histograma para 'odometer'\n",
    "\n",
    "create_histogram('odometer', 'Histograma de Odometer sin valores atípicos')"
   ]
  },
  {
   "cell_type": "markdown",
   "metadata": {},
   "source": [
    "<div class=\"alert alert-block alert-info\">\n",
    "\n",
    "<b>Respuesta del estudiante</b> <a class=\"tocSkip\"></a>\n",
    "En esta nueva iteracion de la columna `odometer`, podemos apreciar tendencias iguales, con mejor visibilidad, mas entendibles, al igual que los demas graficos y con datos utiles y listos para una investigacion mas profunda, como podemos ver la tendencia sigue siendo a valores que rondan las `120000` millas, lo cual nos permite tener en cuenta este tipo de valores a la hora de nuestras conclusiones preliminares.\n",
    "</div>"
   ]
  },
  {
   "cell_type": "code",
   "execution_count": 36,
   "metadata": {
    "scrolled": false
   },
   "outputs": [
    {
     "data": {
      "image/png": "[encoded data removed]",
      "text/plain": [
       "<Figure size 720x432 with 1 Axes>"
      ]
     },
     "metadata": {
      "needs_background": "light"
     },
     "output_type": "display_data"
    }
   ],
   "source": [
    "# Crear histograma para 'cylinders'\n",
    "\n",
    "create_histogram('cylinders', 'Histograma de Cylinders sin valores atípicos', kde=False)"
   ]
  },
  {
   "cell_type": "markdown",
   "metadata": {},
   "source": [
    "<div class=\"alert alert-block alert-info\">\n",
    "\n",
    "<b>Respuesta del estudiante</b> <a class=\"tocSkip\"></a>\n",
    "El grafico de esta columna `cylinders`, no tiene mucho de donde quitarle, asi que basicamente es el mismo que vimos con valores atipicos, pero sin los valores atipicos que tenia, podemos ver que la mayor cantidad de publicaciones que tienen una cilindrada especifica se centran en los `6` cilindros.\n",
    "</div>"
   ]
  },
  {
   "cell_type": "code",
   "execution_count": 37,
   "metadata": {
    "scrolled": false
   },
   "outputs": [
    {
     "data": {
      "image/png": "[encoded data removed]",
      "text/plain": [
       "<Figure size 720x432 with 1 Axes>"
      ]
     },
     "metadata": {
      "needs_background": "light"
     },
     "output_type": "display_data"
    }
   ],
   "source": [
    "# Crear histograma para 'condition'\n",
    "\n",
    "create_histogram('condition', 'Histograma de Condition sin valores atípicos', kde=False)"
   ]
  },
  {
   "cell_type": "markdown",
   "metadata": {},
   "source": [
    "<div class=\"alert alert-block alert-info\">\n",
    "\n",
    "<b>Respuesta del estudiante `al comentario del revisor`</b> <a class=\"tocSkip\"></a>\n",
    "Por aca repetimos el mismo tratamiento de los graficos anteriores para solventar el problema con el parametro `kde`, utilizamos una manera flexible del parametro, para asi solo llamarlo cuando es necesario deshabilitarlo y asi podemos utilizar el `kde` en los demas para apreciar de mejor manera la tendencia que se nos muestra utilizandolo, y asi evitar perder esta herramienta que nos provee de mayor entendimiento del grafico.\n",
    "</div>"
   ]
  },
  {
   "cell_type": "markdown",
   "metadata": {},
   "source": [
    "<div class=\"alert alert-block alert-info\">\n",
    "\n",
    "<b>Respuesta del estudiante</b> <a class=\"tocSkip\"></a>\n",
    "En este grafico de la columna `condition` podemos ver la misma tendencia del anterior pero con la data ya limpia, la mayor cantidad de publicaciones se centran en vehiculos en condicion `3` que seria `excellent` y como segundo lugar estan los que estan en `good`.\n",
    "</div>"
   ]
  },
  {
   "cell_type": "markdown",
   "metadata": {},
   "source": [
    "## Periodo de colocación de los anuncios"
   ]
  },
  {
   "cell_type": "code",
   "execution_count": 38,
   "metadata": {},
   "outputs": [
    {
     "name": "stdout",
     "output_type": "stream",
     "text": [
      "Media de días listados: 39.55475982532751\n",
      "Mediana de días listados: 33.0\n"
     ]
    },
    {
     "data": {
      "image/png": "[encoded data removed]",
      "text/plain": [
       "<Figure size 720x432 with 1 Axes>"
      ]
     },
     "metadata": {
      "needs_background": "light"
     },
     "output_type": "display_data"
    }
   ],
   "source": [
    "# Calcular la media y la mediana de days_listed\n",
    "\n",
    "mean_days_listed = df['days_listed'].mean()\n",
    "median_days_listed = df['days_listed'].median()\n",
    "\n",
    "print(\"Media de días listados:\", mean_days_listed)\n",
    "print(\"Mediana de días listados:\", median_days_listed)\n",
    "\n",
    "# Crear un histograma de days_listed\n",
    "plt.figure(figsize=(10, 6))\n",
    "sns.histplot(data=df, x='days_listed', bins=50, kde=True)\n",
    "plt.title('Histograma de Days Listed')\n",
    "plt.xlabel('Días listados')\n",
    "plt.ylabel('Frecuencia')\n",
    "plt.show()"
   ]
  },
  {
   "cell_type": "markdown",
   "metadata": {},
   "source": [
    "<div class=\"alert alert-block alert-info\">\n",
    "\n",
    "<b>Respuesta del estudiante</b> <a class=\"tocSkip\"></a>\n",
    "Como podemos observar el tiempo habitual de colocacion de un anuncio ronda los `33` a `39` dias, segun la media y la mediana respectivamente.\n",
    "</div>"
   ]
  },
  {
   "cell_type": "code",
   "execution_count": 39,
   "metadata": {},
   "outputs": [
    {
     "name": "stdout",
     "output_type": "stream",
     "text": [
      "Cantidad de anuncios eliminados rápidamente: 4586\n",
      "Cantidad de anuncios de duración anormalmente larga: 9891\n"
     ]
    }
   ],
   "source": [
    "# Definir umbrales para anuncios eliminados rápidamente y anuncios de duración anormalmente larga\n",
    "\n",
    "quick_removal_threshold = 10\n",
    "long_duration_threshold = 60\n",
    "\n",
    "# Filtrar anuncios eliminados rápidamente y con duración anormalmente larga\n",
    "quick_removal_ads = df[df['days_listed'] < quick_removal_threshold]\n",
    "long_duration_ads = df[df['days_listed'] > long_duration_threshold]\n",
    "\n",
    "# Imprimir la cantidad de anuncios eliminados rápidamente y de duración anormalmente larga\n",
    "print(\"Cantidad de anuncios eliminados rápidamente:\", len(quick_removal_ads))\n",
    "print(\"Cantidad de anuncios de duración anormalmente larga:\", len(long_duration_ads))"
   ]
  },
  {
   "cell_type": "code",
   "execution_count": 40,
   "metadata": {},
   "outputs": [
    {
     "name": "stdout",
     "output_type": "stream",
     "text": [
      "Modelos, edades y condiciones con mayor incidencia de eliminación rápida:\n",
      "                             model  vehicle_age  condition\n",
      "3                       ford f-150           17          1\n",
      "21                     toyota rav4           12          2\n",
      "32                   nissan altima            4          4\n",
      "39                      ford f-150           11          2\n",
      "59               toyota highlander           13          2\n",
      "73      jeep grand cherokee laredo           25          2\n",
      "75                 chevrolet tahoe           14          3\n",
      "84                 hyundai elantra            6          4\n",
      "114    nissan frontier crew cab sv            1          2\n",
      "120  chevrolet silverado 1500 crew            2          2\n",
      "Modelos, edades y condiciones con mayor incidencia de duración anormalmente larga:\n",
      "                  model  vehicle_age  condition\n",
      "2        hyundai sonata            7          4\n",
      "6          toyota camry            4          3\n",
      "7           honda pilot            7          3\n",
      "15             ram 1500            6          3\n",
      "22  chevrolet silverado           16          4\n",
      "28   chevrolet corvette            7          3\n",
      "34    toyota highlander           11          2\n",
      "46        dodge charger            4          3\n",
      "51           ford focus            7          2\n",
      "52             kia soul            9          2\n"
     ]
    }
   ],
   "source": [
    "# Obtener los modelos, edades y condiciones de vehículos que fueron eliminados rápidamente\n",
    "\n",
    "quick_removal_info = quick_removal_ads[['model', 'vehicle_age', 'condition']]\n",
    "\n",
    "# Obtener los modelos, edades y condiciones de vehículos con duración anormalmente larga\n",
    "long_duration_info = long_duration_ads[['model', 'vehicle_age', 'condition']]\n",
    "\n",
    "# Mostrar los modelos, edades y condiciones con mayor incidencia de eliminación rápida\n",
    "print(\"Modelos, edades y condiciones con mayor incidencia de eliminación rápida:\")\n",
    "print(quick_removal_info.head(10))\n",
    "\n",
    "# Mostrar los modelos, edades y condiciones con mayor incidencia de duración anormalmente larga\n",
    "print(\"Modelos, edades y condiciones con mayor incidencia de duración anormalmente larga:\")\n",
    "print(long_duration_info.head(10))"
   ]
  },
  {
   "cell_type": "markdown",
   "metadata": {},
   "source": [
    "<div class=\"alert alert-block alert-info\">\n",
    "\n",
    "<b>Respuesta del estudiante</b> <a class=\"tocSkip\"></a>\n",
    "Aca podemos observar que los anuncios de los vehiculos que se eliminaron de manera mas rapida fueron vehiculos con poco tiempo de uso, y los que estuvieron publicados por mayor tiempo en la pagina web fueron vehiculos con mas de 6 años de uso y `fair` en la columna `condition`, asi que podemos decir que los vehiculos que fueron mas abusados tuvieron peor salida sin mucha variacion en la cantidad de tiempo de uso.\n",
    "</div>"
   ]
  },
  {
   "cell_type": "markdown",
   "metadata": {},
   "source": [
    "## Precio promedio por cada tipo de vehículo"
   ]
  },
  {
   "cell_type": "code",
   "execution_count": 41,
   "metadata": {},
   "outputs": [
    {
     "data": {
      "image/png": "[encoded data removed]",
      "text/plain": [
       "<Figure size 720x432 with 1 Axes>"
      ]
     },
     "metadata": {
      "needs_background": "light"
     },
     "output_type": "display_data"
    },
    {
     "name": "stdout",
     "output_type": "stream",
     "text": [
      "Información sobre el número de anuncios y el precio promedio por tipo de vehículo:\n",
      "           type         price  num_ads\n",
      "0           SUV  11149.400000    12405\n",
      "1           bus  17135.666667       24\n",
      "2   convertible  14575.881166      446\n",
      "3         coupe  14353.442901     2303\n",
      "4     hatchback   6868.513849     1047\n",
      "5      mini-van   8193.177433     1161\n",
      "6       offroad  14292.294393      214\n",
      "7         other  10989.714844      256\n",
      "8        pickup  16057.410418     6988\n",
      "9         sedan   6965.358647    12154\n",
      "10        truck  16734.894924    12353\n",
      "11          van  10546.941548      633\n",
      "12        wagon   9088.134328     1541\n"
     ]
    }
   ],
   "source": [
    "# Calcular el número de anuncios y el precio promedio por tipo de vehículo\n",
    "\n",
    "vehicle_type_stats = df.groupby('type').agg({'price': 'mean', 'model': 'count'}).reset_index()\n",
    "vehicle_type_stats.rename(columns={'model': 'num_ads'}, inplace=True)\n",
    "\n",
    "# Seleccionar los dos tipos con el mayor número de anuncios\n",
    "top_vehicle_types = vehicle_type_stats.nlargest(2, 'num_ads')\n",
    "\n",
    "# Graficar la dependencia de la cantidad de anuncios en cada tipo de vehículo\n",
    "plt.figure(figsize=(10, 6))\n",
    "sns.barplot(x='type', y='num_ads', data=top_vehicle_types)\n",
    "plt.title('Número de Anuncios por Tipo de Vehículo')\n",
    "plt.xlabel('Tipo de Vehículo')\n",
    "plt.ylabel('Número de Anuncios')\n",
    "plt.show()\n",
    "\n",
    "# Mostrar la información sobre el número de anuncios y el precio promedio por tipo de vehículo\n",
    "print(\"Información sobre el número de anuncios y el precio promedio por tipo de vehículo:\")\n",
    "print(vehicle_type_stats)"
   ]
  },
  {
   "cell_type": "markdown",
   "metadata": {},
   "source": [
    "<div class=\"alert alert-block alert-info\">\n",
    "\n",
    "<b>Respuesta del estudiante</b> <a class=\"tocSkip\"></a>\n",
    "Los vehiculo con mayor precio por tipo fueron los `SUV` y `truck`, como podemos observar el valor promedio y numero de ads de estos es la superior entre las demas.\n",
    "</div>"
   ]
  },
  {
   "cell_type": "markdown",
   "metadata": {},
   "source": [
    "## Factores de precio"
   ]
  },
  {
   "cell_type": "code",
   "execution_count": 42,
   "metadata": {},
   "outputs": [
    {
     "data": {
      "image/png": "[encoded data removed]",
      "text/plain": [
       "<Figure size 781.625x360 with 2 Axes>"
      ]
     },
     "metadata": {
      "needs_background": "light"
     },
     "output_type": "display_data"
    },
    {
     "data": {
      "image/png": "[encoded data removed]",
      "text/plain": [
       "<Figure size 720x432 with 1 Axes>"
      ]
     },
     "metadata": {
      "needs_background": "light"
     },
     "output_type": "display_data"
    },
    {
     "data": {
      "image/png": "[encoded data removed]",
      "text/plain": [
       "<Figure size 720x432 with 1 Axes>"
      ]
     },
     "metadata": {
      "needs_background": "light"
     },
     "output_type": "display_data"
    },
    {
     "data": {
      "image/png": "[encoded data removed]",
      "text/plain": [
       "<Figure size 720x432 with 2 Axes>"
      ]
     },
     "metadata": {
      "needs_background": "light"
     },
     "output_type": "display_data"
    },
    {
     "name": "stdout",
     "output_type": "stream",
     "text": [
      "                price  vehicle_age  odometer  condition\n",
      "price        1.000000    -0.521610 -0.417956   0.259821\n",
      "vehicle_age -0.521610     1.000000  0.503983  -0.333696\n",
      "odometer    -0.417956     0.503983  1.000000  -0.352598\n",
      "condition    0.259821    -0.333696 -0.352598   1.000000\n"
     ]
    }
   ],
   "source": [
    "# Filtrar el DataFrame para los tipos de vehículos más populares\n",
    "\n",
    "popular_vehicle_types = top_vehicle_types['type'].tolist()\n",
    "filtered_df = df[df['type'].isin(popular_vehicle_types)]\n",
    "\n",
    "# Crear un DataFrame con las variables seleccionadas\n",
    "selected_columns = ['type', 'price', 'vehicle_age', 'odometer', 'condition', 'transmission', 'paint_color']\n",
    "selected_df = filtered_df[selected_columns]\n",
    "\n",
    "# Filtrar las categorías con al menos 50 anuncios para las variables categóricas\n",
    "categorical_vars = ['transmission', 'paint_color']\n",
    "for var in categorical_vars:\n",
    "    counts = selected_df[var].value_counts()\n",
    "    selected_categories = counts[counts >= 50].index\n",
    "    selected_df = selected_df[selected_df[var].isin(selected_categories)]\n",
    "\n",
    "# Crear un gráfico de dispersión para las variables numéricas\n",
    "numeric_vars = ['vehicle_age', 'odometer']\n",
    "sns.pairplot(selected_df, x_vars=numeric_vars, y_vars='price', hue='type', height=5)\n",
    "plt.suptitle('Relación entre Precio, Edad y Millaje')\n",
    "plt.show()\n",
    "\n",
    "# Crear gráficos de caja y bigotes para las variables categóricas\n",
    "for var in categorical_vars:\n",
    "    plt.figure(figsize=(10, 6))\n",
    "    sns.boxplot(data=selected_df, x=var, y='price', hue='type')\n",
    "    plt.title(f'Relación entre Precio y {var}')\n",
    "    plt.xlabel(var)\n",
    "    plt.ylabel('Precio')\n",
    "    plt.show()\n",
    "\n",
    "# Calcular la matriz de correlación y mostrar un heatmap\n",
    "correlation_matrix = selected_df.corr()\n",
    "plt.figure(figsize=(10, 6))\n",
    "sns.heatmap(correlation_matrix, annot=True, cmap='coolwarm', center=0)\n",
    "plt.title('Matriz de Correlación')\n",
    "plt.show()\n",
    "print(correlation_matrix)"
   ]
  },
  {
   "cell_type": "markdown",
   "metadata": {},
   "source": [
    "<div class=\"alert alert-block alert-info\">\n",
    "\n",
    "<b>Respuesta del estudiante</b> <a class=\"tocSkip\"></a>\n",
    "En esta parte podemos ver la incidencia de las diferentes variables en el precio de los vehiculos, por tipo, año, millaje, condicion, color y transmision, podemos concluir que los vehiculos tipo `SUV` de color `negro`, `amarillo` y `naranja`, en transmision `manual`, o `TRUCK` de color `desconocido`, `negro` y `gris`, en transmision `automatica` ambos tipos de menos de `7` años y que tengan menos de `50000` millas son los vehiculos con mayores precios de nuestro dataframe, el valor de estos no depende de una sola variable en especifico, si no del conjunto en general es lo que se puede observar con una relacion no demasiado fuerte entre todas las variables ya mencionadas, pero a pesar de ello la relacion es evidente.\n",
    "</div>"
   ]
  },
  {
   "cell_type": "markdown",
   "metadata": {},
   "source": [
    "## Conclusión general"
   ]
  },
  {
   "cell_type": "markdown",
   "metadata": {},
   "source": [
    "<div class=\"alert alert-block alert-info\">\n",
    "\n",
    "<b>Respuesta del estudiante `Conclusion Corregida`</b> <a class=\"tocSkip\"></a>\n",
    "Como conclusiones podemos decir que la investigacion arrojo unos detalles interesantes, como el hecho de que una sola variable no determina el precio de un vehiculo, si no que esto se determina con un conjunto de valores los cuales son el `tipo`, `color`, `transmision`, `edad` y `millaje`, este conjunto nos arroja la informacion necesaria para saber que le da o quita valor a un vehiculo, como pudimos demostrar en los graficos contenidos en la investigacion, en el proceso gracias al procesado de los datos pude observar con detenimiento la fragil relacion que hay entre cada columna y el porque debia procesar los datos de la manera que lo hice, para asegurar que la investigacion fuera lo menos imparcial y conclusiva posible, como podemos ver se discrimino poca data en el proceso solo se perdio un `6.67%` de la data original, a la vez que se mejoro la que ya teniamos disponible, para poder lograr el cometido. Hablemos de los valores ausentes y atipicos con que nos encontramos en el dataframe que nos entregaron, estos valores que pudimos encontrar en el dataframe simplemente parecen un grupo de errores que se acumularon en la captura de los datos, algo imposible de conocer por mi en el sentido de que no tengo acceso al equipo que se dedico a la captura para hacerles las preguntas correspondientes sobre estos errores, en el caso de los valores atipicos parecian mas un tipo de error de conversion de los datos, ya que habia bastantes datos en negativo en `price` y `odometer` principalmente, para solucionarlo, ya que no era una gran cantidad de data, como se puede observar, simplemente los deje fuera, la discriminacion fue bastante efectiva, ya que los resultados no fueron influenciados de manera negativa y las conclusiones fueron mas que evidentes para poder llegar al entendimiento que tenemos ahora de la investigacion.\n",
    "</div>"
   ]
  }
 ],
 "metadata": {
  "ExecuteTimeLog": [
   {
    "duration": 828,
    "start_time": "2021-11-16T09:21:11.304Z"
   },
   {
    "duration": 893,
    "start_time": "2021-11-16T09:21:17.728Z"
   },
   {
    "duration": 1150,
    "start_time": "2021-11-16T09:21:29.568Z"
   },
   {
    "duration": 3,
    "start_time": "2021-11-16T09:24:14.495Z"
   },
   {
    "duration": 120,
    "start_time": "2021-11-16T09:24:46.630Z"
   },
   {
    "duration": 3,
    "start_time": "2021-11-16T09:28:27.882Z"
   },
   {
    "duration": 4,
    "start_time": "2021-11-16T09:29:54.281Z"
   },
   {
    "duration": 3,
    "start_time": "2021-11-16T09:30:45.936Z"
   },
   {
    "duration": 4,
    "start_time": "2021-11-16T09:31:06.300Z"
   },
   {
    "duration": 113,
    "start_time": "2021-11-16T09:31:37.208Z"
   },
   {
    "duration": 143,
    "start_time": "2021-11-16T09:31:48.656Z"
   },
   {
    "duration": 98,
    "start_time": "2021-11-16T09:31:55.678Z"
   },
   {
    "duration": 3,
    "start_time": "2021-11-16T09:32:08.535Z"
   },
   {
    "duration": 111,
    "start_time": "2021-11-16T09:32:10.120Z"
   },
   {
    "duration": 3,
    "start_time": "2021-11-16T09:32:15.732Z"
   },
   {
    "duration": 4,
    "start_time": "2021-11-16T09:32:29.423Z"
   },
   {
    "duration": 3,
    "start_time": "2021-11-16T10:03:03.074Z"
   },
   {
    "duration": 3,
    "start_time": "2021-11-16T10:10:01.288Z"
   },
   {
    "duration": 3,
    "start_time": "2021-11-16T10:10:46.923Z"
   },
   {
    "duration": 121,
    "start_time": "2021-11-16T10:37:46.494Z"
   },
   {
    "duration": 125,
    "start_time": "2021-11-16T10:38:20.632Z"
   },
   {
    "duration": 112,
    "start_time": "2021-11-16T10:46:53.001Z"
   },
   {
    "duration": 110,
    "start_time": "2021-11-16T10:48:25.775Z"
   },
   {
    "duration": 3,
    "start_time": "2021-11-16T10:50:18.720Z"
   },
   {
    "duration": 4,
    "start_time": "2021-11-16T10:50:37.649Z"
   },
   {
    "duration": 2,
    "start_time": "2021-11-16T10:50:51.884Z"
   },
   {
    "duration": 3,
    "start_time": "2021-11-16T10:51:56.237Z"
   },
   {
    "duration": 101,
    "start_time": "2021-11-16T10:53:13.791Z"
   },
   {
    "duration": 3,
    "start_time": "2021-11-16T10:55:59.186Z"
   },
   {
    "duration": 3,
    "start_time": "2021-11-16T10:56:10.751Z"
   },
   {
    "duration": 3,
    "start_time": "2021-11-16T10:56:49.038Z"
   },
   {
    "duration": 3,
    "start_time": "2021-11-16T10:56:49.174Z"
   },
   {
    "duration": 4,
    "start_time": "2021-11-16T10:56:49.414Z"
   },
   {
    "duration": 3,
    "start_time": "2021-11-16T10:56:49.680Z"
   },
   {
    "duration": 3,
    "start_time": "2021-11-16T10:56:50.370Z"
   },
   {
    "duration": 114,
    "start_time": "2021-11-16T10:59:34.518Z"
   },
   {
    "duration": 3,
    "start_time": "2021-11-16T11:01:41.201Z"
   },
   {
    "duration": 116,
    "start_time": "2021-11-16T11:01:48.754Z"
   },
   {
    "duration": 3,
    "start_time": "2021-11-16T11:02:16.685Z"
   },
   {
    "duration": 3,
    "start_time": "2021-11-16T11:02:19.479Z"
   },
   {
    "duration": 3,
    "start_time": "2021-11-16T11:02:47.067Z"
   },
   {
    "duration": 3,
    "start_time": "2021-11-16T11:02:49.353Z"
   },
   {
    "duration": 3,
    "start_time": "2021-11-16T11:03:07.835Z"
   },
   {
    "duration": 3,
    "start_time": "2021-11-16T11:03:07.953Z"
   },
   {
    "duration": 112,
    "start_time": "2021-11-16T11:07:52.072Z"
   },
   {
    "duration": 187,
    "start_time": "2021-11-16T11:09:23.468Z"
   },
   {
    "duration": 4,
    "start_time": "2021-11-16T11:10:01.455Z"
   },
   {
    "duration": 3,
    "start_time": "2021-11-16T11:10:05.069Z"
   },
   {
    "duration": 4,
    "start_time": "2021-11-16T11:10:13.376Z"
   },
   {
    "duration": 3,
    "start_time": "2021-11-16T11:10:14.434Z"
   },
   {
    "duration": 3,
    "start_time": "2021-11-16T11:10:22.853Z"
   },
   {
    "duration": 4,
    "start_time": "2021-11-16T11:27:29.279Z"
   },
   {
    "duration": 4,
    "start_time": "2021-11-16T11:29:08.919Z"
   },
   {
    "duration": 118,
    "start_time": "2021-11-16T11:29:46.703Z"
   },
   {
    "duration": 437,
    "start_time": "2021-11-16T11:36:02.181Z"
   },
   {
    "duration": 157,
    "start_time": "2021-11-16T11:36:14.388Z"
   },
   {
    "duration": 207,
    "start_time": "2021-11-16T11:47:15.898Z"
   },
   {
    "duration": 3,
    "start_time": "2021-11-16T11:53:52.092Z"
   },
   {
    "duration": 3,
    "start_time": "2021-11-16T11:53:52.236Z"
   },
   {
    "duration": 3,
    "start_time": "2021-11-16T11:59:12.005Z"
   },
   {
    "duration": 112,
    "start_time": "2021-11-16T12:00:33.446Z"
   },
   {
    "duration": 3,
    "start_time": "2021-11-16T12:02:14.453Z"
   },
   {
    "duration": 3,
    "start_time": "2021-11-16T12:02:39.512Z"
   },
   {
    "duration": 106,
    "start_time": "2021-11-16T12:03:03.460Z"
   }
  ],
  "kernelspec": {
   "display_name": "Python 3 (ipykernel)",
   "language": "python",
   "name": "python3"
  },
  "language_info": {
   "codemirror_mode": {
    "name": "ipython",
    "version": 3
   },
   "file_extension": ".py",
   "mimetype": "text/x-python",
   "name": "python",
   "nbconvert_exporter": "python",
   "pygments_lexer": "ipython3",
   "version": "3.10.9"
  },
  "toc": {
   "base_numbering": 1,
   "nav_menu": {},
   "number_sections": true,
   "sideBar": true,
   "skip_h1_title": false,
   "title_cell": "Table of Contents",
   "title_sidebar": "Contents",
   "toc_cell": false,
   "toc_position": {
    "height": "calc(100% - 180px)",
    "left": "10px",
    "top": "150px",
    "width": "614.4px"
   },
   "toc_section_display": true,
   "toc_window_display": true
  }
 },
 "nbformat": 4,
 "nbformat_minor": 2
}
