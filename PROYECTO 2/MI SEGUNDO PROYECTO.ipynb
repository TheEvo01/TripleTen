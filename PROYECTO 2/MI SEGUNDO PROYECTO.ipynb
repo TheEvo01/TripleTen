{
 "cells": [
  {
   "cell_type": "markdown",
   "metadata": {},
   "source": [
    "# Análisis del riesgo de incumplimiento de los prestatarios\n",
    "\n",
    "Tu proyecto consiste en preparar un informe para la división de préstamos de un banco. Deberás averiguar si el estado civil y el número de hijos de un cliente tienen un impacto en el incumplimiento de pago de un préstamo. El banco ya tiene algunos datos sobre la solvencia crediticia de los clientes.\n",
    "\n",
    "Tu informe se tendrá en cuenta al crear una **puntuación de crédito** para un cliente potencial. La **puntuación de crédito** se utiliza para evaluar la capacidad de un prestatario potencial para pagar su préstamo.\n",
    "\n",
    "[En este cuaderno se te brindan pistas, breves instrucciones y sugerencias para pensar. No los ignores, ya que están diseñados para equiparte con la estructura del proyecto y te ayudarán a analizar lo que estás haciendo en un nivel más profundo. Antes de enviar tu proyecto, asegúrate de eliminar todas las sugerencias y descripciones que se te hayan proporcionado. Más bien, haz que este informe parezca como si se lo estuvieras enviando a tus compañeros de equipo para demostrar tus hallazgos: ¡no deben saber que recibiste ayuda externa de nuestra parte! Para ayudarte, hemos colocado las pistas que debes eliminar entre corchetes.]\n",
    "\n",
    "[Antes de sumergirte en el análisis de tus datos, explica los propósitos del proyecto y las hipótesis que vas a evaluar.]"
   ]
  },
  {
   "cell_type": "markdown",
   "metadata": {},
   "source": [
    "## Abre el archivo de datos y mira la información general. \n",
    "\n",
    "[Empieza con la importación de las librerías y la carga de los datos. Es posible que te des cuenta de que necesitas librerías adicionales a medida que avanzas, lo cual es totalmente normal, solo asegúrate de actualizar esta sección cuando lo hagas.]"
   ]
  },
  {
   "cell_type": "code",
   "execution_count": 1,
   "metadata": {},
   "outputs": [],
   "source": [
    "import pandas as pd # Cargar todas las librerías\n",
    "import matplotlib.pyplot as plt\n",
    "import seaborn as sns\n",
    "\n",
    "try:\n",
    "    df = pd.read_csv('/datasets/credit_scoring_eng.csv', sep=',')\n",
    "except:\n",
    "    df = pd.read_csv('/datasets/credit_scoring_eng.csv', sep=',')"
   ]
  },
  {
   "cell_type": "markdown",
   "metadata": {},
   "source": [
    "## Ejercicio 1. Exploración de datos\n",
    "\n",
    "**Descripción de los datos**\n",
    "- `children` - el número de hijos en la familia\n",
    "- `days_employed` - experiencia laboral en días\n",
    "- `dob_years` - la edad del cliente en años\n",
    "- `education` - la educación del cliente\n",
    "- `education_id` - identificador de educación\n",
    "- `family_status` - estado civil\n",
    "- `family_status_id` - identificador de estado civil\n",
    "- `gender` - género del cliente\n",
    "- `income_type` - tipo de empleo\n",
    "- `debt` - ¿había alguna deuda en el pago de un préstamo?\n",
    "- `total_income` - ingreso mensual\n",
    "- `purpose` - el propósito de obtener un préstamo\n",
    "\n",
    "[Ahora vamos a explorar nuestros datos. Querrás ver cuántas columnas y filas hay, observa algunas filas para identificar posibles problemas con los datos.]"
   ]
  },
  {
   "cell_type": "code",
   "execution_count": 2,
   "metadata": {},
   "outputs": [
    {
     "data": {
      "text/plain": [
       "(21525, 12)"
      ]
     },
     "execution_count": 2,
     "metadata": {},
     "output_type": "execute_result"
    }
   ],
   "source": [
    "# Vamos a ver cuántas filas y columnas tiene nuestro conjunto de datos\n",
    "\n",
    "df.shape"
   ]
  },
  {
   "cell_type": "code",
   "execution_count": 3,
   "metadata": {
    "scrolled": true
   },
   "outputs": [
    {
     "data": {
      "text/html": [
       "<div>\n",
       "<style scoped>\n",
       "    .dataframe tbody tr th:only-of-type {\n",
       "        vertical-align: middle;\n",
       "    }\n",
       "\n",
       "    .dataframe tbody tr th {\n",
       "        vertical-align: top;\n",
       "    }\n",
       "\n",
       "    .dataframe thead th {\n",
       "        text-align: right;\n",
       "    }\n",
       "</style>\n",
       "<table border=\"1\" class=\"dataframe\">\n",
       "  <thead>\n",
       "    <tr style=\"text-align: right;\">\n",
       "      <th></th>\n",
       "      <th>children</th>\n",
       "      <th>days_employed</th>\n",
       "      <th>dob_years</th>\n",
       "      <th>education</th>\n",
       "      <th>education_id</th>\n",
       "      <th>family_status</th>\n",
       "      <th>family_status_id</th>\n",
       "      <th>gender</th>\n",
       "      <th>income_type</th>\n",
       "      <th>debt</th>\n",
       "      <th>total_income</th>\n",
       "      <th>purpose</th>\n",
       "    </tr>\n",
       "  </thead>\n",
       "  <tbody>\n",
       "    <tr>\n",
       "      <th>0</th>\n",
       "      <td>1</td>\n",
       "      <td>-8437.673028</td>\n",
       "      <td>42</td>\n",
       "      <td>bachelor's degree</td>\n",
       "      <td>0</td>\n",
       "      <td>married</td>\n",
       "      <td>0</td>\n",
       "      <td>F</td>\n",
       "      <td>employee</td>\n",
       "      <td>0</td>\n",
       "      <td>40620.102</td>\n",
       "      <td>purchase of the house</td>\n",
       "    </tr>\n",
       "    <tr>\n",
       "      <th>1</th>\n",
       "      <td>1</td>\n",
       "      <td>-4024.803754</td>\n",
       "      <td>36</td>\n",
       "      <td>secondary education</td>\n",
       "      <td>1</td>\n",
       "      <td>married</td>\n",
       "      <td>0</td>\n",
       "      <td>F</td>\n",
       "      <td>employee</td>\n",
       "      <td>0</td>\n",
       "      <td>17932.802</td>\n",
       "      <td>car purchase</td>\n",
       "    </tr>\n",
       "    <tr>\n",
       "      <th>2</th>\n",
       "      <td>0</td>\n",
       "      <td>-5623.422610</td>\n",
       "      <td>33</td>\n",
       "      <td>Secondary Education</td>\n",
       "      <td>1</td>\n",
       "      <td>married</td>\n",
       "      <td>0</td>\n",
       "      <td>M</td>\n",
       "      <td>employee</td>\n",
       "      <td>0</td>\n",
       "      <td>23341.752</td>\n",
       "      <td>purchase of the house</td>\n",
       "    </tr>\n",
       "    <tr>\n",
       "      <th>3</th>\n",
       "      <td>3</td>\n",
       "      <td>-4124.747207</td>\n",
       "      <td>32</td>\n",
       "      <td>secondary education</td>\n",
       "      <td>1</td>\n",
       "      <td>married</td>\n",
       "      <td>0</td>\n",
       "      <td>M</td>\n",
       "      <td>employee</td>\n",
       "      <td>0</td>\n",
       "      <td>42820.568</td>\n",
       "      <td>supplementary education</td>\n",
       "    </tr>\n",
       "    <tr>\n",
       "      <th>4</th>\n",
       "      <td>0</td>\n",
       "      <td>340266.072047</td>\n",
       "      <td>53</td>\n",
       "      <td>secondary education</td>\n",
       "      <td>1</td>\n",
       "      <td>civil partnership</td>\n",
       "      <td>1</td>\n",
       "      <td>F</td>\n",
       "      <td>retiree</td>\n",
       "      <td>0</td>\n",
       "      <td>25378.572</td>\n",
       "      <td>to have a wedding</td>\n",
       "    </tr>\n",
       "    <tr>\n",
       "      <th>5</th>\n",
       "      <td>0</td>\n",
       "      <td>-926.185831</td>\n",
       "      <td>27</td>\n",
       "      <td>bachelor's degree</td>\n",
       "      <td>0</td>\n",
       "      <td>civil partnership</td>\n",
       "      <td>1</td>\n",
       "      <td>M</td>\n",
       "      <td>business</td>\n",
       "      <td>0</td>\n",
       "      <td>40922.170</td>\n",
       "      <td>purchase of the house</td>\n",
       "    </tr>\n",
       "    <tr>\n",
       "      <th>6</th>\n",
       "      <td>0</td>\n",
       "      <td>-2879.202052</td>\n",
       "      <td>43</td>\n",
       "      <td>bachelor's degree</td>\n",
       "      <td>0</td>\n",
       "      <td>married</td>\n",
       "      <td>0</td>\n",
       "      <td>F</td>\n",
       "      <td>business</td>\n",
       "      <td>0</td>\n",
       "      <td>38484.156</td>\n",
       "      <td>housing transactions</td>\n",
       "    </tr>\n",
       "    <tr>\n",
       "      <th>7</th>\n",
       "      <td>0</td>\n",
       "      <td>-152.779569</td>\n",
       "      <td>50</td>\n",
       "      <td>SECONDARY EDUCATION</td>\n",
       "      <td>1</td>\n",
       "      <td>married</td>\n",
       "      <td>0</td>\n",
       "      <td>M</td>\n",
       "      <td>employee</td>\n",
       "      <td>0</td>\n",
       "      <td>21731.829</td>\n",
       "      <td>education</td>\n",
       "    </tr>\n",
       "    <tr>\n",
       "      <th>8</th>\n",
       "      <td>2</td>\n",
       "      <td>-6929.865299</td>\n",
       "      <td>35</td>\n",
       "      <td>BACHELOR'S DEGREE</td>\n",
       "      <td>0</td>\n",
       "      <td>civil partnership</td>\n",
       "      <td>1</td>\n",
       "      <td>F</td>\n",
       "      <td>employee</td>\n",
       "      <td>0</td>\n",
       "      <td>15337.093</td>\n",
       "      <td>having a wedding</td>\n",
       "    </tr>\n",
       "    <tr>\n",
       "      <th>9</th>\n",
       "      <td>0</td>\n",
       "      <td>-2188.756445</td>\n",
       "      <td>41</td>\n",
       "      <td>secondary education</td>\n",
       "      <td>1</td>\n",
       "      <td>married</td>\n",
       "      <td>0</td>\n",
       "      <td>M</td>\n",
       "      <td>employee</td>\n",
       "      <td>0</td>\n",
       "      <td>23108.150</td>\n",
       "      <td>purchase of the house for my family</td>\n",
       "    </tr>\n",
       "  </tbody>\n",
       "</table>\n",
       "</div>"
      ],
      "text/plain": [
       "   children  days_employed  dob_years            education  education_id  \\\n",
       "0         1   -8437.673028         42    bachelor's degree             0   \n",
       "1         1   -4024.803754         36  secondary education             1   \n",
       "2         0   -5623.422610         33  Secondary Education             1   \n",
       "3         3   -4124.747207         32  secondary education             1   \n",
       "4         0  340266.072047         53  secondary education             1   \n",
       "5         0    -926.185831         27    bachelor's degree             0   \n",
       "6         0   -2879.202052         43    bachelor's degree             0   \n",
       "7         0    -152.779569         50  SECONDARY EDUCATION             1   \n",
       "8         2   -6929.865299         35    BACHELOR'S DEGREE             0   \n",
       "9         0   -2188.756445         41  secondary education             1   \n",
       "\n",
       "       family_status  family_status_id gender income_type  debt  total_income  \\\n",
       "0            married                 0      F    employee     0     40620.102   \n",
       "1            married                 0      F    employee     0     17932.802   \n",
       "2            married                 0      M    employee     0     23341.752   \n",
       "3            married                 0      M    employee     0     42820.568   \n",
       "4  civil partnership                 1      F     retiree     0     25378.572   \n",
       "5  civil partnership                 1      M    business     0     40922.170   \n",
       "6            married                 0      F    business     0     38484.156   \n",
       "7            married                 0      M    employee     0     21731.829   \n",
       "8  civil partnership                 1      F    employee     0     15337.093   \n",
       "9            married                 0      M    employee     0     23108.150   \n",
       "\n",
       "                               purpose  \n",
       "0                purchase of the house  \n",
       "1                         car purchase  \n",
       "2                purchase of the house  \n",
       "3              supplementary education  \n",
       "4                    to have a wedding  \n",
       "5                purchase of the house  \n",
       "6                 housing transactions  \n",
       "7                            education  \n",
       "8                     having a wedding  \n",
       "9  purchase of the house for my family  "
      ]
     },
     "execution_count": 3,
     "metadata": {},
     "output_type": "execute_result"
    }
   ],
   "source": [
    "# vamos a mostrar las primeras filas N\n",
    "\n",
    "df.head(10)"
   ]
  },
  {
   "cell_type": "markdown",
   "metadata": {},
   "source": [
    "[Describe lo que ves y notas en tu muestra de datos mostrada en la pantalla. ¿Existe algún problema que pueda necesitar investigación y cambios adicionales?]"
   ]
  },
  {
   "cell_type": "markdown",
   "metadata": {},
   "source": [
    "<div class=\"alert alert-block alert-info\">\n",
    "\n",
    "<b>Respuesta del estudiante</b> <a class=\"tocSkip\"></a>\n",
    "Si, existe un problema, en la data de `days_employed` la mayoria de los valores son negativos, pude tambien apreciar que education hay informacion en minuscula, en mayuscula, con mayuscula al inicio y luego las demas letras en minuscula, aparte de signos de puntuacion como los apostrofes, todos estos pequeños detalles tendran que ser corregidos para poder utilizar esa data mas adelante.\n",
    "</div>"
   ]
  },
  {
   "cell_type": "code",
   "execution_count": 4,
   "metadata": {
    "scrolled": false
   },
   "outputs": [
    {
     "data": {
      "text/plain": [
       "<bound method DataFrame.info of        children  days_employed  dob_years            education  education_id  \\\n",
       "0             1   -8437.673028         42    bachelor's degree             0   \n",
       "1             1   -4024.803754         36  secondary education             1   \n",
       "2             0   -5623.422610         33  Secondary Education             1   \n",
       "3             3   -4124.747207         32  secondary education             1   \n",
       "4             0  340266.072047         53  secondary education             1   \n",
       "...         ...            ...        ...                  ...           ...   \n",
       "21520         1   -4529.316663         43  secondary education             1   \n",
       "21521         0  343937.404131         67  secondary education             1   \n",
       "21522         1   -2113.346888         38  secondary education             1   \n",
       "21523         3   -3112.481705         38  secondary education             1   \n",
       "21524         2   -1984.507589         40  secondary education             1   \n",
       "\n",
       "           family_status  family_status_id gender income_type  debt  \\\n",
       "0                married                 0      F    employee     0   \n",
       "1                married                 0      F    employee     0   \n",
       "2                married                 0      M    employee     0   \n",
       "3                married                 0      M    employee     0   \n",
       "4      civil partnership                 1      F     retiree     0   \n",
       "...                  ...               ...    ...         ...   ...   \n",
       "21520  civil partnership                 1      F    business     0   \n",
       "21521            married                 0      F     retiree     0   \n",
       "21522  civil partnership                 1      M    employee     1   \n",
       "21523            married                 0      M    employee     1   \n",
       "21524            married                 0      F    employee     0   \n",
       "\n",
       "       total_income                  purpose  \n",
       "0         40620.102    purchase of the house  \n",
       "1         17932.802             car purchase  \n",
       "2         23341.752    purchase of the house  \n",
       "3         42820.568  supplementary education  \n",
       "4         25378.572        to have a wedding  \n",
       "...             ...                      ...  \n",
       "21520     35966.698     housing transactions  \n",
       "21521     24959.969        purchase of a car  \n",
       "21522     14347.610                 property  \n",
       "21523     39054.888        buying my own car  \n",
       "21524     13127.587             to buy a car  \n",
       "\n",
       "[21525 rows x 12 columns]>"
      ]
     },
     "execution_count": 4,
     "metadata": {},
     "output_type": "execute_result"
    }
   ],
   "source": [
    "# Obtener información sobre los datos\n",
    "\n",
    "df.info"
   ]
  },
  {
   "cell_type": "markdown",
   "metadata": {},
   "source": [
    "[¿Hay valores ausentes en todas las columnas o solo en algunas? Describe brevemente lo que ves en 1 o 2 oraciones.]"
   ]
  },
  {
   "cell_type": "markdown",
   "metadata": {},
   "source": [
    "<div class=\"alert alert-block alert-info\">\n",
    "\n",
    "<b>Respuesta del estudiante</b> <a class=\"tocSkip\"></a>\n",
    "Si, hay valores ausentes, pero solo en algunas columnas.\n",
    "</div>"
   ]
  },
  {
   "cell_type": "code",
   "execution_count": 5,
   "metadata": {
    "scrolled": true
   },
   "outputs": [
    {
     "data": {
      "text/html": [
       "<div>\n",
       "<style scoped>\n",
       "    .dataframe tbody tr th:only-of-type {\n",
       "        vertical-align: middle;\n",
       "    }\n",
       "\n",
       "    .dataframe tbody tr th {\n",
       "        vertical-align: top;\n",
       "    }\n",
       "\n",
       "    .dataframe thead th {\n",
       "        text-align: right;\n",
       "    }\n",
       "</style>\n",
       "<table border=\"1\" class=\"dataframe\">\n",
       "  <thead>\n",
       "    <tr style=\"text-align: right;\">\n",
       "      <th></th>\n",
       "      <th>children</th>\n",
       "      <th>days_employed</th>\n",
       "      <th>dob_years</th>\n",
       "      <th>education</th>\n",
       "      <th>education_id</th>\n",
       "      <th>family_status</th>\n",
       "      <th>family_status_id</th>\n",
       "      <th>gender</th>\n",
       "      <th>income_type</th>\n",
       "      <th>debt</th>\n",
       "      <th>total_income</th>\n",
       "      <th>purpose</th>\n",
       "    </tr>\n",
       "  </thead>\n",
       "  <tbody>\n",
       "    <tr>\n",
       "      <th>12</th>\n",
       "      <td>0</td>\n",
       "      <td>NaN</td>\n",
       "      <td>65</td>\n",
       "      <td>secondary education</td>\n",
       "      <td>1</td>\n",
       "      <td>civil partnership</td>\n",
       "      <td>1</td>\n",
       "      <td>M</td>\n",
       "      <td>retiree</td>\n",
       "      <td>0</td>\n",
       "      <td>NaN</td>\n",
       "      <td>to have a wedding</td>\n",
       "    </tr>\n",
       "    <tr>\n",
       "      <th>26</th>\n",
       "      <td>0</td>\n",
       "      <td>NaN</td>\n",
       "      <td>41</td>\n",
       "      <td>secondary education</td>\n",
       "      <td>1</td>\n",
       "      <td>married</td>\n",
       "      <td>0</td>\n",
       "      <td>M</td>\n",
       "      <td>civil servant</td>\n",
       "      <td>0</td>\n",
       "      <td>NaN</td>\n",
       "      <td>education</td>\n",
       "    </tr>\n",
       "    <tr>\n",
       "      <th>29</th>\n",
       "      <td>0</td>\n",
       "      <td>NaN</td>\n",
       "      <td>63</td>\n",
       "      <td>secondary education</td>\n",
       "      <td>1</td>\n",
       "      <td>unmarried</td>\n",
       "      <td>4</td>\n",
       "      <td>F</td>\n",
       "      <td>retiree</td>\n",
       "      <td>0</td>\n",
       "      <td>NaN</td>\n",
       "      <td>building a real estate</td>\n",
       "    </tr>\n",
       "    <tr>\n",
       "      <th>41</th>\n",
       "      <td>0</td>\n",
       "      <td>NaN</td>\n",
       "      <td>50</td>\n",
       "      <td>secondary education</td>\n",
       "      <td>1</td>\n",
       "      <td>married</td>\n",
       "      <td>0</td>\n",
       "      <td>F</td>\n",
       "      <td>civil servant</td>\n",
       "      <td>0</td>\n",
       "      <td>NaN</td>\n",
       "      <td>second-hand car purchase</td>\n",
       "    </tr>\n",
       "    <tr>\n",
       "      <th>55</th>\n",
       "      <td>0</td>\n",
       "      <td>NaN</td>\n",
       "      <td>54</td>\n",
       "      <td>secondary education</td>\n",
       "      <td>1</td>\n",
       "      <td>civil partnership</td>\n",
       "      <td>1</td>\n",
       "      <td>F</td>\n",
       "      <td>retiree</td>\n",
       "      <td>1</td>\n",
       "      <td>NaN</td>\n",
       "      <td>to have a wedding</td>\n",
       "    </tr>\n",
       "    <tr>\n",
       "      <th>...</th>\n",
       "      <td>...</td>\n",
       "      <td>...</td>\n",
       "      <td>...</td>\n",
       "      <td>...</td>\n",
       "      <td>...</td>\n",
       "      <td>...</td>\n",
       "      <td>...</td>\n",
       "      <td>...</td>\n",
       "      <td>...</td>\n",
       "      <td>...</td>\n",
       "      <td>...</td>\n",
       "      <td>...</td>\n",
       "    </tr>\n",
       "    <tr>\n",
       "      <th>21489</th>\n",
       "      <td>2</td>\n",
       "      <td>NaN</td>\n",
       "      <td>47</td>\n",
       "      <td>Secondary Education</td>\n",
       "      <td>1</td>\n",
       "      <td>married</td>\n",
       "      <td>0</td>\n",
       "      <td>M</td>\n",
       "      <td>business</td>\n",
       "      <td>0</td>\n",
       "      <td>NaN</td>\n",
       "      <td>purchase of a car</td>\n",
       "    </tr>\n",
       "    <tr>\n",
       "      <th>21495</th>\n",
       "      <td>1</td>\n",
       "      <td>NaN</td>\n",
       "      <td>50</td>\n",
       "      <td>secondary education</td>\n",
       "      <td>1</td>\n",
       "      <td>civil partnership</td>\n",
       "      <td>1</td>\n",
       "      <td>F</td>\n",
       "      <td>employee</td>\n",
       "      <td>0</td>\n",
       "      <td>NaN</td>\n",
       "      <td>wedding ceremony</td>\n",
       "    </tr>\n",
       "    <tr>\n",
       "      <th>21497</th>\n",
       "      <td>0</td>\n",
       "      <td>NaN</td>\n",
       "      <td>48</td>\n",
       "      <td>BACHELOR'S DEGREE</td>\n",
       "      <td>0</td>\n",
       "      <td>married</td>\n",
       "      <td>0</td>\n",
       "      <td>F</td>\n",
       "      <td>business</td>\n",
       "      <td>0</td>\n",
       "      <td>NaN</td>\n",
       "      <td>building a property</td>\n",
       "    </tr>\n",
       "    <tr>\n",
       "      <th>21502</th>\n",
       "      <td>1</td>\n",
       "      <td>NaN</td>\n",
       "      <td>42</td>\n",
       "      <td>secondary education</td>\n",
       "      <td>1</td>\n",
       "      <td>married</td>\n",
       "      <td>0</td>\n",
       "      <td>F</td>\n",
       "      <td>employee</td>\n",
       "      <td>0</td>\n",
       "      <td>NaN</td>\n",
       "      <td>building a real estate</td>\n",
       "    </tr>\n",
       "    <tr>\n",
       "      <th>21510</th>\n",
       "      <td>2</td>\n",
       "      <td>NaN</td>\n",
       "      <td>28</td>\n",
       "      <td>secondary education</td>\n",
       "      <td>1</td>\n",
       "      <td>married</td>\n",
       "      <td>0</td>\n",
       "      <td>F</td>\n",
       "      <td>employee</td>\n",
       "      <td>0</td>\n",
       "      <td>NaN</td>\n",
       "      <td>car purchase</td>\n",
       "    </tr>\n",
       "  </tbody>\n",
       "</table>\n",
       "<p>2174 rows × 12 columns</p>\n",
       "</div>"
      ],
      "text/plain": [
       "       children  days_employed  dob_years            education  education_id  \\\n",
       "12            0            NaN         65  secondary education             1   \n",
       "26            0            NaN         41  secondary education             1   \n",
       "29            0            NaN         63  secondary education             1   \n",
       "41            0            NaN         50  secondary education             1   \n",
       "55            0            NaN         54  secondary education             1   \n",
       "...         ...            ...        ...                  ...           ...   \n",
       "21489         2            NaN         47  Secondary Education             1   \n",
       "21495         1            NaN         50  secondary education             1   \n",
       "21497         0            NaN         48    BACHELOR'S DEGREE             0   \n",
       "21502         1            NaN         42  secondary education             1   \n",
       "21510         2            NaN         28  secondary education             1   \n",
       "\n",
       "           family_status  family_status_id gender    income_type  debt  \\\n",
       "12     civil partnership                 1      M        retiree     0   \n",
       "26               married                 0      M  civil servant     0   \n",
       "29             unmarried                 4      F        retiree     0   \n",
       "41               married                 0      F  civil servant     0   \n",
       "55     civil partnership                 1      F        retiree     1   \n",
       "...                  ...               ...    ...            ...   ...   \n",
       "21489            married                 0      M       business     0   \n",
       "21495  civil partnership                 1      F       employee     0   \n",
       "21497            married                 0      F       business     0   \n",
       "21502            married                 0      F       employee     0   \n",
       "21510            married                 0      F       employee     0   \n",
       "\n",
       "       total_income                   purpose  \n",
       "12              NaN         to have a wedding  \n",
       "26              NaN                 education  \n",
       "29              NaN    building a real estate  \n",
       "41              NaN  second-hand car purchase  \n",
       "55              NaN         to have a wedding  \n",
       "...             ...                       ...  \n",
       "21489           NaN         purchase of a car  \n",
       "21495           NaN          wedding ceremony  \n",
       "21497           NaN       building a property  \n",
       "21502           NaN    building a real estate  \n",
       "21510           NaN              car purchase  \n",
       "\n",
       "[2174 rows x 12 columns]"
      ]
     },
     "execution_count": 5,
     "metadata": {},
     "output_type": "execute_result"
    }
   ],
   "source": [
    "# Veamos la tabla filtrada con valores ausentes de la primera columna donde faltan datos\n",
    "\n",
    "df_filtrado = df[df.isnull().any(axis=1)]\n",
    "df_filtrado"
   ]
  },
  {
   "cell_type": "markdown",
   "metadata": {},
   "source": [
    "[¿Los valores ausentes parecen simétricos? ¿Podemos estar seguros de esta suposición? Explica brevemente tus pensamientos en esta sección. Probablemente desees realizar investigaciones adicionales y contar los valores ausentes en todas las filas con valores ausentes para confirmar que las muestras que faltan son del mismo tamaño.]"
   ]
  },
  {
   "cell_type": "markdown",
   "metadata": {},
   "source": [
    "<div class=\"alert alert-block alert-info\">\n",
    "\n",
    "<b>Respuesta del estudiante</b> <a class=\"tocSkip\"></a>\n",
    "1) Los valores son asimetricos\n",
    "2) Si, ya que tenemos mas filas que columnas.\n",
    "3) Seria bueno hacer la investigacion de los valores ausentes, pero entiendo que eso no variaria las observaciones de simetria del dataframe ofrecido.\n",
    "</div>"
   ]
  },
  {
   "cell_type": "code",
   "execution_count": 6,
   "metadata": {},
   "outputs": [
    {
     "name": "stdout",
     "output_type": "stream",
     "text": [
      "\n",
      "Tabla filtrada con las siguientes condiciones:\n",
      "       children  days_employed  dob_years            education  education_id  \\\n",
      "3             3   -4124.747207         32  secondary education             1   \n",
      "270           3   -1872.663186          0  secondary education             1   \n",
      "294           4   -2220.384765         36    bachelor's degree             0   \n",
      "352           3   -2949.422637         35  secondary education             1   \n",
      "606          20    -880.221113         21  secondary education             1   \n",
      "...         ...            ...        ...                  ...           ...   \n",
      "21333         4   -2927.000229         38  secondary education             1   \n",
      "21470         3   -1555.901115         38    bachelor's degree             0   \n",
      "21484         3    -968.718123         35  secondary education             1   \n",
      "21491        20    -173.954460         27  secondary education             1   \n",
      "21523         3   -3112.481705         38  secondary education             1   \n",
      "\n",
      "           family_status  family_status_id gender income_type  debt  \\\n",
      "3                married                 0      M    employee     0   \n",
      "270              married                 0      F    employee     0   \n",
      "294    civil partnership                 1      F    employee     0   \n",
      "352              married                 0      M    business     0   \n",
      "606              married                 0      M    business     0   \n",
      "...                  ...               ...    ...         ...   ...   \n",
      "21333            married                 0      M    employee     0   \n",
      "21470            married                 0      M    business     0   \n",
      "21484            married                 0      M    employee     0   \n",
      "21491            married                 0      F    employee     0   \n",
      "21523            married                 0      M    employee     1   \n",
      "\n",
      "       total_income                   purpose  \n",
      "3         42820.568   supplementary education  \n",
      "270       16346.633        housing renovation  \n",
      "294       53603.948          wedding ceremony  \n",
      "352       30804.632                       car  \n",
      "606       23253.578     purchase of the house  \n",
      "...             ...                       ...  \n",
      "21333     21125.122       building a property  \n",
      "21470     33680.795        to become educated  \n",
      "21484     15306.792                   housing  \n",
      "21491     24883.344  buying a second-hand car  \n",
      "21523     39054.888         buying my own car  \n",
      "\n",
      "[290 rows x 12 columns]\n"
     ]
    },
    {
     "data": {
      "text/plain": [
       "('Número de filas en la tabla filtrada:', 290)"
      ]
     },
     "execution_count": 6,
     "metadata": {},
     "output_type": "execute_result"
    }
   ],
   "source": [
    "# Aplicar múltiples condiciones para filtrar datos y contar filas en la tabla filtrada\n",
    "\n",
    "condiciones = (df['children'] >= 3) & (df['total_income'] >= 100) & (df['dob_years'] <= 40)\n",
    "df_filtrado = df[condiciones]\n",
    "\n",
    "# Contar filas en la tabla filtrada\n",
    "num_filas_filtradas = len(df_filtrado)\n",
    "\n",
    "# Mostrar la tabla filtrada y el número de filas\n",
    "print(\"\\nTabla filtrada con las siguientes condiciones:\")\n",
    "print(df_filtrado)\n",
    "\"Número de filas en la tabla filtrada:\", num_filas_filtradas"
   ]
  },
  {
   "cell_type": "markdown",
   "metadata": {},
   "source": [
    "**Conclusión intermedia**\n",
    "\n",
    "[¿El número de filas en la tabla filtrada coincide con el número de valores ausentes? ¿Qué conclusión podemos sacar de esto?]\n",
    "\n",
    "[Calcula el porcentaje de los valores ausentes en comparación con el conjunto de datos completo. ¿Se trata de una porción de datos considerablemente grande? Si es así, es posible que quieras completar los valores ausentes. Para hacer eso, primero debemos definir si los datos ausentes podrían deberse a la característica específica del cliente, como el tipo de empleo u otra cosa. Tendrás que decidir qué característica, según *tú*, podría ser la razón. En segundo lugar, debemos verificar si los valores ausentes dependen de alguna manera del valor de otros indicadores con las columnas con características de clientes, específicas e identificadas.]\n",
    "\n",
    "[Explica tus próximos pasos y cómo se correlacionan con las conclusiones que has hecho hasta ahora.]"
   ]
  },
  {
   "cell_type": "markdown",
   "metadata": {},
   "source": [
    "<div class=\"alert alert-block alert-info\">\n",
    "\n",
    "<b>Respuesta del estudiante</b> <a class=\"tocSkip\"></a>\n",
    "Agregare un paso extra antes de proceder, para saber el porcentaje de valores ausentes y asi tener mejor idea de que decision tomar mas adelante.\n",
    "</div>"
   ]
  },
  {
   "cell_type": "code",
   "execution_count": 7,
   "metadata": {},
   "outputs": [
    {
     "data": {
      "text/plain": [
       "'Porcentaje de valores ausentes en el conjunto de datos: 1.68%'"
      ]
     },
     "execution_count": 7,
     "metadata": {},
     "output_type": "execute_result"
    }
   ],
   "source": [
    "# Aca calcule el porcentaje de los valores ausentes en comparacion con el conjunto de datos completos\n",
    "\n",
    "num_total_celdas = df.size\n",
    "num_valores_ausentes = df.isnull().sum().sum()\n",
    "\n",
    "porcentaje_valores_ausentes = (num_valores_ausentes / num_total_celdas) * 100\n",
    "\n",
    "f\"Porcentaje de valores ausentes en el conjunto de datos: {porcentaje_valores_ausentes:.2f}%\""
   ]
  },
  {
   "cell_type": "markdown",
   "metadata": {},
   "source": [
    "<div class=\"alert alert-block alert-info\">\n",
    "\n",
    "<b>Respuesta del estudiante</b> <a class=\"tocSkip\"></a>\n",
    "1) El numero de filas no coincide con el numero de valores ausentes.\n",
    "2) Como el numero de valores ausentes no es tan significativo, teniendo en cuenta que tenemos una tabla asimetrica donde el numero de columnas no se corresponde con el numero de filas y viendo que la porcion de datos ausentes esta mas marcada en columnas especificas, hay que tomar accion sobre ellos (los valores ausentes)\n",
    "</div>"
   ]
  },
  {
   "cell_type": "code",
   "execution_count": 8,
   "metadata": {},
   "outputs": [
    {
     "name": "stdout",
     "output_type": "stream",
     "text": [
      "Número total de valores nulos en cada columna:\n",
      "children: 0\n",
      "days_employed: 2174\n",
      "dob_years: 0\n",
      "education: 0\n",
      "education_id: 0\n",
      "family_status: 0\n",
      "family_status_id: 0\n",
      "gender: 0\n",
      "income_type: 0\n",
      "debt: 0\n",
      "total_income: 2174\n",
      "purpose: 0\n"
     ]
    }
   ],
   "source": [
    "# Vamos a investigar a los clientes que no tienen datos sobre la característica identificada y la columna con los valores ausentes\n",
    "\n",
    "# Contar la cantidad de valores nulos en cada columna del DataFrame\n",
    "nulos_por_columna = df.isnull().sum()\n",
    "\n",
    "# Mostrar el número total de valores nulos en cada columna con su respectivo nombre de columna\n",
    "print(\"Número total de valores nulos en cada columna:\")\n",
    "for columna, cantidad_nulos in nulos_por_columna.iteritems():\n",
    "    print(f\"{columna}: {cantidad_nulos}\")"
   ]
  },
  {
   "cell_type": "code",
   "execution_count": 9,
   "metadata": {},
   "outputs": [
    {
     "name": "stdout",
     "output_type": "stream",
     "text": [
      "La variable 'children' es asimétrica positiva.\n",
      "La variable 'days_employed' es asimétrica positiva.\n",
      "La variable 'dob_years' es asimétrica positiva.\n",
      "La variable 'education_id' es asimétrica positiva.\n",
      "La variable 'family_status_id' es asimétrica positiva.\n",
      "La variable 'debt' es asimétrica positiva.\n",
      "La variable 'total_income' es asimétrica positiva.\n"
     ]
    }
   ],
   "source": [
    "# Comprobación de la distribución\n",
    "\n",
    "columnas_numericas = df.select_dtypes(include='number').columns\n",
    "\n",
    "for columna in columnas_numericas:\n",
    "    asimetria = df[columna].skew()\n",
    "    if asimetria > 0:\n",
    "        print(f\"La variable '{columna}' es asimétrica positiva.\")\n",
    "    elif asimetria < 0:\n",
    "        print(f\"La variable '{columna}' es asimétrica negativa.\")\n",
    "    else:\n",
    "        f\"La variable '{columna}' es simétrica.\""
   ]
  },
  {
   "cell_type": "markdown",
   "metadata": {},
   "source": [
    "Describe aquí tus hallazgos.]\n",
    "\n",
    "**Posibles razones por las que hay valores ausentes en los datos**\n",
    "\n",
    "[Propón tus ideas sobre por qué crees que los valores pueden estar ausentes. ¿Crees que están ausentes al azar o hay algún patrón?]\n",
    "\n",
    "[Empecemos a comprobar si los valores ausentes son aleatorios.]"
   ]
  },
  {
   "cell_type": "markdown",
   "metadata": {},
   "source": [
    "<div class=\"alert alert-block alert-info\">\n",
    "\n",
    "<b>Respuesta del estudiante</b> <a class=\"tocSkip\"></a>\n",
    "1) Segun se puede observar la distribucion es asimetrica positiva, digase que no es equitativa.\n",
    "2) Mi parecer sobre la causa de la ausencia de datos es que probablemente los clientes de manera deliberada omitieron esta informacion, ya que como es el 1.68% de la data que esta ausente, dificilmente seria tan significativa como para dañar la muestra.\n",
    "3) No creo que la data este ausente al azar.\n",
    "</div>"
   ]
  },
  {
   "cell_type": "code",
   "execution_count": 10,
   "metadata": {},
   "outputs": [
    {
     "name": "stdout",
     "output_type": "stream",
     "text": [
      "El conjunto de datos tiene asimetría positiva.\n"
     ]
    }
   ],
   "source": [
    "# Comprobando la distribución en el conjunto de datos entero\n",
    "\n",
    "asimetria_total = df.skew().mean()\n",
    "\n",
    "if asimetria_total > 0:\n",
    "    print(\"El conjunto de datos tiene asimetría positiva.\")\n",
    "elif asimetria_total < 0:\n",
    "    print(\"El conjunto de datos tiene asimetría negativa.\")\n",
    "else:\n",
    "    \"El conjunto de datos es simétrico.\""
   ]
  },
  {
   "cell_type": "markdown",
   "metadata": {},
   "source": [
    "**Conclusión intermedia**\n",
    "\n",
    "[¿Es similar la distribución en el conjunto de datos original a la distribución de la tabla filtrada? ¿Qué significa eso para nosotros?]\n",
    "\n",
    "[Si crees que aún no podemos llegar a ninguna conclusión, investiguemos más a fondo nuestro conjunto de datos. Pensemos en otras razones que podrían llevar a la ausencia de datos y verifiquemos si podemos encontrar algún patrón que nos haga pensar que los valores ausentes no son aleatorios. Ya que es tu trabajo, esta sección es opcional.]"
   ]
  },
  {
   "cell_type": "markdown",
   "metadata": {},
   "source": [
    "<div class=\"alert alert-block alert-info\">\n",
    "\n",
    "<b>Respuesta del estudiante</b> <a class=\"tocSkip\"></a>\n",
    "1) Si, la distribucion es similar en el conjunto de datos original y en la tabla filtrada.\n",
    "2) Si la distribución de la tabla filtrada es muy diferente a la del conjunto de datos original, entonces los resultados obtenidos a partir de la tabla filtrada podrían ser engañosos o incorrectos, entonces, como son similares, se pueden utilizar sin problemas.\n",
    "</div>"
   ]
  },
  {
   "cell_type": "code",
   "execution_count": 11,
   "metadata": {},
   "outputs": [
    {
     "data": {
      "image/png": "[encoded data removed]",
      "text/plain": [
       "<Figure size 720x432 with 1 Axes>"
      ]
     },
     "metadata": {
      "needs_background": "light"
     },
     "output_type": "display_data"
    }
   ],
   "source": [
    "# Comprueba otras razones y patrones que podrían llevar a valores ausentes\n",
    "\n",
    "plt.figure(figsize=(10, 6))\n",
    "sns.heatmap(df.isnull(), cmap='viridis', cbar=False)\n",
    "plt.title('Mapa de calor de valores ausentes')\n",
    "plt.show()"
   ]
  },
  {
   "cell_type": "markdown",
   "metadata": {},
   "source": [
    "**Conclusión intermedia**\n",
    "\n",
    "[¿Podemos finalmente confirmar que los valores ausentes son accidentales? Verifica cualquier otra cosa que creas que podría ser importante aquí.]"
   ]
  },
  {
   "cell_type": "markdown",
   "metadata": {},
   "source": [
    "<div class=\"alert alert-block alert-info\">\n",
    "\n",
    "<b>Respuesta del estudiante</b> <a class=\"tocSkip\"></a>\n",
    "Al parecer los valores ausentes si son accidentales, pero hare una ultima comprobacion comparando los datos con otro tipo de grafica con diferente enfoque, para tener constancia de la realidad de los hechos.\n",
    "</div>"
   ]
  },
  {
   "cell_type": "code",
   "execution_count": 12,
   "metadata": {
    "scrolled": true
   },
   "outputs": [
    {
     "data": {
      "image/png": "[encoded data removed]",
      "text/plain": [
       "<Figure size 720x432 with 1 Axes>"
      ]
     },
     "metadata": {
      "needs_background": "light"
     },
     "output_type": "display_data"
    }
   ],
   "source": [
    "# Comprobación de otros patrones: explica cuáles\n",
    "\n",
    "valores_ausentes = df.isnull().sum()\n",
    "\n",
    "# Graficar la cantidad de valores nulos por columna en un gráfico de barras\n",
    "plt.figure(figsize=(10, 6))\n",
    "valores_ausentes.plot(kind='bar', color='skyblue')\n",
    "plt.title('Cantidad de Valores Ausentes por Columna')\n",
    "plt.xlabel('Columnas')\n",
    "plt.ylabel('Cantidad de Valores Ausentes')\n",
    "plt.xticks(rotation=45, ha='right')\n",
    "plt.show()"
   ]
  },
  {
   "cell_type": "markdown",
   "metadata": {},
   "source": [
    "**Conclusiones**\n",
    "\n",
    "[¿Encontraste algunos patrones? ¿Cómo llegaste a esta conclusión?]\n",
    "\n",
    "[Explica cómo abordarás los valores ausentes. Ten en cuenta las categorías en las que faltan valores.]\n",
    "\n",
    "[Planifica brevemente tus próximos pasos en la transformación de datos. Probablemente tendrás que abordar diferentes tipos de problemas: duplicados, diferentes registros, artefactos incorrectos y valores ausentes.]"
   ]
  },
  {
   "cell_type": "markdown",
   "metadata": {},
   "source": [
    "<div class=\"alert alert-block alert-info\">\n",
    "\n",
    "<b>Respuesta del estudiante</b> <a class=\"tocSkip\"></a>\n",
    "1) Si, hay patrones visibles, como llegue a esa conclusion? bueno, es simple, confrontando la grafica de la comprobacion de patrones que esta antes de las `CONCLUSIONES` y la grafica del mapa de calor que esta encima, podriamos decir que en las columnas 'days_employed' y  'total_income' es donde solamente existen valores ausentes.\n",
    "2) En la planificacion entiendo que tendre que lidiar directamente con esos valores ausentes, trabajar con los duplicados en otras columnas, problemas de registro en la data, para luego de limpiar la data, si usarla como una data representativa real de lo que se quiere investigar en el proyecto.\n",
    "</div>"
   ]
  },
  {
   "cell_type": "markdown",
   "metadata": {},
   "source": [
    "## Transformación de datos\n",
    "\n",
    "[Repasemos cada columna para ver qué problemas podemos tener en ellas.]\n",
    "\n",
    "[Comienza con la eliminación de duplicados y la corrección de la información educativa si es necesario.]"
   ]
  },
  {
   "cell_type": "code",
   "execution_count": 13,
   "metadata": {
    "scrolled": true
   },
   "outputs": [
    {
     "name": "stdout",
     "output_type": "stream",
     "text": [
      "\n",
      "Valores únicos en la columna de educación:\n",
      "- bachelor's degree\n",
      "- secondary education\n",
      "- Secondary Education\n",
      "- SECONDARY EDUCATION\n",
      "- BACHELOR'S DEGREE\n",
      "- some college\n",
      "- primary education\n",
      "- Bachelor's Degree\n",
      "- SOME COLLEGE\n",
      "- Some College\n",
      "- PRIMARY EDUCATION\n",
      "- Primary Education\n",
      "- Graduate Degree\n",
      "- GRADUATE DEGREE\n",
      "- graduate degree\n",
      "\n",
      "Conteo de valores en la columna de educación:\n"
     ]
    },
    {
     "data": {
      "text/plain": [
       "secondary education    13750\n",
       "bachelor's degree       4718\n",
       "SECONDARY EDUCATION      772\n",
       "Secondary Education      711\n",
       "some college             668\n",
       "BACHELOR'S DEGREE        274\n",
       "Bachelor's Degree        268\n",
       "primary education        250\n",
       "Some College              47\n",
       "SOME COLLEGE              29\n",
       "PRIMARY EDUCATION         17\n",
       "Primary Education         15\n",
       "graduate degree            4\n",
       "GRADUATE DEGREE            1\n",
       "Graduate Degree            1\n",
       "Name: education, dtype: int64"
      ]
     },
     "execution_count": 13,
     "metadata": {},
     "output_type": "execute_result"
    }
   ],
   "source": [
    "# Veamos todos los valores en la columna de educación para verificar si será necesario corregir la ortografía y qué habrá que corregir exactamente\n",
    "\n",
    "# Ver todos los valores únicos en la columna de educación\n",
    "valores_educacion_unicos = df['education'].unique()\n",
    "\n",
    "# Mostrar los valores únicos y su cantidad\n",
    "print(\"\\nValores únicos en la columna de educación:\")\n",
    "for valor in valores_educacion_unicos:\n",
    "    print(\"-\", valor)\n",
    "\n",
    "# Contar la cantidad de apariciones de cada valor en la columna de educación\n",
    "conteo_valores_educacion = df['education'].value_counts()\n",
    "\n",
    "# Mostrar el conteo de cada valor\n",
    "print(\"\\nConteo de valores en la columna de educación:\")\n",
    "conteo_valores_educacion"
   ]
  },
  {
   "cell_type": "code",
   "execution_count": 14,
   "metadata": {
    "scrolled": true
   },
   "outputs": [],
   "source": [
    "# Arregla los registros si es necesario\n",
    "\n",
    "df['education'] = df['education'].str.lower().str.replace('[^\\w\\s]', '', regex=False)"
   ]
  },
  {
   "cell_type": "code",
   "execution_count": 15,
   "metadata": {},
   "outputs": [
    {
     "name": "stdout",
     "output_type": "stream",
     "text": [
      "\n",
      "Valores únicos en la columna de educación después de la corrección:\n",
      "- bachelor's degree\n",
      "- secondary education\n",
      "- some college\n",
      "- primary education\n",
      "- graduate degree\n"
     ]
    }
   ],
   "source": [
    "# Comprobar todos los valores en la columna para asegurarnos de que los hayamos corregido\n",
    "\n",
    "# Verificar los valores únicos después de la corrección\n",
    "valores_educacion_unicos = df['education'].unique()\n",
    "\n",
    "# Mostrar los valores únicos después de la corrección\n",
    "print(\"\\nValores únicos en la columna de educación después de la corrección:\")\n",
    "for valor in valores_educacion_unicos:\n",
    "    print(\"-\", valor)"
   ]
  },
  {
   "cell_type": "markdown",
   "metadata": {},
   "source": [
    "[Comprueba los datos de la columna `children`]"
   ]
  },
  {
   "cell_type": "code",
   "execution_count": 16,
   "metadata": {},
   "outputs": [
    {
     "name": "stdout",
     "output_type": "stream",
     "text": [
      "\n",
      "Valores únicos en la columna children:\n",
      "- 1\n",
      "- 0\n",
      "- 3\n",
      "- 2\n",
      "- -1\n",
      "- 4\n",
      "- 20\n",
      "- 5\n",
      "\n",
      "Conteo de valores en la columna children:\n"
     ]
    },
    {
     "data": {
      "text/plain": [
       " 0     14149\n",
       " 1      4818\n",
       " 2      2055\n",
       " 3       330\n",
       " 20       76\n",
       "-1        47\n",
       " 4        41\n",
       " 5         9\n",
       "Name: children, dtype: int64"
      ]
     },
     "execution_count": 16,
     "metadata": {},
     "output_type": "execute_result"
    }
   ],
   "source": [
    "# Veamos la distribución de los valores en la columna `children`\n",
    "\n",
    "# Ver todos los valores únicos en la columna `children`\n",
    "valores_unicos_en_children = df['children'].unique()\n",
    "\n",
    "# Mostrar los valores únicos y su cantidad\n",
    "print(\"\\nValores únicos en la columna children:\")\n",
    "for valor in valores_unicos_en_children:\n",
    "    print(\"-\", valor)\n",
    "\n",
    "# Contar la cantidad de apariciones de cada valor en la columna `children`\n",
    "conteo_valores_children = df['children'].value_counts()\n",
    "\n",
    "# Mostrar el conteo de cada valor\n",
    "print(\"\\nConteo de valores en la columna children:\")\n",
    "conteo_valores_children"
   ]
  },
  {
   "cell_type": "markdown",
   "metadata": {},
   "source": [
    "[¿Hay cosas extrañas en esta columna? Si es así, ¿cuál es el porcentaje de datos problemáticos? ¿Cómo es posible que hayan ocurrido? Toma una decisión sobre lo que harás con estos datos y explica tu razonamiento.]"
   ]
  },
  {
   "cell_type": "code",
   "execution_count": 17,
   "metadata": {},
   "outputs": [
    {
     "data": {
      "text/plain": [
       "\"Porcentaje de datos problemáticos en la columna 'children': 0.57%\""
      ]
     },
     "execution_count": 17,
     "metadata": {},
     "output_type": "execute_result"
    }
   ],
   "source": [
    "# Calcular el conteo de valores -1 y 20 en la columna \"children\"\n",
    "conteo_problemas = df['children'].isin([-1, 20]).sum()\n",
    "\n",
    "# Calcular el porcentaje de datos problemáticos en la columna \"children\"\n",
    "porcentaje_problemas = (conteo_problemas / len(df['children'])) * 100\n",
    "\n",
    "# Mostrar el resultado del porcentaje de datos problemáticos\n",
    "\"Porcentaje de datos problemáticos en la columna 'children': {:.2f}%\".format(porcentaje_problemas)"
   ]
  },
  {
   "cell_type": "markdown",
   "metadata": {},
   "source": [
    "<div class=\"alert alert-block alert-info\">\n",
    "\n",
    "<b>Respuesta del estudiante</b> <a class=\"tocSkip\"></a>\n",
    "1) Si, hay anomalias en esta columna.\n",
    "2) El porcentaje de datos problematicos es un `0.57%` \n",
    "3) Esto pudo deberse a errores al llenar el formulario, de parte de los clientes\n",
    "4) Mi decision seria sustituir estos datos por la mediana, ya que no hara una diferencia representativa, porque son menos del 1% de la data total.\n",
    "</div>"
   ]
  },
  {
   "cell_type": "code",
   "execution_count": 18,
   "metadata": {},
   "outputs": [
    {
     "name": "stdout",
     "output_type": "stream",
     "text": [
      "\n",
      "Valores únicos en la columna 'children' después de la corrección:\n",
      "- 1\n",
      "- 0\n",
      "- 3\n",
      "- 2\n",
      "- 4\n",
      "- 5\n"
     ]
    }
   ],
   "source": [
    "# [arregla los datos según tu decisión]\n",
    "\n",
    "# Calcular la mediana de la columna \"children\" excluyendo los valores -1 y 20\n",
    "mediana_children = df.loc[~df['children'].isin([-1, 20]), 'children'].median()\n",
    "\n",
    "# Reemplazar los valores problemáticos (-1 y 20) por la mediana calculada\n",
    "df.loc[df['children'] == -1, 'children'] = mediana_children\n",
    "df.loc[df['children'] == 20, 'children'] = mediana_children\n",
    "\n",
    "# Convertir los valores en la columna \"children\" a enteros\n",
    "df['children'] = df['children'].astype(int)\n",
    "\n",
    "# Verificar los valores únicos después de la corrección\n",
    "valores_children_unicos = df['children'].unique()\n",
    "\n",
    "# Mostrar los valores únicos después de la corrección\n",
    "print(\"\\nValores únicos en la columna 'children' después de la corrección:\")\n",
    "for valor in valores_children_unicos:\n",
    "    print(\"-\", valor)"
   ]
  },
  {
   "cell_type": "code",
   "execution_count": 19,
   "metadata": {},
   "outputs": [
    {
     "data": {
      "text/plain": [
       "0    14272\n",
       "1     4818\n",
       "2     2055\n",
       "3      330\n",
       "4       41\n",
       "5        9\n",
       "Name: children, dtype: int64"
      ]
     },
     "execution_count": 19,
     "metadata": {},
     "output_type": "execute_result"
    }
   ],
   "source": [
    "# Comprobar la columna `children` de nuevo para asegurarnos de que todo está arreglado\n",
    "\n",
    "df['children'].value_counts()"
   ]
  },
  {
   "cell_type": "markdown",
   "metadata": {},
   "source": [
    "[Comprueba los datos en la columna `days_employed`. En primer lugar, piensa qué tipo de problemas podría haber, qué posiblemente desees comprobar y cómo lo harás.]"
   ]
  },
  {
   "cell_type": "code",
   "execution_count": 20,
   "metadata": {},
   "outputs": [
    {
     "data": {
      "text/plain": [
       "\"Porcentaje de datos problemáticos en la columna 'days_employed': 100.00%\""
      ]
     },
     "execution_count": 20,
     "metadata": {},
     "output_type": "execute_result"
    }
   ],
   "source": [
    "# Encuentra datos problemáticos en `days_employed`, si existen, y calcula el porcentaje\n",
    "\n",
    "# Verificar los valores únicos en la columna 'days_employed'\n",
    "valores_days_employed_unicos = df['days_employed'].unique()\n",
    "\n",
    "# Identificar valores problemáticos en la columna 'days_employed'\n",
    "datos_problematicos = df[(df['days_employed'] < 0) | (df['days_employed'] > 36500) | df['days_employed'].isnull()]\n",
    "\n",
    "# Calcular el porcentaje de datos problemáticos en la columna 'days_employed'\n",
    "porcentaje_datos_problematicos = (len(datos_problematicos) / len(df['days_employed'])) * 100\n",
    "\n",
    "# Mostrar el porcentaje de datos problemáticos\n",
    "\"Porcentaje de datos problemáticos en la columna 'days_employed': {:.2f}%\".format(porcentaje_datos_problematicos)"
   ]
  },
  {
   "cell_type": "markdown",
   "metadata": {},
   "source": [
    "[Si la cantidad de datos problemáticos es alta, podría deberse a problemas técnicos. Puede que queramos proponer la razón más obvia por la que podría haber sucedido y cuáles podrían haber sido los datos correctos, ya que no podemos eliminar estas filas problemáticas.]"
   ]
  },
  {
   "cell_type": "markdown",
   "metadata": {},
   "source": [
    "<div class=\"alert alert-block alert-info\">\n",
    "\n",
    "<b>Respuesta del estudiante</b> <a class=\"tocSkip\"></a>\n",
    "Aca, como todos los datos o son nulos o superiores a 36500, o son negativos, lo que haremos sera convertir primero todos los datos a positivos, luego trabajaremos los datos superiores a 20000 usando la mediana de la columna, y ya que no eran tantos los superiores a 20000 todo deberia funcionar adecuadamente.\n",
    "</div>"
   ]
  },
  {
   "cell_type": "code",
   "execution_count": 21,
   "metadata": {},
   "outputs": [],
   "source": [
    "# Aborda los valores problemáticos, si existen.\n",
    "\n",
    "# Convertir los valores negativos de 'days_employed' a positivos\n",
    "df['days_employed'] = df['days_employed'].abs()\n",
    "\n",
    "# Sustituir los valores superiores a 20000 por la mediana de 'days_employed'\n",
    "mediana_days_employed = df.loc[df['days_employed'] <= 20000, 'days_employed'].median()\n",
    "df['days_employed'] = df['days_employed'].apply(lambda x: mediana_days_employed if x > 20000 else x)"
   ]
  },
  {
   "cell_type": "code",
   "execution_count": 22,
   "metadata": {},
   "outputs": [
    {
     "data": {
      "text/plain": [
       "1630.019381    3445\n",
       "142.276217        1\n",
       "144.185854        1\n",
       "2569.204627       1\n",
       "3545.955468       1\n",
       "               ... \n",
       "2152.475526       1\n",
       "6219.157426       1\n",
       "5873.586442       1\n",
       "3355.260838       1\n",
       "1636.419775       1\n",
       "Name: days_employed, Length: 15907, dtype: int64"
      ]
     },
     "execution_count": 22,
     "metadata": {},
     "output_type": "execute_result"
    }
   ],
   "source": [
    "# Comprueba el resultado - asegúrate de que esté arreglado\n",
    "\n",
    "df['days_employed'].value_counts()"
   ]
  },
  {
   "cell_type": "markdown",
   "metadata": {},
   "source": [
    "Ahora echemos un vistazo a la edad de clientes para ver si hay algún problema allí. Una vez más, piensa qué datos pueden ser extraños en esta columna, es decir, qué dato no puede ser la edad de alguien.]"
   ]
  },
  {
   "cell_type": "code",
   "execution_count": 23,
   "metadata": {
    "scrolled": true
   },
   "outputs": [
    {
     "name": "stdout",
     "output_type": "stream",
     "text": [
      "\n",
      "Valores únicos en la columna dob_years:\n",
      "- 42\n",
      "- 36\n",
      "- 33\n",
      "- 32\n",
      "- 53\n",
      "- 27\n",
      "- 43\n",
      "- 50\n",
      "- 35\n",
      "- 41\n",
      "- 40\n",
      "- 65\n",
      "- 54\n",
      "- 56\n",
      "- 26\n",
      "- 48\n",
      "- 24\n",
      "- 21\n",
      "- 57\n",
      "- 67\n",
      "- 28\n",
      "- 63\n",
      "- 62\n",
      "- 47\n",
      "- 34\n",
      "- 68\n",
      "- 25\n",
      "- 31\n",
      "- 30\n",
      "- 20\n",
      "- 49\n",
      "- 37\n",
      "- 45\n",
      "- 61\n",
      "- 64\n",
      "- 44\n",
      "- 52\n",
      "- 46\n",
      "- 23\n",
      "- 38\n",
      "- 39\n",
      "- 51\n",
      "- 0\n",
      "- 59\n",
      "- 29\n",
      "- 60\n",
      "- 55\n",
      "- 58\n",
      "- 71\n",
      "- 22\n",
      "- 73\n",
      "- 66\n",
      "- 69\n",
      "- 19\n",
      "- 72\n",
      "- 70\n",
      "- 74\n",
      "- 75\n",
      "\n",
      "Conteo de valores y porcentaje en la columna dob_years:\n",
      "35: 617 (2.87%)\n",
      "40: 609 (2.83%)\n",
      "41: 607 (2.82%)\n",
      "34: 603 (2.80%)\n",
      "38: 598 (2.78%)\n",
      "42: 597 (2.77%)\n",
      "33: 581 (2.70%)\n",
      "39: 573 (2.66%)\n",
      "31: 560 (2.60%)\n",
      "36: 555 (2.58%)\n",
      "44: 547 (2.54%)\n",
      "29: 545 (2.53%)\n",
      "30: 540 (2.51%)\n",
      "48: 538 (2.50%)\n",
      "37: 537 (2.49%)\n",
      "50: 514 (2.39%)\n",
      "43: 513 (2.38%)\n",
      "32: 510 (2.37%)\n",
      "49: 508 (2.36%)\n",
      "28: 503 (2.34%)\n",
      "45: 497 (2.31%)\n",
      "27: 493 (2.29%)\n",
      "56: 487 (2.26%)\n",
      "52: 484 (2.25%)\n",
      "47: 480 (2.23%)\n",
      "54: 479 (2.23%)\n",
      "46: 475 (2.21%)\n",
      "58: 461 (2.14%)\n",
      "57: 460 (2.14%)\n",
      "53: 459 (2.13%)\n",
      "51: 448 (2.08%)\n",
      "59: 444 (2.06%)\n",
      "55: 443 (2.06%)\n",
      "26: 408 (1.90%)\n",
      "60: 377 (1.75%)\n",
      "25: 357 (1.66%)\n",
      "61: 355 (1.65%)\n",
      "62: 352 (1.64%)\n",
      "63: 269 (1.25%)\n",
      "64: 265 (1.23%)\n",
      "24: 264 (1.23%)\n",
      "23: 254 (1.18%)\n",
      "65: 194 (0.90%)\n",
      "66: 183 (0.85%)\n",
      "22: 183 (0.85%)\n",
      "67: 167 (0.78%)\n",
      "21: 111 (0.52%)\n",
      "0: 101 (0.47%)\n",
      "68: 99 (0.46%)\n",
      "69: 85 (0.39%)\n",
      "70: 65 (0.30%)\n",
      "71: 58 (0.27%)\n",
      "20: 51 (0.24%)\n",
      "72: 33 (0.15%)\n",
      "19: 14 (0.07%)\n",
      "73: 8 (0.04%)\n",
      "74: 6 (0.03%)\n",
      "75: 1 (0.00%)\n"
     ]
    },
    {
     "data": {
      "text/plain": [
       "'\\nPorcentaje de datos con valor cero en dob_years: 0.47%'"
      ]
     },
     "execution_count": 23,
     "metadata": {},
     "output_type": "execute_result"
    }
   ],
   "source": [
    "# Revisa `dob_years` en busca de valores sospechosos y cuenta el porcentaje\n",
    "\n",
    "# Ver todos los valores únicos en la columna `dob_years`\n",
    "valores_unicos_en_dob_years = df['dob_years'].unique()\n",
    "\n",
    "# Mostrar los valores únicos y su cantidad\n",
    "print(\"\\nValores únicos en la columna dob_years:\")\n",
    "for valor in valores_unicos_en_dob_years:\n",
    "    print(\"-\", valor)\n",
    "\n",
    "# Contar la cantidad de apariciones de cada valor en la columna `dob_years`\n",
    "conteo_valores_en_dob_years = df['dob_years'].value_counts()\n",
    "\n",
    "# Calcular el total de filas en el DataFrame\n",
    "total_filas = len(df)\n",
    "\n",
    "# Mostrar el conteo y porcentaje de cada valor\n",
    "print(\"\\nConteo de valores y porcentaje en la columna dob_years:\")\n",
    "for valor, conteo in conteo_valores_en_dob_years.items():\n",
    "    porcentaje = (conteo / total_filas) * 100\n",
    "    print(f\"{valor}: {conteo} ({porcentaje:.2f}%)\")\n",
    "\n",
    "# Calcular el porcentaje de datos con valor cero en la columna `dob_years`\n",
    "conteo_valor_cero = conteo_valores_en_dob_years.get(0, 0)\n",
    "porcentaje_valor_cero = (conteo_valor_cero / total_filas) * 100\n",
    "f\"\\nPorcentaje de datos con valor cero en dob_years: {porcentaje_valor_cero:.2f}%\""
   ]
  },
  {
   "cell_type": "markdown",
   "metadata": {},
   "source": [
    "[Decide qué harás con los valores problemáticos y explica por qué.]"
   ]
  },
  {
   "cell_type": "markdown",
   "metadata": {},
   "source": [
    "<div class=\"alert alert-block alert-info\">\n",
    "\n",
    "<b>Respuesta del estudiante</b> <a class=\"tocSkip\"></a>\n",
    "Bueno, como podemos observar tenemos clientes donde se muestra como edad el numero 0, 101 clientes para un 0.47%, obviamente esa no es una edad valida y nos lleva a la necesidad de corregir estos datos, para corregirlos utilizaremos la mediana, ya que esta proporcionará una estimación más robusta de la edad típica en el conjunto de datos. La mediana no se verá afectada por valores atípicos y será menos susceptible a errores o variaciones en los datos.\n",
    "</div>"
   ]
  },
  {
   "cell_type": "code",
   "execution_count": 24,
   "metadata": {},
   "outputs": [],
   "source": [
    "# Resuelve los problemas en la columna `dob_years`, si existen\n",
    "\n",
    "# Calcular la mediana de la columna 'dob_years' excluyendo los valores 0\n",
    "mediana_dob_years = df[df['dob_years'] > 0]['dob_years'].median()\n",
    "\n",
    "# Reemplazar los valores 0 en 'dob_years' por la mediana calculada\n",
    "df.loc[df['dob_years'] == 0, 'dob_years'] = mediana_dob_years"
   ]
  },
  {
   "cell_type": "code",
   "execution_count": 25,
   "metadata": {},
   "outputs": [
    {
     "data": {
      "text/plain": [
       "35.0    617\n",
       "43.0    614\n",
       "40.0    609\n",
       "41.0    607\n",
       "34.0    603\n",
       "38.0    598\n",
       "42.0    597\n",
       "33.0    581\n",
       "39.0    573\n",
       "31.0    560\n",
       "36.0    555\n",
       "44.0    547\n",
       "29.0    545\n",
       "30.0    540\n",
       "48.0    538\n",
       "37.0    537\n",
       "50.0    514\n",
       "32.0    510\n",
       "49.0    508\n",
       "28.0    503\n",
       "45.0    497\n",
       "27.0    493\n",
       "56.0    487\n",
       "52.0    484\n",
       "47.0    480\n",
       "54.0    479\n",
       "46.0    475\n",
       "58.0    461\n",
       "57.0    460\n",
       "53.0    459\n",
       "51.0    448\n",
       "59.0    444\n",
       "55.0    443\n",
       "26.0    408\n",
       "60.0    377\n",
       "25.0    357\n",
       "61.0    355\n",
       "62.0    352\n",
       "63.0    269\n",
       "64.0    265\n",
       "24.0    264\n",
       "23.0    254\n",
       "65.0    194\n",
       "66.0    183\n",
       "22.0    183\n",
       "67.0    167\n",
       "21.0    111\n",
       "68.0     99\n",
       "69.0     85\n",
       "70.0     65\n",
       "71.0     58\n",
       "20.0     51\n",
       "72.0     33\n",
       "19.0     14\n",
       "73.0      8\n",
       "74.0      6\n",
       "75.0      1\n",
       "Name: dob_years, dtype: int64"
      ]
     },
     "execution_count": 25,
     "metadata": {},
     "output_type": "execute_result"
    }
   ],
   "source": [
    "# Comprueba el resultado - asegúrate de que esté arreglado\n",
    "df['dob_years'].value_counts()"
   ]
  },
  {
   "cell_type": "markdown",
   "metadata": {},
   "source": [
    "[Ahora revisemos la columna `family_status`. Mira qué tipo de valores hay y qué problemas puedes tener que abordar.]"
   ]
  },
  {
   "cell_type": "code",
   "execution_count": 26,
   "metadata": {},
   "outputs": [
    {
     "name": "stdout",
     "output_type": "stream",
     "text": [
      "Valores únicos en la columna 'family_status':\n",
      "['married' 'civil partnership' 'widow / widower' 'divorced' 'unmarried']\n",
      "\n",
      "Conteo de ocurrencias en la columna 'family_status':\n",
      "married              12380\n",
      "civil partnership     4177\n",
      "unmarried             2813\n",
      "divorced              1195\n",
      "widow / widower        960\n",
      "Name: family_status, dtype: int64\n"
     ]
    },
    {
     "data": {
      "text/plain": [
       "(\"Cantidad de valores nulos en la columna 'family_status':\", 0)"
      ]
     },
     "execution_count": 26,
     "metadata": {},
     "output_type": "execute_result"
    }
   ],
   "source": [
    "# Veamos los valores de la columna\n",
    "\n",
    "# Verificar los valores únicos en la columna 'family_status'\n",
    "valores_unicos_family_status = df['family_status'].unique()\n",
    "\n",
    "# Mostrar los valores únicos\n",
    "print(\"Valores únicos en la columna 'family_status':\")\n",
    "print(valores_unicos_family_status)\n",
    "\n",
    "# Contar la cantidad de ocurrencias de cada valor en la columna 'family_status'\n",
    "conteo_family_status = df['family_status'].value_counts()\n",
    "\n",
    "# Mostrar el conteo de ocurrencias\n",
    "print(\"\\nConteo de ocurrencias en la columna 'family_status':\")\n",
    "print(conteo_family_status)\n",
    "\n",
    "# Contar la cantidad de valores nulos en la columna 'family_status'\n",
    "valores_nulos_family_status = df['family_status'].isnull().sum()\n",
    "\n",
    "# Mostrar la cantidad de valores nulos\n",
    "\"Cantidad de valores nulos en la columna 'family_status':\", valores_nulos_family_status"
   ]
  },
  {
   "cell_type": "code",
   "execution_count": 27,
   "metadata": {},
   "outputs": [],
   "source": [
    "# Aborda los valores problemáticos en `family_status`, si existen\n",
    "\n"
   ]
  },
  {
   "cell_type": "markdown",
   "metadata": {},
   "source": [
    "<div class=\"alert alert-block alert-info\">\n",
    "\n",
    "<b>Respuesta del estudiante</b> <a class=\"tocSkip\"></a>\n",
    "Ya que esta columna esta 100% correcta y sin valores nulos solo desplegare el resultado en la celda siguiente y seguire adelante.\n",
    "</div>"
   ]
  },
  {
   "cell_type": "code",
   "execution_count": 28,
   "metadata": {},
   "outputs": [
    {
     "data": {
      "text/plain": [
       "married              12380\n",
       "civil partnership     4177\n",
       "unmarried             2813\n",
       "divorced              1195\n",
       "widow / widower        960\n",
       "Name: family_status, dtype: int64"
      ]
     },
     "execution_count": 28,
     "metadata": {},
     "output_type": "execute_result"
    }
   ],
   "source": [
    "# Comprueba el resultado - asegúrate de que esté arreglado\n",
    "df['family_status'].value_counts()"
   ]
  },
  {
   "cell_type": "markdown",
   "metadata": {},
   "source": [
    "[Ahora revisemos la columna `gender`. Mira qué tipo de valores hay y qué problemas puedes tener que abordar]"
   ]
  },
  {
   "cell_type": "markdown",
   "metadata": {},
   "source": [
    "<div class=\"alert alert-block alert-info\">\n",
    "\n",
    "<b>Respuesta del estudiante</b> <a class=\"tocSkip\"></a>\n",
    "Como podemos aprecia en el resultado del codigo que esta debajo, en la columna existe un valor llamado XNA, lo cual no representa un valor de genero real, para corregir este detalle reemplazaremos ese dato por el valor mas frecuente de esta columna, en este caso seria `F` y ya que es 1 solo valor tampoco variara demasiado la estadistica.\n",
    "</div>"
   ]
  },
  {
   "cell_type": "code",
   "execution_count": 29,
   "metadata": {},
   "outputs": [
    {
     "name": "stdout",
     "output_type": "stream",
     "text": [
      "Valores únicos en la columna 'gender':\n",
      "['F' 'M' 'XNA']\n",
      "\n",
      "Conteo de ocurrencias en la columna 'gender':\n",
      "F      14236\n",
      "M       7288\n",
      "XNA        1\n",
      "Name: gender, dtype: int64\n"
     ]
    },
    {
     "data": {
      "text/plain": [
       "(\"Cantidad de valores nulos en la columna 'gender':\", 0)"
      ]
     },
     "execution_count": 29,
     "metadata": {},
     "output_type": "execute_result"
    }
   ],
   "source": [
    "# Veamos los valores en la columna\n",
    "\n",
    "# Verificar los valores únicos en la columna 'gender'\n",
    "valores_unicos_en_gender = df['gender'].unique()\n",
    "\n",
    "# Mostrar los valores únicos\n",
    "print(\"Valores únicos en la columna 'gender':\")\n",
    "print(valores_unicos_en_gender)\n",
    "\n",
    "# Contar la cantidad de ocurrencias de cada valor en la columna 'gender'\n",
    "conteo_de_gender = df['gender'].value_counts()\n",
    "\n",
    "# Mostrar el conteo de ocurrencias\n",
    "print(\"\\nConteo de ocurrencias en la columna 'gender':\")\n",
    "print(conteo_de_gender)\n",
    "\n",
    "# Contar la cantidad de valores nulos en la columna 'gender'\n",
    "valores_nulos_en_gender = df['gender'].isnull().sum()\n",
    "\n",
    "# Mostrar la cantidad de valores nulos\n",
    "\"Cantidad de valores nulos en la columna 'gender':\", valores_nulos_en_gender"
   ]
  },
  {
   "cell_type": "code",
   "execution_count": 30,
   "metadata": {},
   "outputs": [
    {
     "name": "stdout",
     "output_type": "stream",
     "text": [
      "Valores únicos en la columna 'gender':\n",
      "['F' 'M' 'XNA']\n",
      "\n",
      "Conteo de ocurrencias en la columna 'gender':\n",
      "F      14236\n",
      "M       7288\n",
      "XNA        1\n",
      "Name: gender, dtype: int64\n"
     ]
    }
   ],
   "source": [
    "# Aborda los valores problemáticos, si existen\n",
    "\n",
    "# Contar la cantidad de ocurrencias de cada valor en la columna 'gender'\n",
    "conteo_de_gender = df['gender'].value_counts()\n",
    "\n",
    "# Mostrar los valores únicos y el conteo de ocurrencias\n",
    "print(\"Valores únicos en la columna 'gender':\")\n",
    "print(df['gender'].unique())\n",
    "print(\"\\nConteo de ocurrencias en la columna 'gender':\")\n",
    "print(conteo_de_gender)\n",
    "\n",
    "# Reemplazar el valor 'XNA' con el valor más frecuente, en este caso, 'F'\n",
    "df['gender'] = df['gender'].replace('XNA', 'F')"
   ]
  },
  {
   "cell_type": "code",
   "execution_count": 31,
   "metadata": {},
   "outputs": [
    {
     "data": {
      "text/plain": [
       "F    14237\n",
       "M     7288\n",
       "Name: gender, dtype: int64"
      ]
     },
     "execution_count": 31,
     "metadata": {},
     "output_type": "execute_result"
    }
   ],
   "source": [
    "# Comprueba el resultado - asegúrate de que esté arreglado\n",
    "\n",
    "df['gender'].value_counts()"
   ]
  },
  {
   "cell_type": "markdown",
   "metadata": {},
   "source": [
    "[Ahora vamos a revisar la columna `income_type`. Mira qué tipo de valores hay y qué problemas puedes tener que abordar]"
   ]
  },
  {
   "cell_type": "code",
   "execution_count": 32,
   "metadata": {},
   "outputs": [
    {
     "name": "stdout",
     "output_type": "stream",
     "text": [
      "Valores únicos en la columna 'income_type':\n",
      "['employee' 'retiree' 'business' 'civil servant' 'unemployed'\n",
      " 'entrepreneur' 'student' 'paternity / maternity leave']\n",
      "\n",
      "Conteo de ocurrencias en la columna 'income_type':\n",
      "employee                       11119\n",
      "business                        5085\n",
      "retiree                         3856\n",
      "civil servant                   1459\n",
      "entrepreneur                       2\n",
      "unemployed                         2\n",
      "student                            1\n",
      "paternity / maternity leave        1\n",
      "Name: income_type, dtype: int64\n"
     ]
    },
    {
     "data": {
      "text/plain": [
       "(\"Cantidad de valores nulos en la columna 'income_type':\", 0)"
      ]
     },
     "execution_count": 32,
     "metadata": {},
     "output_type": "execute_result"
    }
   ],
   "source": [
    "# Veamos los valores en la columna\n",
    "\n",
    "# Verificar los valores únicos en la columna 'income_type'\n",
    "valores_unicos_en_income_type = df['income_type'].unique()\n",
    "\n",
    "# Mostrar los valores únicos\n",
    "print(\"Valores únicos en la columna 'income_type':\")\n",
    "print(valores_unicos_en_income_type)\n",
    "\n",
    "# Contar la cantidad de ocurrencias de cada valor en la columna 'income_type'\n",
    "conteo_de_income_type = df['income_type'].value_counts()\n",
    "\n",
    "# Mostrar el conteo de ocurrencias\n",
    "print(\"\\nConteo de ocurrencias en la columna 'income_type':\")\n",
    "print(conteo_de_income_type)\n",
    "\n",
    "# Contar la cantidad de valores nulos en la columna 'gender'\n",
    "valores_nulos_en_income_type = df['income_type'].isnull().sum()\n",
    "\n",
    "# Mostrar la cantidad de valores nulos\n",
    "\"Cantidad de valores nulos en la columna 'income_type':\", valores_nulos_en_income_type"
   ]
  },
  {
   "cell_type": "markdown",
   "metadata": {},
   "source": [
    "<div class=\"alert alert-block alert-info\">\n",
    "\n",
    "<b>Respuesta del estudiante</b> <a class=\"tocSkip\"></a>\n",
    "Como podemos aprecia en el resultado del codigo que tenemos arriba, hay ciertos valores que son minimos, como son: `unemployed`, `entrepreneur`, `student` y `paternity / maternity leave`, si tomamos en consideracion que son unos valores que no son de gran interes para nosotros ya que no inciden lo suficiente en los resultados, podemos agruparlos en un nuevo renglon llamado `other` y asi tenemos menos variables presentes y la informacion esta menos disgregada.\n",
    "</div>"
   ]
  },
  {
   "cell_type": "code",
   "execution_count": 33,
   "metadata": {},
   "outputs": [],
   "source": [
    "# Aborda los valores problemáticos, si existen\n",
    "\n",
    "# Agrupar los valores poco frecuentes en la categoría 'other'\n",
    "valores_poco_frecuentes = ['unemployed', 'entrepreneur', 'student', 'paternity / maternity leave']\n",
    "df['income_type'] = df['income_type'].replace(valores_poco_frecuentes, 'other')"
   ]
  },
  {
   "cell_type": "code",
   "execution_count": 34,
   "metadata": {},
   "outputs": [
    {
     "data": {
      "text/plain": [
       "employee         11119\n",
       "business          5085\n",
       "retiree           3856\n",
       "civil servant     1459\n",
       "other                6\n",
       "Name: income_type, dtype: int64"
      ]
     },
     "execution_count": 34,
     "metadata": {},
     "output_type": "execute_result"
    }
   ],
   "source": [
    "# Comprueba el resultado - asegúrate de que esté arreglado\n",
    "\n",
    "df['income_type'].value_counts()"
   ]
  },
  {
   "cell_type": "markdown",
   "metadata": {},
   "source": [
    "[Ahora veamos si hay duplicados en nuestros datos. Si los hay, tendrás que decidir qué harás con ellos y explicar por qué.]"
   ]
  },
  {
   "cell_type": "markdown",
   "metadata": {},
   "source": [
    "<div class=\"alert alert-block alert-info\">\n",
    "\n",
    "<b>Respuesta del estudiante</b> <a class=\"tocSkip\"></a>\n",
    "En el resultado del codigo que esta debajo podemos aprecia que tenemos en el dataframe, 71 duplicados, esto representa un 0.097% de nuestra data total, al estos datos duplicados no ser una cantidad representativa de la totalidad de datos procedere a borrarlos, para no tener esa duplicidad que no nos provee informacion util.\n",
    "</div>"
   ]
  },
  {
   "cell_type": "code",
   "execution_count": 35,
   "metadata": {},
   "outputs": [
    {
     "name": "stdout",
     "output_type": "stream",
     "text": [
      "Cantidad total de duplicados: 71\n",
      "\n",
      "Filas duplicadas:\n"
     ]
    }
   ],
   "source": [
    "# Comprobar los duplicados\n",
    "\n",
    "# Verificar si hay duplicados en el DataFrame\n",
    "duplicados = df.duplicated()\n",
    "\n",
    "# Contar la cantidad total de duplicados\n",
    "total_duplicados = duplicados.sum()\n",
    "\n",
    "# Mostrar el número total de duplicados\n",
    "print(\"Cantidad total de duplicados:\", total_duplicados)\n",
    "\n",
    "# Mostrar las filas duplicadas si las hay\n",
    "if total_duplicados > 0:\n",
    "    print(\"\\nFilas duplicadas:\")\n",
    "    df[duplicados]"
   ]
  },
  {
   "cell_type": "code",
   "execution_count": 36,
   "metadata": {},
   "outputs": [],
   "source": [
    "# Aborda los duplicados, si existen\n",
    "\n",
    "# Eliminar los duplicados del DataFrame\n",
    "df = df.drop_duplicates()"
   ]
  },
  {
   "cell_type": "code",
   "execution_count": 37,
   "metadata": {},
   "outputs": [
    {
     "name": "stdout",
     "output_type": "stream",
     "text": [
      "Cantidad total de duplicados: 0\n"
     ]
    }
   ],
   "source": [
    "# Última comprobación para ver si tenemos duplicados\n",
    "\n",
    "# Verificar si hay duplicados en el DataFrame\n",
    "duplicados = df.duplicated()\n",
    "\n",
    "# Contar la cantidad total de duplicados\n",
    "total_duplicados = duplicados.sum()\n",
    "\n",
    "# Mostrar el número total de duplicados\n",
    "print(\"Cantidad total de duplicados:\", total_duplicados)\n",
    "\n",
    "# Mostrar las filas duplicadas si las hay\n",
    "if total_duplicados > 0:\n",
    "    print(\"\\nFilas duplicadas:\")\n",
    "    df[duplicados]"
   ]
  },
  {
   "cell_type": "code",
   "execution_count": 38,
   "metadata": {},
   "outputs": [
    {
     "name": "stdout",
     "output_type": "stream",
     "text": [
      "Número de filas después de eliminar duplicados: 21454\n",
      "\n",
      "Tamaño del conjunto de datos después de eliminar duplicados:\n"
     ]
    },
    {
     "data": {
      "text/plain": [
       "(21454, 12)"
      ]
     },
     "execution_count": 38,
     "metadata": {},
     "output_type": "execute_result"
    }
   ],
   "source": [
    "# Comprueba el tamaño del conjunto de datos que tienes ahora, después de haber ejecutado estas primeras manipulaciones\n",
    "\n",
    "\n",
    "# Contar el número de filas después de eliminar los duplicados\n",
    "filas_despues = len(df)\n",
    "\n",
    "# Mostrar el número de filas después de la eliminación de duplicados\n",
    "print(\"Número de filas después de eliminar duplicados:\", filas_despues)\n",
    "\n",
    "# Mostrar el tamaño del conjunto de datos después de eliminar los duplicados (número de filas y columnas)\n",
    "print(\"\\nTamaño del conjunto de datos después de eliminar duplicados:\")\n",
    "df.shape"
   ]
  },
  {
   "cell_type": "markdown",
   "metadata": {},
   "source": [
    "[Describe tu nuevo conjunto de datos: di brevemente qué has cambiado y cuál es el porcentaje de cambios, si hubo alguno.]\n"
   ]
  },
  {
   "cell_type": "markdown",
   "metadata": {},
   "source": [
    "<div class=\"alert alert-block alert-info\">\n",
    "\n",
    "<b>Respuesta del estudiante</b> <a class=\"tocSkip\"></a>\n",
    "En este conjunto de datos.\n",
    "    Primero aborde la columna `education` a la cual le di un tratamiento para poner los valores todos en minuscula y asi tener menos variedad de valores y la informacion es mas entendible.\n",
    "\n",
    "En la columna `children` teniamos datos negativos y con cantidades irreales, estos datos fueron sustituidos por la mediana, ya que asi no incidiremos demasiado en la data, pero podremos proveer una informacion suficientemente acertada.\n",
    "\n",
    "Luego en la columna `days_employed` pudimos ver que todos los datos tenian problemas, o eran datos nulos, o eran datos superiores a 36500 (lo cual representa 100 años) o eran datos negativos, lo que primero se hizo fue convertir esos datos a positivos, luego trabajar los datos superiores a 20000, y a esos juntos con los datos nulos los cambiamos por la mediana de la columna en cuestion, hemos estado usando la mediana ya que las columnas tienen valores asimetricos y no queremos incidir demasiado en los resultados al tratar la data.\n",
    "\n",
    "En la columna `dob_years` encontramos 101 clientes con edad de valor 0, lo cual es irreal, asi que como seguimos trabajando datos asimetricos y no queremos incidir demasiado en los resultados volvimos a usar la mediana para corregir los 101 valores incorrectos.\n",
    "\n",
    "La columna `family_status` estaba correcta completamente, asi que no se le tuvo que dar ningun tipo de tratamiento.\n",
    "\n",
    "La columna de `gender` tenia 1 valor atipico llamado XNA, el cual fue sutituido por el valor que mas se repite, en este caso `F`, asi pasamos solo a tener solo valores que realmente representan el genero.\n",
    "\n",
    "Luego en la columna `income_type` nos encontramos con que a pesar que no teniamos valores nulos, si teniamos algunos valores atipicos minimos como fueron: `unemployed`, `entrepreneur`, `student` y `paternity / maternity leave`, los cuales fueron agrupados en un nuevo renglon llamado `other`, para asi tener una data mas entendible y menos disgregada.\n",
    "\n",
    "Aparte tambien trabajamos los duplicados en el dataframe completo los cuales representaban un 0.097% de la data, al no ser representativos simplemente decidi borrarlos para tener una data mas acertada y concisa.\n",
    "\n",
    "El porcentaje de cambios que se hizo en el dataframe no sobrepasa un `5%` de cambios, asi que no representa una amenaza a la investigacion que se esta llevando acabo.\n",
    "\n",
    "Solo restaria trabajar con la columna `total_income`.\n",
    "</div>"
   ]
  },
  {
   "cell_type": "markdown",
   "metadata": {},
   "source": [
    "# Trabajar con valores ausentes"
   ]
  },
  {
   "cell_type": "markdown",
   "metadata": {},
   "source": [
    "[Para acelerar el trabajo con algunos datos, puede que necesites trabajar con diccionarios para algunos valores, en los que se proporcionan IDs. Explica por qué y con qué diccionarios vas a trabajar.]"
   ]
  },
  {
   "cell_type": "markdown",
   "metadata": {},
   "source": [
    "<div class=\"alert alert-block alert-info\">\n",
    "\n",
    "<b>Respuesta del estudiante</b> <a class=\"tocSkip\"></a>\n",
    "Ya que solo pude observar correlaciones entre las columnas `education` respecto a `education_id` y de `family_status` respecto de `family_status_id`, utilizare estos 2 diccionarios para poder tener mas facilidad al trabajar las conclusiones del trabajo de investigacion ya que podrian usarse como parametros guia y para poner un ejemplo podrian mostrar una relacion entre los pagos, la educacion del cliente y su estatus marital.\n",
    "</div>"
   ]
  },
  {
   "cell_type": "code",
   "execution_count": 39,
   "metadata": {},
   "outputs": [
    {
     "name": "stdout",
     "output_type": "stream",
     "text": [
      "\n",
      "Copia del DataFrame con las columnas 'education_mapped' y 'family_status_mapped':\n"
     ]
    },
    {
     "data": {
      "text/html": [
       "<div>\n",
       "<style scoped>\n",
       "    .dataframe tbody tr th:only-of-type {\n",
       "        vertical-align: middle;\n",
       "    }\n",
       "\n",
       "    .dataframe tbody tr th {\n",
       "        vertical-align: top;\n",
       "    }\n",
       "\n",
       "    .dataframe thead th {\n",
       "        text-align: right;\n",
       "    }\n",
       "</style>\n",
       "<table border=\"1\" class=\"dataframe\">\n",
       "  <thead>\n",
       "    <tr style=\"text-align: right;\">\n",
       "      <th></th>\n",
       "      <th>education</th>\n",
       "      <th>education_mapped</th>\n",
       "      <th>family_status</th>\n",
       "      <th>family_status_mapped</th>\n",
       "    </tr>\n",
       "  </thead>\n",
       "  <tbody>\n",
       "    <tr>\n",
       "      <th>0</th>\n",
       "      <td>bachelor's degree</td>\n",
       "      <td>0</td>\n",
       "      <td>married</td>\n",
       "      <td>0</td>\n",
       "    </tr>\n",
       "    <tr>\n",
       "      <th>1</th>\n",
       "      <td>secondary education</td>\n",
       "      <td>1</td>\n",
       "      <td>married</td>\n",
       "      <td>0</td>\n",
       "    </tr>\n",
       "    <tr>\n",
       "      <th>2</th>\n",
       "      <td>secondary education</td>\n",
       "      <td>1</td>\n",
       "      <td>married</td>\n",
       "      <td>0</td>\n",
       "    </tr>\n",
       "    <tr>\n",
       "      <th>3</th>\n",
       "      <td>secondary education</td>\n",
       "      <td>1</td>\n",
       "      <td>married</td>\n",
       "      <td>0</td>\n",
       "    </tr>\n",
       "    <tr>\n",
       "      <th>4</th>\n",
       "      <td>secondary education</td>\n",
       "      <td>1</td>\n",
       "      <td>civil partnership</td>\n",
       "      <td>1</td>\n",
       "    </tr>\n",
       "    <tr>\n",
       "      <th>...</th>\n",
       "      <td>...</td>\n",
       "      <td>...</td>\n",
       "      <td>...</td>\n",
       "      <td>...</td>\n",
       "    </tr>\n",
       "    <tr>\n",
       "      <th>21520</th>\n",
       "      <td>secondary education</td>\n",
       "      <td>1</td>\n",
       "      <td>civil partnership</td>\n",
       "      <td>1</td>\n",
       "    </tr>\n",
       "    <tr>\n",
       "      <th>21521</th>\n",
       "      <td>secondary education</td>\n",
       "      <td>1</td>\n",
       "      <td>married</td>\n",
       "      <td>0</td>\n",
       "    </tr>\n",
       "    <tr>\n",
       "      <th>21522</th>\n",
       "      <td>secondary education</td>\n",
       "      <td>1</td>\n",
       "      <td>civil partnership</td>\n",
       "      <td>1</td>\n",
       "    </tr>\n",
       "    <tr>\n",
       "      <th>21523</th>\n",
       "      <td>secondary education</td>\n",
       "      <td>1</td>\n",
       "      <td>married</td>\n",
       "      <td>0</td>\n",
       "    </tr>\n",
       "    <tr>\n",
       "      <th>21524</th>\n",
       "      <td>secondary education</td>\n",
       "      <td>1</td>\n",
       "      <td>married</td>\n",
       "      <td>0</td>\n",
       "    </tr>\n",
       "  </tbody>\n",
       "</table>\n",
       "<p>21454 rows × 4 columns</p>\n",
       "</div>"
      ],
      "text/plain": [
       "                 education  education_mapped      family_status  \\\n",
       "0        bachelor's degree                 0            married   \n",
       "1      secondary education                 1            married   \n",
       "2      secondary education                 1            married   \n",
       "3      secondary education                 1            married   \n",
       "4      secondary education                 1  civil partnership   \n",
       "...                    ...               ...                ...   \n",
       "21520  secondary education                 1  civil partnership   \n",
       "21521  secondary education                 1            married   \n",
       "21522  secondary education                 1  civil partnership   \n",
       "21523  secondary education                 1            married   \n",
       "21524  secondary education                 1            married   \n",
       "\n",
       "       family_status_mapped  \n",
       "0                         0  \n",
       "1                         0  \n",
       "2                         0  \n",
       "3                         0  \n",
       "4                         1  \n",
       "...                     ...  \n",
       "21520                     1  \n",
       "21521                     0  \n",
       "21522                     1  \n",
       "21523                     0  \n",
       "21524                     0  \n",
       "\n",
       "[21454 rows x 4 columns]"
      ]
     },
     "execution_count": 39,
     "metadata": {},
     "output_type": "execute_result"
    }
   ],
   "source": [
    "# Encuentra los diccionarios\n",
    "\n",
    "# Realizar una copia del DataFrame\n",
    "df_copy = df.copy()\n",
    "\n",
    "# Realizar el mapeo entre 'education' y 'education_id' mediante un diccionario\n",
    "education_mapping = {\n",
    "    \"bachelor's degree\": 0,\n",
    "    \"secondary education\": 1,\n",
    "    \"some college\": 2,\n",
    "    \"primary education\": 3,\n",
    "    \"graduate degree\": 4\n",
    "}\n",
    "\n",
    "# Crear una nueva columna 'education_mapped' en la copia que contiene los valores de 'education_id' mapeados desde 'education'\n",
    "df_copy['education_mapped'] = df_copy['education'].map(education_mapping)\n",
    "\n",
    "# Realizar el mapeo entre 'family_status' y 'family_status_id' mediante un diccionario\n",
    "family_status_mapping = {\n",
    "    \"married\": 0,\n",
    "    \"civil partnership\": 1,\n",
    "    \"unmarried\": 2,\n",
    "    \"divorced\": 3,\n",
    "    \"widow / widower\": 4\n",
    "}\n",
    "\n",
    "# Crear una nueva columna 'family_status_mapped' en la copia que contiene los valores de 'family_status_id' mapeados desde 'family_status'\n",
    "df_copy['family_status_mapped'] = df_copy['family_status'].map(family_status_mapping)\n",
    "\n",
    "# Mostrar la copia del DataFrame con las columnas 'education_mapped' y 'family_status_mapped'\n",
    "print(\"\\nCopia del DataFrame con las columnas 'education_mapped' y 'family_status_mapped':\")\n",
    "df_copy[['education', 'education_mapped', 'family_status', 'family_status_mapped']]"
   ]
  },
  {
   "cell_type": "markdown",
   "metadata": {},
   "source": [
    "### Restaurar valores ausentes en `total_income`"
   ]
  },
  {
   "cell_type": "markdown",
   "metadata": {},
   "source": [
    "[Indica brevemente qué columnas tienen valores ausentes que debes abordar. Explica cómo las arreglarás.]\n",
    "\n",
    "\n",
    "[Empieza por abordar los valores ausentes del ingreso total. Crea una categoría de edad para los clientes. Crea una nueva columna con la categoría de edad. Esta estrategia puede ayudar a calcular valores para el ingreso total.]\n"
   ]
  },
  {
   "cell_type": "markdown",
   "metadata": {},
   "source": [
    "<div class=\"alert alert-block alert-info\">\n",
    "\n",
    "<b>Respuesta del estudiante</b> <a class=\"tocSkip\"></a>\n",
    "Las unicas columnas con valores ausentes ahora mismo son `days_employed` y `total_income`, ya que estan correlacionadas y la cantidad de data de cada columna que afectan estos valores nulos es de un 9.8% en la cantidad total de valores de la columna digase 2103 valores por columna, utilizaremos la mediana como valor mas seguro para corregir este problema.\n",
    "</div>"
   ]
  },
  {
   "cell_type": "code",
   "execution_count": 40,
   "metadata": {},
   "outputs": [],
   "source": [
    "# Vamos a escribir una función que calcule la categoría de edad\n",
    "\n",
    "def get_age_category(age):\n",
    "    if age < 30:\n",
    "        return 'Joven'\n",
    "    elif age < 45:\n",
    "        return 'Adulto Joven'\n",
    "    elif age < 60:\n",
    "        return 'Adulto Medio'\n",
    "    else:\n",
    "        return 'Adulto Mayor'\n",
    "\n",
    "# Crear una copia del DataFrame\n",
    "df_copy = df.copy()\n",
    "\n",
    "# Crear la nueva columna 'age_category' usando la función en la copia del DataFrame\n",
    "df_copy['age_category'] = df_copy['dob_years'].apply(get_age_category)"
   ]
  },
  {
   "cell_type": "code",
   "execution_count": 41,
   "metadata": {},
   "outputs": [
    {
     "data": {
      "text/html": [
       "<div>\n",
       "<style scoped>\n",
       "    .dataframe tbody tr th:only-of-type {\n",
       "        vertical-align: middle;\n",
       "    }\n",
       "\n",
       "    .dataframe tbody tr th {\n",
       "        vertical-align: top;\n",
       "    }\n",
       "\n",
       "    .dataframe thead th {\n",
       "        text-align: right;\n",
       "    }\n",
       "</style>\n",
       "<table border=\"1\" class=\"dataframe\">\n",
       "  <thead>\n",
       "    <tr style=\"text-align: right;\">\n",
       "      <th></th>\n",
       "      <th>dob_years</th>\n",
       "      <th>age_category</th>\n",
       "    </tr>\n",
       "  </thead>\n",
       "  <tbody>\n",
       "    <tr>\n",
       "      <th>0</th>\n",
       "      <td>42.0</td>\n",
       "      <td>Adulto Joven</td>\n",
       "    </tr>\n",
       "    <tr>\n",
       "      <th>1</th>\n",
       "      <td>36.0</td>\n",
       "      <td>Adulto Joven</td>\n",
       "    </tr>\n",
       "    <tr>\n",
       "      <th>2</th>\n",
       "      <td>33.0</td>\n",
       "      <td>Adulto Joven</td>\n",
       "    </tr>\n",
       "    <tr>\n",
       "      <th>3</th>\n",
       "      <td>32.0</td>\n",
       "      <td>Adulto Joven</td>\n",
       "    </tr>\n",
       "    <tr>\n",
       "      <th>4</th>\n",
       "      <td>53.0</td>\n",
       "      <td>Adulto Medio</td>\n",
       "    </tr>\n",
       "    <tr>\n",
       "      <th>...</th>\n",
       "      <td>...</td>\n",
       "      <td>...</td>\n",
       "    </tr>\n",
       "    <tr>\n",
       "      <th>21520</th>\n",
       "      <td>43.0</td>\n",
       "      <td>Adulto Joven</td>\n",
       "    </tr>\n",
       "    <tr>\n",
       "      <th>21521</th>\n",
       "      <td>67.0</td>\n",
       "      <td>Adulto Mayor</td>\n",
       "    </tr>\n",
       "    <tr>\n",
       "      <th>21522</th>\n",
       "      <td>38.0</td>\n",
       "      <td>Adulto Joven</td>\n",
       "    </tr>\n",
       "    <tr>\n",
       "      <th>21523</th>\n",
       "      <td>38.0</td>\n",
       "      <td>Adulto Joven</td>\n",
       "    </tr>\n",
       "    <tr>\n",
       "      <th>21524</th>\n",
       "      <td>40.0</td>\n",
       "      <td>Adulto Joven</td>\n",
       "    </tr>\n",
       "  </tbody>\n",
       "</table>\n",
       "<p>21454 rows × 2 columns</p>\n",
       "</div>"
      ],
      "text/plain": [
       "       dob_years  age_category\n",
       "0           42.0  Adulto Joven\n",
       "1           36.0  Adulto Joven\n",
       "2           33.0  Adulto Joven\n",
       "3           32.0  Adulto Joven\n",
       "4           53.0  Adulto Medio\n",
       "...          ...           ...\n",
       "21520       43.0  Adulto Joven\n",
       "21521       67.0  Adulto Mayor\n",
       "21522       38.0  Adulto Joven\n",
       "21523       38.0  Adulto Joven\n",
       "21524       40.0  Adulto Joven\n",
       "\n",
       "[21454 rows x 2 columns]"
      ]
     },
     "execution_count": 41,
     "metadata": {},
     "output_type": "execute_result"
    }
   ],
   "source": [
    "# Prueba si la función funciona bien\n",
    "\n",
    "# Mostrar el DataFrame con la nueva columna 'age_category'\n",
    "df_copy[['dob_years', 'age_category']]"
   ]
  },
  {
   "cell_type": "code",
   "execution_count": 42,
   "metadata": {},
   "outputs": [],
   "source": [
    "# Crear una nueva columna basada en la función\n",
    "\n",
    "def get_age_category(age):\n",
    "    if age < 18:\n",
    "        return 'Menor de edad'\n",
    "    elif 18 <= age < 30:\n",
    "        return 'Joven'\n",
    "    elif 30 <= age < 45:\n",
    "        return 'Adulto joven'\n",
    "    elif 45 <= age < 60:\n",
    "        return 'Adulto maduro'\n",
    "    else:\n",
    "        return 'Adulto mayor'\n",
    "\n",
    "# Crear una copia de la copia del DataFrame para evitar el problema de SettingWithCopyWarning\n",
    "df_copy = df.copy()\n",
    "\n",
    "# Crear una nueva columna 'age_category' usando la función get_age_category\n",
    "df_copy['age_category'] = df_copy['dob_years'].apply(get_age_category)"
   ]
  },
  {
   "cell_type": "code",
   "execution_count": 43,
   "metadata": {},
   "outputs": [
    {
     "data": {
      "text/html": [
       "<div>\n",
       "<style scoped>\n",
       "    .dataframe tbody tr th:only-of-type {\n",
       "        vertical-align: middle;\n",
       "    }\n",
       "\n",
       "    .dataframe tbody tr th {\n",
       "        vertical-align: top;\n",
       "    }\n",
       "\n",
       "    .dataframe thead th {\n",
       "        text-align: right;\n",
       "    }\n",
       "</style>\n",
       "<table border=\"1\" class=\"dataframe\">\n",
       "  <thead>\n",
       "    <tr style=\"text-align: right;\">\n",
       "      <th></th>\n",
       "      <th>dob_years</th>\n",
       "      <th>age_category</th>\n",
       "    </tr>\n",
       "  </thead>\n",
       "  <tbody>\n",
       "    <tr>\n",
       "      <th>0</th>\n",
       "      <td>42.0</td>\n",
       "      <td>Adulto joven</td>\n",
       "    </tr>\n",
       "    <tr>\n",
       "      <th>1</th>\n",
       "      <td>36.0</td>\n",
       "      <td>Adulto joven</td>\n",
       "    </tr>\n",
       "    <tr>\n",
       "      <th>2</th>\n",
       "      <td>33.0</td>\n",
       "      <td>Adulto joven</td>\n",
       "    </tr>\n",
       "    <tr>\n",
       "      <th>3</th>\n",
       "      <td>32.0</td>\n",
       "      <td>Adulto joven</td>\n",
       "    </tr>\n",
       "    <tr>\n",
       "      <th>4</th>\n",
       "      <td>53.0</td>\n",
       "      <td>Adulto maduro</td>\n",
       "    </tr>\n",
       "    <tr>\n",
       "      <th>...</th>\n",
       "      <td>...</td>\n",
       "      <td>...</td>\n",
       "    </tr>\n",
       "    <tr>\n",
       "      <th>21520</th>\n",
       "      <td>43.0</td>\n",
       "      <td>Adulto joven</td>\n",
       "    </tr>\n",
       "    <tr>\n",
       "      <th>21521</th>\n",
       "      <td>67.0</td>\n",
       "      <td>Adulto mayor</td>\n",
       "    </tr>\n",
       "    <tr>\n",
       "      <th>21522</th>\n",
       "      <td>38.0</td>\n",
       "      <td>Adulto joven</td>\n",
       "    </tr>\n",
       "    <tr>\n",
       "      <th>21523</th>\n",
       "      <td>38.0</td>\n",
       "      <td>Adulto joven</td>\n",
       "    </tr>\n",
       "    <tr>\n",
       "      <th>21524</th>\n",
       "      <td>40.0</td>\n",
       "      <td>Adulto joven</td>\n",
       "    </tr>\n",
       "  </tbody>\n",
       "</table>\n",
       "<p>21454 rows × 2 columns</p>\n",
       "</div>"
      ],
      "text/plain": [
       "       dob_years   age_category\n",
       "0           42.0   Adulto joven\n",
       "1           36.0   Adulto joven\n",
       "2           33.0   Adulto joven\n",
       "3           32.0   Adulto joven\n",
       "4           53.0  Adulto maduro\n",
       "...          ...            ...\n",
       "21520       43.0   Adulto joven\n",
       "21521       67.0   Adulto mayor\n",
       "21522       38.0   Adulto joven\n",
       "21523       38.0   Adulto joven\n",
       "21524       40.0   Adulto joven\n",
       "\n",
       "[21454 rows x 2 columns]"
      ]
     },
     "execution_count": 43,
     "metadata": {},
     "output_type": "execute_result"
    }
   ],
   "source": [
    "# Comprobar cómo los valores en la nueva columna\n",
    "\n",
    "# Mostrar el DataFrame con la nueva columna 'age_category'\n",
    "df_copy[['dob_years', 'age_category']]"
   ]
  },
  {
   "cell_type": "markdown",
   "metadata": {},
   "source": [
    "[Piensa en los factores de los que suelen depender los ingresos. Eventualmente, tendrás que averiguar si debes usar valores medios o medianos para reemplazar los valores ausentes. Para tomar esta decisión, probablemente querrás ver la distribución de los factores que, según tu análisis, pueden tener un impacto en los ingresos de uno.]"
   ]
  },
  {
   "cell_type": "markdown",
   "metadata": {},
   "source": [
    "[Crea una tabla que solo tenga datos sin valores ausentes. Estos datos se utilizarán para restaurar los valores ausentes.]"
   ]
  },
  {
   "cell_type": "code",
   "execution_count": 44,
   "metadata": {},
   "outputs": [
    {
     "data": {
      "text/html": [
       "<div>\n",
       "<style scoped>\n",
       "    .dataframe tbody tr th:only-of-type {\n",
       "        vertical-align: middle;\n",
       "    }\n",
       "\n",
       "    .dataframe tbody tr th {\n",
       "        vertical-align: top;\n",
       "    }\n",
       "\n",
       "    .dataframe thead th {\n",
       "        text-align: right;\n",
       "    }\n",
       "</style>\n",
       "<table border=\"1\" class=\"dataframe\">\n",
       "  <thead>\n",
       "    <tr style=\"text-align: right;\">\n",
       "      <th></th>\n",
       "      <th>children</th>\n",
       "      <th>days_employed</th>\n",
       "      <th>dob_years</th>\n",
       "      <th>education</th>\n",
       "      <th>education_id</th>\n",
       "      <th>family_status</th>\n",
       "      <th>family_status_id</th>\n",
       "      <th>gender</th>\n",
       "      <th>income_type</th>\n",
       "      <th>debt</th>\n",
       "      <th>total_income</th>\n",
       "      <th>purpose</th>\n",
       "    </tr>\n",
       "  </thead>\n",
       "  <tbody>\n",
       "    <tr>\n",
       "      <th>0</th>\n",
       "      <td>1</td>\n",
       "      <td>8437.673028</td>\n",
       "      <td>42.0</td>\n",
       "      <td>bachelor's degree</td>\n",
       "      <td>0</td>\n",
       "      <td>married</td>\n",
       "      <td>0</td>\n",
       "      <td>F</td>\n",
       "      <td>employee</td>\n",
       "      <td>0</td>\n",
       "      <td>40620.102</td>\n",
       "      <td>purchase of the house</td>\n",
       "    </tr>\n",
       "    <tr>\n",
       "      <th>1</th>\n",
       "      <td>1</td>\n",
       "      <td>4024.803754</td>\n",
       "      <td>36.0</td>\n",
       "      <td>secondary education</td>\n",
       "      <td>1</td>\n",
       "      <td>married</td>\n",
       "      <td>0</td>\n",
       "      <td>F</td>\n",
       "      <td>employee</td>\n",
       "      <td>0</td>\n",
       "      <td>17932.802</td>\n",
       "      <td>car purchase</td>\n",
       "    </tr>\n",
       "    <tr>\n",
       "      <th>2</th>\n",
       "      <td>0</td>\n",
       "      <td>5623.422610</td>\n",
       "      <td>33.0</td>\n",
       "      <td>secondary education</td>\n",
       "      <td>1</td>\n",
       "      <td>married</td>\n",
       "      <td>0</td>\n",
       "      <td>M</td>\n",
       "      <td>employee</td>\n",
       "      <td>0</td>\n",
       "      <td>23341.752</td>\n",
       "      <td>purchase of the house</td>\n",
       "    </tr>\n",
       "    <tr>\n",
       "      <th>3</th>\n",
       "      <td>3</td>\n",
       "      <td>4124.747207</td>\n",
       "      <td>32.0</td>\n",
       "      <td>secondary education</td>\n",
       "      <td>1</td>\n",
       "      <td>married</td>\n",
       "      <td>0</td>\n",
       "      <td>M</td>\n",
       "      <td>employee</td>\n",
       "      <td>0</td>\n",
       "      <td>42820.568</td>\n",
       "      <td>supplementary education</td>\n",
       "    </tr>\n",
       "    <tr>\n",
       "      <th>4</th>\n",
       "      <td>0</td>\n",
       "      <td>1630.019381</td>\n",
       "      <td>53.0</td>\n",
       "      <td>secondary education</td>\n",
       "      <td>1</td>\n",
       "      <td>civil partnership</td>\n",
       "      <td>1</td>\n",
       "      <td>F</td>\n",
       "      <td>retiree</td>\n",
       "      <td>0</td>\n",
       "      <td>25378.572</td>\n",
       "      <td>to have a wedding</td>\n",
       "    </tr>\n",
       "    <tr>\n",
       "      <th>...</th>\n",
       "      <td>...</td>\n",
       "      <td>...</td>\n",
       "      <td>...</td>\n",
       "      <td>...</td>\n",
       "      <td>...</td>\n",
       "      <td>...</td>\n",
       "      <td>...</td>\n",
       "      <td>...</td>\n",
       "      <td>...</td>\n",
       "      <td>...</td>\n",
       "      <td>...</td>\n",
       "      <td>...</td>\n",
       "    </tr>\n",
       "    <tr>\n",
       "      <th>21520</th>\n",
       "      <td>1</td>\n",
       "      <td>4529.316663</td>\n",
       "      <td>43.0</td>\n",
       "      <td>secondary education</td>\n",
       "      <td>1</td>\n",
       "      <td>civil partnership</td>\n",
       "      <td>1</td>\n",
       "      <td>F</td>\n",
       "      <td>business</td>\n",
       "      <td>0</td>\n",
       "      <td>35966.698</td>\n",
       "      <td>housing transactions</td>\n",
       "    </tr>\n",
       "    <tr>\n",
       "      <th>21521</th>\n",
       "      <td>0</td>\n",
       "      <td>1630.019381</td>\n",
       "      <td>67.0</td>\n",
       "      <td>secondary education</td>\n",
       "      <td>1</td>\n",
       "      <td>married</td>\n",
       "      <td>0</td>\n",
       "      <td>F</td>\n",
       "      <td>retiree</td>\n",
       "      <td>0</td>\n",
       "      <td>24959.969</td>\n",
       "      <td>purchase of a car</td>\n",
       "    </tr>\n",
       "    <tr>\n",
       "      <th>21522</th>\n",
       "      <td>1</td>\n",
       "      <td>2113.346888</td>\n",
       "      <td>38.0</td>\n",
       "      <td>secondary education</td>\n",
       "      <td>1</td>\n",
       "      <td>civil partnership</td>\n",
       "      <td>1</td>\n",
       "      <td>M</td>\n",
       "      <td>employee</td>\n",
       "      <td>1</td>\n",
       "      <td>14347.610</td>\n",
       "      <td>property</td>\n",
       "    </tr>\n",
       "    <tr>\n",
       "      <th>21523</th>\n",
       "      <td>3</td>\n",
       "      <td>3112.481705</td>\n",
       "      <td>38.0</td>\n",
       "      <td>secondary education</td>\n",
       "      <td>1</td>\n",
       "      <td>married</td>\n",
       "      <td>0</td>\n",
       "      <td>M</td>\n",
       "      <td>employee</td>\n",
       "      <td>1</td>\n",
       "      <td>39054.888</td>\n",
       "      <td>buying my own car</td>\n",
       "    </tr>\n",
       "    <tr>\n",
       "      <th>21524</th>\n",
       "      <td>2</td>\n",
       "      <td>1984.507589</td>\n",
       "      <td>40.0</td>\n",
       "      <td>secondary education</td>\n",
       "      <td>1</td>\n",
       "      <td>married</td>\n",
       "      <td>0</td>\n",
       "      <td>F</td>\n",
       "      <td>employee</td>\n",
       "      <td>0</td>\n",
       "      <td>13127.587</td>\n",
       "      <td>to buy a car</td>\n",
       "    </tr>\n",
       "  </tbody>\n",
       "</table>\n",
       "<p>19351 rows × 12 columns</p>\n",
       "</div>"
      ],
      "text/plain": [
       "       children  days_employed  dob_years            education  education_id  \\\n",
       "0             1    8437.673028       42.0    bachelor's degree             0   \n",
       "1             1    4024.803754       36.0  secondary education             1   \n",
       "2             0    5623.422610       33.0  secondary education             1   \n",
       "3             3    4124.747207       32.0  secondary education             1   \n",
       "4             0    1630.019381       53.0  secondary education             1   \n",
       "...         ...            ...        ...                  ...           ...   \n",
       "21520         1    4529.316663       43.0  secondary education             1   \n",
       "21521         0    1630.019381       67.0  secondary education             1   \n",
       "21522         1    2113.346888       38.0  secondary education             1   \n",
       "21523         3    3112.481705       38.0  secondary education             1   \n",
       "21524         2    1984.507589       40.0  secondary education             1   \n",
       "\n",
       "           family_status  family_status_id gender income_type  debt  \\\n",
       "0                married                 0      F    employee     0   \n",
       "1                married                 0      F    employee     0   \n",
       "2                married                 0      M    employee     0   \n",
       "3                married                 0      M    employee     0   \n",
       "4      civil partnership                 1      F     retiree     0   \n",
       "...                  ...               ...    ...         ...   ...   \n",
       "21520  civil partnership                 1      F    business     0   \n",
       "21521            married                 0      F     retiree     0   \n",
       "21522  civil partnership                 1      M    employee     1   \n",
       "21523            married                 0      M    employee     1   \n",
       "21524            married                 0      F    employee     0   \n",
       "\n",
       "       total_income                  purpose  \n",
       "0         40620.102    purchase of the house  \n",
       "1         17932.802             car purchase  \n",
       "2         23341.752    purchase of the house  \n",
       "3         42820.568  supplementary education  \n",
       "4         25378.572        to have a wedding  \n",
       "...             ...                      ...  \n",
       "21520     35966.698     housing transactions  \n",
       "21521     24959.969        purchase of a car  \n",
       "21522     14347.610                 property  \n",
       "21523     39054.888        buying my own car  \n",
       "21524     13127.587             to buy a car  \n",
       "\n",
       "[19351 rows x 12 columns]"
      ]
     },
     "execution_count": 44,
     "metadata": {},
     "output_type": "execute_result"
    }
   ],
   "source": [
    "# Crea una tabla sin valores ausentes y muestra algunas de sus filas para asegurarte de que se ve bien\n",
    "\n",
    "# Crear una copia del DataFrame original para no modificar los datos originales\n",
    "df_cleaned = df.copy()\n",
    "\n",
    "# Eliminar las filas con valores nulos en cualquier columna\n",
    "df_cleaned = df_cleaned.dropna()\n",
    "\n",
    "# Mostrar la tabla sin valores ausentes\n",
    "df_cleaned"
   ]
  },
  {
   "cell_type": "code",
   "execution_count": 45,
   "metadata": {
    "scrolled": false
   },
   "outputs": [
    {
     "name": "stdout",
     "output_type": "stream",
     "text": [
      "Ingreso promedio por categoría de edad:\n",
      "age_category\n",
      "Adulto joven     28444.523151\n",
      "Adulto maduro    26663.257625\n",
      "Adulto mayor     23021.639994\n",
      "Joven            25533.960641\n",
      "Name: total_income, dtype: float64\n",
      "\n",
      "Ingreso promedio por nivel de educación:\n",
      "education\n",
      "bachelor's degree      33142.802434\n",
      "graduate degree        27960.024667\n",
      "primary education      21144.882211\n",
      "secondary education    24594.503037\n",
      "some college           29045.443644\n",
      "Name: total_income, dtype: float64\n",
      "\n",
      "Ingreso promedio por estado civil:\n"
     ]
    },
    {
     "data": {
      "text/plain": [
       "family_status\n",
       "civil partnership    26694.428597\n",
       "divorced             27189.354550\n",
       "married              27041.784689\n",
       "unmarried            26934.069805\n",
       "widow / widower      22984.208556\n",
       "Name: total_income, dtype: float64"
      ]
     },
     "execution_count": 45,
     "metadata": {},
     "output_type": "execute_result"
    }
   ],
   "source": [
    "# Examina los valores medios de los ingresos en función de los factores que identificaste\n",
    "\n",
    "# Verificar si la columna 'age_category' existe en el DataFrame\n",
    "if 'age_category' not in df_cleaned.columns:\n",
    "    # Crear la columna 'age_category' utilizando la función get_age_category()\n",
    "    df_cleaned['age_category'] = df_cleaned['dob_years'].apply(get_age_category)\n",
    "\n",
    "# Agrupar los datos por la categoría de edad y calcular el ingreso promedio en cada grupo\n",
    "income_by_age_category = df_cleaned.groupby('age_category')['total_income'].mean()\n",
    "\n",
    "# Agrupar los datos por el nivel de educación y calcular el ingreso promedio en cada grupo\n",
    "income_by_education = df_cleaned.groupby('education')['total_income'].mean()\n",
    "\n",
    "# Agrupar los datos por el estado civil y calcular el ingreso promedio en cada grupo\n",
    "income_by_family_status = df_cleaned.groupby('family_status')['total_income'].mean()\n",
    "\n",
    "# Mostrar los resultados\n",
    "print(\"Ingreso promedio por categoría de edad:\")\n",
    "print(income_by_age_category)\n",
    "\n",
    "print(\"\\nIngreso promedio por nivel de educación:\")\n",
    "print(income_by_education)\n",
    "\n",
    "print(\"\\nIngreso promedio por estado civil:\")\n",
    "income_by_family_status"
   ]
  },
  {
   "cell_type": "code",
   "execution_count": 46,
   "metadata": {
    "scrolled": false
   },
   "outputs": [
    {
     "name": "stdout",
     "output_type": "stream",
     "text": [
      "Mediana del ingreso por categoría de edad:\n",
      "age_category\n",
      "Adulto joven     24692.4500\n",
      "Adulto maduro    23068.1320\n",
      "Adulto mayor     19761.4250\n",
      "Joven            22742.6535\n",
      "Name: total_income, dtype: float64\n",
      "\n",
      "Mediana del ingreso por nivel de educación:\n",
      "education\n",
      "bachelor's degree      28054.5310\n",
      "graduate degree        25161.5835\n",
      "primary education      18741.9760\n",
      "secondary education    21836.5830\n",
      "some college           25618.4640\n",
      "Name: total_income, dtype: float64\n",
      "\n",
      "Mediana del ingreso por estado civil:\n"
     ]
    },
    {
     "data": {
      "text/plain": [
       "family_status\n",
       "civil partnership    23186.534\n",
       "divorced             23515.096\n",
       "married              23389.540\n",
       "unmarried            23149.028\n",
       "widow / widower      20514.190\n",
       "Name: total_income, dtype: float64"
      ]
     },
     "execution_count": 46,
     "metadata": {},
     "output_type": "execute_result"
    }
   ],
   "source": [
    "# Examina los valores medianos de los ingresos en función de los factores que identificaste\n",
    "\n",
    "# Verificar si la columna 'age_category' existe en el DataFrame\n",
    "if 'age_category' not in df_cleaned.columns:\n",
    "    # Crear la columna 'age_category' utilizando la función get_age_category()\n",
    "    df_cleaned['age_category'] = df_cleaned['dob_years'].apply(get_age_category)\n",
    "\n",
    "# Agrupar los datos por la categoría de edad y calcular la mediana del ingreso en cada grupo\n",
    "median_income_by_age_category = df_cleaned.groupby('age_category')['total_income'].median()\n",
    "\n",
    "# Agrupar los datos por el nivel de educación y calcular la mediana del ingreso en cada grupo\n",
    "median_income_by_education = df_cleaned.groupby('education')['total_income'].median()\n",
    "\n",
    "# Agrupar los datos por el estado civil y calcular la mediana del ingreso en cada grupo\n",
    "median_income_by_family_status = df_cleaned.groupby('family_status')['total_income'].median()\n",
    "\n",
    "# Mostrar los resultados\n",
    "print(\"Mediana del ingreso por categoría de edad:\")\n",
    "print(median_income_by_age_category)\n",
    "\n",
    "print(\"\\nMediana del ingreso por nivel de educación:\")\n",
    "print(median_income_by_education)\n",
    "\n",
    "print(\"\\nMediana del ingreso por estado civil:\")\n",
    "median_income_by_family_status"
   ]
  },
  {
   "cell_type": "markdown",
   "metadata": {},
   "source": [
    "[Repite tales comparaciones para múltiples factores. Asegúrate de considerar diferentes aspectos y explica tu razonamiento.]\n",
    "\n"
   ]
  },
  {
   "cell_type": "markdown",
   "metadata": {},
   "source": [
    "[Determina qué características definen mejor los ingresos y decide si utilizarás una mediana o una media. Explica por qué tomaste esta decisión.]\n"
   ]
  },
  {
   "cell_type": "markdown",
   "metadata": {},
   "source": [
    "<div class=\"alert alert-block alert-info\">\n",
    "\n",
    "<b>Respuesta del estudiante</b> <a class=\"tocSkip\"></a>\n",
    "Las caracteristicas que definen mejor los ingresos son `age_category`, `education` y `family_status`, porque estas caracteristicas los definen mejor, es simple, mientras mayor `education` se suele tener un income mayor, lo cual queda evidenciado en la data, tambien podemos ver que en la mediana edad que figura en `age_category` el cliente recibe mas dividendos y que los clientes con un `family_status` de divorciados tienen mejor income. Al final decidi utilizar la mediana ya que habia valores atipicos y la mediana es la que me brinda mas seguridad de que el resultado final no va a cambiar demasiado los resultados.\n",
    "</div>"
   ]
  },
  {
   "cell_type": "code",
   "execution_count": 47,
   "metadata": {},
   "outputs": [],
   "source": [
    "#  Escribe una función que usaremos para completar los valores ausentes\n",
    "        \n",
    "def fill_missing_income(row):\n",
    "    # Obtener el valor de la edad, nivel de educación y estado civil de la fila actual\n",
    "    age_category = row['age_category']\n",
    "    education = row['education']\n",
    "    family_status = row['family_status']\n",
    "    \n",
    "    # Verificar si el ingreso es nulo\n",
    "    if pd.isnull(row['total_income']):\n",
    "        # Completar el valor nulo con la mediana correspondiente a la categoría de edad, nivel de educación y estado civil\n",
    "        if age_category in median_income_by_age_category.index and education in median_income_by_education.index and family_status in median_income_by_family_status.index:\n",
    "            median_income = median_income_by_age_category[age_category]\n",
    "            median_income += median_income_by_education[education]\n",
    "            median_income += median_income_by_family_status[family_status]\n",
    "            return median_income / 3\n",
    "    \n",
    "    # Si el ingreso no es nulo, mantener el valor original\n",
    "    return row['total_income'] "
   ]
  },
  {
   "cell_type": "code",
   "execution_count": 48,
   "metadata": {},
   "outputs": [
    {
     "name": "stdout",
     "output_type": "stream",
     "text": [
      "Cantidad de valores nulos en la columna 'total_income': 0\n"
     ]
    }
   ],
   "source": [
    "# Comprueba si funciona\n",
    "\n",
    "# Contar la cantidad de valores nulos en la columna \"total_income\"\n",
    "valores_nulos_total_income = df_cleaned['total_income'].isnull().sum()\n",
    "print(\"Cantidad de valores nulos en la columna 'total_income':\", valores_nulos_total_income)"
   ]
  },
  {
   "cell_type": "code",
   "execution_count": 49,
   "metadata": {},
   "outputs": [],
   "source": [
    "# Aplícalo a cada fila\n",
    "\n",
    "# Completar los valores ausentes en la columna \"total_income\" usando la función fill_missing_income\n",
    "df_cleaned['total_income'] = df_cleaned['total_income'].fillna(df_cleaned.groupby(['age_category', 'education', 'family_status'])['total_income'].transform('median'))"
   ]
  },
  {
   "cell_type": "code",
   "execution_count": 50,
   "metadata": {},
   "outputs": [
    {
     "name": "stdout",
     "output_type": "stream",
     "text": [
      "Cantidad de valores nulos en la columna 'total_income' después de completar: 0\n"
     ]
    }
   ],
   "source": [
    "# Comprueba si tenemos algún error\n",
    "\n",
    "# Contar la cantidad de valores nulos en la columna \"total_income\" después de completar\n",
    "valores_nulos_total_income_despues = df_cleaned['total_income'].isnull().sum()\n",
    "print(\"Cantidad de valores nulos en la columna 'total_income' después de completar:\", valores_nulos_total_income_despues)"
   ]
  },
  {
   "cell_type": "markdown",
   "metadata": {},
   "source": [
    "[Si has encontrado errores al preparar los valores para los datos ausentes, probablemente signifique que hay algo especial en los datos de la categoría. Piénsalo un poco: tal vez hará falta arreglar algunas cosas manualmente, si hay suficientes datos para encontrar medianas/medias.]\n"
   ]
  },
  {
   "cell_type": "code",
   "execution_count": 51,
   "metadata": {},
   "outputs": [],
   "source": [
    "# Reemplazar los valores ausentes si hay algún error\n"
   ]
  },
  {
   "cell_type": "markdown",
   "metadata": {},
   "source": [
    "[Cuando creas que has terminado con `total_income`, comprueba que el número total de valores en esta columna coincida con el número de valores en otras columnas.]"
   ]
  },
  {
   "cell_type": "code",
   "execution_count": 52,
   "metadata": {},
   "outputs": [
    {
     "name": "stdout",
     "output_type": "stream",
     "text": [
      "Número de valores en la columna 'total_income': 19351\n",
      "\n",
      "Número de valores en otras columnas:\n",
      "children            19351\n",
      "days_employed       19351\n",
      "dob_years           19351\n",
      "education           19351\n",
      "education_id        19351\n",
      "family_status       19351\n",
      "family_status_id    19351\n",
      "gender              19351\n",
      "income_type         19351\n",
      "debt                19351\n",
      "purpose             19351\n",
      "age_category        19351\n",
      "dtype: int64\n",
      "\n",
      "El número total de valores en la columna 'total_income' coincide con los números de valores en otras columnas.\n"
     ]
    }
   ],
   "source": [
    "# Comprobar el número de entradas en las columnas\n",
    "\n",
    "# Contar la cantidad de valores en la columna \"total_income\"\n",
    "total_income_count = df_cleaned['total_income'].count()\n",
    "\n",
    "# Contar la cantidad de valores en otras columnas del DataFrame\n",
    "other_column_counts = df_cleaned.drop('total_income', axis=1).count()\n",
    "\n",
    "# Mostrar el número de valores en la columna \"total_income\"\n",
    "print(\"Número de valores en la columna 'total_income':\", total_income_count)\n",
    "\n",
    "# Mostrar el número de valores en otras columnas\n",
    "print(\"\\nNúmero de valores en otras columnas:\")\n",
    "print(other_column_counts)\n",
    "\n",
    "# Verificar si los conteos coinciden\n",
    "if total_income_count == other_column_counts.min():\n",
    "    print(\"\\nEl número total de valores en la columna 'total_income' coincide con los números de valores en otras columnas.\")\n",
    "else:\n",
    "    print(\"\\nEl número total de valores en la columna 'total_income' NO coincide con los números de valores en otras columnas.\")"
   ]
  },
  {
   "cell_type": "markdown",
   "metadata": {},
   "source": [
    "###  Restaurar valores en `days_employed`"
   ]
  },
  {
   "cell_type": "markdown",
   "metadata": {},
   "source": [
    "[Piensa en los parámetros que pueden ayudarte a restaurar los valores ausentes en esta columna. Eventualmente, tendrás que averiguar si debes usar valores medios o medianos para reemplazar los valores ausentes. Probablemente llevarás a cabo una investigación similar a la que realizaste cuando restauraste los datos en la columna anterior.]"
   ]
  },
  {
   "cell_type": "markdown",
   "metadata": {},
   "source": [
    "<div class=\"alert alert-block alert-info\">\n",
    "\n",
    "<b>Respuesta del estudiante</b> <a class=\"tocSkip\"></a>\n",
    "Como pude observar la correlacion usada en `total_income` funciona correctamente tambien para esta columna, asi que, aca tendremos en cuenta `age_category`, `education` y `family_status` por igual.\n",
    "</div>"
   ]
  },
  {
   "cell_type": "code",
   "execution_count": 53,
   "metadata": {
    "pycharm": {
     "name": "#%%\n"
    }
   },
   "outputs": [
    {
     "name": "stdout",
     "output_type": "stream",
     "text": [
      "Distribución de las medianas de 'days_employed' en función de la categoría de edad:\n"
     ]
    },
    {
     "data": {
      "text/html": [
       "<div>\n",
       "<style scoped>\n",
       "    .dataframe tbody tr th:only-of-type {\n",
       "        vertical-align: middle;\n",
       "    }\n",
       "\n",
       "    .dataframe tbody tr th {\n",
       "        vertical-align: top;\n",
       "    }\n",
       "\n",
       "    .dataframe thead th {\n",
       "        text-align: right;\n",
       "    }\n",
       "</style>\n",
       "<table border=\"1\" class=\"dataframe\">\n",
       "  <thead>\n",
       "    <tr style=\"text-align: right;\">\n",
       "      <th></th>\n",
       "      <th>age_category</th>\n",
       "      <th>days_employed</th>\n",
       "    </tr>\n",
       "  </thead>\n",
       "  <tbody>\n",
       "    <tr>\n",
       "      <th>0</th>\n",
       "      <td>Adulto joven</td>\n",
       "      <td>1292.221018</td>\n",
       "    </tr>\n",
       "    <tr>\n",
       "      <th>1</th>\n",
       "      <td>Adulto maduro</td>\n",
       "      <td>1774.256890</td>\n",
       "    </tr>\n",
       "    <tr>\n",
       "      <th>2</th>\n",
       "      <td>Adulto mayor</td>\n",
       "      <td>1630.019381</td>\n",
       "    </tr>\n",
       "    <tr>\n",
       "      <th>3</th>\n",
       "      <td>Joven</td>\n",
       "      <td>744.542130</td>\n",
       "    </tr>\n",
       "  </tbody>\n",
       "</table>\n",
       "</div>"
      ],
      "text/plain": [
       "    age_category  days_employed\n",
       "0   Adulto joven    1292.221018\n",
       "1  Adulto maduro    1774.256890\n",
       "2   Adulto mayor    1630.019381\n",
       "3          Joven     744.542130"
      ]
     },
     "execution_count": 53,
     "metadata": {},
     "output_type": "execute_result"
    }
   ],
   "source": [
    "# Distribución de las medianas de `days_employed` en función de los parámetros identificados\n",
    "\n",
    "# Crear una copia del DataFrame para trabajar con ella\n",
    "df_cleaned = df.copy()\n",
    "\n",
    "# Definir la función para calcular la categoría de edad\n",
    "def get_age_category(age):\n",
    "    if age < 25:\n",
    "        return 'Joven'\n",
    "    elif age < 35:\n",
    "        return 'Adulto joven'\n",
    "    elif age < 55:\n",
    "        return 'Adulto maduro'\n",
    "    else:\n",
    "        return 'Adulto mayor'\n",
    "\n",
    "# Crear la columna 'age_category' utilizando la función get_age_category\n",
    "df_cleaned['age_category'] = df_cleaned['dob_years'].apply(get_age_category)\n",
    "\n",
    "# Calcular la mediana de 'days_employed' excluyendo nulos y valores superiores a 20000\n",
    "mediana_days_employed = df_cleaned.loc[(~df_cleaned['days_employed'].isnull()) & (df_cleaned['days_employed'] <= 20000), 'days_employed'].median()\n",
    "\n",
    "# Reemplazar valores negativos por su valor absoluto y valores superiores a 20000 por la mediana calculada\n",
    "df_cleaned['days_employed'] = df_cleaned['days_employed'].apply(lambda x: abs(x) if x < 0 else mediana_days_employed if x > 20000 else x)\n",
    "\n",
    "# Crear un DataFrame para la distribución de medianas de 'days_employed' en función de la categoría de edad\n",
    "df_age_category_median = df_cleaned.groupby('age_category')['days_employed'].median().reset_index()\n",
    "\n",
    "# Mostrar el DataFrame resultante\n",
    "print(\"Distribución de las medianas de 'days_employed' en función de la categoría de edad:\")\n",
    "df_age_category_median"
   ]
  },
  {
   "cell_type": "code",
   "execution_count": 54,
   "metadata": {},
   "outputs": [
    {
     "name": "stdout",
     "output_type": "stream",
     "text": [
      "Distribución de las medias de 'days_employed' en función de la categoría de edad:\n"
     ]
    },
    {
     "data": {
      "text/html": [
       "<div>\n",
       "<style scoped>\n",
       "    .dataframe tbody tr th:only-of-type {\n",
       "        vertical-align: middle;\n",
       "    }\n",
       "\n",
       "    .dataframe tbody tr th {\n",
       "        vertical-align: top;\n",
       "    }\n",
       "\n",
       "    .dataframe thead th {\n",
       "        text-align: right;\n",
       "    }\n",
       "</style>\n",
       "<table border=\"1\" class=\"dataframe\">\n",
       "  <thead>\n",
       "    <tr style=\"text-align: right;\">\n",
       "      <th></th>\n",
       "      <th>age_category</th>\n",
       "      <th>days_employed</th>\n",
       "    </tr>\n",
       "  </thead>\n",
       "  <tbody>\n",
       "    <tr>\n",
       "      <th>0</th>\n",
       "      <td>Adulto joven</td>\n",
       "      <td>1587.086454</td>\n",
       "    </tr>\n",
       "    <tr>\n",
       "      <th>1</th>\n",
       "      <td>Adulto maduro</td>\n",
       "      <td>2596.621889</td>\n",
       "    </tr>\n",
       "    <tr>\n",
       "      <th>2</th>\n",
       "      <td>Adulto mayor</td>\n",
       "      <td>2321.173306</td>\n",
       "    </tr>\n",
       "    <tr>\n",
       "      <th>3</th>\n",
       "      <td>Joven</td>\n",
       "      <td>855.006980</td>\n",
       "    </tr>\n",
       "  </tbody>\n",
       "</table>\n",
       "</div>"
      ],
      "text/plain": [
       "    age_category  days_employed\n",
       "0   Adulto joven    1587.086454\n",
       "1  Adulto maduro    2596.621889\n",
       "2   Adulto mayor    2321.173306\n",
       "3          Joven     855.006980"
      ]
     },
     "execution_count": 54,
     "metadata": {},
     "output_type": "execute_result"
    }
   ],
   "source": [
    "# Distribución de las medias de `days_employed` en función de los parámetros identificados\n",
    "\n",
    "# Crear una copia del DataFrame para trabajar con ella\n",
    "df_cleaned = df.copy()\n",
    "\n",
    "# Crear la columna 'age_category' utilizando la función get_age_category\n",
    "df_cleaned['age_category'] = df_cleaned['dob_years'].apply(get_age_category)\n",
    "\n",
    "# Calcular la media de 'days_employed' excluyendo nulos y valores superiores a 20000\n",
    "media_days_employed = df_cleaned.loc[(~df_cleaned['days_employed'].isnull()) & (df_cleaned['days_employed'] <= 20000), 'days_employed'].mean()\n",
    "\n",
    "# Reemplazar valores negativos por su valor absoluto y valores superiores a 20000 por la media calculada\n",
    "df_cleaned['days_employed'] = df_cleaned['days_employed'].apply(lambda x: abs(x) if x < 0 else media_days_employed if x > 20000 else x)\n",
    "\n",
    "# Crear un DataFrame para la distribución de medias de 'days_employed' en función de la categoría de edad\n",
    "df_age_category_mean = df_cleaned.groupby('age_category')['days_employed'].mean().reset_index()\n",
    "\n",
    "# Mostrar el DataFrame resultante\n",
    "print(\"Distribución de las medias de 'days_employed' en función de la categoría de edad:\")\n",
    "df_age_category_mean"
   ]
  },
  {
   "cell_type": "markdown",
   "metadata": {},
   "source": [
    "[Decide qué vas a utilizar: medias o medianas. Explica por qué.]"
   ]
  },
  {
   "cell_type": "markdown",
   "metadata": {},
   "source": [
    "<div class=\"alert alert-block alert-info\">\n",
    "\n",
    "<b>Respuesta del estudiante</b> <a class=\"tocSkip\"></a>\n",
    "Aca por igual como tenemos valores atipicos utilizaremos la mediana, para conservar con mayor integridad la data y obtener unos resultados imparciales.\n",
    "</div>"
   ]
  },
  {
   "cell_type": "code",
   "execution_count": 55,
   "metadata": {},
   "outputs": [],
   "source": [
    "# Escribamos una función que calcule medias o medianas (dependiendo de tu decisión) según el parámetro identificado\n",
    "\n",
    "def calculate_statistic(df, column_of_interest, identified_parameter, statistic='mean'):\n",
    "    \"\"\"\n",
    "    Calcula la media o mediana de una columna de interés según un parámetro identificado.\n",
    "\n",
    "    Parámetros:\n",
    "        df (DataFrame): El DataFrame que contiene los datos.\n",
    "        column_of_interest (str): El nombre de la columna de interés para calcular la media o la mediana.\n",
    "        identified_parameter (str): El nombre del parámetro identificado para agrupar los datos.\n",
    "        statistic (str, opcional): El tipo de estadística a calcular. Puede ser 'mean' para la media o 'median' para la mediana.\n",
    "                                   Por defecto, se utiliza 'mean'.\n",
    "\n",
    "    Retorna:\n",
    "        DataFrame: Un DataFrame con la media o mediana de la columna de interés para cada grupo según el parámetro identificado.\n",
    "    \"\"\"\n",
    "    if statistic not in ['mean', 'median']:\n",
    "        raise ValueError(\"El valor de 'statistic' debe ser 'mean' o 'median'.\")\n",
    "\n",
    "    # Calcular la media o mediana según el parámetro identificado\n",
    "    if statistic == 'mean':\n",
    "        result = df.groupby(identified_parameter)[column_of_interest].mean().reset_index()\n",
    "    else:\n",
    "        result = df.groupby(identified_parameter)[column_of_interest].median().reset_index()\n",
    "\n",
    "    return result"
   ]
  },
  {
   "cell_type": "code",
   "execution_count": 56,
   "metadata": {},
   "outputs": [],
   "source": [
    "# Comprueba que la función funciona\n",
    "\n",
    "# Calcular la media de 'total_income' según la categoría de edad\n",
    "income_by_age_category_mean = calculate_statistic(df_cleaned, 'total_income', 'age_category', statistic='mean')\n",
    "\n",
    "# Calcular la mediana de 'total_income' según el nivel de educación\n",
    "income_by_education_median = calculate_statistic(df_cleaned, 'total_income', 'education', statistic='median')\n",
    "\n",
    "# Calcular la media de 'total_income' según el estado civil\n",
    "income_by_family_status_mean = calculate_statistic(df_cleaned, 'total_income', 'family_status', statistic='mean')"
   ]
  },
  {
   "cell_type": "code",
   "execution_count": 57,
   "metadata": {},
   "outputs": [],
   "source": [
    "# Aplicar la función al income_type\n",
    "\n",
    "# Calcular la media de 'total_income' según el tipo de ingreso\n",
    "income_by_income_type_mean = calculate_statistic(df_cleaned, 'total_income', 'income_type', statistic='mean')\n",
    "\n",
    "# Calcular la mediana de 'total_income' según el tipo de ingreso\n",
    "income_by_income_type_median = calculate_statistic(df_cleaned, 'total_income', 'income_type', statistic='median')"
   ]
  },
  {
   "cell_type": "code",
   "execution_count": 58,
   "metadata": {},
   "outputs": [
    {
     "name": "stdout",
     "output_type": "stream",
     "text": [
      "Media del ingreso por tipo de ingreso:\n",
      "     income_type  total_income\n",
      "0       business  32386.793835\n",
      "1  civil servant  27343.729582\n",
      "2       employee  25820.841683\n",
      "3          other  29243.949000\n",
      "4        retiree  21940.394503\n",
      "\n",
      "Mediana del ingreso por tipo de ingreso:\n"
     ]
    },
    {
     "data": {
      "text/html": [
       "<div>\n",
       "<style scoped>\n",
       "    .dataframe tbody tr th:only-of-type {\n",
       "        vertical-align: middle;\n",
       "    }\n",
       "\n",
       "    .dataframe tbody tr th {\n",
       "        vertical-align: top;\n",
       "    }\n",
       "\n",
       "    .dataframe thead th {\n",
       "        text-align: right;\n",
       "    }\n",
       "</style>\n",
       "<table border=\"1\" class=\"dataframe\">\n",
       "  <thead>\n",
       "    <tr style=\"text-align: right;\">\n",
       "      <th></th>\n",
       "      <th>income_type</th>\n",
       "      <th>total_income</th>\n",
       "    </tr>\n",
       "  </thead>\n",
       "  <tbody>\n",
       "    <tr>\n",
       "      <th>0</th>\n",
       "      <td>business</td>\n",
       "      <td>27577.2720</td>\n",
       "    </tr>\n",
       "    <tr>\n",
       "      <th>1</th>\n",
       "      <td>civil servant</td>\n",
       "      <td>24071.6695</td>\n",
       "    </tr>\n",
       "    <tr>\n",
       "      <th>2</th>\n",
       "      <td>employee</td>\n",
       "      <td>22815.1035</td>\n",
       "    </tr>\n",
       "    <tr>\n",
       "      <th>3</th>\n",
       "      <td>other</td>\n",
       "      <td>15712.2600</td>\n",
       "    </tr>\n",
       "    <tr>\n",
       "      <th>4</th>\n",
       "      <td>retiree</td>\n",
       "      <td>18962.3180</td>\n",
       "    </tr>\n",
       "  </tbody>\n",
       "</table>\n",
       "</div>"
      ],
      "text/plain": [
       "     income_type  total_income\n",
       "0       business    27577.2720\n",
       "1  civil servant    24071.6695\n",
       "2       employee    22815.1035\n",
       "3          other    15712.2600\n",
       "4        retiree    18962.3180"
      ]
     },
     "execution_count": 58,
     "metadata": {},
     "output_type": "execute_result"
    }
   ],
   "source": [
    "# Comprueba si la función funcionó\n",
    "\n",
    "# Imprimir el DataFrame con la media del ingreso por tipo de ingreso\n",
    "print(\"Media del ingreso por tipo de ingreso:\")\n",
    "print(income_by_income_type_mean)\n",
    "\n",
    "# Imprimir el DataFrame con la mediana del ingreso por tipo de ingreso\n",
    "print(\"\\nMediana del ingreso por tipo de ingreso:\")\n",
    "income_by_income_type_median"
   ]
  },
  {
   "cell_type": "code",
   "execution_count": 59,
   "metadata": {},
   "outputs": [],
   "source": [
    "# Reemplazar valores ausentes\n",
    "\n",
    "# Crear un diccionario que mapee las categorías en 'income_type' del DataFrame original con las medianas en 'income_by_income_type_median'\n",
    "income_type_order = ['employee', 'retiree', 'business', 'civil servant', 'other']\n",
    "income_type_median_dict = dict(zip(income_by_income_type_median['income_type'], income_by_income_type_median['total_income']))\n",
    "\n",
    "# Función para reemplazar los valores nulos en 'days_employed' usando el diccionario de medianas\n",
    "def replace_missing_days_employed(days_employed, income_type, income_type_median_dict):\n",
    "    if pd.isnull(days_employed):\n",
    "        # Eliminar espacios adicionales y convertir a minúsculas\n",
    "        income_type_cleaned = income_type.strip().lower()\n",
    "        return income_type_median_dict[income_type_cleaned]\n",
    "    else:\n",
    "        return days_employed\n",
    "\n",
    "# Reemplazar los valores nulos en 'days_employed' usando la función 'replace_missing_days_employed'\n",
    "df_cleaned['days_employed'] = df_cleaned.apply(lambda row: replace_missing_days_employed(row['days_employed'], row['income_type'], income_type_median_dict), axis=1)"
   ]
  },
  {
   "cell_type": "markdown",
   "metadata": {},
   "source": [
    "[Cuando creas que has terminado con `total_income`, comprueba que el número total de valores en esta columna coincida con el número de valores en otras columnas.]"
   ]
  },
  {
   "cell_type": "markdown",
   "metadata": {},
   "source": [
    "<div class=\"alert alert-block alert-info\">\n",
    "\n",
    "<b>Respuesta del estudiante</b> <a class=\"tocSkip\"></a>\n",
    "Agregue la caja de codigo de debajo para demostrar que el numero total de valores coincide en todas las columnas, aparte, podemos observar en el codigo que esta debajo de este que no hay valores nulos en ninguna de las columnas presentes.\n",
    "</div>"
   ]
  },
  {
   "cell_type": "code",
   "execution_count": 60,
   "metadata": {},
   "outputs": [
    {
     "name": "stdout",
     "output_type": "stream",
     "text": [
      "Cantidad de valores no nulos en la columna 'days_employed': 21454\n",
      "Cantidad de valores no nulos en otras columnas:\n"
     ]
    },
    {
     "data": {
      "text/plain": [
       "children            21454\n",
       "dob_years           21454\n",
       "education           21454\n",
       "education_id        21454\n",
       "family_status       21454\n",
       "family_status_id    21454\n",
       "gender              21454\n",
       "income_type         21454\n",
       "debt                21454\n",
       "total_income        19351\n",
       "purpose             21454\n",
       "age_category        21454\n",
       "dtype: int64"
      ]
     },
     "execution_count": 60,
     "metadata": {},
     "output_type": "execute_result"
    }
   ],
   "source": [
    "# Comprobar si el número de valores en 'days_employed' coincide con el número en otras columnas\n",
    "\n",
    "# Verificar el número de valores no nulos en la columna 'days_employed'\n",
    "count_days_employed = df_cleaned['days_employed'].notnull().sum()\n",
    "\n",
    "# Verificar el número de valores no nulos en las otras columnas\n",
    "count_other_columns = df_cleaned.drop('days_employed', axis=1).count()\n",
    "\n",
    "# Imprimir la cantidad de valores no nulos en la columna 'days_employed'\n",
    "print(\"Cantidad de valores no nulos en la columna 'days_employed':\", count_days_employed)\n",
    "\n",
    "# Imprimir la cantidad de valores no nulos en las otras columnas\n",
    "print(\"Cantidad de valores no nulos en otras columnas:\")\n",
    "count_other_columns"
   ]
  },
  {
   "cell_type": "code",
   "execution_count": 61,
   "metadata": {},
   "outputs": [
    {
     "data": {
      "text/plain": [
       "children               0\n",
       "days_employed          0\n",
       "dob_years              0\n",
       "education              0\n",
       "education_id           0\n",
       "family_status          0\n",
       "family_status_id       0\n",
       "gender                 0\n",
       "income_type            0\n",
       "debt                   0\n",
       "total_income        2103\n",
       "purpose                0\n",
       "age_category           0\n",
       "dtype: int64"
      ]
     },
     "execution_count": 61,
     "metadata": {},
     "output_type": "execute_result"
    }
   ],
   "source": [
    "# Comprueba las entradas en todas las columnas: asegúrate de que hayamos corregido todos los valores ausentes\n",
    "\n",
    "# Comprobar valores nulos en todas las columnas\n",
    "null_counts = df_cleaned.isnull().sum()\n",
    "\n",
    "# Mostrar la cantidad de valores nulos por columna\n",
    "null_counts"
   ]
  },
  {
   "cell_type": "markdown",
   "metadata": {},
   "source": [
    "## Clasificación de datos\n",
    "\n",
    "[Para poder responder a las preguntas y probar las diferentes hipótesis, querrás trabajar con datos clasificados. Mira las preguntas formuladas que debes responder. Piensa qué parte de los datos tiene que ser clasificada para responder a estas preguntas. A continuación, encontrarás una plantilla a través de la cual puedes trabajar para clasificar los datos. El primer procesamiento paso a paso cubre los datos de texto; el segundo aborda los datos numéricos que necesitan ser clasificados. Puedes usar ambas o ninguna de las instrucciones sugeridas, eso solo depende de ti.]\n",
    "\n",
    "[Independientemente de cómo decidas abordar la clasificación, asegúrate de proporcionar una explicación clara de la razón por la que tomaste tu decisión. Recuerda: este es tu trabajo y aquí tú tomas todas las decisiones.]\n"
   ]
  },
  {
   "cell_type": "code",
   "execution_count": 62,
   "metadata": {
    "scrolled": true
   },
   "outputs": [
    {
     "name": "stdout",
     "output_type": "stream",
     "text": [
      "Valores de la columna 'children':\n",
      "0    14214\n",
      "1     4808\n",
      "2     2052\n",
      "3      330\n",
      "4       41\n",
      "5        9\n",
      "Name: children, dtype: int64\n",
      "\n",
      "Valores de la columna 'days_employed':\n",
      "1630.019381     3445\n",
      "22815.103500    1070\n",
      "27577.272000     501\n",
      "18962.318000     386\n",
      "24071.669500     145\n",
      "                ... \n",
      "5873.586442        1\n",
      "3355.260838        1\n",
      "472.196656         1\n",
      "2608.691466        1\n",
      "1636.419775        1\n",
      "Name: days_employed, Length: 15912, dtype: int64\n",
      "\n",
      "Valores de la columna 'dob_years':\n",
      "35.0    616\n",
      "43.0    613\n",
      "40.0    607\n",
      "41.0    605\n",
      "34.0    601\n",
      "38.0    597\n",
      "42.0    596\n",
      "33.0    581\n",
      "39.0    572\n",
      "31.0    559\n",
      "36.0    554\n",
      "44.0    545\n",
      "29.0    544\n",
      "30.0    537\n",
      "48.0    536\n",
      "37.0    536\n",
      "50.0    513\n",
      "32.0    509\n",
      "49.0    508\n",
      "28.0    503\n",
      "45.0    496\n",
      "27.0    493\n",
      "52.0    484\n",
      "56.0    483\n",
      "47.0    477\n",
      "54.0    476\n",
      "46.0    472\n",
      "53.0    459\n",
      "57.0    456\n",
      "58.0    454\n",
      "51.0    446\n",
      "55.0    443\n",
      "59.0    443\n",
      "26.0    408\n",
      "60.0    374\n",
      "25.0    357\n",
      "61.0    354\n",
      "62.0    348\n",
      "63.0    269\n",
      "24.0    264\n",
      "64.0    260\n",
      "23.0    252\n",
      "65.0    193\n",
      "22.0    183\n",
      "66.0    182\n",
      "67.0    167\n",
      "21.0    111\n",
      "68.0     99\n",
      "69.0     85\n",
      "70.0     65\n",
      "71.0     56\n",
      "20.0     51\n",
      "72.0     33\n",
      "19.0     14\n",
      "73.0      8\n",
      "74.0      6\n",
      "75.0      1\n",
      "Name: dob_years, dtype: int64\n",
      "\n",
      "Valores de la columna 'education':\n",
      "secondary education    15172\n",
      "bachelor's degree       5250\n",
      "some college             744\n",
      "primary education        282\n",
      "graduate degree            6\n",
      "Name: education, dtype: int64\n",
      "\n",
      "Valores de la columna 'education_id':\n",
      "1    15172\n",
      "0     5250\n",
      "2      744\n",
      "3      282\n",
      "4        6\n",
      "Name: education_id, dtype: int64\n",
      "\n",
      "Valores de la columna 'family_status':\n",
      "married              12339\n",
      "civil partnership     4151\n",
      "unmarried             2810\n",
      "divorced              1195\n",
      "widow / widower        959\n",
      "Name: family_status, dtype: int64\n",
      "\n",
      "Valores de la columna 'family_status_id':\n",
      "0    12339\n",
      "1     4151\n",
      "4     2810\n",
      "3     1195\n",
      "2      959\n",
      "Name: family_status_id, dtype: int64\n",
      "\n",
      "Valores de la columna 'gender':\n",
      "F    14175\n",
      "M     7279\n",
      "Name: gender, dtype: int64\n",
      "\n",
      "Valores de la columna 'income_type':\n",
      "employee         11084\n",
      "business          5078\n",
      "retiree           3829\n",
      "civil servant     1457\n",
      "other                6\n",
      "Name: income_type, dtype: int64\n",
      "\n",
      "Valores de la columna 'debt':\n",
      "0    19713\n",
      "1     1741\n",
      "Name: debt, dtype: int64\n",
      "\n",
      "Valores de la columna 'total_income':\n",
      "42413.096    2\n",
      "17312.717    2\n",
      "31791.384    2\n",
      "14427.878    1\n",
      "20837.034    1\n",
      "            ..\n",
      "27715.458    1\n",
      "23834.534    1\n",
      "26124.613    1\n",
      "28692.182    1\n",
      "41428.916    1\n",
      "Name: total_income, Length: 19348, dtype: int64\n",
      "\n",
      "Valores de la columna 'purpose':\n"
     ]
    },
    {
     "data": {
      "text/plain": [
       "wedding ceremony                            791\n",
       "having a wedding                            768\n",
       "to have a wedding                           765\n",
       "real estate transactions                    675\n",
       "buy commercial real estate                  661\n",
       "housing transactions                        652\n",
       "buying property for renting out             651\n",
       "transactions with commercial real estate    650\n",
       "purchase of the house                       646\n",
       "housing                                     646\n",
       "purchase of the house for my family         638\n",
       "construction of own property                635\n",
       "property                                    633\n",
       "transactions with my real estate            627\n",
       "building a real estate                      624\n",
       "buy real estate                             621\n",
       "purchase of my own house                    620\n",
       "building a property                         619\n",
       "housing renovation                          607\n",
       "buy residential real estate                 606\n",
       "buying my own car                           505\n",
       "going to university                         496\n",
       "car                                         494\n",
       "second-hand car purchase                    486\n",
       "cars                                        478\n",
       "to own a car                                478\n",
       "buying a second-hand car                    478\n",
       "to buy a car                                471\n",
       "car purchase                                461\n",
       "supplementary education                     460\n",
       "purchase of a car                           455\n",
       "university education                        452\n",
       "education                                   447\n",
       "to get a supplementary education            446\n",
       "getting an education                        442\n",
       "profile education                           436\n",
       "getting higher education                    426\n",
       "to become educated                          408\n",
       "Name: purpose, dtype: int64"
      ]
     },
     "execution_count": 62,
     "metadata": {},
     "output_type": "execute_result"
    }
   ],
   "source": [
    "# Muestra los valores de los datos seleccionados para la clasificación\n",
    "\n",
    "# Mostrar los valores de la columna 'children'\n",
    "print(\"Valores de la columna 'children':\")\n",
    "print(df_cleaned['children'].value_counts())\n",
    "\n",
    "# Mostrar los valores de la columna 'days_employed'\n",
    "print(\"\\nValores de la columna 'days_employed':\")\n",
    "print(df_cleaned['days_employed'].value_counts())\n",
    "\n",
    "# Mostrar los valores de la columna 'dob_years'\n",
    "print(\"\\nValores de la columna 'dob_years':\")\n",
    "print(df_cleaned['dob_years'].value_counts())\n",
    "\n",
    "# Mostrar los valores de la columna 'education'\n",
    "print(\"\\nValores de la columna 'education':\")\n",
    "print(df_cleaned['education'].value_counts())\n",
    "\n",
    "# Mostrar los valores de la columna 'education_id'\n",
    "print(\"\\nValores de la columna 'education_id':\")\n",
    "print(df_cleaned['education_id'].value_counts())\n",
    "\n",
    "# Mostrar los valores de la columna 'family_status'\n",
    "print(\"\\nValores de la columna 'family_status':\")\n",
    "print(df_cleaned['family_status'].value_counts())\n",
    "\n",
    "# Mostrar los valores de la columna 'family_status_id'\n",
    "print(\"\\nValores de la columna 'family_status_id':\")\n",
    "print(df_cleaned['family_status_id'].value_counts())\n",
    "\n",
    "# Mostrar los valores de la columna 'gender'\n",
    "print(\"\\nValores de la columna 'gender':\")\n",
    "print(df_cleaned['gender'].value_counts())\n",
    "\n",
    "# Mostrar los valores de la columna 'income_type'\n",
    "print(\"\\nValores de la columna 'income_type':\")\n",
    "print(df_cleaned['income_type'].value_counts())\n",
    "\n",
    "# Mostrar los valores de la columna 'debt'\n",
    "print(\"\\nValores de la columna 'debt':\")\n",
    "print(df_cleaned['debt'].value_counts())\n",
    "\n",
    "# Mostrar los valores de la columna 'total_income'\n",
    "print(\"\\nValores de la columna 'total_income':\")\n",
    "print(df_cleaned['total_income'].value_counts())\n",
    "\n",
    "# Mostrar los valores de la columna 'purpose'\n",
    "print(\"\\nValores de la columna 'purpose':\")\n",
    "df_cleaned['purpose'].value_counts()"
   ]
  },
  {
   "cell_type": "markdown",
   "metadata": {},
   "source": [
    "[Vamos a comprobar los valores únicos]"
   ]
  },
  {
   "cell_type": "code",
   "execution_count": 63,
   "metadata": {},
   "outputs": [
    {
     "name": "stdout",
     "output_type": "stream",
     "text": [
      "Valores únicos en 'children':\n",
      "[1 0 3 2 4 5]\n",
      "-----------------------------\n",
      "Valores únicos en 'days_employed':\n",
      "[8437.67302776 4024.80375385 5623.42261023 ... 2113.3468877  3112.4817052\n",
      " 1984.50758853]\n",
      "-----------------------------\n",
      "Valores únicos en 'dob_years':\n",
      "[42. 36. 33. 32. 53. 27. 43. 50. 35. 41. 40. 65. 54. 56. 26. 48. 24. 21.\n",
      " 57. 67. 28. 63. 62. 47. 34. 68. 25. 31. 30. 20. 49. 37. 45. 61. 64. 44.\n",
      " 52. 46. 23. 38. 39. 51. 59. 29. 60. 55. 58. 71. 22. 73. 66. 69. 19. 72.\n",
      " 70. 74. 75.]\n",
      "-----------------------------\n",
      "Valores únicos en 'education':\n",
      "[\"bachelor's degree\" 'secondary education' 'some college'\n",
      " 'primary education' 'graduate degree']\n",
      "-----------------------------\n",
      "Valores únicos en 'education_id':\n",
      "[0 1 2 3 4]\n",
      "-----------------------------\n",
      "Valores únicos en 'family_status':\n",
      "['married' 'civil partnership' 'widow / widower' 'divorced' 'unmarried']\n",
      "-----------------------------\n",
      "Valores únicos en 'family_status_id':\n",
      "[0 1 2 3 4]\n",
      "-----------------------------\n",
      "Valores únicos en 'gender':\n",
      "['F' 'M']\n",
      "-----------------------------\n",
      "Valores únicos en 'income_type':\n",
      "['employee' 'retiree' 'business' 'civil servant' 'other']\n",
      "-----------------------------\n",
      "Valores únicos en 'debt':\n",
      "[0 1]\n",
      "-----------------------------\n",
      "Valores únicos en 'total_income':\n",
      "[40620.102 17932.802 23341.752 ... 14347.61  39054.888 13127.587]\n",
      "-----------------------------\n",
      "Valores únicos en 'purpose':\n",
      "['purchase of the house' 'car purchase' 'supplementary education'\n",
      " 'to have a wedding' 'housing transactions' 'education' 'having a wedding'\n",
      " 'purchase of the house for my family' 'buy real estate'\n",
      " 'buy commercial real estate' 'buy residential real estate'\n",
      " 'construction of own property' 'property' 'building a property'\n",
      " 'buying a second-hand car' 'buying my own car'\n",
      " 'transactions with commercial real estate' 'building a real estate'\n",
      " 'housing' 'transactions with my real estate' 'cars' 'to become educated'\n",
      " 'second-hand car purchase' 'getting an education' 'car'\n",
      " 'wedding ceremony' 'to get a supplementary education'\n",
      " 'purchase of my own house' 'real estate transactions'\n",
      " 'getting higher education' 'to own a car' 'purchase of a car'\n",
      " 'profile education' 'university education'\n",
      " 'buying property for renting out' 'to buy a car' 'housing renovation'\n",
      " 'going to university']\n",
      "-----------------------------\n"
     ]
    }
   ],
   "source": [
    "# Comprobar los valores únicos\n",
    "\n",
    "# Obtener una lista de las columnas de clasificación\n",
    "classification_columns = ['children', 'days_employed', 'dob_years', 'education', 'education_id',\n",
    "                          'family_status', 'family_status_id', 'gender', 'income_type', 'debt',\n",
    "                          'total_income', 'purpose']\n",
    "\n",
    "# Mostrar los valores únicos en cada columna de clasificación\n",
    "for column in classification_columns:\n",
    "    print(f\"Valores únicos en '{column}':\")\n",
    "    print(df_cleaned[column].unique())\n",
    "    print(\"-----------------------------\")"
   ]
  },
  {
   "cell_type": "markdown",
   "metadata": {},
   "source": [
    "[¿Qué grupos principales puedes identificar en función de los valores únicos?]\n",
    "\n",
    "[Según estos temas, probablemente querremos clasificar nuestros datos.]\n"
   ]
  },
  {
   "cell_type": "markdown",
   "metadata": {},
   "source": [
    "<div class=\"alert alert-block alert-info\">\n",
    "\n",
    "<b>Respuesta del estudiante</b> <a class=\"tocSkip\"></a>\n",
    "Podemos observar que las columnas se pueden usar como grupos aparte, para luego correlacionarlos y poder trabajar en la data agrupada, esto es lo que se puede apreciar en el codigo debajo y el que le sigue.\n",
    "</div>"
   ]
  },
  {
   "cell_type": "code",
   "execution_count": 64,
   "metadata": {},
   "outputs": [],
   "source": [
    "# Escribamos una función para clasificar los datos en función de temas comunes\n",
    "\n",
    "def classify_data(df, classification_columns):\n",
    "    \"\"\"\n",
    "    Clasifica los datos en función de temas comunes.\n",
    "    \n",
    "    Parámetros:\n",
    "        - df: DataFrame que contiene los datos a clasificar.\n",
    "        - classification_columns: Lista de columnas de clasificación en el DataFrame.\n",
    "        \n",
    "    Retorna:\n",
    "        Un nuevo DataFrame con una columna adicional 'classification' que indica la clasificación de cada fila.\n",
    "    \"\"\"\n",
    "    # Creamos una nueva columna 'classification' en el DataFrame\n",
    "    df['classification'] = ''\n",
    "    \n",
    "    # Clasificamos los datos en función de las columnas de clasificación\n",
    "    for column in classification_columns:\n",
    "        if column == 'children':\n",
    "            # Clasificar los datos de 'children'\n",
    "            df['classification'] += df['children'].apply(lambda x: 'No Children' if x == 0 else 'Has Children ')\n",
    "        elif column == 'dob_years':\n",
    "            # Clasificar los datos de 'dob_years'\n",
    "            df['classification'] += df['dob_years'].apply(lambda x: 'Young' if x <= 30 else ('Adult' if x <= 60 else 'Senior'))\n",
    "        elif column == 'income_type':\n",
    "            # Clasificar los datos de 'income_type'\n",
    "            df['classification'] += df['income_type'].apply(lambda x: x.title())\n",
    "        elif column == 'debt':\n",
    "            # Clasificar los datos de 'debt'\n",
    "            df['classification'] += df['debt'].apply(lambda x: 'Has Debt' if x == 1 else 'No Debt')\n",
    "        elif column == 'total_income':\n",
    "            # Clasificar los datos de 'total_income'\n",
    "            df['classification'] += df['total_income'].apply(lambda x: 'Low Income' if x <= 20000 else ('Medium Income' if x <= 40000 else 'High Income'))\n",
    "        elif column == 'education':\n",
    "            # Clasificar los datos de 'education'\n",
    "            df['classification'] += df['education'].apply(lambda x: x.title())\n",
    "        elif column == 'family_status':\n",
    "            # Clasificar los datos de 'family_status'\n",
    "            df['classification'] += df['family_status'].apply(lambda x: x.title())\n",
    "        elif column == 'gender':\n",
    "            # Clasificar los datos de 'gender'\n",
    "            df['classification'] += df['gender'].apply(lambda x: 'Female' if x == 'F' else 'Male')\n",
    "        elif column == 'purpose':\n",
    "            # Clasificar los datos de 'purpose'\n",
    "            df['classification'] += df['purpose'].apply(lambda x: x.title())\n",
    "        elif column == 'days_employed':\n",
    "            # Clasificar los datos de 'days_employed'\n",
    "            df['classification'] += 'Days Employed'\n",
    "    \n",
    "    return df\n",
    "\n",
    "# Clasificar los datos en función de las columnas identificadas previamente\n",
    "classification_columns = ['children', 'dob_years', 'income_type', 'debt', 'total_income', 'education', 'family_status', 'gender', 'purpose', 'days_employed']\n",
    "df_classified = classify_data(df_cleaned, classification_columns)"
   ]
  },
  {
   "cell_type": "code",
   "execution_count": 65,
   "metadata": {},
   "outputs": [
    {
     "data": {
      "text/html": [
       "<div>\n",
       "<style scoped>\n",
       "    .dataframe tbody tr th:only-of-type {\n",
       "        vertical-align: middle;\n",
       "    }\n",
       "\n",
       "    .dataframe tbody tr th {\n",
       "        vertical-align: top;\n",
       "    }\n",
       "\n",
       "    .dataframe thead th {\n",
       "        text-align: right;\n",
       "    }\n",
       "</style>\n",
       "<table border=\"1\" class=\"dataframe\">\n",
       "  <thead>\n",
       "    <tr style=\"text-align: right;\">\n",
       "      <th></th>\n",
       "      <th>children</th>\n",
       "      <th>days_employed</th>\n",
       "      <th>dob_years</th>\n",
       "      <th>education</th>\n",
       "      <th>education_id</th>\n",
       "      <th>family_status</th>\n",
       "      <th>family_status_id</th>\n",
       "      <th>gender</th>\n",
       "      <th>income_type</th>\n",
       "      <th>debt</th>\n",
       "      <th>total_income</th>\n",
       "      <th>purpose</th>\n",
       "      <th>age_category</th>\n",
       "      <th>classification</th>\n",
       "    </tr>\n",
       "  </thead>\n",
       "  <tbody>\n",
       "    <tr>\n",
       "      <th>0</th>\n",
       "      <td>1</td>\n",
       "      <td>8437.673028</td>\n",
       "      <td>42.0</td>\n",
       "      <td>bachelor's degree</td>\n",
       "      <td>0</td>\n",
       "      <td>married</td>\n",
       "      <td>0</td>\n",
       "      <td>F</td>\n",
       "      <td>employee</td>\n",
       "      <td>0</td>\n",
       "      <td>40620.102</td>\n",
       "      <td>purchase of the house</td>\n",
       "      <td>Adulto maduro</td>\n",
       "      <td>Has Children AdultEmployeeNo DebtHigh IncomeBa...</td>\n",
       "    </tr>\n",
       "    <tr>\n",
       "      <th>1</th>\n",
       "      <td>1</td>\n",
       "      <td>4024.803754</td>\n",
       "      <td>36.0</td>\n",
       "      <td>secondary education</td>\n",
       "      <td>1</td>\n",
       "      <td>married</td>\n",
       "      <td>0</td>\n",
       "      <td>F</td>\n",
       "      <td>employee</td>\n",
       "      <td>0</td>\n",
       "      <td>17932.802</td>\n",
       "      <td>car purchase</td>\n",
       "      <td>Adulto maduro</td>\n",
       "      <td>Has Children AdultEmployeeNo DebtLow IncomeSec...</td>\n",
       "    </tr>\n",
       "    <tr>\n",
       "      <th>2</th>\n",
       "      <td>0</td>\n",
       "      <td>5623.422610</td>\n",
       "      <td>33.0</td>\n",
       "      <td>secondary education</td>\n",
       "      <td>1</td>\n",
       "      <td>married</td>\n",
       "      <td>0</td>\n",
       "      <td>M</td>\n",
       "      <td>employee</td>\n",
       "      <td>0</td>\n",
       "      <td>23341.752</td>\n",
       "      <td>purchase of the house</td>\n",
       "      <td>Adulto joven</td>\n",
       "      <td>No ChildrenAdultEmployeeNo DebtMedium IncomeSe...</td>\n",
       "    </tr>\n",
       "    <tr>\n",
       "      <th>3</th>\n",
       "      <td>3</td>\n",
       "      <td>4124.747207</td>\n",
       "      <td>32.0</td>\n",
       "      <td>secondary education</td>\n",
       "      <td>1</td>\n",
       "      <td>married</td>\n",
       "      <td>0</td>\n",
       "      <td>M</td>\n",
       "      <td>employee</td>\n",
       "      <td>0</td>\n",
       "      <td>42820.568</td>\n",
       "      <td>supplementary education</td>\n",
       "      <td>Adulto joven</td>\n",
       "      <td>Has Children AdultEmployeeNo DebtHigh IncomeSe...</td>\n",
       "    </tr>\n",
       "    <tr>\n",
       "      <th>4</th>\n",
       "      <td>0</td>\n",
       "      <td>1630.019381</td>\n",
       "      <td>53.0</td>\n",
       "      <td>secondary education</td>\n",
       "      <td>1</td>\n",
       "      <td>civil partnership</td>\n",
       "      <td>1</td>\n",
       "      <td>F</td>\n",
       "      <td>retiree</td>\n",
       "      <td>0</td>\n",
       "      <td>25378.572</td>\n",
       "      <td>to have a wedding</td>\n",
       "      <td>Adulto maduro</td>\n",
       "      <td>No ChildrenAdultRetireeNo DebtMedium IncomeSec...</td>\n",
       "    </tr>\n",
       "    <tr>\n",
       "      <th>...</th>\n",
       "      <td>...</td>\n",
       "      <td>...</td>\n",
       "      <td>...</td>\n",
       "      <td>...</td>\n",
       "      <td>...</td>\n",
       "      <td>...</td>\n",
       "      <td>...</td>\n",
       "      <td>...</td>\n",
       "      <td>...</td>\n",
       "      <td>...</td>\n",
       "      <td>...</td>\n",
       "      <td>...</td>\n",
       "      <td>...</td>\n",
       "      <td>...</td>\n",
       "    </tr>\n",
       "    <tr>\n",
       "      <th>21520</th>\n",
       "      <td>1</td>\n",
       "      <td>4529.316663</td>\n",
       "      <td>43.0</td>\n",
       "      <td>secondary education</td>\n",
       "      <td>1</td>\n",
       "      <td>civil partnership</td>\n",
       "      <td>1</td>\n",
       "      <td>F</td>\n",
       "      <td>business</td>\n",
       "      <td>0</td>\n",
       "      <td>35966.698</td>\n",
       "      <td>housing transactions</td>\n",
       "      <td>Adulto maduro</td>\n",
       "      <td>Has Children AdultBusinessNo DebtMedium Income...</td>\n",
       "    </tr>\n",
       "    <tr>\n",
       "      <th>21521</th>\n",
       "      <td>0</td>\n",
       "      <td>1630.019381</td>\n",
       "      <td>67.0</td>\n",
       "      <td>secondary education</td>\n",
       "      <td>1</td>\n",
       "      <td>married</td>\n",
       "      <td>0</td>\n",
       "      <td>F</td>\n",
       "      <td>retiree</td>\n",
       "      <td>0</td>\n",
       "      <td>24959.969</td>\n",
       "      <td>purchase of a car</td>\n",
       "      <td>Adulto mayor</td>\n",
       "      <td>No ChildrenSeniorRetireeNo DebtMedium IncomeSe...</td>\n",
       "    </tr>\n",
       "    <tr>\n",
       "      <th>21522</th>\n",
       "      <td>1</td>\n",
       "      <td>2113.346888</td>\n",
       "      <td>38.0</td>\n",
       "      <td>secondary education</td>\n",
       "      <td>1</td>\n",
       "      <td>civil partnership</td>\n",
       "      <td>1</td>\n",
       "      <td>M</td>\n",
       "      <td>employee</td>\n",
       "      <td>1</td>\n",
       "      <td>14347.610</td>\n",
       "      <td>property</td>\n",
       "      <td>Adulto maduro</td>\n",
       "      <td>Has Children AdultEmployeeHas DebtLow IncomeSe...</td>\n",
       "    </tr>\n",
       "    <tr>\n",
       "      <th>21523</th>\n",
       "      <td>3</td>\n",
       "      <td>3112.481705</td>\n",
       "      <td>38.0</td>\n",
       "      <td>secondary education</td>\n",
       "      <td>1</td>\n",
       "      <td>married</td>\n",
       "      <td>0</td>\n",
       "      <td>M</td>\n",
       "      <td>employee</td>\n",
       "      <td>1</td>\n",
       "      <td>39054.888</td>\n",
       "      <td>buying my own car</td>\n",
       "      <td>Adulto maduro</td>\n",
       "      <td>Has Children AdultEmployeeHas DebtMedium Incom...</td>\n",
       "    </tr>\n",
       "    <tr>\n",
       "      <th>21524</th>\n",
       "      <td>2</td>\n",
       "      <td>1984.507589</td>\n",
       "      <td>40.0</td>\n",
       "      <td>secondary education</td>\n",
       "      <td>1</td>\n",
       "      <td>married</td>\n",
       "      <td>0</td>\n",
       "      <td>F</td>\n",
       "      <td>employee</td>\n",
       "      <td>0</td>\n",
       "      <td>13127.587</td>\n",
       "      <td>to buy a car</td>\n",
       "      <td>Adulto maduro</td>\n",
       "      <td>Has Children AdultEmployeeNo DebtLow IncomeSec...</td>\n",
       "    </tr>\n",
       "  </tbody>\n",
       "</table>\n",
       "<p>21454 rows × 14 columns</p>\n",
       "</div>"
      ],
      "text/plain": [
       "       children  days_employed  dob_years            education  education_id  \\\n",
       "0             1    8437.673028       42.0    bachelor's degree             0   \n",
       "1             1    4024.803754       36.0  secondary education             1   \n",
       "2             0    5623.422610       33.0  secondary education             1   \n",
       "3             3    4124.747207       32.0  secondary education             1   \n",
       "4             0    1630.019381       53.0  secondary education             1   \n",
       "...         ...            ...        ...                  ...           ...   \n",
       "21520         1    4529.316663       43.0  secondary education             1   \n",
       "21521         0    1630.019381       67.0  secondary education             1   \n",
       "21522         1    2113.346888       38.0  secondary education             1   \n",
       "21523         3    3112.481705       38.0  secondary education             1   \n",
       "21524         2    1984.507589       40.0  secondary education             1   \n",
       "\n",
       "           family_status  family_status_id gender income_type  debt  \\\n",
       "0                married                 0      F    employee     0   \n",
       "1                married                 0      F    employee     0   \n",
       "2                married                 0      M    employee     0   \n",
       "3                married                 0      M    employee     0   \n",
       "4      civil partnership                 1      F     retiree     0   \n",
       "...                  ...               ...    ...         ...   ...   \n",
       "21520  civil partnership                 1      F    business     0   \n",
       "21521            married                 0      F     retiree     0   \n",
       "21522  civil partnership                 1      M    employee     1   \n",
       "21523            married                 0      M    employee     1   \n",
       "21524            married                 0      F    employee     0   \n",
       "\n",
       "       total_income                  purpose   age_category  \\\n",
       "0         40620.102    purchase of the house  Adulto maduro   \n",
       "1         17932.802             car purchase  Adulto maduro   \n",
       "2         23341.752    purchase of the house   Adulto joven   \n",
       "3         42820.568  supplementary education   Adulto joven   \n",
       "4         25378.572        to have a wedding  Adulto maduro   \n",
       "...             ...                      ...            ...   \n",
       "21520     35966.698     housing transactions  Adulto maduro   \n",
       "21521     24959.969        purchase of a car   Adulto mayor   \n",
       "21522     14347.610                 property  Adulto maduro   \n",
       "21523     39054.888        buying my own car  Adulto maduro   \n",
       "21524     13127.587             to buy a car  Adulto maduro   \n",
       "\n",
       "                                          classification  \n",
       "0      Has Children AdultEmployeeNo DebtHigh IncomeBa...  \n",
       "1      Has Children AdultEmployeeNo DebtLow IncomeSec...  \n",
       "2      No ChildrenAdultEmployeeNo DebtMedium IncomeSe...  \n",
       "3      Has Children AdultEmployeeNo DebtHigh IncomeSe...  \n",
       "4      No ChildrenAdultRetireeNo DebtMedium IncomeSec...  \n",
       "...                                                  ...  \n",
       "21520  Has Children AdultBusinessNo DebtMedium Income...  \n",
       "21521  No ChildrenSeniorRetireeNo DebtMedium IncomeSe...  \n",
       "21522  Has Children AdultEmployeeHas DebtLow IncomeSe...  \n",
       "21523  Has Children AdultEmployeeHas DebtMedium Incom...  \n",
       "21524  Has Children AdultEmployeeNo DebtLow IncomeSec...  \n",
       "\n",
       "[21454 rows x 14 columns]"
      ]
     },
     "execution_count": 65,
     "metadata": {},
     "output_type": "execute_result"
    }
   ],
   "source": [
    "# Crea una columna con las categorías y cuenta los valores en ellas\n",
    "\n",
    "# Clasificar los datos en función de las columnas identificadas previamente\n",
    "classification_columns = ['children', 'dob_years', 'income_type', 'debt', 'total_income', 'education', 'family_status', 'gender', 'purpose', 'days_employed']\n",
    "df_classified = classify_data(df_cleaned, classification_columns)\n",
    "\n",
    "# Mostrar el DataFrame resultante con la nueva columna 'classification'\n",
    "df_classified"
   ]
  },
  {
   "cell_type": "markdown",
   "metadata": {},
   "source": [
    "[Si decides clasificar los datos numéricos, también tendrás que crear las categorías para ello.]"
   ]
  },
  {
   "cell_type": "code",
   "execution_count": 66,
   "metadata": {},
   "outputs": [],
   "source": [
    "# Revisar todos los datos numéricos en la columna seleccionada para la clasificación\n"
   ]
  },
  {
   "cell_type": "code",
   "execution_count": 67,
   "metadata": {},
   "outputs": [],
   "source": [
    "# Obtener estadísticas resumidas para la columna\n",
    "\n"
   ]
  },
  {
   "cell_type": "markdown",
   "metadata": {},
   "source": [
    "[Decide qué rangos utilizarás para agrupar y explica por qué.]"
   ]
  },
  {
   "cell_type": "markdown",
   "metadata": {},
   "source": [
    "<div class=\"alert alert-block alert-info\">\n",
    "\n",
    "<b>Respuesta del estudiante</b> <a class=\"tocSkip\"></a>\n",
    "Los rangos que utilizare seran los mas evidentes, en `children`, dividire en 4 grupos dependiendo la cantidad de hijos, en `total_income` dividire en 4 grupos por la cantidad de dinero que gana el cliente, en la edad del cliente `dob_years`, dividire por cantidad de edad en 4 grupos tambien, y asi trabajare con estas que son las mas representativas y las cuales me podrian proveer mejor informacion.\n",
    "</div>"
   ]
  },
  {
   "cell_type": "code",
   "execution_count": 68,
   "metadata": {},
   "outputs": [
    {
     "name": "stdout",
     "output_type": "stream",
     "text": [
      "Children Category: 3-5\n",
      "Total Income Category: Medio-alto\n",
      "DOB Years Category: Adulto\n"
     ]
    }
   ],
   "source": [
    "# Crear una función para clasificar en diferentes grupos numéricos basándose en rangos\n",
    "\n",
    "# Definir la función 'classify_by_ranges'\n",
    "def classify_by_ranges(value, ranges):\n",
    "    for category, (lower_bound, upper_bound) in ranges.items():\n",
    "        if lower_bound <= value <= upper_bound:\n",
    "            return category\n",
    "    return None\n",
    "\n",
    "# Si aún no has calculado los cuartiles, puedes hacerlo de la siguiente manera:\n",
    "total_income_quartiles = df_cleaned['total_income'].describe().loc[['25%', '50%', '75%']]\n",
    "\n",
    "# Definir los rangos para 'children'\n",
    "children_ranges = {\n",
    "    '0': (0, 0),\n",
    "    '1-2': (1, 2),\n",
    "    '3-5': (3, 5),\n",
    "    '6 o más': (6, float('inf'))  # 'float('inf')' representa infinito\n",
    "}\n",
    "\n",
    "# Definir los rangos para 'total_income' usando cuartiles\n",
    "total_income_ranges = {\n",
    "    'Bajo': (df_cleaned['total_income'].min(), total_income_quartiles['25%']),\n",
    "    'Medio-bajo': (total_income_quartiles['25%'], total_income_quartiles['50%']),\n",
    "    'Medio-alto': (total_income_quartiles['50%'], total_income_quartiles['75%']),\n",
    "    'Alto': (total_income_quartiles['75%'], df_cleaned['total_income'].max())\n",
    "}\n",
    "\n",
    "# Definir los rangos para 'dob_years' basados en 'age_category'\n",
    "dob_years_ranges = {\n",
    "    'Joven': (0, 25),\n",
    "    'Adulto joven': (26, 35),\n",
    "    'Adulto': (36, 60),\n",
    "    'Adulto mayor': (61, float('inf'))\n",
    "}\n",
    "\n",
    "# Clasificar un valor para 'children'\n",
    "children_value = 3\n",
    "children_category = classify_by_ranges(children_value, children_ranges)\n",
    "print(\"Children Category:\", children_category)\n",
    "\n",
    "# Clasificar un valor para 'total_income'\n",
    "total_income_value = 25000\n",
    "total_income_category = classify_by_ranges(total_income_value, total_income_ranges)\n",
    "print(\"Total Income Category:\", total_income_category)\n",
    "\n",
    "# Clasificar un valor para 'dob_years'\n",
    "dob_years_value = 40\n",
    "dob_years_category = classify_by_ranges(dob_years_value, dob_years_ranges)\n",
    "print(\"DOB Years Category:\", dob_years_category)"
   ]
  },
  {
   "cell_type": "code",
   "execution_count": 69,
   "metadata": {},
   "outputs": [
    {
     "data": {
      "text/html": [
       "<div>\n",
       "<style scoped>\n",
       "    .dataframe tbody tr th:only-of-type {\n",
       "        vertical-align: middle;\n",
       "    }\n",
       "\n",
       "    .dataframe tbody tr th {\n",
       "        vertical-align: top;\n",
       "    }\n",
       "\n",
       "    .dataframe thead th {\n",
       "        text-align: right;\n",
       "    }\n",
       "</style>\n",
       "<table border=\"1\" class=\"dataframe\">\n",
       "  <thead>\n",
       "    <tr style=\"text-align: right;\">\n",
       "      <th></th>\n",
       "      <th>children</th>\n",
       "      <th>days_employed</th>\n",
       "      <th>dob_years</th>\n",
       "      <th>education</th>\n",
       "      <th>education_id</th>\n",
       "      <th>family_status</th>\n",
       "      <th>family_status_id</th>\n",
       "      <th>gender</th>\n",
       "      <th>income_type</th>\n",
       "      <th>debt</th>\n",
       "      <th>total_income</th>\n",
       "      <th>purpose</th>\n",
       "      <th>age_category</th>\n",
       "      <th>classification</th>\n",
       "      <th>children_category</th>\n",
       "      <th>total_income_category</th>\n",
       "      <th>dob_years_category</th>\n",
       "    </tr>\n",
       "  </thead>\n",
       "  <tbody>\n",
       "    <tr>\n",
       "      <th>0</th>\n",
       "      <td>1</td>\n",
       "      <td>8437.673028</td>\n",
       "      <td>42.0</td>\n",
       "      <td>bachelor's degree</td>\n",
       "      <td>0</td>\n",
       "      <td>married</td>\n",
       "      <td>0</td>\n",
       "      <td>F</td>\n",
       "      <td>employee</td>\n",
       "      <td>0</td>\n",
       "      <td>40620.102</td>\n",
       "      <td>purchase of the house</td>\n",
       "      <td>Adulto maduro</td>\n",
       "      <td>Has Children AdultEmployeeNo DebtHigh IncomeBa...</td>\n",
       "      <td>1-2</td>\n",
       "      <td>Alto</td>\n",
       "      <td>Adulto</td>\n",
       "    </tr>\n",
       "    <tr>\n",
       "      <th>1</th>\n",
       "      <td>1</td>\n",
       "      <td>4024.803754</td>\n",
       "      <td>36.0</td>\n",
       "      <td>secondary education</td>\n",
       "      <td>1</td>\n",
       "      <td>married</td>\n",
       "      <td>0</td>\n",
       "      <td>F</td>\n",
       "      <td>employee</td>\n",
       "      <td>0</td>\n",
       "      <td>17932.802</td>\n",
       "      <td>car purchase</td>\n",
       "      <td>Adulto maduro</td>\n",
       "      <td>Has Children AdultEmployeeNo DebtLow IncomeSec...</td>\n",
       "      <td>1-2</td>\n",
       "      <td>Medio-bajo</td>\n",
       "      <td>Adulto</td>\n",
       "    </tr>\n",
       "    <tr>\n",
       "      <th>2</th>\n",
       "      <td>0</td>\n",
       "      <td>5623.422610</td>\n",
       "      <td>33.0</td>\n",
       "      <td>secondary education</td>\n",
       "      <td>1</td>\n",
       "      <td>married</td>\n",
       "      <td>0</td>\n",
       "      <td>M</td>\n",
       "      <td>employee</td>\n",
       "      <td>0</td>\n",
       "      <td>23341.752</td>\n",
       "      <td>purchase of the house</td>\n",
       "      <td>Adulto joven</td>\n",
       "      <td>No ChildrenAdultEmployeeNo DebtMedium IncomeSe...</td>\n",
       "      <td>0</td>\n",
       "      <td>Medio-alto</td>\n",
       "      <td>Adulto joven</td>\n",
       "    </tr>\n",
       "    <tr>\n",
       "      <th>3</th>\n",
       "      <td>3</td>\n",
       "      <td>4124.747207</td>\n",
       "      <td>32.0</td>\n",
       "      <td>secondary education</td>\n",
       "      <td>1</td>\n",
       "      <td>married</td>\n",
       "      <td>0</td>\n",
       "      <td>M</td>\n",
       "      <td>employee</td>\n",
       "      <td>0</td>\n",
       "      <td>42820.568</td>\n",
       "      <td>supplementary education</td>\n",
       "      <td>Adulto joven</td>\n",
       "      <td>Has Children AdultEmployeeNo DebtHigh IncomeSe...</td>\n",
       "      <td>3-5</td>\n",
       "      <td>Alto</td>\n",
       "      <td>Adulto joven</td>\n",
       "    </tr>\n",
       "    <tr>\n",
       "      <th>4</th>\n",
       "      <td>0</td>\n",
       "      <td>1630.019381</td>\n",
       "      <td>53.0</td>\n",
       "      <td>secondary education</td>\n",
       "      <td>1</td>\n",
       "      <td>civil partnership</td>\n",
       "      <td>1</td>\n",
       "      <td>F</td>\n",
       "      <td>retiree</td>\n",
       "      <td>0</td>\n",
       "      <td>25378.572</td>\n",
       "      <td>to have a wedding</td>\n",
       "      <td>Adulto maduro</td>\n",
       "      <td>No ChildrenAdultRetireeNo DebtMedium IncomeSec...</td>\n",
       "      <td>0</td>\n",
       "      <td>Medio-alto</td>\n",
       "      <td>Adulto</td>\n",
       "    </tr>\n",
       "  </tbody>\n",
       "</table>\n",
       "</div>"
      ],
      "text/plain": [
       "   children  days_employed  dob_years            education  education_id  \\\n",
       "0         1    8437.673028       42.0    bachelor's degree             0   \n",
       "1         1    4024.803754       36.0  secondary education             1   \n",
       "2         0    5623.422610       33.0  secondary education             1   \n",
       "3         3    4124.747207       32.0  secondary education             1   \n",
       "4         0    1630.019381       53.0  secondary education             1   \n",
       "\n",
       "       family_status  family_status_id gender income_type  debt  total_income  \\\n",
       "0            married                 0      F    employee     0     40620.102   \n",
       "1            married                 0      F    employee     0     17932.802   \n",
       "2            married                 0      M    employee     0     23341.752   \n",
       "3            married                 0      M    employee     0     42820.568   \n",
       "4  civil partnership                 1      F     retiree     0     25378.572   \n",
       "\n",
       "                   purpose   age_category  \\\n",
       "0    purchase of the house  Adulto maduro   \n",
       "1             car purchase  Adulto maduro   \n",
       "2    purchase of the house   Adulto joven   \n",
       "3  supplementary education   Adulto joven   \n",
       "4        to have a wedding  Adulto maduro   \n",
       "\n",
       "                                      classification children_category  \\\n",
       "0  Has Children AdultEmployeeNo DebtHigh IncomeBa...               1-2   \n",
       "1  Has Children AdultEmployeeNo DebtLow IncomeSec...               1-2   \n",
       "2  No ChildrenAdultEmployeeNo DebtMedium IncomeSe...                 0   \n",
       "3  Has Children AdultEmployeeNo DebtHigh IncomeSe...               3-5   \n",
       "4  No ChildrenAdultRetireeNo DebtMedium IncomeSec...                 0   \n",
       "\n",
       "  total_income_category dob_years_category  \n",
       "0                  Alto             Adulto  \n",
       "1            Medio-bajo             Adulto  \n",
       "2            Medio-alto       Adulto joven  \n",
       "3                  Alto       Adulto joven  \n",
       "4            Medio-alto             Adulto  "
      ]
     },
     "execution_count": 69,
     "metadata": {},
     "output_type": "execute_result"
    }
   ],
   "source": [
    "# Crear una columna con categorías\n",
    "\n",
    "# Función para clasificar valores basados en rangos\n",
    "def classify_by_ranges(value, ranges):\n",
    "    for category, (lower, upper) in ranges.items():\n",
    "        if lower <= value <= upper:\n",
    "            return category\n",
    "\n",
    "# Crear la nueva columna 'children_category' con las categorías para 'children'\n",
    "df_cleaned['children_category'] = df_cleaned['children'].apply(lambda x: classify_by_ranges(x, children_ranges))\n",
    "\n",
    "# Crear la nueva columna 'total_income_category' con las categorías para 'total_income'\n",
    "df_cleaned['total_income_category'] = df_cleaned['total_income'].apply(lambda x: classify_by_ranges(x, total_income_ranges))\n",
    "\n",
    "# Crear la nueva columna 'dob_years_category' con las categorías para 'dob_years'\n",
    "df_cleaned['dob_years_category'] = df_cleaned['dob_years'].apply(lambda x: classify_by_ranges(x, dob_years_ranges))\n",
    "\n",
    "# Mostrar las primeras filas del DataFrame para verificar las nuevas columnas creadas\n",
    "df_cleaned.head()"
   ]
  },
  {
   "cell_type": "code",
   "execution_count": 70,
   "metadata": {
    "scrolled": true
   },
   "outputs": [
    {
     "name": "stdout",
     "output_type": "stream",
     "text": [
      "Distribución de 'children_category':\n",
      "0      14214\n",
      "1-2     6860\n",
      "3-5      380\n",
      "Name: children_category, dtype: int64\n",
      "---------------------------\n",
      "Distribución de 'total_income_category':\n",
      "Alto          4838\n",
      "Bajo          4838\n",
      "Medio-bajo    4838\n",
      "Medio-alto    4837\n",
      "Name: total_income_category, dtype: int64\n",
      "---------------------------\n",
      "Distribución de 'dob_years_category':\n"
     ]
    },
    {
     "data": {
      "text/plain": [
       "Adulto          12745\n",
       "Adulto joven     5351\n",
       "Adulto mayor     2126\n",
       "Joven            1232\n",
       "Name: dob_years_category, dtype: int64"
      ]
     },
     "execution_count": 70,
     "metadata": {},
     "output_type": "execute_result"
    }
   ],
   "source": [
    "# Contar los valores de cada categoría para ver la distribución\n",
    "\n",
    "# Contar los valores de cada categoría en la columna 'children_category'\n",
    "children_counts = df_cleaned['children_category'].value_counts()\n",
    "\n",
    "# Contar los valores de cada categoría en la columna 'total_income_category'\n",
    "total_income_counts = df_cleaned['total_income_category'].value_counts()\n",
    "\n",
    "# Contar los valores de cada categoría en la columna 'dob_years_category'\n",
    "dob_years_counts = df_cleaned['dob_years_category'].value_counts()\n",
    "\n",
    "# Mostrar la distribución de cada categoría\n",
    "print(\"Distribución de 'children_category':\")\n",
    "print(children_counts)\n",
    "print(\"---------------------------\")\n",
    "\n",
    "print(\"Distribución de 'total_income_category':\")\n",
    "print(total_income_counts)\n",
    "print(\"---------------------------\")\n",
    "\n",
    "print(\"Distribución de 'dob_years_category':\")\n",
    "dob_years_counts"
   ]
  },
  {
   "cell_type": "markdown",
   "metadata": {},
   "source": [
    "## Comprobación de las hipótesis\n"
   ]
  },
  {
   "cell_type": "markdown",
   "metadata": {},
   "source": [
    "**¿Existe una correlación entre tener hijos y pagar a tiempo?**"
   ]
  },
  {
   "cell_type": "code",
   "execution_count": 71,
   "metadata": {},
   "outputs": [
    {
     "name": "stdout",
     "output_type": "stream",
     "text": [
      "Tasa de incumplimiento en función del número de hijos:\n"
     ]
    },
    {
     "data": {
      "text/plain": [
       "children\n",
       "0    7.541860\n",
       "1    9.234609\n",
       "2    9.454191\n",
       "3    8.181818\n",
       "4    9.756098\n",
       "5    0.000000\n",
       "Name: debt, dtype: float64"
      ]
     },
     "execution_count": 71,
     "metadata": {},
     "output_type": "execute_result"
    }
   ],
   "source": [
    "# Comprueba los datos sobre los hijos y los pagos puntuales\n",
    "\n",
    "# Contar los valores de cada categoría en 'children_category'\n",
    "children_counts = df_cleaned['children_category'].value_counts()\n",
    "\n",
    "# Calcular el porcentaje de personas que pagan puntualmente sus préstamos en la columna 'debt'\n",
    "debt_counts = df_cleaned['debt'].value_counts()\n",
    "total_records = df_cleaned.shape[0]\n",
    "percentage_punctual = (debt_counts[0] / total_records) * 100\n",
    "\n",
    "# Calcular la tasa de incumplimiento en función del número de hijos\n",
    "# Calcular la tasa de incumplimiento en función del número de hijos\n",
    "debt_by_children = df_cleaned.groupby('children')['debt'].mean() * 100\n",
    "\n",
    "# Imprimir los resultados\n",
    "print(\"Tasa de incumplimiento en función del número de hijos:\")\n",
    "debt_by_children"
   ]
  },
  {
   "cell_type": "markdown",
   "metadata": {},
   "source": [
    "**Conclusión**\n",
    "\n",
    "[Escribe tus conclusiones en base a tus manipulaciones y observaciones.]\n"
   ]
  },
  {
   "cell_type": "markdown",
   "metadata": {},
   "source": [
    "<div class=\"alert alert-block alert-info\">\n",
    "\n",
    "<b>Respuesta del estudiante</b> <a class=\"tocSkip\"></a>\n",
    "Segun se puede observar en los resultados, la correlacion entre la cantidad de hijos y pagar a tiempo, esta visible en el grupo de clientes que tiene 4 hijos, pero en los demas es algo borrosa, no parece tener una correlacion.\n",
    "</div>"
   ]
  },
  {
   "cell_type": "markdown",
   "metadata": {},
   "source": [
    "**¿Existe una correlación entre la situación familiar y el pago a tiempo?**"
   ]
  },
  {
   "cell_type": "code",
   "execution_count": 72,
   "metadata": {},
   "outputs": [
    {
     "name": "stdout",
     "output_type": "stream",
     "text": [
      "Tasa de incumplimiento basada en el estado familiar:\n"
     ]
    },
    {
     "data": {
      "text/plain": [
       "family_status\n",
       "civil partnership    9.347145\n",
       "divorced             7.112971\n",
       "married              7.545182\n",
       "unmarried            9.750890\n",
       "widow / widower      6.569343\n",
       "Name: debt, dtype: float64"
      ]
     },
     "execution_count": 72,
     "metadata": {},
     "output_type": "execute_result"
    }
   ],
   "source": [
    "# Comprueba los datos del estado familiar y los pagos a tiempo\n",
    "\n",
    "# Contar los valores de cada categoría en 'family_status'\n",
    "family_status_counts = df_cleaned['family_status'].value_counts()\n",
    "\n",
    "# Calcular el porcentaje de personas que pagan puntualmente sus préstamos en la columna 'debt'\n",
    "debt_counts = df_cleaned['debt'].value_counts()\n",
    "total_records = df_cleaned.shape[0]\n",
    "percentage_punctual = (debt_counts[0] / total_records) * 100\n",
    "\n",
    "# Calcular la tasa de incumplimiento basada en el estado familiar\n",
    "debt_by_family_status = df_cleaned.groupby('family_status')['debt'].mean() * 100\n",
    "\n",
    "# Imprimir los resultados\n",
    "print(\"Tasa de incumplimiento basada en el estado familiar:\")\n",
    "debt_by_family_status"
   ]
  },
  {
   "cell_type": "markdown",
   "metadata": {},
   "source": [
    "**Conclusión**\n",
    "\n",
    "[Escribe tus conclusiones en base a tus manipulaciones y observaciones.]"
   ]
  },
  {
   "cell_type": "markdown",
   "metadata": {},
   "source": [
    "<div class=\"alert alert-block alert-info\">\n",
    "\n",
    "<b>Respuesta del estudiante</b> <a class=\"tocSkip\"></a>\n",
    "Segun se puede observar en los resultados, los clientes con union libre y los no casados son los que tienen una tasa mas alta de incumplimiento en los pagos.\n",
    "</div>"
   ]
  },
  {
   "cell_type": "markdown",
   "metadata": {},
   "source": [
    "**¿Existe una correlación entre el nivel de ingresos y el pago a tiempo?**"
   ]
  },
  {
   "cell_type": "code",
   "execution_count": 73,
   "metadata": {},
   "outputs": [
    {
     "name": "stdout",
     "output_type": "stream",
     "text": [
      "Tasa de pagos a tiempo en función del nivel de ingresos:\n"
     ]
    },
    {
     "data": {
      "text/plain": [
       "income_category\n",
       "Bajo          7.897457\n",
       "Medio-bajo    8.701943\n",
       "Medio-alto    8.807112\n",
       "Alto          7.048367\n",
       "Name: debt, dtype: float64"
      ]
     },
     "execution_count": 73,
     "metadata": {},
     "output_type": "execute_result"
    }
   ],
   "source": [
    "# Comprueba los datos del nivel de ingresos y los pagos a tiempo\n",
    "\n",
    "# Calcular los valores necesarios para los rangos de ingresos\n",
    "min_income = df_cleaned['total_income'].min()\n",
    "first_quartile = df_cleaned['total_income'].quantile(0.25)\n",
    "second_quartile = df_cleaned['total_income'].quantile(0.50)\n",
    "third_quartile = df_cleaned['total_income'].quantile(0.75)\n",
    "max_income = df_cleaned['total_income'].max()\n",
    "\n",
    "# Crear rangos para el nivel de ingresos\n",
    "income_ranges = {\n",
    "    'Bajo': (min_income, first_quartile),\n",
    "    'Medio-bajo': (first_quartile, second_quartile),\n",
    "    'Medio-alto': (second_quartile, third_quartile),\n",
    "    'Alto': (third_quartile, max_income)\n",
    "}\n",
    "\n",
    "# Agregar una nueva columna al DataFrame con las categorías de ingresos\n",
    "df_cleaned['income_category'] = pd.cut(df_cleaned['total_income'], bins=[min_income, first_quartile, second_quartile, third_quartile, max_income], labels=['Bajo', 'Medio-bajo', 'Medio-alto', 'Alto'])\n",
    "\n",
    "# Calcular la tasa de pagos a tiempo en función del nivel de ingresos\n",
    "debt_by_income = df_cleaned.groupby('income_category')['debt'].mean() * 100\n",
    "\n",
    "# Calcular la tasa de incumplimiento basada en el nivel de ingresos\n",
    "# Imprimir los resultados\n",
    "print(\"Tasa de pagos a tiempo en función del nivel de ingresos:\")\n",
    "debt_by_income"
   ]
  },
  {
   "cell_type": "markdown",
   "metadata": {},
   "source": [
    "**Conclusión**\n",
    "\n",
    "[Escribe tus conclusiones en base a tus manipulaciones y observaciones.]"
   ]
  },
  {
   "cell_type": "markdown",
   "metadata": {},
   "source": [
    "<div class=\"alert alert-block alert-info\">\n",
    "\n",
    "<b>Respuesta del estudiante</b> <a class=\"tocSkip\"></a>\n",
    "En este caso la correlacion no es muy visible, se puede observar que los clientes con una entrada de dinero media baja tienden mas a incumplir sus deudas, pero los que reciben menos dinero, cumplen mas, podria deberse a que a estos no les ofrecen los prestamos porque ya viene sobrentendido que tendran dificultades para realizar sus pagos a diferencia los que ganan mas dinero probablemente simplemente no solicitan tan a menudo un prestamo.\n",
    "</div>"
   ]
  },
  {
   "cell_type": "markdown",
   "metadata": {},
   "source": [
    "**¿Cómo afecta el propósito del crédito a la tasa de incumplimiento?**"
   ]
  },
  {
   "cell_type": "code",
   "execution_count": 74,
   "metadata": {},
   "outputs": [
    {
     "name": "stdout",
     "output_type": "stream",
     "text": [
      "Tasa de incumplimiento para cada propósito del crédito:\n"
     ]
    },
    {
     "data": {
      "text/plain": [
       "purpose\n",
       "to get a supplementary education            11.434978\n",
       "purchase of a car                           10.989011\n",
       "getting higher education                    10.798122\n",
       "second-hand car purchase                    10.493827\n",
       "profile education                           10.091743\n",
       "to own a car                                10.041841\n",
       "to become educated                           9.558824\n",
       "to buy a car                                 9.341826\n",
       "cars                                         9.205021\n",
       "car purchase                                 9.110629\n",
       "buying my own car                            9.108911\n",
       "university education                         8.849558\n",
       "building a property                          8.723748\n",
       "going to university                          8.669355\n",
       "car                                          8.502024\n",
       "getting an education                         8.371041\n",
       "having a wedding                             8.333333\n",
       "supplementary education                      8.260870\n",
       "real estate transactions                     8.148148\n",
       "wedding ceremony                             8.091024\n",
       "transactions with commercial real estate     8.000000\n",
       "buying property for renting out              7.987711\n",
       "transactions with my real estate             7.974482\n",
       "building a real estate                       7.692308\n",
       "to have a wedding                            7.581699\n",
       "buying a second-hand car                     7.531381\n",
       "purchase of the house                        7.430341\n",
       "housing transactions                         7.361963\n",
       "education                                    7.158837\n",
       "housing                                      7.120743\n",
       "buy commercial real estate                   7.110439\n",
       "purchase of the house for my family          7.053292\n",
       "buy real estate                              6.924316\n",
       "buy residential real estate                  6.765677\n",
       "property                                     6.635071\n",
       "construction of own property                 6.614173\n",
       "housing renovation                           5.766063\n",
       "purchase of my own house                     5.483871\n",
       "Name: debt, dtype: float64"
      ]
     },
     "execution_count": 74,
     "metadata": {},
     "output_type": "execute_result"
    }
   ],
   "source": [
    "# Consulta los porcentajes de tasa de incumplimiento para cada propósito del crédito y analízalos\n",
    "\n",
    "# Calcular la tasa de incumplimiento para cada propósito del crédito\n",
    "debt_by_purpose = df_cleaned.groupby('purpose')['debt'].mean() * 100\n",
    "\n",
    "# Ordenar los resultados de manera descendente\n",
    "debt_by_purpose = debt_by_purpose.sort_values(ascending=False)\n",
    "\n",
    "# Imprimir los resultados\n",
    "print(\"Tasa de incumplimiento para cada propósito del crédito:\")\n",
    "debt_by_purpose"
   ]
  },
  {
   "cell_type": "markdown",
   "metadata": {},
   "source": [
    "**Conclusión**\n",
    "\n",
    "[Escribe tus conclusiones en base a tus manipulaciones y observaciones.]\n"
   ]
  },
  {
   "cell_type": "markdown",
   "metadata": {},
   "source": [
    "<div class=\"alert alert-block alert-info\">\n",
    "\n",
    "<b>Respuesta del estudiante</b> <a class=\"tocSkip\"></a>\n",
    "Como podemos observar en el resultado de arriba, la mayor incidencia de incumplimiento se da en 2 tipos de propositos, los propositos estudiantiles, y cuando el proposito es para comprar un vehiculo, estos 2 propositos tienen mayor riesgo de incumplimiento ya que la data es contundente al respecto.\n",
    "</div>"
   ]
  },
  {
   "cell_type": "markdown",
   "metadata": {},
   "source": [
    "# Conclusión general \n",
    "\n",
    "[Enumera tus conclusiones en esta última sección. Asegúrate de incluir todas las conclusiones importantes que hiciste y que te llevaron a la forma en que procesaste y analizaste los datos. Habla de los valores ausentes, los duplicados y las posibles razones y soluciones para los artefactos problemáticos que tuviste que abordar.]\n",
    "\n",
    "[Enumera tus conclusiones con respecto a las preguntas planteadas aquí también.]\n"
   ]
  },
  {
   "cell_type": "markdown",
   "metadata": {},
   "source": [
    "<div class=\"alert alert-block alert-info\">\n",
    "\n",
    "<b>Respuesta del estudiante</b> <a class=\"tocSkip\"></a>\n",
    "1) Pudimos observar que segun la data no hay una correlacion tan fuerte en el incumplimiento de los pagos y la cantidad de hijos que tienen los clientes. 2)Tambien pudimos observar que no hay una correlacion fuerte entre la cantidad de dinero que gana el cliente y los incumplimientos 3) Tambien pudimos observar que el status familiar si tenia un poco mas de correlacion, pero no era lo suficiente como para ofrecer informacion concluyente. 4) Pudimos ver que la verdadera correlacion entre la data y el incumplimiento en los pagos se daba en clientes que tomaban prestamos para adquirir un vehiculo o para educacion. 5)Para llegar a estas conclusiones despues de trabajar la data, analizarla y desglosarla pudimos ver que para el analisis era mejor utilizar la mediana ya que como teniamos valores atipicos era el metodo que menos afectaba los resultados finales de la investigacion, tambien, fue bueno tener en cuenta los graficos que usamos para poder darnos cuenta de los problemas que habian en las columnas `days_employed` y `total_income`, fue evidente que habia que trabajarlas para poder tener una investigacion de calidad, los valores ausentes probablemente estuvieron presentes debido a un problema tecnico, ya que no habia evidencia de que hubiera sido porque los clientes no proveyeran la data correspondiente, al igual que tambien los duplicados parecian por ello, en una proxima ocasion seria bueno tener en cuenta las conversiones de datos que se hacen antes de entregar el CSV con el cual se hara la investigacion, asi la data estara en mejores condiciones para ser trabajada.\n",
    "</div>"
   ]
  }
 ],
 "metadata": {
  "ExecuteTimeLog": [
   {
    "duration": 2741,
    "start_time": "2021-10-21T01:08:49.480Z"
   },
   {
    "duration": 52,
    "start_time": "2021-10-21T01:08:53.315Z"
   },
   {
    "duration": 49,
    "start_time": "2021-10-21T01:08:57.432Z"
   },
   {
    "duration": 70,
    "start_time": "2021-10-21T01:09:07.706Z"
   }
  ],
  "kernelspec": {
   "display_name": "Python 3 (ipykernel)",
   "language": "python",
   "name": "python3"
  },
  "language_info": {
   "codemirror_mode": {
    "name": "ipython",
    "version": 3
   },
   "file_extension": ".py",
   "mimetype": "text/x-python",
   "name": "python",
   "nbconvert_exporter": "python",
   "pygments_lexer": "ipython3",
   "version": "3.9.5"
  },
  "toc": {
   "base_numbering": 1,
   "nav_menu": {},
   "number_sections": true,
   "sideBar": true,
   "skip_h1_title": true,
   "title_cell": "Table of Contents",
   "title_sidebar": "Contents",
   "toc_cell": false,
   "toc_position": {},
   "toc_section_display": true,
   "toc_window_display": false
  }
 },
 "nbformat": 4,
 "nbformat_minor": 2
}
