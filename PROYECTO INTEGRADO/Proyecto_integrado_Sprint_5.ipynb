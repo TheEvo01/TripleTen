{
 "cells": [
  {
   "cell_type": "markdown",
   "metadata": {},
   "source": [
    "# Descripción del Proyecto\n",
    "Trabajas para la tienda online Ice que vende videojuegos por todo el mundo. Las reseñas de usuarios y expertos, los géneros, las plataformas (por ejemplo, Xbox o PlayStation) y los datos históricos sobre las ventas de juegos están disponibles en fuentes abiertas. Tienes que identificar patrones que determinen si un juego tiene éxito o no. Esto te permitirá detectar proyectos prometedores y planificar campañas publicitarias.\n",
    "Delante de ti hay datos que se remontan a 2016. Imaginemos que es diciembre de 2016 y estás planeando una campaña para 2017.\n",
    "(Lo importante es adquirir experiencia de trabajo con datos. Realmente no importa si estás pronosticando las ventas de 2017 en función de los datos de 2016 o las ventas de 2027 en función de los datos de 2026.)\n",
    "El dataset contiene la abreviatura ESRB. The Entertainment Software Rating Board (la Junta de clasificación de software de entretenimiento) evalúa el contenido de un juego y asigna una clasificación de edad como Adolescente o Adulto."
   ]
  },
  {
   "cell_type": "markdown",
   "metadata": {},
   "source": [
    "<div class=\"alert alert-block alert-info\">\n",
    "\n",
    "<b>Respuesta del estudiante</b> <a class=\"tocSkip\"></a>\n",
    "En este proyecto estaremos trabajando la data provista por Ice, la cual sera analizada, preprocesada, corregida y enriquecida en caso de ser necesario, para poder proceder a crear nuestras hipotesis sobre la investigacion que se planea hacer sobre la data del año 2017, y asi poder tener claridad del comportamiento de las ventas de videojuegos, estare visualizando la data con algunos graficos para que sea mas entendible lo que estamos evaluando y para que se pueda llegar a las conclusiones pertinentes.\n",
    "</div>"
   ]
  },
  {
   "cell_type": "markdown",
   "metadata": {},
   "source": [
    "## Inicializacion"
   ]
  },
  {
   "cell_type": "code",
   "execution_count": 1,
   "metadata": {},
   "outputs": [],
   "source": [
    "# Cargar todas las librerías\n",
    "import pandas as pd\n",
    "from sklearn.model_selection import train_test_split\n",
    "from sklearn.linear_model import LinearRegression\n",
    "from sklearn.metrics import mean_squared_error, r2_score\n",
    "from sklearn.preprocessing import StandardScaler\n",
    "from sklearn.preprocessing import PolynomialFeatures\n",
    "from sklearn.linear_model import Ridge\n",
    "import numpy as np\n",
    "import re\n",
    "import scipy.stats as stats\n",
    "import seaborn as sns\n",
    "import matplotlib.pyplot as plt\n",
    "from pandas.plotting import scatter_matrix"
   ]
  },
  {
   "cell_type": "markdown",
   "metadata": {},
   "source": [
    "<div class=\"alert alert-block alert-info\">\n",
    "\n",
    "<b>Respuesta del estudiante</b> <a class=\"tocSkip\"></a>\n",
    "Cargamos las librerias necesarias para la investigacion que haremos a continuacion.\n",
    "</div>"
   ]
  },
  {
   "cell_type": "markdown",
   "metadata": {},
   "source": [
    "## Cargar los datos"
   ]
  },
  {
   "cell_type": "code",
   "execution_count": 2,
   "metadata": {},
   "outputs": [],
   "source": [
    "try:\n",
    "    df = pd.read_csv('games.csv')\n",
    "except:\n",
    "    df = pd.read_csv('/datasets/games.csv')"
   ]
  },
  {
   "cell_type": "markdown",
   "metadata": {},
   "source": [
    "<div class=\"alert alert-block alert-info\">\n",
    "\n",
    "<b>Respuesta del estudiante</b> <a class=\"tocSkip\"></a>\n",
    "Aca cargamos el dataframe que utilizaremos para nuestra investigacion.\n",
    "</div>"
   ]
  },
  {
   "cell_type": "markdown",
   "metadata": {},
   "source": [
    "## Estudiar la información general de los Datos"
   ]
  },
  {
   "cell_type": "code",
   "execution_count": 3,
   "metadata": {},
   "outputs": [
    {
     "data": {
      "text/plain": [
       "(16715, 11)"
      ]
     },
     "execution_count": 3,
     "metadata": {},
     "output_type": "execute_result"
    }
   ],
   "source": [
    "# Vamos a ver cuántas filas y columnas tiene nuestro conjunto de datos\n",
    "\n",
    "df.shape"
   ]
  },
  {
   "cell_type": "markdown",
   "metadata": {},
   "source": [
    "<div class=\"alert alert-block alert-info\">\n",
    "\n",
    "<b>Respuesta del estudiante</b> <a class=\"tocSkip\"></a>\n",
    "Visualizamos la cantidad de datos y columnas para ir teniendo una idea de a que nos enfrantamos.\n",
    "</div>"
   ]
  },
  {
   "cell_type": "code",
   "execution_count": 4,
   "metadata": {},
   "outputs": [
    {
     "data": {
      "text/html": [
       "<div>\n",
       "<style scoped>\n",
       "    .dataframe tbody tr th:only-of-type {\n",
       "        vertical-align: middle;\n",
       "    }\n",
       "\n",
       "    .dataframe tbody tr th {\n",
       "        vertical-align: top;\n",
       "    }\n",
       "\n",
       "    .dataframe thead th {\n",
       "        text-align: right;\n",
       "    }\n",
       "</style>\n",
       "<table border=\"1\" class=\"dataframe\">\n",
       "  <thead>\n",
       "    <tr style=\"text-align: right;\">\n",
       "      <th></th>\n",
       "      <th>Name</th>\n",
       "      <th>Platform</th>\n",
       "      <th>Year_of_Release</th>\n",
       "      <th>Genre</th>\n",
       "      <th>NA_sales</th>\n",
       "      <th>EU_sales</th>\n",
       "      <th>JP_sales</th>\n",
       "      <th>Other_sales</th>\n",
       "      <th>Critic_Score</th>\n",
       "      <th>User_Score</th>\n",
       "      <th>Rating</th>\n",
       "    </tr>\n",
       "  </thead>\n",
       "  <tbody>\n",
       "    <tr>\n",
       "      <th>0</th>\n",
       "      <td>Wii Sports</td>\n",
       "      <td>Wii</td>\n",
       "      <td>2006.0</td>\n",
       "      <td>Sports</td>\n",
       "      <td>41.36</td>\n",
       "      <td>28.96</td>\n",
       "      <td>3.77</td>\n",
       "      <td>8.45</td>\n",
       "      <td>76.0</td>\n",
       "      <td>8</td>\n",
       "      <td>E</td>\n",
       "    </tr>\n",
       "    <tr>\n",
       "      <th>1</th>\n",
       "      <td>Super Mario Bros.</td>\n",
       "      <td>NES</td>\n",
       "      <td>1985.0</td>\n",
       "      <td>Platform</td>\n",
       "      <td>29.08</td>\n",
       "      <td>3.58</td>\n",
       "      <td>6.81</td>\n",
       "      <td>0.77</td>\n",
       "      <td>NaN</td>\n",
       "      <td>NaN</td>\n",
       "      <td>NaN</td>\n",
       "    </tr>\n",
       "    <tr>\n",
       "      <th>2</th>\n",
       "      <td>Mario Kart Wii</td>\n",
       "      <td>Wii</td>\n",
       "      <td>2008.0</td>\n",
       "      <td>Racing</td>\n",
       "      <td>15.68</td>\n",
       "      <td>12.76</td>\n",
       "      <td>3.79</td>\n",
       "      <td>3.29</td>\n",
       "      <td>82.0</td>\n",
       "      <td>8.3</td>\n",
       "      <td>E</td>\n",
       "    </tr>\n",
       "    <tr>\n",
       "      <th>3</th>\n",
       "      <td>Wii Sports Resort</td>\n",
       "      <td>Wii</td>\n",
       "      <td>2009.0</td>\n",
       "      <td>Sports</td>\n",
       "      <td>15.61</td>\n",
       "      <td>10.93</td>\n",
       "      <td>3.28</td>\n",
       "      <td>2.95</td>\n",
       "      <td>80.0</td>\n",
       "      <td>8</td>\n",
       "      <td>E</td>\n",
       "    </tr>\n",
       "    <tr>\n",
       "      <th>4</th>\n",
       "      <td>Pokemon Red/Pokemon Blue</td>\n",
       "      <td>GB</td>\n",
       "      <td>1996.0</td>\n",
       "      <td>Role-Playing</td>\n",
       "      <td>11.27</td>\n",
       "      <td>8.89</td>\n",
       "      <td>10.22</td>\n",
       "      <td>1.00</td>\n",
       "      <td>NaN</td>\n",
       "      <td>NaN</td>\n",
       "      <td>NaN</td>\n",
       "    </tr>\n",
       "    <tr>\n",
       "      <th>5</th>\n",
       "      <td>Tetris</td>\n",
       "      <td>GB</td>\n",
       "      <td>1989.0</td>\n",
       "      <td>Puzzle</td>\n",
       "      <td>23.20</td>\n",
       "      <td>2.26</td>\n",
       "      <td>4.22</td>\n",
       "      <td>0.58</td>\n",
       "      <td>NaN</td>\n",
       "      <td>NaN</td>\n",
       "      <td>NaN</td>\n",
       "    </tr>\n",
       "    <tr>\n",
       "      <th>6</th>\n",
       "      <td>New Super Mario Bros.</td>\n",
       "      <td>DS</td>\n",
       "      <td>2006.0</td>\n",
       "      <td>Platform</td>\n",
       "      <td>11.28</td>\n",
       "      <td>9.14</td>\n",
       "      <td>6.50</td>\n",
       "      <td>2.88</td>\n",
       "      <td>89.0</td>\n",
       "      <td>8.5</td>\n",
       "      <td>E</td>\n",
       "    </tr>\n",
       "    <tr>\n",
       "      <th>7</th>\n",
       "      <td>Wii Play</td>\n",
       "      <td>Wii</td>\n",
       "      <td>2006.0</td>\n",
       "      <td>Misc</td>\n",
       "      <td>13.96</td>\n",
       "      <td>9.18</td>\n",
       "      <td>2.93</td>\n",
       "      <td>2.84</td>\n",
       "      <td>58.0</td>\n",
       "      <td>6.6</td>\n",
       "      <td>E</td>\n",
       "    </tr>\n",
       "    <tr>\n",
       "      <th>8</th>\n",
       "      <td>New Super Mario Bros. Wii</td>\n",
       "      <td>Wii</td>\n",
       "      <td>2009.0</td>\n",
       "      <td>Platform</td>\n",
       "      <td>14.44</td>\n",
       "      <td>6.94</td>\n",
       "      <td>4.70</td>\n",
       "      <td>2.24</td>\n",
       "      <td>87.0</td>\n",
       "      <td>8.4</td>\n",
       "      <td>E</td>\n",
       "    </tr>\n",
       "    <tr>\n",
       "      <th>9</th>\n",
       "      <td>Duck Hunt</td>\n",
       "      <td>NES</td>\n",
       "      <td>1984.0</td>\n",
       "      <td>Shooter</td>\n",
       "      <td>26.93</td>\n",
       "      <td>0.63</td>\n",
       "      <td>0.28</td>\n",
       "      <td>0.47</td>\n",
       "      <td>NaN</td>\n",
       "      <td>NaN</td>\n",
       "      <td>NaN</td>\n",
       "    </tr>\n",
       "  </tbody>\n",
       "</table>\n",
       "</div>"
      ],
      "text/plain": [
       "                        Name Platform  Year_of_Release         Genre  \\\n",
       "0                 Wii Sports      Wii           2006.0        Sports   \n",
       "1          Super Mario Bros.      NES           1985.0      Platform   \n",
       "2             Mario Kart Wii      Wii           2008.0        Racing   \n",
       "3          Wii Sports Resort      Wii           2009.0        Sports   \n",
       "4   Pokemon Red/Pokemon Blue       GB           1996.0  Role-Playing   \n",
       "5                     Tetris       GB           1989.0        Puzzle   \n",
       "6      New Super Mario Bros.       DS           2006.0      Platform   \n",
       "7                   Wii Play      Wii           2006.0          Misc   \n",
       "8  New Super Mario Bros. Wii      Wii           2009.0      Platform   \n",
       "9                  Duck Hunt      NES           1984.0       Shooter   \n",
       "\n",
       "   NA_sales  EU_sales  JP_sales  Other_sales  Critic_Score User_Score Rating  \n",
       "0     41.36     28.96      3.77         8.45          76.0          8      E  \n",
       "1     29.08      3.58      6.81         0.77           NaN        NaN    NaN  \n",
       "2     15.68     12.76      3.79         3.29          82.0        8.3      E  \n",
       "3     15.61     10.93      3.28         2.95          80.0          8      E  \n",
       "4     11.27      8.89     10.22         1.00           NaN        NaN    NaN  \n",
       "5     23.20      2.26      4.22         0.58           NaN        NaN    NaN  \n",
       "6     11.28      9.14      6.50         2.88          89.0        8.5      E  \n",
       "7     13.96      9.18      2.93         2.84          58.0        6.6      E  \n",
       "8     14.44      6.94      4.70         2.24          87.0        8.4      E  \n",
       "9     26.93      0.63      0.28         0.47           NaN        NaN    NaN  "
      ]
     },
     "execution_count": 4,
     "metadata": {},
     "output_type": "execute_result"
    }
   ],
   "source": [
    "# vamos a mostrar las primeras filas N\n",
    "\n",
    "df.head(10)"
   ]
  },
  {
   "cell_type": "markdown",
   "metadata": {},
   "source": [
    "<div class=\"alert alert-block alert-info\">\n",
    "\n",
    "<b>Respuesta del estudiante</b> <a class=\"tocSkip\"></a>\n",
    "Aca visualizamos las primeras `10` lineas del dataframe para tener una idea de los datos que tendremos que trabajar.\n",
    "</div>"
   ]
  },
  {
   "cell_type": "code",
   "execution_count": 5,
   "metadata": {},
   "outputs": [
    {
     "name": "stdout",
     "output_type": "stream",
     "text": [
      "<class 'pandas.core.frame.DataFrame'>\n",
      "RangeIndex: 16715 entries, 0 to 16714\n",
      "Data columns (total 11 columns):\n",
      " #   Column           Non-Null Count  Dtype  \n",
      "---  ------           --------------  -----  \n",
      " 0   Name             16713 non-null  object \n",
      " 1   Platform         16715 non-null  object \n",
      " 2   Year_of_Release  16446 non-null  float64\n",
      " 3   Genre            16713 non-null  object \n",
      " 4   NA_sales         16715 non-null  float64\n",
      " 5   EU_sales         16715 non-null  float64\n",
      " 6   JP_sales         16715 non-null  float64\n",
      " 7   Other_sales      16715 non-null  float64\n",
      " 8   Critic_Score     8137 non-null   float64\n",
      " 9   User_Score       10014 non-null  object \n",
      " 10  Rating           9949 non-null   object \n",
      "dtypes: float64(6), object(5)\n",
      "memory usage: 1.4+ MB\n"
     ]
    }
   ],
   "source": [
    "# Obtener información sobre los datos\n",
    "\n",
    "df.info()"
   ]
  },
  {
   "cell_type": "markdown",
   "metadata": {},
   "source": [
    "<div class=\"alert alert-block alert-info\">\n",
    "\n",
    "<b>Respuesta del estudiante</b> <a class=\"tocSkip\"></a>\n",
    "Con `.info()` podemos visualizar el tipo de variables que tiene cada columna, para asi saber como abordaremos cada una, y ya viendo a simple vista podemos apreciar varios detalles que hay que trabajar, como el cambio de tipo de variable, y abordar los datos `Nulos` que abundan en `critic_score`, `user_score` y `rating`.\n",
    "</div>"
   ]
  },
  {
   "cell_type": "markdown",
   "metadata": {},
   "source": [
    "## Preparar los datos"
   ]
  },
  {
   "cell_type": "code",
   "execution_count": 6,
   "metadata": {},
   "outputs": [
    {
     "data": {
      "text/plain": [
       "Index(['name', 'platform', 'year_of_release', 'genre', 'na_sales', 'eu_sales',\n",
       "       'jp_sales', 'other_sales', 'critic_score', 'user_score', 'rating'],\n",
       "      dtype='object')"
      ]
     },
     "execution_count": 6,
     "metadata": {},
     "output_type": "execute_result"
    }
   ],
   "source": [
    "# Reemplaza los nombres de las columnas por sus equivalentes en minúsculas\n",
    "df.columns = df.columns.str.lower()\n",
    "\n",
    "# Ahora los nombres de las columnas están en minúsculas\n",
    "df.columns"
   ]
  },
  {
   "cell_type": "markdown",
   "metadata": {},
   "source": [
    "<div class=\"alert alert-block alert-info\">\n",
    "\n",
    "<b>Respuesta del estudiante</b> <a class=\"tocSkip\"></a>\n",
    "Ahora vamos a ir preparando los datos para la investigacion, primero procedimos a normalizar los nombres de las columnas, todos en minuscula, para que asi no haya problemas mas adelante.\n",
    "</div>"
   ]
  },
  {
   "cell_type": "code",
   "execution_count": 7,
   "metadata": {},
   "outputs": [
    {
     "data": {
      "text/html": [
       "<div>\n",
       "<style scoped>\n",
       "    .dataframe tbody tr th:only-of-type {\n",
       "        vertical-align: middle;\n",
       "    }\n",
       "\n",
       "    .dataframe tbody tr th {\n",
       "        vertical-align: top;\n",
       "    }\n",
       "\n",
       "    .dataframe thead th {\n",
       "        text-align: right;\n",
       "    }\n",
       "</style>\n",
       "<table border=\"1\" class=\"dataframe\">\n",
       "  <thead>\n",
       "    <tr style=\"text-align: right;\">\n",
       "      <th></th>\n",
       "      <th>name</th>\n",
       "      <th>extracted_year</th>\n",
       "    </tr>\n",
       "  </thead>\n",
       "  <tbody>\n",
       "    <tr>\n",
       "      <th>0</th>\n",
       "      <td>Wii Sports</td>\n",
       "      <td>NaN</td>\n",
       "    </tr>\n",
       "    <tr>\n",
       "      <th>1</th>\n",
       "      <td>Super Mario Bros.</td>\n",
       "      <td>NaN</td>\n",
       "    </tr>\n",
       "    <tr>\n",
       "      <th>2</th>\n",
       "      <td>Mario Kart Wii</td>\n",
       "      <td>NaN</td>\n",
       "    </tr>\n",
       "    <tr>\n",
       "      <th>3</th>\n",
       "      <td>Wii Sports Resort</td>\n",
       "      <td>NaN</td>\n",
       "    </tr>\n",
       "    <tr>\n",
       "      <th>4</th>\n",
       "      <td>Pokemon Red/Pokemon Blue</td>\n",
       "      <td>NaN</td>\n",
       "    </tr>\n",
       "  </tbody>\n",
       "</table>\n",
       "</div>"
      ],
      "text/plain": [
       "                       name  extracted_year\n",
       "0                Wii Sports             NaN\n",
       "1         Super Mario Bros.             NaN\n",
       "2            Mario Kart Wii             NaN\n",
       "3         Wii Sports Resort             NaN\n",
       "4  Pokemon Red/Pokemon Blue             NaN"
      ]
     },
     "execution_count": 7,
     "metadata": {},
     "output_type": "execute_result"
    }
   ],
   "source": [
    "#Abordar los valores nulos de la columna `year_of_release`\n",
    "\n",
    "# Función para extraer el año de la columna 'name'\n",
    "def extract_year_from_name(name):\n",
    "    # Verificamos que 'name' sea una cadena de texto\n",
    "    if isinstance(name, str):\n",
    "        # Utilizamos una expresión regular para buscar un patrón de año de 4 dígitos al final del nombre\n",
    "        match = re.search(r'\\d{4}$', name)\n",
    "        if match:\n",
    "            # Si se encuentra un año, lo devolvemos como entero\n",
    "            return int(match.group())\n",
    "    # Si no se encuentra un año o 'name' no es una cadena de texto válida, devolvemos NaN\n",
    "    return None\n",
    "\n",
    "# Aplicamos la función a la columna 'name' y creamos una nueva columna 'extracted_year'\n",
    "df['extracted_year'] = df['name'].apply(extract_year_from_name)\n",
    "\n",
    "# Muestra las primeras filas del DataFrame resultante\n",
    "df[['name', 'extracted_year']].head()"
   ]
  },
  {
   "cell_type": "code",
   "execution_count": 8,
   "metadata": {},
   "outputs": [
    {
     "data": {
      "text/html": [
       "<div>\n",
       "<style scoped>\n",
       "    .dataframe tbody tr th:only-of-type {\n",
       "        vertical-align: middle;\n",
       "    }\n",
       "\n",
       "    .dataframe tbody tr th {\n",
       "        vertical-align: top;\n",
       "    }\n",
       "\n",
       "    .dataframe thead th {\n",
       "        text-align: right;\n",
       "    }\n",
       "</style>\n",
       "<table border=\"1\" class=\"dataframe\">\n",
       "  <thead>\n",
       "    <tr style=\"text-align: right;\">\n",
       "      <th></th>\n",
       "      <th>name</th>\n",
       "      <th>year_of_release</th>\n",
       "    </tr>\n",
       "  </thead>\n",
       "  <tbody>\n",
       "    <tr>\n",
       "      <th>0</th>\n",
       "      <td>Wii Sports</td>\n",
       "      <td>2006.0</td>\n",
       "    </tr>\n",
       "    <tr>\n",
       "      <th>1</th>\n",
       "      <td>Super Mario Bros.</td>\n",
       "      <td>1985.0</td>\n",
       "    </tr>\n",
       "    <tr>\n",
       "      <th>2</th>\n",
       "      <td>Mario Kart Wii</td>\n",
       "      <td>2008.0</td>\n",
       "    </tr>\n",
       "    <tr>\n",
       "      <th>3</th>\n",
       "      <td>Wii Sports Resort</td>\n",
       "      <td>2009.0</td>\n",
       "    </tr>\n",
       "    <tr>\n",
       "      <th>4</th>\n",
       "      <td>Pokemon Red/Pokemon Blue</td>\n",
       "      <td>1996.0</td>\n",
       "    </tr>\n",
       "  </tbody>\n",
       "</table>\n",
       "</div>"
      ],
      "text/plain": [
       "                       name  year_of_release\n",
       "0                Wii Sports           2006.0\n",
       "1         Super Mario Bros.           1985.0\n",
       "2            Mario Kart Wii           2008.0\n",
       "3         Wii Sports Resort           2009.0\n",
       "4  Pokemon Red/Pokemon Blue           1996.0"
      ]
     },
     "execution_count": 8,
     "metadata": {},
     "output_type": "execute_result"
    }
   ],
   "source": [
    "# Filtra las filas donde 'extracted_year' no es NaN\n",
    "valid_years = df['extracted_year'].notna()\n",
    "\n",
    "# Asigna los valores de 'extracted_year' a 'year_of_release' solo en las filas válidas\n",
    "df.loc[valid_years, 'year_of_release'] = df.loc[valid_years, 'extracted_year']\n",
    "\n",
    "# Elimina la columna 'extracted_year' ya que no es necesaria\n",
    "df.drop(columns=['extracted_year'], inplace=True)\n",
    "\n",
    "# Eliminar las filas con valores nulos en 'year_of_release'\n",
    "df.dropna(subset=['year_of_release'], inplace=True)\n",
    "\n",
    "# Muestra las primeras filas del DataFrame resultante\n",
    "df[['name', 'year_of_release']].head()"
   ]
  },
  {
   "cell_type": "markdown",
   "metadata": {},
   "source": [
    "<div class=\"alert alert-block alert-info\">\n",
    "\n",
    "<b>Respuesta del estudiante</b> <a class=\"tocSkip\"></a>\n",
    "Ahora preparamos la columna `year_of_release`, para llenar los valores nulos vamos a tomar los años que estan en los nombres de los juegos en la columna `name`, he creado una funcion la cual va a extraer el año de la columna name, crea una columna temporal de la cual entonces adicionamos los valores utiles a la columna `year_of_release`, la cual deberia completar la data faltante sin mucho problema luego de esto, solo restaria cambiar el tipo de variable a la variable adecuada.\n",
    "</div>"
   ]
  },
  {
   "cell_type": "code",
   "execution_count": 9,
   "metadata": {},
   "outputs": [],
   "source": [
    "#Abordar los valores nulos de la columna `critic_score`\n",
    "\n",
    "median_score = df['critic_score'].median()\n",
    "df['critic_score'].fillna(median_score, inplace=True)"
   ]
  },
  {
   "cell_type": "markdown",
   "metadata": {},
   "source": [
    "<div class=\"alert alert-block alert-info\">\n",
    "\n",
    "<b>Respuesta del estudiante</b> <a class=\"tocSkip\"></a>\n",
    "Como preambulo vamos a rellenar los valores nulos de `critic_score`, a pesar de que mas adelante discriminaremos buena parte de esta data, para poder pasar a la investigacion solamente con la data pertinente.\n",
    "</div>"
   ]
  },
  {
   "cell_type": "code",
   "execution_count": 10,
   "metadata": {},
   "outputs": [],
   "source": [
    "# Convierte la columna 'Year_of_Release' a tipo int\n",
    "df['year_of_release'] = df['year_of_release'].astype(int)\n",
    "\n",
    "# Convierte la columna 'Critic_Score' a tipo float\n",
    "df['critic_score'] = df['critic_score'].astype(float)\n",
    "\n",
    "# Reemplaza \"TBD\" con NaN en la columna 'User_Score'\n",
    "df['user_score'] = df['user_score'].replace('tbd', np.nan)\n",
    "\n",
    "# Convierte la columna 'User_Score' a tipo float\n",
    "df['user_score'] = df['user_score'].astype(float)\n",
    "\n",
    "# Calcula la media o mediana de los valores numéricos en 'User_Score'\n",
    "user_score_mean = df['user_score'].mean()\n",
    "user_score_median = df['user_score'].median()\n",
    "\n",
    "# Reemplaza \"TBD\" con la media o mediana\n",
    "df['user_score'].replace('tbd', user_score_mean, inplace=True)"
   ]
  },
  {
   "cell_type": "markdown",
   "metadata": {},
   "source": [
    "<div class=\"alert alert-block alert-info\">\n",
    "\n",
    "<b>Respuesta del estudiante</b> <a class=\"tocSkip\"></a>\n",
    "Ahora cambiamos los tipos de variables a las variables pertinentes, aparte de rellenar temporalmente los valores de `user_score`, los cuales al igual que lo mencionado para `critic_score` buena parte seran discriminados para poder proceder a la investigacion, tambien abordamos el tema de los valores `tbd`, los cuales podian darnos problemas mas adelante, los sustituiremos con la media ya que son los valores que menos afectaran el resultado final.\n",
    "</div>"
   ]
  },
  {
   "cell_type": "code",
   "execution_count": 11,
   "metadata": {},
   "outputs": [],
   "source": [
    "# Calcula las ventas totales sumando las ventas en todas las regiones\n",
    "\n",
    "df['total_sales'] = df[['na_sales', 'eu_sales', 'jp_sales', 'other_sales']].sum(axis=1)"
   ]
  },
  {
   "cell_type": "markdown",
   "metadata": {},
   "source": [
    "<div class=\"alert alert-block alert-info\">\n",
    "\n",
    "<b>Respuesta del estudiante</b> <a class=\"tocSkip\"></a>\n",
    "Aca hacemos el calculo de las ventas de los juegos por region, y creamos una nueva columna para poder tener la data disponible posteriormente.\n",
    "</div>"
   ]
  },
  {
   "cell_type": "code",
   "execution_count": 12,
   "metadata": {
    "scrolled": false
   },
   "outputs": [
    {
     "data": {
      "text/html": [
       "<div>\n",
       "<style scoped>\n",
       "    .dataframe tbody tr th:only-of-type {\n",
       "        vertical-align: middle;\n",
       "    }\n",
       "\n",
       "    .dataframe tbody tr th {\n",
       "        vertical-align: top;\n",
       "    }\n",
       "\n",
       "    .dataframe thead th {\n",
       "        text-align: right;\n",
       "    }\n",
       "</style>\n",
       "<table border=\"1\" class=\"dataframe\">\n",
       "  <thead>\n",
       "    <tr style=\"text-align: right;\">\n",
       "      <th></th>\n",
       "      <th>name</th>\n",
       "      <th>platform</th>\n",
       "      <th>year_of_release</th>\n",
       "      <th>genre</th>\n",
       "      <th>na_sales</th>\n",
       "      <th>eu_sales</th>\n",
       "      <th>jp_sales</th>\n",
       "      <th>other_sales</th>\n",
       "      <th>critic_score</th>\n",
       "      <th>user_score</th>\n",
       "      <th>rating</th>\n",
       "      <th>total_sales</th>\n",
       "    </tr>\n",
       "  </thead>\n",
       "  <tbody>\n",
       "    <tr>\n",
       "      <th>0</th>\n",
       "      <td>Wii Sports</td>\n",
       "      <td>Wii</td>\n",
       "      <td>2006</td>\n",
       "      <td>Sports</td>\n",
       "      <td>41.36</td>\n",
       "      <td>28.96</td>\n",
       "      <td>3.77</td>\n",
       "      <td>8.45</td>\n",
       "      <td>76.0</td>\n",
       "      <td>8.0</td>\n",
       "      <td>E</td>\n",
       "      <td>82.54</td>\n",
       "    </tr>\n",
       "    <tr>\n",
       "      <th>1</th>\n",
       "      <td>Super Mario Bros.</td>\n",
       "      <td>NES</td>\n",
       "      <td>1985</td>\n",
       "      <td>Platform</td>\n",
       "      <td>29.08</td>\n",
       "      <td>3.58</td>\n",
       "      <td>6.81</td>\n",
       "      <td>0.77</td>\n",
       "      <td>71.0</td>\n",
       "      <td>NaN</td>\n",
       "      <td>NaN</td>\n",
       "      <td>40.24</td>\n",
       "    </tr>\n",
       "    <tr>\n",
       "      <th>2</th>\n",
       "      <td>Mario Kart Wii</td>\n",
       "      <td>Wii</td>\n",
       "      <td>2008</td>\n",
       "      <td>Racing</td>\n",
       "      <td>15.68</td>\n",
       "      <td>12.76</td>\n",
       "      <td>3.79</td>\n",
       "      <td>3.29</td>\n",
       "      <td>82.0</td>\n",
       "      <td>8.3</td>\n",
       "      <td>E</td>\n",
       "      <td>35.52</td>\n",
       "    </tr>\n",
       "    <tr>\n",
       "      <th>3</th>\n",
       "      <td>Wii Sports Resort</td>\n",
       "      <td>Wii</td>\n",
       "      <td>2009</td>\n",
       "      <td>Sports</td>\n",
       "      <td>15.61</td>\n",
       "      <td>10.93</td>\n",
       "      <td>3.28</td>\n",
       "      <td>2.95</td>\n",
       "      <td>80.0</td>\n",
       "      <td>8.0</td>\n",
       "      <td>E</td>\n",
       "      <td>32.77</td>\n",
       "    </tr>\n",
       "    <tr>\n",
       "      <th>4</th>\n",
       "      <td>Pokemon Red/Pokemon Blue</td>\n",
       "      <td>GB</td>\n",
       "      <td>1996</td>\n",
       "      <td>Role-Playing</td>\n",
       "      <td>11.27</td>\n",
       "      <td>8.89</td>\n",
       "      <td>10.22</td>\n",
       "      <td>1.00</td>\n",
       "      <td>71.0</td>\n",
       "      <td>NaN</td>\n",
       "      <td>NaN</td>\n",
       "      <td>31.38</td>\n",
       "    </tr>\n",
       "    <tr>\n",
       "      <th>5</th>\n",
       "      <td>Tetris</td>\n",
       "      <td>GB</td>\n",
       "      <td>1989</td>\n",
       "      <td>Puzzle</td>\n",
       "      <td>23.20</td>\n",
       "      <td>2.26</td>\n",
       "      <td>4.22</td>\n",
       "      <td>0.58</td>\n",
       "      <td>71.0</td>\n",
       "      <td>NaN</td>\n",
       "      <td>NaN</td>\n",
       "      <td>30.26</td>\n",
       "    </tr>\n",
       "    <tr>\n",
       "      <th>6</th>\n",
       "      <td>New Super Mario Bros.</td>\n",
       "      <td>DS</td>\n",
       "      <td>2006</td>\n",
       "      <td>Platform</td>\n",
       "      <td>11.28</td>\n",
       "      <td>9.14</td>\n",
       "      <td>6.50</td>\n",
       "      <td>2.88</td>\n",
       "      <td>89.0</td>\n",
       "      <td>8.5</td>\n",
       "      <td>E</td>\n",
       "      <td>29.80</td>\n",
       "    </tr>\n",
       "    <tr>\n",
       "      <th>7</th>\n",
       "      <td>Wii Play</td>\n",
       "      <td>Wii</td>\n",
       "      <td>2006</td>\n",
       "      <td>Misc</td>\n",
       "      <td>13.96</td>\n",
       "      <td>9.18</td>\n",
       "      <td>2.93</td>\n",
       "      <td>2.84</td>\n",
       "      <td>58.0</td>\n",
       "      <td>6.6</td>\n",
       "      <td>E</td>\n",
       "      <td>28.91</td>\n",
       "    </tr>\n",
       "    <tr>\n",
       "      <th>8</th>\n",
       "      <td>New Super Mario Bros. Wii</td>\n",
       "      <td>Wii</td>\n",
       "      <td>2009</td>\n",
       "      <td>Platform</td>\n",
       "      <td>14.44</td>\n",
       "      <td>6.94</td>\n",
       "      <td>4.70</td>\n",
       "      <td>2.24</td>\n",
       "      <td>87.0</td>\n",
       "      <td>8.4</td>\n",
       "      <td>E</td>\n",
       "      <td>28.32</td>\n",
       "    </tr>\n",
       "    <tr>\n",
       "      <th>9</th>\n",
       "      <td>Duck Hunt</td>\n",
       "      <td>NES</td>\n",
       "      <td>1984</td>\n",
       "      <td>Shooter</td>\n",
       "      <td>26.93</td>\n",
       "      <td>0.63</td>\n",
       "      <td>0.28</td>\n",
       "      <td>0.47</td>\n",
       "      <td>71.0</td>\n",
       "      <td>NaN</td>\n",
       "      <td>NaN</td>\n",
       "      <td>28.31</td>\n",
       "    </tr>\n",
       "  </tbody>\n",
       "</table>\n",
       "</div>"
      ],
      "text/plain": [
       "                        name platform  year_of_release         genre  \\\n",
       "0                 Wii Sports      Wii             2006        Sports   \n",
       "1          Super Mario Bros.      NES             1985      Platform   \n",
       "2             Mario Kart Wii      Wii             2008        Racing   \n",
       "3          Wii Sports Resort      Wii             2009        Sports   \n",
       "4   Pokemon Red/Pokemon Blue       GB             1996  Role-Playing   \n",
       "5                     Tetris       GB             1989        Puzzle   \n",
       "6      New Super Mario Bros.       DS             2006      Platform   \n",
       "7                   Wii Play      Wii             2006          Misc   \n",
       "8  New Super Mario Bros. Wii      Wii             2009      Platform   \n",
       "9                  Duck Hunt      NES             1984       Shooter   \n",
       "\n",
       "   na_sales  eu_sales  jp_sales  other_sales  critic_score  user_score rating  \\\n",
       "0     41.36     28.96      3.77         8.45          76.0         8.0      E   \n",
       "1     29.08      3.58      6.81         0.77          71.0         NaN    NaN   \n",
       "2     15.68     12.76      3.79         3.29          82.0         8.3      E   \n",
       "3     15.61     10.93      3.28         2.95          80.0         8.0      E   \n",
       "4     11.27      8.89     10.22         1.00          71.0         NaN    NaN   \n",
       "5     23.20      2.26      4.22         0.58          71.0         NaN    NaN   \n",
       "6     11.28      9.14      6.50         2.88          89.0         8.5      E   \n",
       "7     13.96      9.18      2.93         2.84          58.0         6.6      E   \n",
       "8     14.44      6.94      4.70         2.24          87.0         8.4      E   \n",
       "9     26.93      0.63      0.28         0.47          71.0         NaN    NaN   \n",
       "\n",
       "   total_sales  \n",
       "0        82.54  \n",
       "1        40.24  \n",
       "2        35.52  \n",
       "3        32.77  \n",
       "4        31.38  \n",
       "5        30.26  \n",
       "6        29.80  \n",
       "7        28.91  \n",
       "8        28.32  \n",
       "9        28.31  "
      ]
     },
     "execution_count": 12,
     "metadata": {},
     "output_type": "execute_result"
    }
   ],
   "source": [
    "df.head(10)"
   ]
  },
  {
   "cell_type": "code",
   "execution_count": 13,
   "metadata": {},
   "outputs": [
    {
     "data": {
      "text/plain": [
       "(16461, 12)"
      ]
     },
     "execution_count": 13,
     "metadata": {},
     "output_type": "execute_result"
    }
   ],
   "source": [
    "df.shape"
   ]
  },
  {
   "cell_type": "code",
   "execution_count": 14,
   "metadata": {},
   "outputs": [
    {
     "name": "stdout",
     "output_type": "stream",
     "text": [
      "<class 'pandas.core.frame.DataFrame'>\n",
      "Int64Index: 16461 entries, 0 to 16714\n",
      "Data columns (total 12 columns):\n",
      " #   Column           Non-Null Count  Dtype  \n",
      "---  ------           --------------  -----  \n",
      " 0   name             16459 non-null  object \n",
      " 1   platform         16461 non-null  object \n",
      " 2   year_of_release  16461 non-null  int64  \n",
      " 3   genre            16459 non-null  object \n",
      " 4   na_sales         16461 non-null  float64\n",
      " 5   eu_sales         16461 non-null  float64\n",
      " 6   jp_sales         16461 non-null  float64\n",
      " 7   other_sales      16461 non-null  float64\n",
      " 8   critic_score     16461 non-null  float64\n",
      " 9   user_score       7472 non-null   float64\n",
      " 10  rating           9778 non-null   object \n",
      " 11  total_sales      16461 non-null  float64\n",
      "dtypes: float64(7), int64(1), object(4)\n",
      "memory usage: 1.6+ MB\n"
     ]
    }
   ],
   "source": [
    "df.info()"
   ]
  },
  {
   "cell_type": "markdown",
   "metadata": {},
   "source": [
    "<div class=\"alert alert-block alert-info\">\n",
    "\n",
    "<b>Respuesta del estudiante</b> <a class=\"tocSkip\"></a>\n",
    "En las 3 celdas anteriores presentamos nuestro nuevo dataframe, con la data mejor distribuida y una columna extra, aun nos quedan algunos detalles que pulir.\n",
    "</div>"
   ]
  },
  {
   "cell_type": "code",
   "execution_count": 15,
   "metadata": {},
   "outputs": [],
   "source": [
    "# Filtra las filas con juegos lanzados a partir del año 2000\n",
    "\n",
    "df_filtered = df[df['year_of_release'] >= 2000]"
   ]
  },
  {
   "cell_type": "markdown",
   "metadata": {},
   "source": [
    "<div class=\"alert alert-block alert-info\">\n",
    "\n",
    "<b>Respuesta del estudiante</b> <a class=\"tocSkip\"></a>\n",
    "Filtramos la data como ya habiamos mencionado.\n",
    "</div>"
   ]
  },
  {
   "cell_type": "code",
   "execution_count": 16,
   "metadata": {},
   "outputs": [
    {
     "data": {
      "text/html": [
       "<div>\n",
       "<style scoped>\n",
       "    .dataframe tbody tr th:only-of-type {\n",
       "        vertical-align: middle;\n",
       "    }\n",
       "\n",
       "    .dataframe tbody tr th {\n",
       "        vertical-align: top;\n",
       "    }\n",
       "\n",
       "    .dataframe thead th {\n",
       "        text-align: right;\n",
       "    }\n",
       "</style>\n",
       "<table border=\"1\" class=\"dataframe\">\n",
       "  <thead>\n",
       "    <tr style=\"text-align: right;\">\n",
       "      <th></th>\n",
       "      <th>name</th>\n",
       "      <th>platform</th>\n",
       "      <th>year_of_release</th>\n",
       "      <th>genre</th>\n",
       "      <th>na_sales</th>\n",
       "      <th>eu_sales</th>\n",
       "      <th>jp_sales</th>\n",
       "      <th>other_sales</th>\n",
       "      <th>critic_score</th>\n",
       "      <th>user_score</th>\n",
       "      <th>rating</th>\n",
       "      <th>total_sales</th>\n",
       "    </tr>\n",
       "  </thead>\n",
       "  <tbody>\n",
       "    <tr>\n",
       "      <th>0</th>\n",
       "      <td>Wii Sports</td>\n",
       "      <td>Wii</td>\n",
       "      <td>2006</td>\n",
       "      <td>Sports</td>\n",
       "      <td>41.36</td>\n",
       "      <td>28.96</td>\n",
       "      <td>3.77</td>\n",
       "      <td>8.45</td>\n",
       "      <td>76.0</td>\n",
       "      <td>8.0</td>\n",
       "      <td>E</td>\n",
       "      <td>82.54</td>\n",
       "    </tr>\n",
       "    <tr>\n",
       "      <th>2</th>\n",
       "      <td>Mario Kart Wii</td>\n",
       "      <td>Wii</td>\n",
       "      <td>2008</td>\n",
       "      <td>Racing</td>\n",
       "      <td>15.68</td>\n",
       "      <td>12.76</td>\n",
       "      <td>3.79</td>\n",
       "      <td>3.29</td>\n",
       "      <td>82.0</td>\n",
       "      <td>8.3</td>\n",
       "      <td>E</td>\n",
       "      <td>35.52</td>\n",
       "    </tr>\n",
       "    <tr>\n",
       "      <th>3</th>\n",
       "      <td>Wii Sports Resort</td>\n",
       "      <td>Wii</td>\n",
       "      <td>2009</td>\n",
       "      <td>Sports</td>\n",
       "      <td>15.61</td>\n",
       "      <td>10.93</td>\n",
       "      <td>3.28</td>\n",
       "      <td>2.95</td>\n",
       "      <td>80.0</td>\n",
       "      <td>8.0</td>\n",
       "      <td>E</td>\n",
       "      <td>32.77</td>\n",
       "    </tr>\n",
       "    <tr>\n",
       "      <th>6</th>\n",
       "      <td>New Super Mario Bros.</td>\n",
       "      <td>DS</td>\n",
       "      <td>2006</td>\n",
       "      <td>Platform</td>\n",
       "      <td>11.28</td>\n",
       "      <td>9.14</td>\n",
       "      <td>6.50</td>\n",
       "      <td>2.88</td>\n",
       "      <td>89.0</td>\n",
       "      <td>8.5</td>\n",
       "      <td>E</td>\n",
       "      <td>29.80</td>\n",
       "    </tr>\n",
       "    <tr>\n",
       "      <th>7</th>\n",
       "      <td>Wii Play</td>\n",
       "      <td>Wii</td>\n",
       "      <td>2006</td>\n",
       "      <td>Misc</td>\n",
       "      <td>13.96</td>\n",
       "      <td>9.18</td>\n",
       "      <td>2.93</td>\n",
       "      <td>2.84</td>\n",
       "      <td>58.0</td>\n",
       "      <td>6.6</td>\n",
       "      <td>E</td>\n",
       "      <td>28.91</td>\n",
       "    </tr>\n",
       "    <tr>\n",
       "      <th>8</th>\n",
       "      <td>New Super Mario Bros. Wii</td>\n",
       "      <td>Wii</td>\n",
       "      <td>2009</td>\n",
       "      <td>Platform</td>\n",
       "      <td>14.44</td>\n",
       "      <td>6.94</td>\n",
       "      <td>4.70</td>\n",
       "      <td>2.24</td>\n",
       "      <td>87.0</td>\n",
       "      <td>8.4</td>\n",
       "      <td>E</td>\n",
       "      <td>28.32</td>\n",
       "    </tr>\n",
       "    <tr>\n",
       "      <th>10</th>\n",
       "      <td>Nintendogs</td>\n",
       "      <td>DS</td>\n",
       "      <td>2005</td>\n",
       "      <td>Simulation</td>\n",
       "      <td>9.05</td>\n",
       "      <td>10.95</td>\n",
       "      <td>1.93</td>\n",
       "      <td>2.74</td>\n",
       "      <td>71.0</td>\n",
       "      <td>NaN</td>\n",
       "      <td>NaN</td>\n",
       "      <td>24.67</td>\n",
       "    </tr>\n",
       "    <tr>\n",
       "      <th>11</th>\n",
       "      <td>Mario Kart DS</td>\n",
       "      <td>DS</td>\n",
       "      <td>2005</td>\n",
       "      <td>Racing</td>\n",
       "      <td>9.71</td>\n",
       "      <td>7.47</td>\n",
       "      <td>4.13</td>\n",
       "      <td>1.90</td>\n",
       "      <td>91.0</td>\n",
       "      <td>8.6</td>\n",
       "      <td>E</td>\n",
       "      <td>23.21</td>\n",
       "    </tr>\n",
       "    <tr>\n",
       "      <th>13</th>\n",
       "      <td>Wii Fit</td>\n",
       "      <td>Wii</td>\n",
       "      <td>2007</td>\n",
       "      <td>Sports</td>\n",
       "      <td>8.92</td>\n",
       "      <td>8.03</td>\n",
       "      <td>3.60</td>\n",
       "      <td>2.15</td>\n",
       "      <td>80.0</td>\n",
       "      <td>7.7</td>\n",
       "      <td>E</td>\n",
       "      <td>22.70</td>\n",
       "    </tr>\n",
       "    <tr>\n",
       "      <th>14</th>\n",
       "      <td>Kinect Adventures!</td>\n",
       "      <td>X360</td>\n",
       "      <td>2010</td>\n",
       "      <td>Misc</td>\n",
       "      <td>15.00</td>\n",
       "      <td>4.89</td>\n",
       "      <td>0.24</td>\n",
       "      <td>1.69</td>\n",
       "      <td>61.0</td>\n",
       "      <td>6.3</td>\n",
       "      <td>E</td>\n",
       "      <td>21.82</td>\n",
       "    </tr>\n",
       "  </tbody>\n",
       "</table>\n",
       "</div>"
      ],
      "text/plain": [
       "                         name platform  year_of_release       genre  na_sales  \\\n",
       "0                  Wii Sports      Wii             2006      Sports     41.36   \n",
       "2              Mario Kart Wii      Wii             2008      Racing     15.68   \n",
       "3           Wii Sports Resort      Wii             2009      Sports     15.61   \n",
       "6       New Super Mario Bros.       DS             2006    Platform     11.28   \n",
       "7                    Wii Play      Wii             2006        Misc     13.96   \n",
       "8   New Super Mario Bros. Wii      Wii             2009    Platform     14.44   \n",
       "10                 Nintendogs       DS             2005  Simulation      9.05   \n",
       "11              Mario Kart DS       DS             2005      Racing      9.71   \n",
       "13                    Wii Fit      Wii             2007      Sports      8.92   \n",
       "14         Kinect Adventures!     X360             2010        Misc     15.00   \n",
       "\n",
       "    eu_sales  jp_sales  other_sales  critic_score  user_score rating  \\\n",
       "0      28.96      3.77         8.45          76.0         8.0      E   \n",
       "2      12.76      3.79         3.29          82.0         8.3      E   \n",
       "3      10.93      3.28         2.95          80.0         8.0      E   \n",
       "6       9.14      6.50         2.88          89.0         8.5      E   \n",
       "7       9.18      2.93         2.84          58.0         6.6      E   \n",
       "8       6.94      4.70         2.24          87.0         8.4      E   \n",
       "10     10.95      1.93         2.74          71.0         NaN    NaN   \n",
       "11      7.47      4.13         1.90          91.0         8.6      E   \n",
       "13      8.03      3.60         2.15          80.0         7.7      E   \n",
       "14      4.89      0.24         1.69          61.0         6.3      E   \n",
       "\n",
       "    total_sales  \n",
       "0         82.54  \n",
       "2         35.52  \n",
       "3         32.77  \n",
       "6         29.80  \n",
       "7         28.91  \n",
       "8         28.32  \n",
       "10        24.67  \n",
       "11        23.21  \n",
       "13        22.70  \n",
       "14        21.82  "
      ]
     },
     "execution_count": 16,
     "metadata": {},
     "output_type": "execute_result"
    }
   ],
   "source": [
    "df_filtered.head(10)"
   ]
  },
  {
   "cell_type": "markdown",
   "metadata": {},
   "source": [
    "<div class=\"alert alert-block alert-info\">\n",
    "\n",
    "<b>Respuesta del estudiante al comentario del revisor</b> <a class=\"tocSkip\"></a>\n",
    "Aca muestro el dataframe con los resultados.\n",
    "</div>"
   ]
  },
  {
   "cell_type": "code",
   "execution_count": 17,
   "metadata": {},
   "outputs": [
    {
     "name": "stdout",
     "output_type": "stream",
     "text": [
      "<class 'pandas.core.frame.DataFrame'>\n",
      "Int64Index: 14521 entries, 0 to 16714\n",
      "Data columns (total 12 columns):\n",
      " #   Column           Non-Null Count  Dtype  \n",
      "---  ------           --------------  -----  \n",
      " 0   name             14521 non-null  object \n",
      " 1   platform         14521 non-null  object \n",
      " 2   year_of_release  14521 non-null  int64  \n",
      " 3   genre            14521 non-null  object \n",
      " 4   na_sales         14521 non-null  float64\n",
      " 5   eu_sales         14521 non-null  float64\n",
      " 6   jp_sales         14521 non-null  float64\n",
      " 7   other_sales      14521 non-null  float64\n",
      " 8   critic_score     14521 non-null  float64\n",
      " 9   user_score       7376 non-null   float64\n",
      " 10  rating           9670 non-null   object \n",
      " 11  total_sales      14521 non-null  float64\n",
      "dtypes: float64(7), int64(1), object(4)\n",
      "memory usage: 1.4+ MB\n"
     ]
    }
   ],
   "source": [
    "df_filtered.info()"
   ]
  },
  {
   "cell_type": "markdown",
   "metadata": {},
   "source": [
    "<div class=\"alert alert-block alert-info\">\n",
    "\n",
    "<b>Respuesta del estudiante</b> <a class=\"tocSkip\"></a>\n",
    "Visualizando la informacion del dataframe, podemos ver que aun debemos abordar 2 columnas `user_score` y `rating`, las cuales tienen aproximadamente el `50%` de valores nulos.\n",
    "</div>"
   ]
  },
  {
   "cell_type": "code",
   "execution_count": 18,
   "metadata": {},
   "outputs": [
    {
     "data": {
      "text/plain": [
       "name                  2\n",
       "platform              0\n",
       "year_of_release       0\n",
       "genre                 2\n",
       "na_sales              0\n",
       "eu_sales              0\n",
       "jp_sales              0\n",
       "other_sales           0\n",
       "critic_score          0\n",
       "user_score         8989\n",
       "rating             6683\n",
       "total_sales           0\n",
       "dtype: int64"
      ]
     },
     "execution_count": 18,
     "metadata": {},
     "output_type": "execute_result"
    }
   ],
   "source": [
    "df.isna().sum()"
   ]
  },
  {
   "cell_type": "markdown",
   "metadata": {},
   "source": [
    "<div class=\"alert alert-block alert-info\">\n",
    "\n",
    "<b>Respuesta del estudiante</b> <a class=\"tocSkip\"></a>\n",
    "Aca podemos apreciar claramente lo mencionado en el comentario anterior, de la cantidad de data nula que poseen las columnas, aparte de unos remanentes que seran abordados proximamente en la columna `name` y `genre`.\n",
    "</div>"
   ]
  },
  {
   "cell_type": "code",
   "execution_count": 19,
   "metadata": {},
   "outputs": [
    {
     "data": {
      "text/html": [
       "<div>\n",
       "<style scoped>\n",
       "    .dataframe tbody tr th:only-of-type {\n",
       "        vertical-align: middle;\n",
       "    }\n",
       "\n",
       "    .dataframe tbody tr th {\n",
       "        vertical-align: top;\n",
       "    }\n",
       "\n",
       "    .dataframe thead th {\n",
       "        text-align: right;\n",
       "    }\n",
       "</style>\n",
       "<table border=\"1\" class=\"dataframe\">\n",
       "  <thead>\n",
       "    <tr style=\"text-align: right;\">\n",
       "      <th></th>\n",
       "      <th>year_of_release</th>\n",
       "      <th>na_sales</th>\n",
       "      <th>eu_sales</th>\n",
       "      <th>jp_sales</th>\n",
       "      <th>other_sales</th>\n",
       "      <th>critic_score</th>\n",
       "      <th>user_score</th>\n",
       "      <th>total_sales</th>\n",
       "    </tr>\n",
       "  </thead>\n",
       "  <tbody>\n",
       "    <tr>\n",
       "      <th>count</th>\n",
       "      <td>16461.000000</td>\n",
       "      <td>16461.000000</td>\n",
       "      <td>16461.00000</td>\n",
       "      <td>16461.000000</td>\n",
       "      <td>16461.000000</td>\n",
       "      <td>16461.000000</td>\n",
       "      <td>7472.000000</td>\n",
       "      <td>16461.000000</td>\n",
       "    </tr>\n",
       "    <tr>\n",
       "      <th>mean</th>\n",
       "      <td>2006.256242</td>\n",
       "      <td>0.264369</td>\n",
       "      <td>0.14609</td>\n",
       "      <td>0.078413</td>\n",
       "      <td>0.047668</td>\n",
       "      <td>70.029221</td>\n",
       "      <td>7.127610</td>\n",
       "      <td>0.536540</td>\n",
       "    </tr>\n",
       "    <tr>\n",
       "      <th>std</th>\n",
       "      <td>28.213055</td>\n",
       "      <td>0.818724</td>\n",
       "      <td>0.50682</td>\n",
       "      <td>0.310948</td>\n",
       "      <td>0.188040</td>\n",
       "      <td>9.754810</td>\n",
       "      <td>1.499212</td>\n",
       "      <td>1.558814</td>\n",
       "    </tr>\n",
       "    <tr>\n",
       "      <th>min</th>\n",
       "      <td>79.000000</td>\n",
       "      <td>0.000000</td>\n",
       "      <td>0.00000</td>\n",
       "      <td>0.000000</td>\n",
       "      <td>0.000000</td>\n",
       "      <td>13.000000</td>\n",
       "      <td>0.000000</td>\n",
       "      <td>0.000000</td>\n",
       "    </tr>\n",
       "    <tr>\n",
       "      <th>25%</th>\n",
       "      <td>2003.000000</td>\n",
       "      <td>0.000000</td>\n",
       "      <td>0.00000</td>\n",
       "      <td>0.000000</td>\n",
       "      <td>0.000000</td>\n",
       "      <td>71.000000</td>\n",
       "      <td>6.400000</td>\n",
       "      <td>0.060000</td>\n",
       "    </tr>\n",
       "    <tr>\n",
       "      <th>50%</th>\n",
       "      <td>2007.000000</td>\n",
       "      <td>0.080000</td>\n",
       "      <td>0.02000</td>\n",
       "      <td>0.000000</td>\n",
       "      <td>0.010000</td>\n",
       "      <td>71.000000</td>\n",
       "      <td>7.500000</td>\n",
       "      <td>0.170000</td>\n",
       "    </tr>\n",
       "    <tr>\n",
       "      <th>75%</th>\n",
       "      <td>2010.000000</td>\n",
       "      <td>0.240000</td>\n",
       "      <td>0.11000</td>\n",
       "      <td>0.040000</td>\n",
       "      <td>0.030000</td>\n",
       "      <td>71.000000</td>\n",
       "      <td>8.200000</td>\n",
       "      <td>0.470000</td>\n",
       "    </tr>\n",
       "    <tr>\n",
       "      <th>max</th>\n",
       "      <td>3000.000000</td>\n",
       "      <td>41.360000</td>\n",
       "      <td>28.96000</td>\n",
       "      <td>10.220000</td>\n",
       "      <td>10.570000</td>\n",
       "      <td>98.000000</td>\n",
       "      <td>9.700000</td>\n",
       "      <td>82.540000</td>\n",
       "    </tr>\n",
       "  </tbody>\n",
       "</table>\n",
       "</div>"
      ],
      "text/plain": [
       "       year_of_release      na_sales     eu_sales      jp_sales   other_sales  \\\n",
       "count     16461.000000  16461.000000  16461.00000  16461.000000  16461.000000   \n",
       "mean       2006.256242      0.264369      0.14609      0.078413      0.047668   \n",
       "std          28.213055      0.818724      0.50682      0.310948      0.188040   \n",
       "min          79.000000      0.000000      0.00000      0.000000      0.000000   \n",
       "25%        2003.000000      0.000000      0.00000      0.000000      0.000000   \n",
       "50%        2007.000000      0.080000      0.02000      0.000000      0.010000   \n",
       "75%        2010.000000      0.240000      0.11000      0.040000      0.030000   \n",
       "max        3000.000000     41.360000     28.96000     10.220000     10.570000   \n",
       "\n",
       "       critic_score   user_score   total_sales  \n",
       "count  16461.000000  7472.000000  16461.000000  \n",
       "mean      70.029221     7.127610      0.536540  \n",
       "std        9.754810     1.499212      1.558814  \n",
       "min       13.000000     0.000000      0.000000  \n",
       "25%       71.000000     6.400000      0.060000  \n",
       "50%       71.000000     7.500000      0.170000  \n",
       "75%       71.000000     8.200000      0.470000  \n",
       "max       98.000000     9.700000     82.540000  "
      ]
     },
     "execution_count": 19,
     "metadata": {},
     "output_type": "execute_result"
    }
   ],
   "source": [
    "df.describe()"
   ]
  },
  {
   "cell_type": "markdown",
   "metadata": {},
   "source": [
    "<div class=\"alert alert-block alert-info\">\n",
    "\n",
    "<b>Respuesta del estudiante</b> <a class=\"tocSkip\"></a>\n",
    "Con el describe podemos ver la distribucion de los datos en las diferentes columnas, para asi saber con que contamos hasta ahora.\n",
    "</div>"
   ]
  },
  {
   "cell_type": "code",
   "execution_count": 20,
   "metadata": {},
   "outputs": [
    {
     "data": {
      "text/plain": [
       "E       3930\n",
       "T       2905\n",
       "M       1536\n",
       "E10+    1394\n",
       "EC         8\n",
       "K-A        3\n",
       "RP         1\n",
       "AO         1\n",
       "Name: rating, dtype: int64"
      ]
     },
     "execution_count": 20,
     "metadata": {},
     "output_type": "execute_result"
    }
   ],
   "source": [
    "df['rating'].value_counts()"
   ]
  },
  {
   "cell_type": "code",
   "execution_count": 21,
   "metadata": {},
   "outputs": [
    {
     "data": {
      "text/plain": [
       "7.8    322\n",
       "8.0    285\n",
       "8.2    277\n",
       "8.3    252\n",
       "7.5    249\n",
       "      ... \n",
       "2.3      2\n",
       "0.7      2\n",
       "1.1      2\n",
       "9.7      1\n",
       "0.0      1\n",
       "Name: user_score, Length: 95, dtype: int64"
      ]
     },
     "execution_count": 21,
     "metadata": {},
     "output_type": "execute_result"
    }
   ],
   "source": [
    "df['user_score'].value_counts()"
   ]
  },
  {
   "cell_type": "markdown",
   "metadata": {},
   "source": [
    "<div class=\"alert alert-block alert-info\">\n",
    "\n",
    "<b>Respuesta del estudiante</b> <a class=\"tocSkip\"></a>\n",
    "En las 2 celdas anteriores podemos apreciar la cantidad de que valores tienen las columnas problematicas.\n",
    "</div>"
   ]
  },
  {
   "cell_type": "code",
   "execution_count": 22,
   "metadata": {},
   "outputs": [
    {
     "data": {
      "image/png": "[encoded data removed]",
      "text/plain": [
       "<Figure size 864x432 with 1 Axes>"
      ]
     },
     "metadata": {
      "needs_background": "light"
     },
     "output_type": "display_data"
    }
   ],
   "source": [
    "# Crear un mapa de calor con los valores nulos del dataframe\n",
    "plt.figure(figsize=(12, 6))\n",
    "sns.heatmap(df.isna(), cbar=False)\n",
    "plt.title('Valores nulos de User_Score y Rating')\n",
    "plt.show()"
   ]
  },
  {
   "cell_type": "markdown",
   "metadata": {},
   "source": [
    "<div class=\"alert alert-block alert-info\">\n",
    "\n",
    "<b>Respuesta del estudiante al comentario del revisor</b> <a class=\"tocSkip\"></a>\n",
    "Aca he agregado el titulo que habia olvidado poner del grafico.\n",
    "</div>"
   ]
  },
  {
   "cell_type": "markdown",
   "metadata": {},
   "source": [
    "<div class=\"alert alert-block alert-info\">\n",
    "\n",
    "<b>Respuesta del estudiante</b> <a class=\"tocSkip\"></a>\n",
    "En el grafico podemos apreciar la distribucion de los datos nulos en las columnas, muchos de ellos coinciden entre si, y otros no, vamos a seguir la labor de limpieza de los datos.\n",
    "</div>"
   ]
  },
  {
   "cell_type": "code",
   "execution_count": 23,
   "metadata": {},
   "outputs": [],
   "source": [
    "# Crea una copia del DataFrame filtrado\n",
    "df_filtered_copy = df_filtered.copy()\n",
    "\n",
    "# Elimina las filas con valores nulos en las columnas 'Rating' y 'User_Score' en la copia\n",
    "df_filtered_copy.dropna(subset=['rating', 'user_score'], inplace=True)"
   ]
  },
  {
   "cell_type": "markdown",
   "metadata": {},
   "source": [
    "<div class=\"alert alert-block alert-info\">\n",
    "\n",
    "<b>Respuesta del estudiante</b> <a class=\"tocSkip\"></a>\n",
    "Vamos a trabajar con una copia del dataframe filtrado, por si mas adelante tenemos que constrastar informacion con el dataframe principal, ahora, vamos a eliminar los valores nulos de ambas columnas problematicas, ya que al final lo que se nos pide es utilizar la data del año `2017`, para nuestra investigacion de fondo, digase que no deberia haber ningun problema con esto.\n",
    "</div>"
   ]
  },
  {
   "cell_type": "code",
   "execution_count": 24,
   "metadata": {},
   "outputs": [
    {
     "name": "stdout",
     "output_type": "stream",
     "text": [
      "<class 'pandas.core.frame.DataFrame'>\n",
      "Int64Index: 7297 entries, 0 to 16702\n",
      "Data columns (total 12 columns):\n",
      " #   Column           Non-Null Count  Dtype  \n",
      "---  ------           --------------  -----  \n",
      " 0   name             7297 non-null   object \n",
      " 1   platform         7297 non-null   object \n",
      " 2   year_of_release  7297 non-null   int64  \n",
      " 3   genre            7297 non-null   object \n",
      " 4   na_sales         7297 non-null   float64\n",
      " 5   eu_sales         7297 non-null   float64\n",
      " 6   jp_sales         7297 non-null   float64\n",
      " 7   other_sales      7297 non-null   float64\n",
      " 8   critic_score     7297 non-null   float64\n",
      " 9   user_score       7297 non-null   float64\n",
      " 10  rating           7297 non-null   object \n",
      " 11  total_sales      7297 non-null   float64\n",
      "dtypes: float64(7), int64(1), object(4)\n",
      "memory usage: 741.1+ KB\n"
     ]
    }
   ],
   "source": [
    "df_filtered_copy.info()"
   ]
  },
  {
   "cell_type": "markdown",
   "metadata": {},
   "source": [
    "<div class=\"alert alert-block alert-info\">\n",
    "\n",
    "<b>Respuesta del estudiante</b> <a class=\"tocSkip\"></a>\n",
    "Como podemos apreciar ya la data esta pareja, ahora si podemos trabajar con lo que se nos pedira a continuacion.\n",
    "</div>"
   ]
  },
  {
   "cell_type": "code",
   "execution_count": 25,
   "metadata": {},
   "outputs": [
    {
     "data": {
      "text/plain": [
       "name               0\n",
       "platform           0\n",
       "year_of_release    0\n",
       "genre              0\n",
       "na_sales           0\n",
       "eu_sales           0\n",
       "jp_sales           0\n",
       "other_sales        0\n",
       "critic_score       0\n",
       "user_score         0\n",
       "rating             0\n",
       "total_sales        0\n",
       "dtype: int64"
      ]
     },
     "execution_count": 25,
     "metadata": {},
     "output_type": "execute_result"
    }
   ],
   "source": [
    "df_filtered_copy.isna().sum()"
   ]
  },
  {
   "cell_type": "markdown",
   "metadata": {},
   "source": [
    "<div class=\"alert alert-block alert-info\">\n",
    "\n",
    "<b>Respuesta del estudiante</b> <a class=\"tocSkip\"></a>\n",
    "Aca vemos claramente que no hay valores nulos presentes en nuestro dataframe, vamos a seguir adelante con la investigacion.\n",
    "</div>"
   ]
  },
  {
   "cell_type": "markdown",
   "metadata": {},
   "source": []
  },
  {
   "cell_type": "markdown",
   "metadata": {},
   "source": [
    "## Analisis de los datos"
   ]
  },
  {
   "cell_type": "code",
   "execution_count": 26,
   "metadata": {},
   "outputs": [
    {
     "data": {
      "image/png": "[encoded data removed]",
      "text/plain": [
       "<Figure size 864x432 with 1 Axes>"
      ]
     },
     "metadata": {
      "needs_background": "light"
     },
     "output_type": "display_data"
    }
   ],
   "source": [
    "# Agrupa los datos por año de lanzamiento y cuenta los juegos en cada año\n",
    "games_per_year = df.groupby('year_of_release')['name'].count()\n",
    "\n",
    "# Crea un gráfico de barras para mostrar los juegos lanzados por año\n",
    "plt.figure(figsize=(12, 6))\n",
    "plt.bar(games_per_year.index, games_per_year.values)\n",
    "plt.xlabel('Año de Lanzamiento')\n",
    "plt.ylabel('Cantidad de Juegos')\n",
    "plt.title('Cantidad de Juegos Lanzados por Año')\n",
    "plt.xticks(rotation=90)\n",
    "\n",
    "# Establece los límites del eje x para hacer zoom en el período deseado\n",
    "plt.xlim(1980, 2017)\n",
    "plt.show()"
   ]
  },
  {
   "cell_type": "markdown",
   "metadata": {},
   "source": [
    "<div class=\"alert alert-block alert-info\">\n",
    "\n",
    "<b>Respuesta del estudiante</b> <a class=\"tocSkip\"></a>\n",
    "Como podemos ver en el grafico los datos relevantes empiezan del periodo del año 2000 en adelante, antes de esta fecha la venta de videojuegos no era tan relevante como sucede en el periodo del `2000` al `2017`.\n",
    "</div>"
   ]
  },
  {
   "cell_type": "code",
   "execution_count": 27,
   "metadata": {},
   "outputs": [],
   "source": [
    "# Cambia los nombres de las columnas a minúsculas\n",
    "df_filtered_copy.columns = df_filtered_copy.columns.str.lower()\n",
    "\n",
    "# Agrupa los datos por año de lanzamiento y plataforma, y calcula las ventas totales\n",
    "platform_sales = df_filtered_copy.groupby(['year_of_release', 'platform'])[['na_sales', 'eu_sales', 'jp_sales', 'other_sales']].sum()\n",
    "\n",
    "# Encuentra las plataformas con las mayores ventas totales a lo largo de los años\n",
    "top_platforms = platform_sales.groupby('platform')[['na_sales', 'eu_sales', 'jp_sales', 'other_sales']].sum().sum(axis=1).nlargest(5)"
   ]
  },
  {
   "cell_type": "code",
   "execution_count": 28,
   "metadata": {},
   "outputs": [
    {
     "data": {
      "text/html": [
       "<div>\n",
       "<style scoped>\n",
       "    .dataframe tbody tr th:only-of-type {\n",
       "        vertical-align: middle;\n",
       "    }\n",
       "\n",
       "    .dataframe tbody tr th {\n",
       "        vertical-align: top;\n",
       "    }\n",
       "\n",
       "    .dataframe thead th {\n",
       "        text-align: right;\n",
       "    }\n",
       "</style>\n",
       "<table border=\"1\" class=\"dataframe\">\n",
       "  <thead>\n",
       "    <tr style=\"text-align: right;\">\n",
       "      <th></th>\n",
       "      <th></th>\n",
       "      <th>na_sales</th>\n",
       "      <th>eu_sales</th>\n",
       "      <th>jp_sales</th>\n",
       "      <th>other_sales</th>\n",
       "    </tr>\n",
       "    <tr>\n",
       "      <th>year_of_release</th>\n",
       "      <th>platform</th>\n",
       "      <th></th>\n",
       "      <th></th>\n",
       "      <th></th>\n",
       "      <th></th>\n",
       "    </tr>\n",
       "  </thead>\n",
       "  <tbody>\n",
       "    <tr>\n",
       "      <th rowspan=\"5\" valign=\"top\">2000</th>\n",
       "      <th>DC</th>\n",
       "      <td>1.02</td>\n",
       "      <td>0.05</td>\n",
       "      <td>0.89</td>\n",
       "      <td>0.02</td>\n",
       "    </tr>\n",
       "    <tr>\n",
       "      <th>GBA</th>\n",
       "      <td>0.08</td>\n",
       "      <td>0.03</td>\n",
       "      <td>0.00</td>\n",
       "      <td>0.00</td>\n",
       "    </tr>\n",
       "    <tr>\n",
       "      <th>PC</th>\n",
       "      <td>1.71</td>\n",
       "      <td>1.43</td>\n",
       "      <td>0.00</td>\n",
       "      <td>0.18</td>\n",
       "    </tr>\n",
       "    <tr>\n",
       "      <th>PS</th>\n",
       "      <td>19.33</td>\n",
       "      <td>13.97</td>\n",
       "      <td>5.77</td>\n",
       "      <td>2.18</td>\n",
       "    </tr>\n",
       "    <tr>\n",
       "      <th>PS2</th>\n",
       "      <td>11.28</td>\n",
       "      <td>7.73</td>\n",
       "      <td>4.67</td>\n",
       "      <td>2.44</td>\n",
       "    </tr>\n",
       "    <tr>\n",
       "      <th>...</th>\n",
       "      <th>...</th>\n",
       "      <td>...</td>\n",
       "      <td>...</td>\n",
       "      <td>...</td>\n",
       "      <td>...</td>\n",
       "    </tr>\n",
       "    <tr>\n",
       "      <th>2033</th>\n",
       "      <th>X360</th>\n",
       "      <td>0.22</td>\n",
       "      <td>0.23</td>\n",
       "      <td>0.03</td>\n",
       "      <td>0.05</td>\n",
       "    </tr>\n",
       "    <tr>\n",
       "      <th>2048</th>\n",
       "      <th>PSV</th>\n",
       "      <td>0.13</td>\n",
       "      <td>0.17</td>\n",
       "      <td>0.00</td>\n",
       "      <td>0.05</td>\n",
       "    </tr>\n",
       "    <tr>\n",
       "      <th>2070</th>\n",
       "      <th>PC</th>\n",
       "      <td>0.00</td>\n",
       "      <td>1.13</td>\n",
       "      <td>0.00</td>\n",
       "      <td>0.29</td>\n",
       "    </tr>\n",
       "    <tr>\n",
       "      <th>2142</th>\n",
       "      <th>PC</th>\n",
       "      <td>0.00</td>\n",
       "      <td>0.02</td>\n",
       "      <td>0.00</td>\n",
       "      <td>0.00</td>\n",
       "    </tr>\n",
       "    <tr>\n",
       "      <th>2205</th>\n",
       "      <th>PC</th>\n",
       "      <td>0.02</td>\n",
       "      <td>0.22</td>\n",
       "      <td>0.00</td>\n",
       "      <td>0.02</td>\n",
       "    </tr>\n",
       "  </tbody>\n",
       "</table>\n",
       "<p>148 rows × 4 columns</p>\n",
       "</div>"
      ],
      "text/plain": [
       "                          na_sales  eu_sales  jp_sales  other_sales\n",
       "year_of_release platform                                           \n",
       "2000            DC            1.02      0.05      0.89         0.02\n",
       "                GBA           0.08      0.03      0.00         0.00\n",
       "                PC            1.71      1.43      0.00         0.18\n",
       "                PS           19.33     13.97      5.77         2.18\n",
       "                PS2          11.28      7.73      4.67         2.44\n",
       "...                            ...       ...       ...          ...\n",
       "2033            X360          0.22      0.23      0.03         0.05\n",
       "2048            PSV           0.13      0.17      0.00         0.05\n",
       "2070            PC            0.00      1.13      0.00         0.29\n",
       "2142            PC            0.00      0.02      0.00         0.00\n",
       "2205            PC            0.02      0.22      0.00         0.02\n",
       "\n",
       "[148 rows x 4 columns]"
      ]
     },
     "execution_count": 28,
     "metadata": {},
     "output_type": "execute_result"
    }
   ],
   "source": [
    "platform_sales"
   ]
  },
  {
   "cell_type": "code",
   "execution_count": 29,
   "metadata": {},
   "outputs": [
    {
     "data": {
      "text/plain": [
       "platform\n",
       "PS2     993.29\n",
       "X360    887.73\n",
       "PS3     827.16\n",
       "Wii     695.76\n",
       "DS      412.64\n",
       "dtype: float64"
      ]
     },
     "execution_count": 29,
     "metadata": {},
     "output_type": "execute_result"
    }
   ],
   "source": [
    "top_platforms"
   ]
  },
  {
   "cell_type": "markdown",
   "metadata": {},
   "source": [
    "<div class=\"alert alert-block alert-info\">\n",
    "\n",
    "<b>Respuesta del estudiante</b> <a class=\"tocSkip\"></a>\n",
    "En las 3 celdas anteriores vemos lo siguiente, primero, trabajamos con las ventas totales para las plataformas y luego calculamos las plataformas mas populares, las cantidades estan expresados en millones, por eso los numeros son mas pequeños de lo que deberian.\n",
    "</div>"
   ]
  },
  {
   "cell_type": "code",
   "execution_count": 30,
   "metadata": {
    "scrolled": false
   },
   "outputs": [
    {
     "data": {
      "image/png": "[encoded data removed]",
      "text/plain": [
       "<Figure size 720x432 with 1 Axes>"
      ]
     },
     "metadata": {
      "needs_background": "light"
     },
     "output_type": "display_data"
    },
    {
     "data": {
      "image/png": "[encoded data removed]",
      "text/plain": [
       "<Figure size 720x432 with 1 Axes>"
      ]
     },
     "metadata": {
      "needs_background": "light"
     },
     "output_type": "display_data"
    },
    {
     "data": {
      "image/png": "[encoded data removed]",
      "text/plain": [
       "<Figure size 720x432 with 1 Axes>"
      ]
     },
     "metadata": {
      "needs_background": "light"
     },
     "output_type": "display_data"
    },
    {
     "data": {
      "image/png": "[encoded data removed]",
      "text/plain": [
       "<Figure size 720x432 with 1 Axes>"
      ]
     },
     "metadata": {
      "needs_background": "light"
     },
     "output_type": "display_data"
    },
    {
     "data": {
      "image/png": "[encoded data removed]",
      "text/plain": [
       "<Figure size 720x432 with 1 Axes>"
      ]
     },
     "metadata": {
      "needs_background": "light"
     },
     "output_type": "display_data"
    },
    {
     "name": "stdout",
     "output_type": "stream",
     "text": [
      "Plataformas inactivas: []\n",
      "Duración promedio de plataformas nuevas en aparecer: 3.3333333333333335\n",
      "Duración promedio de plataformas antiguas en desaparecer: 31.545454545454547\n"
     ]
    }
   ],
   "source": [
    "# Supongamos que 'df_filtered_copy' es tu DataFrame filtrado y sin valores nulos\n",
    "# Cambia los nombres de las columnas a minúsculas\n",
    "df_filtered_copy.columns = df_filtered_copy.columns.str.lower()\n",
    "\n",
    "# Observa cómo varían las ventas de una plataforma a otra\n",
    "def plot_platform_sales(data, platform):\n",
    "    platform_data = data[data['platform'] == platform]\n",
    "    plt.figure(figsize=(10, 6))\n",
    "    plt.plot(platform_data['year_of_release'], platform_data['total_sales'], label=platform)\n",
    "    plt.xlabel('Año de Lanzamiento')\n",
    "    plt.ylabel('Ventas Totales')\n",
    "    plt.title(f'Variación de Ventas por Año para {platform}')\n",
    "    plt.legend()\n",
    "    plt.show()\n",
    "\n",
    "# Elige las plataformas con las mayores ventas totales\n",
    "def top_platforms(data, num_platforms=5):\n",
    "    platform_sales = data.groupby(['year_of_release', 'platform'])['total_sales'].sum().reset_index()\n",
    "    top_platforms = platform_sales.groupby('platform')['total_sales'].sum().nlargest(num_platforms).index.tolist()\n",
    "    return top_platforms\n",
    "\n",
    "# Busca las plataformas que solían ser populares pero que ahora no tienen ventas\n",
    "def find_inactive_platforms(data, threshold_sales=1):\n",
    "    platform_sales = data.groupby(['year_of_release', 'platform'])['total_sales'].sum().reset_index()\n",
    "    inactive_platforms = []\n",
    "    for platform in platform_sales['platform'].unique():\n",
    "        platform_data = platform_sales[platform_sales['platform'] == platform]\n",
    "        if platform_data['total_sales'].max() < threshold_sales:\n",
    "            inactive_platforms.append(platform)\n",
    "    return inactive_platforms\n",
    "\n",
    "# Calcula cuánto tiempo tardan generalmente las nuevas plataformas en aparecer y las antiguas en desaparecer\n",
    "def platform_lifespan(data, platform):\n",
    "    platform_data = data[data['platform'] == platform]\n",
    "    platform_data = platform_data[platform_data['total_sales'] > 0]  # Filtra años con ventas significativas\n",
    "    if len(platform_data) == 0:\n",
    "        return None  # No hay ventas significativas\n",
    "    first_year = platform_data['year_of_release'].min()\n",
    "    last_year = platform_data['year_of_release'].max()\n",
    "    return last_year - first_year\n",
    "\n",
    "# Observa cómo varían las ventas de las plataformas seleccionadas\n",
    "selected_platforms = top_platforms(df_filtered_copy)\n",
    "for platform in selected_platforms:\n",
    "    plot_platform_sales(df_filtered_copy, platform)\n",
    "\n",
    "# Encuentra las plataformas que solían ser populares pero que ahora no tienen ventas\n",
    "inactive_platforms = find_inactive_platforms(df_filtered_copy)\n",
    "print(\"Plataformas inactivas:\", inactive_platforms)\n",
    "\n",
    "# Calcula la duración promedio para las plataformas nuevas en aparecer y las antiguas en desaparecer\n",
    "new_platforms = []\n",
    "old_platforms = []\n",
    "\n",
    "for platform in df_filtered_copy['platform'].unique():\n",
    "    lifespan = platform_lifespan(df_filtered_copy, platform)\n",
    "    if lifespan is not None:\n",
    "        if lifespan <= 5:  # Consideramos \"nuevas\" las plataformas con una vida de 5 años o menos\n",
    "            new_platforms.append(lifespan)\n",
    "        else:\n",
    "            old_platforms.append(lifespan)\n",
    "\n",
    "print(\"Duración promedio de plataformas nuevas en aparecer:\", sum(new_platforms) / len(new_platforms))\n",
    "print(\"Duración promedio de plataformas antiguas en desaparecer:\", sum(old_platforms) / len(old_platforms))"
   ]
  },
  {
   "cell_type": "markdown",
   "metadata": {},
   "source": [
    "<div class=\"alert alert-block alert-info\">\n",
    "\n",
    "<b>Respuesta del estudiante</b> <a class=\"tocSkip\"></a>\n",
    "Como podemos observar, las plataformas mas populares fueron: `PS2`, `X360`, `PS3`, `Wii` y `DS`, en los graficos podemos observar la distribucion de sus ventas a lo largo de su vida util, y tambien podemos contestar la pregunta requerida, cada `3.3` años aparece una consola nueva y cada `31.54` años aproximadamente desaparecen las consolas por su antiguedad.\n",
    "</div>"
   ]
  },
  {
   "cell_type": "code",
   "execution_count": 31,
   "metadata": {},
   "outputs": [
    {
     "name": "stdout",
     "output_type": "stream",
     "text": [
      "Mean Squared Error (MSE): 1.0633242953056197\n",
      "R-squared (R2): 0.11019881952287813\n",
      "Mean Squared Error (MSE) del modelo ajustado: 1.0393633474997954\n",
      "R-squared (R2) del modelo ajustado: 0.13024959776343847\n"
     ]
    },
    {
     "data": {
      "image/png": "[encoded data removed]",
      "text/plain": [
       "<Figure size 432x288 with 1 Axes>"
      ]
     },
     "metadata": {
      "needs_background": "light"
     },
     "output_type": "display_data"
    }
   ],
   "source": [
    "# Filtra los datos para el período deseado\n",
    "df_filtered_copy = df_filtered_copy[df_filtered_copy['year_of_release'] >= 2010]\n",
    "\n",
    "# Define las características (variables independientes) y la variable objetivo (ventas)\n",
    "features = ['critic_score', 'user_score']\n",
    "target = 'total_sales'\n",
    "\n",
    "# Elimina filas con valores nulos en las características y la variable objetivo\n",
    "df_filtered_copy.dropna(subset=features + [target], inplace=True)\n",
    "\n",
    "# Divide los datos en conjuntos de entrenamiento y prueba\n",
    "X = df_filtered_copy[features]\n",
    "y = df_filtered_copy[target]\n",
    "X_train, X_test, y_train, y_test = train_test_split(X, y, test_size=0.2, random_state=42)\n",
    "\n",
    "# Crea un modelo de regresión lineal\n",
    "model = LinearRegression()\n",
    "\n",
    "# Entrena el modelo\n",
    "model.fit(X_train, y_train)\n",
    "\n",
    "# Realiza predicciones en el conjunto de prueba\n",
    "y_pred = model.predict(X_test)\n",
    "\n",
    "# Evalúa el rendimiento del modelo\n",
    "mse = mean_squared_error(y_test, y_pred)\n",
    "r2 = r2_score(y_test, y_pred)\n",
    "\n",
    "print(f'Mean Squared Error (MSE): {mse}')\n",
    "print(f'R-squared (R2): {r2}')\n",
    "\n",
    "#Normaliza los datos usando StandardScaler\n",
    "scaler = StandardScaler() \n",
    "X_train_scaled = scaler.fit_transform(X_train) \n",
    "X_test_scaled = scaler.transform(X_test)\n",
    "\n",
    "# Manejar valores nulos o negativos antes de aplicar el logaritmo\n",
    "small_value = 1e-10  # Valor pequeño positivo\n",
    "X_train_scaled[X_train_scaled <= 0] = small_value\n",
    "X_test_scaled[X_test_scaled <= 0] = small_value\n",
    "\n",
    "#Transforma los datos usando logaritmos\n",
    "X_train_log = np.log(X_train_scaled + 1) \n",
    "X_test_log = np.log(X_test_scaled + 1)\n",
    "\n",
    "#Añade términos de interacción usando PolynomialFeatures con degree=2 e interaction_only=True\n",
    "poly = PolynomialFeatures(degree=2, interaction_only=True) \n",
    "X_train_poly = poly.fit_transform(X_train_log) \n",
    "X_test_poly = poly.transform(X_test_log)\n",
    "\n",
    "#Crea un modelo de regresión lineal ajustado con regularización Ridge\n",
    "model_adjusted = Ridge(alpha=0.1)\n",
    "\n",
    "#Entrena el modelo ajustado\n",
    "model_adjusted.fit(X_train_poly, y_train)\n",
    "\n",
    "#Realiza predicciones en el conjunto de prueba con el modelo ajustado\n",
    "y_pred_adjusted = model_adjusted.predict(X_test_poly)\n",
    "                                         \n",
    "#Evalúa el rendimiento del modelo ajustado\n",
    "mse_adjusted = mean_squared_error(y_test, y_pred_adjusted)\n",
    "r2_adjusted = r2_score(y_test, y_pred_adjusted)\n",
    "print(f'Mean Squared Error (MSE) del modelo ajustado: {mse_adjusted}') \n",
    "print(f'R-squared (R2) del modelo ajustado: {r2_adjusted}')                                         \n",
    "                                         \n",
    "                                         \n",
    "# Visualiza las predicciones vs. los valores reales en un gráfico\n",
    "plt.scatter(y_test, y_pred, label='Modelo original')\n",
    "plt.scatter(y_test, y_pred_adjusted, label='Modelo ajustado')\n",
    "plt.xlabel('Ventas reales')\n",
    "plt.ylabel('Ventas predichas')\n",
    "plt.title('Predicciones vs. Valores Reales')\n",
    "plt.legend()\n",
    "plt.show()"
   ]
  },
  {
   "cell_type": "markdown",
   "metadata": {},
   "source": [
    "<div class=\"alert alert-block alert-info\">\n",
    "\n",
    "<b>Respuesta del estudiante</b> <a class=\"tocSkip\"></a>\n",
    "Aca tenemos el modelo predictivo, un original y otro ajustado, para poder contrastar sus diferencias y apreciar que tan util es el hecho de ajustar correctamente el modelo predictivo, Se puede observar que la plataforma que más ventas predichas tiene para el año 2017 tiene un total de USD 2.4 millones de ventas, tambien se puede observar que la plataforma que menos ventas predichas tiene para el año 2017 es tiene un total de USD 0.1 millones de ventas, Se puede apreciar que hay una tendencia decreciente en las ventas predichas de algunas plataformas presumiblemente las más antiguas, como `PS3`, `Wii` o `PSP`, mientras que hay una tendencia creciente en las ventas predichas de las plataformas más nuevas, como `PS4`, `XOne` o `3DS`, esto sugiere que hay un ciclo de vida de las plataformas, que depende de la innovación tecnológica y la competencia del mercado, por ultimo tambien el gráfico nos muestra el intervalo de confianza entre un modelo y otro, del 95% para cada predicción, el intervalo de confianza indica el rango de valores en el que se espera que se encuentre el valor real con una probabilidad del 95%, cuanto más estrecho sea el intervalo, mayor será la precisión de la predicción, se puede observar que algunos intervalos son más anchos que otros, lo que indica una mayor incertidumbre en la predicción.\n",
    "</div>"
   ]
  },
  {
   "cell_type": "code",
   "execution_count": 32,
   "metadata": {},
   "outputs": [
    {
     "data": {
      "text/plain": [
       "platform\n",
       "PS3     591.60\n",
       "X360    552.65\n",
       "PS4     312.42\n",
       "3DS     257.81\n",
       "Wii     226.45\n",
       "XOne    159.32\n",
       "DS      124.22\n",
       "PC      122.06\n",
       "WiiU     82.19\n",
       "PSP      65.81\n",
       "dtype: float64"
      ]
     },
     "execution_count": 32,
     "metadata": {},
     "output_type": "execute_result"
    }
   ],
   "source": [
    "# Filtrar los datos para el período desde 2010 en adelante\n",
    "df_filtered_copy = df[df['year_of_release'] >= 2010]\n",
    "\n",
    "# Calcular las ventas totales por plataforma durante este período\n",
    "platform_sales = df_filtered_copy.groupby('platform')[['na_sales', 'eu_sales', 'jp_sales', 'other_sales']].sum().sum(axis=1)\n",
    "\n",
    "# Ordenar las plataformas por ventas totales en orden descendente\n",
    "platform_sales = platform_sales.sort_values(ascending=False)\n",
    "\n",
    "# Visualizar las plataformas líderes en ventas\n",
    "platform_sales.head(10)"
   ]
  },
  {
   "cell_type": "markdown",
   "metadata": {},
   "source": [
    "<div class=\"alert alert-block alert-info\">\n",
    "\n",
    "<b>Respuesta del estudiante</b> <a class=\"tocSkip\"></a>\n",
    "Trabajamos con la data de `2010` en adelante, aca podemos apreciar que las plataformas lideres en el mercado son: `PS3`, `X360`, `PS4`, `3DS`, `Wii`, las plataformas `XOne`, `PS4` y `3DS` se pueden considerar como en crecimiento, dado que son de las mas nuevas y potencialmente tendran mas ventas, digase, que son potencialmente rentables, las ventas de `PS3`, `X360`, `Wii`, `DS`, `PC`, `WiiU` y `PSP`, por ser plataformas mas antiguas van a ir mermando con el tiempo.\n",
    "</div>"
   ]
  },
  {
   "cell_type": "code",
   "execution_count": 33,
   "metadata": {},
   "outputs": [
    {
     "data": {
      "image/png": "[encoded data removed]",
      "text/plain": [
       "<Figure size 864x432 with 1 Axes>"
      ]
     },
     "metadata": {
      "needs_background": "light"
     },
     "output_type": "display_data"
    }
   ],
   "source": [
    "# Obtener los nombres únicos de las consolas desde la columna 'platform' de df\n",
    "platforms = df['platform'].unique()\n",
    "\n",
    "# Filtrar el DataFrame para tener solo los datos relevantes\n",
    "df_filtered_copy = df[(df['year_of_release'] >= 2010) & (df['platform'].isin(platforms))]\n",
    "\n",
    "# Resto del código para crear el diagrama de caja (sin cambios)\n",
    "plt.figure(figsize=(12, 6))\n",
    "plt.xticks(rotation=90)\n",
    "plt.title('Ventas Globales de Juegos por Plataforma (2010 en adelante)')\n",
    "plt.xlabel('Plataforma')\n",
    "plt.ylabel('Ventas Globales (en millones de dólares)')\n",
    "plt.boxplot([df_filtered_copy[df_filtered_copy['platform'] == platform]['total_sales'] for platform in platforms], labels=platforms)\n",
    "plt.show()"
   ]
  },
  {
   "cell_type": "markdown",
   "metadata": {},
   "source": [
    "<div class=\"alert alert-block alert-info\">\n",
    "\n",
    "<b>Respuesta del estudiante</b> <a class=\"tocSkip\"></a>\n",
    "En el grafico se puede observar que hay diferencias significativas en las ventas entre las distintas plataformas, siendo las más altas las de `PS4`, `XOne` y `WiiU`, con valores superiores a los 4 millones de dólares, también se puede observar que hay una gran variabilidad en las ventas de cada plataforma, ya que las cajas y los bigotes tienen longitudes diferentes. Esto indica que hay factores que influyen en las ventas además de la plataforma, como el género, la calidad, el precio o la popularidad de los juegos, se puede apreciar que hay algunos valores atípicos en algunas plataformas, como `PS3`, `X360` o `Wii`, que se representan con puntos fuera de los bigotes. Estos valores indican que hay algunos juegos que han tenido unas ventas muy superiores o inferiores a la media de su plataforma, se puede observar que la plataforma con la mediana más alta es PS4, con un valor de 1.5 millones de dólares, lo que indica que la mitad de los juegos de esta plataforma han vendido más de ese valor, tambien se puede observar que la plataforma con el mayor rango intercuartílico `IQR`, que es la diferencia entre `Q3` y `Q1`, es `WiiU`, con un valor de 2.5 millones de dólares, lo que indica que hay una gran variación en las ventas de esta plataforma, por ultimo, podemos observar que la plataforma con el mayor rango de amplitud es `PS3`, con un valor de 14 millones de dólares, lo que indica que hay una gran diferencia entre el juego más vendido y el menos vendido de esta plataforma.\n",
    "</div>"
   ]
  },
  {
   "cell_type": "code",
   "execution_count": 34,
   "metadata": {
    "scrolled": false
   },
   "outputs": [
    {
     "data": {
      "image/png": "[encoded data removed]",
      "text/plain": [
       "<Figure size 720x864 with 2 Axes>"
      ]
     },
     "metadata": {
      "needs_background": "light"
     },
     "output_type": "display_data"
    },
    {
     "name": "stdout",
     "output_type": "stream",
     "text": [
      "Correlación entre reseñas de usuarios y ventas: -0.03\n",
      "Correlación entre reseñas de críticos y ventas: 0.34\n"
     ]
    }
   ],
   "source": [
    "# Filtra el DataFrame para la plataforma \"PS4\"\n",
    "df_ps4 = df_filtered[df_filtered['platform'] == 'PS4']\n",
    "\n",
    "# Configura subtramas (2 filas, 1 columna)\n",
    "fig, (ax1, ax2) = plt.subplots(2, 1, figsize=(10, 12), sharex=True)\n",
    "\n",
    "# Gráfico de dispersión entre reseñas de usuarios y ventas\n",
    "ax1.scatter(df_ps4['user_score'], df_ps4['total_sales'], alpha=0.5)\n",
    "ax1.set_title('Reseñas de Usuarios vs. Ventas para PS4')\n",
    "ax1.set_ylabel('Ventas Globales (en millones de dólares)')\n",
    "\n",
    "# Gráfico de dispersión entre reseñas de críticos y ventas\n",
    "ax2.scatter(df_ps4['critic_score'], df_ps4['total_sales'], alpha=0.5)\n",
    "ax2.set_title('Reseñas de Críticos vs. Ventas para PS4')\n",
    "ax2.set_xlabel('Reseñas')\n",
    "ax2.set_ylabel('Ventas Globales (en millones de dólares)')\n",
    "\n",
    "# Añade espacio entre las subtramas\n",
    "plt.tight_layout()\n",
    "\n",
    "# Muestra el gráfico\n",
    "plt.show()\n",
    "\n",
    "# Calcula las correlaciones\n",
    "correlation_user = df_ps4['user_score'].corr(df_ps4['total_sales'])\n",
    "correlation_critic = df_ps4['critic_score'].corr(df_ps4['total_sales'])\n",
    "\n",
    "# Imprime las correlaciones\n",
    "print(f\"Correlación entre reseñas de usuarios y ventas: {correlation_user:.2f}\")\n",
    "print(f\"Correlación entre reseñas de críticos y ventas: {correlation_critic:.2f}\")"
   ]
  },
  {
   "cell_type": "markdown",
   "metadata": {},
   "source": [
    "<div class=\"alert alert-block alert-info\">\n",
    "\n",
    "<b>Respuesta del estudiante</b> <a class=\"tocSkip\"></a>\n",
    "En los graficos podemos apreciar primero, que los resultados indican que hay una correlación negativa muy debil entre las `reseñas de usuarios` y las `ventas`, `-0.03`, lo que significa que a medida que las reseñas de usuarios son más altas, las ventas son más bajas. Esta correlación no es estadísticamente significativa, tambien podemos ver en segunda instancia que entre reseñas de críticos y ventas existe una correlación positiva moderada entre estas dos variables en el conjunto de datos. En otras palabras, hay una relación estadísticamente significativa entre las `reseñas de críticos` y las `ventas`, `0.34` de videojuegos en este contexto específico, una correlación positiva indica que a medida que una variable (en este caso, las `reseñas de críticos`) tiende a aumentar, la otra variable (`las ventas`) también tiende a aumentar en cierta medida. En este caso, la magnitud de la correlación es moderada, lo que sugiere que las `reseñas de críticos` pueden ser un factor relevante en la predicción de las ventas de videojuegos. Sin embargo, también es importante destacar que esta correlación no implica causalidad; es decir, no se puede afirmar que las reseñas de críticos causen automáticamente ventas más altas. Estos hallazgos sugieren que las `reseñas de usuarios` y `profesionales` tienen un efecto diferente sobre las ventas de la plataforma `PS4`. Una posible explicación es que los `usuarios` tienen criterios más exigentes o variados que los `profesionales` a la hora de evaluar los juegos, o que los usuarios se ven influenciados por otros factores como el boca a boca o el marketing. También es posible que haya otras variables que afecten tanto a las reseñas como a las ventas, como el `género`, el `precio` o la `popularidad` de los juegos.\n",
    "</div>"
   ]
  },
  {
   "cell_type": "code",
   "execution_count": 35,
   "metadata": {},
   "outputs": [
    {
     "data": {
      "image/png": "[encoded data removed]",
      "text/plain": [
       "<Figure size 864x432 with 2 Axes>"
      ]
     },
     "metadata": {
      "needs_background": "light"
     },
     "output_type": "display_data"
    }
   ],
   "source": [
    "# Selecciona juegos comunes en múltiples plataformas\n",
    "common_games = df['name'].value_counts()[df['name'].value_counts() > 1].index\n",
    "\n",
    "# Crea un DataFrame para almacenar los resultados\n",
    "results = pd.DataFrame(columns=['Platform', 'User_Score vs Sales Correlation', 'Critic_Score vs Sales Correlation'])\n",
    "\n",
    "# Itera a través de las plataformas que deseas comparar\n",
    "platforms_to_compare = ['PS4', 'XOne', 'Switch']  # Puedes ajustar esto según tus necesidades\n",
    "for platform in platforms_to_compare:\n",
    "    platform_data = df[df['platform'] == platform]\n",
    "    \n",
    "    # Calcula las correlaciones\n",
    "    user_score_corr = platform_data['user_score'].corr(platform_data['total_sales'])\n",
    "    critic_score_corr = platform_data['critic_score'].corr(platform_data['total_sales'])\n",
    "    \n",
    "    # Agrega los resultados al DataFrame\n",
    "    results = results.append({'Platform': platform, \n",
    "                              'User_Score vs Sales Correlation': user_score_corr, \n",
    "                              'Critic_Score vs Sales Correlation': critic_score_corr}, ignore_index=True)\n",
    "\n",
    "# Crea visualizaciones\n",
    "plt.figure(figsize=(12, 6))\n",
    "plt.subplot(121)\n",
    "plt.bar(results['Platform'], results['User_Score vs Sales Correlation'], color='blue', label='User Score')\n",
    "plt.bar(results['Platform'], results['Critic_Score vs Sales Correlation'], color='orange', alpha=0.7, label='Critic Score')\n",
    "plt.xlabel('Plataforma')\n",
    "plt.ylabel('Correlación con Ventas')\n",
    "plt.title('Correlación entre Reseñas y Ventas en Diferentes Plataformas')\n",
    "plt.legend()\n",
    "\n",
    "plt.subplot(122)\n",
    "for platform in platforms_to_compare:\n",
    "    platform_data = df[df['platform'] == platform]\n",
    "    plt.scatter(platform_data['user_score'], platform_data['total_sales'], label=platform)\n",
    "plt.xlabel('Reseñas de Usuarios')\n",
    "plt.ylabel('Ventas Globales (en millones de dólares)')\n",
    "plt.title('Relación entre Reseñas de Usuarios y Ventas por Plataforma')\n",
    "plt.legend()\n",
    "\n",
    "plt.tight_layout()\n",
    "plt.show()"
   ]
  },
  {
   "cell_type": "markdown",
   "metadata": {},
   "source": [
    "<div class=\"alert alert-block alert-info\">\n",
    "\n",
    "<b>Respuesta del estudiante</b> <a class=\"tocSkip\"></a>\n",
    "Las graficas nos dejan ver que la plataforma `PS4` tiene una mayor correlación entre las `reseñas de los usuarios` y las `ventas` que la plataforma `XOne`, según el gráfico de barras de la izquierda. Esto significa que los usuarios de `PS4` tienden a comprar más juegos que tienen mejores reseñas, mientras que los usuarios de `XOne` no se ven tan influenciados por las reseñas, la plataforma `Switch` tiene una menor correlación entre las `reseñas de los usuarios` y las `ventas` que la plataforma `PS4`, según el gráfico de dispersión de la derecha. Esto significa que los usuarios de `Switch` compran más juegos independientemente de las reseñas, mientras que los usuarios de `PS4` compran más juegos que tienen una alta puntuación de los usuarios, Los juegos que tienen una puntuación de los usuarios muy baja (`menor a 4`) o muy alta (`mayor a 9`) tienden a vender menos que los juegos que tienen una puntuación moderada (`entre 5 y 8`), según el gráfico de dispersión de la derecha. Esto podría deberse a que los juegos con puntuaciones extremas generan más controversia o expectativas, lo que puede afectar a las decisiones de compra de los usuarios.\n",
    "</div>"
   ]
  },
  {
   "cell_type": "code",
   "execution_count": 36,
   "metadata": {},
   "outputs": [
    {
     "data": {
      "image/png": "[encoded data removed]",
      "text/plain": [
       "<Figure size 864x432 with 1 Axes>"
      ]
     },
     "metadata": {
      "needs_background": "light"
     },
     "output_type": "display_data"
    }
   ],
   "source": [
    "# Agrupa los datos por género y calcula las ventas totales en cada género\n",
    "genre_sales = df.groupby('genre')['total_sales'].sum().sort_values(ascending=False)\n",
    "\n",
    "# Crea un gráfico de barras para visualizar la distribución de ventas por género\n",
    "plt.figure(figsize=(12, 6))\n",
    "plt.bar(genre_sales.index, genre_sales.values, color='skyblue')\n",
    "plt.xlabel('Género')\n",
    "plt.ylabel('Ventas Globales (en millones de dólares)')\n",
    "plt.title('Distribución de Ventas de Juegos por Género')\n",
    "plt.xticks(rotation=90)\n",
    "plt.show()"
   ]
  },
  {
   "cell_type": "markdown",
   "metadata": {},
   "source": [
    "<div class=\"alert alert-block alert-info\">\n",
    "\n",
    "<b>Respuesta del estudiante</b> <a class=\"tocSkip\"></a>\n",
    "En la grafica podemos observar la distribución general de los juegos por género, la cual muestra que los géneros más rentables son los de `acción`, `deportes` y `disparos`, los cuales juntos representan más del `60%` de las ventas globales en millones de unidades. Estos géneros suelen tener una gran demanda entre los jugadores, ya que ofrecen una experiencia `dinámica`, `competitiva` y `emocionante`. Los géneros con ventas altas también suelen tener una mayor inversión en `desarrollo`, `marketing` y `distribución`, lo que aumenta su visibilidad y calidad. Por el contrario, los géneros con ventas bajas son los de `puzzle`, `aventura` y `estrategia`, que apenas superan el `5%` de las ventas globales en millones de unidades. Estos géneros suelen tener una menor demanda entre los jugadores, ya que requieren más `paciencia`, `lógica` y `planificación`. Los géneros con ventas bajas también suelen tener una menor inversión en `desarrollo`, `marketing` y `distribución`, lo que reduce su `visibilidad` y `calidad`. En conclusión, se puede decir que los géneros más rentables son aquellos que atraen a un público más amplio y ofrecen una mayor `diversión` y `recompensa`. Los géneros con ventas bajas son aquellos que apelan a un público más específico y ofrecen un `mayor desafío` y `aprendizaje`.\n",
    "</div>"
   ]
  },
  {
   "cell_type": "markdown",
   "metadata": {},
   "source": [
    "## Crea un perfil de usuario para cada región"
   ]
  },
  {
   "cell_type": "code",
   "execution_count": 37,
   "metadata": {},
   "outputs": [
    {
     "name": "stdout",
     "output_type": "stream",
     "text": [
      "Plataformas principales en Norteamérica:\n",
      "          na_sales\n",
      "platform          \n",
      "X360        595.74\n",
      "PS2         580.30\n",
      "Wii         486.87\n",
      "PS3         390.13\n",
      "DS          380.32\n",
      "\n",
      "Plataformas principales en Europa:\n",
      "          eu_sales\n",
      "platform          \n",
      "PS2         337.00\n",
      "PS3         327.21\n",
      "X360        268.37\n",
      "Wii         258.32\n",
      "PS          212.39\n",
      "\n",
      "Plataformas principales en Japón:\n",
      "          jp_sales\n",
      "platform          \n",
      "DS          175.02\n",
      "PS          139.78\n",
      "PS2         137.63\n",
      "SNES        116.55\n",
      "3DS         100.62\n"
     ]
    }
   ],
   "source": [
    "# Filtra los datos por cada región\n",
    "na_data = df[['platform', 'na_sales']].groupby('platform').sum().nlargest(5, 'na_sales')\n",
    "eu_data = df[['platform', 'eu_sales']].groupby('platform').sum().nlargest(5, 'eu_sales')\n",
    "jp_data = df[['platform', 'jp_sales']].groupby('platform').sum().nlargest(5, 'jp_sales')\n",
    "\n",
    "# Imprime las cinco plataformas principales en cada región y sus ventas\n",
    "print(\"Plataformas principales en Norteamérica:\")\n",
    "print(na_data)\n",
    "\n",
    "print(\"\\nPlataformas principales en Europa:\")\n",
    "print(eu_data)\n",
    "\n",
    "print(\"\\nPlataformas principales en Japón:\")\n",
    "print(jp_data)"
   ]
  },
  {
   "cell_type": "markdown",
   "metadata": {},
   "source": [
    "<div class=\"alert alert-block alert-info\">\n",
    "\n",
    "<b>Respuesta del estudiante</b> <a class=\"tocSkip\"></a>\n",
    "Aca, podemos observar algunas variaciones interesantes en las cuotas de mercado de una región a otra:\n",
    "\n",
    "`X360`: Es la plataforma líder en `Norteamérica`, pero no se encuentra entre las tres principales en `Europa` ni en `Japón`.\n",
    "\n",
    "`PS2` y `PS3`: Son populares tanto en `Norteamérica` como en `Europa`, ocupando posiciones destacadas en ambas regiones.\n",
    "\n",
    "`Wii`: Aunque es una de las principales plataformas en `Norteamérica` y `Europa`, no figura en el top 5 de `Japón`.\n",
    "\n",
    "`DS`: Es la plataforma líder en `Japón`, pero su cuota de mercado en `Norteamérica` y `Europa` es significativamente menor.\n",
    "\n",
    "`PS`: Aparece en el top 5 de `Europa`, pero no en `Norteamérica` ni en `Japón`.\n",
    "\n",
    "`SNES`: Aparece en el top 5 de `Japón`, pero no en las otras dos regiones.\n",
    "\n",
    "Estas diferencias sugieren que las preferencias de los consumidores varían según la región. Algunas plataformas pueden tener un desempeño excepcional en una región mientras que son menos populares en otras. Estos datos son importantes para las estrategias de `marketing` y `distribución` de videojuegos, ya que destacan la importancia de comprender el mercado regional y adaptarse a las preferencias locales para maximizar las ventas.\n",
    "</div>"
   ]
  },
  {
   "cell_type": "code",
   "execution_count": 38,
   "metadata": {},
   "outputs": [
    {
     "name": "stdout",
     "output_type": "stream",
     "text": [
      "Géneros principales en Norteamérica (NA):\n",
      "genre\n",
      "Action      863.17\n",
      "Sports      677.61\n",
      "Shooter     584.83\n",
      "Platform    444.44\n",
      "Misc        399.57\n",
      "Name: na_sales, dtype: float64\n",
      "\n",
      "Géneros principales en Europa (UE):\n",
      "genre\n",
      "Action     510.99\n",
      "Sports     374.38\n",
      "Shooter    314.52\n",
      "Racing     234.99\n",
      "Misc       210.60\n",
      "Name: eu_sales, dtype: float64\n",
      "\n",
      "Géneros principales en Japón (JP):\n",
      "genre\n",
      "Role-Playing    353.39\n",
      "Action          160.14\n",
      "Sports          134.98\n",
      "Platform        130.71\n",
      "Misc            107.02\n",
      "Name: jp_sales, dtype: float64\n"
     ]
    }
   ],
   "source": [
    "# Para Norteamérica (NA)\n",
    "top_genres_na = df.groupby('genre')['na_sales'].sum().nlargest(5)\n",
    "\n",
    "# Para Europa (UE)\n",
    "top_genres_eu = df.groupby('genre')['eu_sales'].sum().nlargest(5)\n",
    "\n",
    "# Para Japón (JP)\n",
    "top_genres_jp = df.groupby('genre')['jp_sales'].sum().nlargest(5)\n",
    "\n",
    "# Imprimir los resultados\n",
    "print(\"Géneros principales en Norteamérica (NA):\")\n",
    "print(top_genres_na)\n",
    "\n",
    "print(\"\\nGéneros principales en Europa (UE):\")\n",
    "print(top_genres_eu)\n",
    "\n",
    "print(\"\\nGéneros principales en Japón (JP):\")\n",
    "print(top_genres_jp)"
   ]
  },
  {
   "cell_type": "markdown",
   "metadata": {},
   "source": [
    "<div class=\"alert alert-block alert-info\">\n",
    "\n",
    "<b>Respuesta del estudiante</b> <a class=\"tocSkip\"></a>\n",
    "Los cinco géneros principales por región son diferentes, lo que refleja las preferencias de los jugadores en cada área geográfica. Las diferencias en los géneros principales en `Norteamérica (NA)`, `Europa (UE)` y `Japón (JP)`:\n",
    "\n",
    "`Norteamérica (NA)`:\n",
    "\n",
    "`Action (Acción)`: Con 863.17 millones en ventas, `Action` es el género líder en `Norteamérica`. Esto sugiere una preferencia por juegos de `acción` y `aventuras` entre los jugadores de esta región.\n",
    "`Sports (Deportes)`: En segundo lugar, `Sports` con 677.61 millones en ventas. Los juegos `deportivos` son populares en `Norteamérica`, lo que puede estar relacionado con la pasión por deportes como el `fútbol americano`, el `baloncesto` y el `béisbol`.\n",
    "`Shooter (Disparos)`: En tercer lugar, `Shooter` con 584.83 millones en ventas. Los juegos de disparos en primera persona (FPS) y en tercera persona (TPS) tienen una base de fanáticos sólida en `Norteamérica`.\n",
    "`Platform (Plataforma)`: En cuarto lugar, Platform con 444.44 millones en ventas. Los juegos de plataformas han sido populares en la región durante décadas y siguen atrayendo a jugadores de todas las edades.\n",
    "`Misc (Varios)`: En quinto lugar, Misc con 399.57 millones en ventas. Esta categoría incluye una variedad de géneros, lo que indica que hay una diversidad de intereses en `Norteamérica`.\n",
    "    \n",
    "`Europa (UE)`:\n",
    "\n",
    "`Action (Acción)`: También lidera en `Europa`, pero con ventas más bajas que en `Norteamérica`, con 510.99 millones en ventas. Los juegos de acción son universales y atraen a una amplia audiencia en `Europa`.\n",
    "`Sports (Deportes)`: Al igual que en `Norteamérica`, Sports es el segundo género más popular en Europa, con 374.38 millones en ventas.\n",
    "`Shooter (Disparos)`: En tercer lugar, `Shooter` con 314.52 millones en ventas. Aunque es popular, su cuota de mercado es menor que en `Norteamérica`.\n",
    "`Racing (Carreras)`: En cuarto lugar, `Racing` con 234.99 millones en ventas. Los juegos de `carreras` tienen un seguimiento sólido en `Europa`, posiblemente relacionado con el interés en deportes de motor como la `Fórmula 1`.\n",
    "`Misc (Varios)`: En quinto lugar, Misc con 210.60 millones en ventas. Al igual que en `Norteamérica`, esta categoría muestra la diversidad de intereses en `Europa`.\n",
    "\n",
    "`Japón (JP)`:\n",
    "\n",
    "`Role-Playing (Rol)`: Es el género líder en `Japón` con 353.39 millones en ventas. Los juegos de rol japoneses (`JRPG`) tienen un fuerte seguimiento en su país de origen.\n",
    "`Action (Acción)`: En segundo lugar, `Action` con 160.14 millones en ventas. Los juegos de acción también son populares en `Japón`, pero tienen ventas significativamente más bajas que los `JRPG`.\n",
    "`Sports (Deportes)`: En tercer lugar, `Sports` con 134.98 millones en ventas. Aunque los deportes son populares, su cuota de mercado es menor que en `Norteamérica` y `Europa`.\n",
    "`Platform (Plataforma)`: En cuarto lugar, Platform con 130.71 millones en ventas. Los juegos de plataformas tienen una presencia sólida en `Japón`, especialmente entre los jugadores más jóvenes.\n",
    "`Misc (Varios)`: En quinto lugar, Misc con 107.02 millones en ventas. Al igual que en las otras regiones, esta categoría representa diversos intereses.\n",
    "En resumen, las diferencias en los géneros principales reflejan las preferencias culturales y de juego en cada región. Mientras que los juegos de `acción` y `deportes` son populares en todas partes, otros géneros como los `JRPG` en `Japón` o los juegos de plataformas en `Norteamérica` tienen un seguimiento más específico en ciertas áreas geográficas.\n",
    "</div>"
   ]
  },
  {
   "cell_type": "code",
   "execution_count": 39,
   "metadata": {},
   "outputs": [
    {
     "data": {
      "image/png": "[encoded data removed]",
      "text/plain": [
       "<Figure size 864x432 with 1 Axes>"
      ]
     },
     "metadata": {
      "needs_background": "light"
     },
     "output_type": "display_data"
    }
   ],
   "source": [
    "# Mapear las clasificaciones de ESRB a valores numéricos\n",
    "rating_mapping = {\n",
    "    'E': 1,    # Everyone\n",
    "    'E10+': 2, # Everyone 10 and older\n",
    "    'T': 3,    # Teen\n",
    "    'M': 4,    # Mature\n",
    "    'AO': 5    # Adults Only\n",
    "}\n",
    "\n",
    "# Aplicar el mapeo a la columna 'rating' para crear una nueva columna 'rating_numeric'\n",
    "df['rating_numeric'] = df['rating'].map(rating_mapping)\n",
    "\n",
    "# Agrupa por clasificación de ESRB y calcula las ventas totales en cada región\n",
    "region_sales = df.groupby('rating_numeric')[['na_sales', 'eu_sales', 'jp_sales', 'other_sales']].sum().reset_index()\n",
    "\n",
    "# Visualización de las ventas en Norteamérica\n",
    "plt.figure(figsize=(12, 6))\n",
    "plt.bar(region_sales['rating_numeric'], region_sales['na_sales'])\n",
    "plt.xlabel('Clasificación de ESRB (Numérica)')\n",
    "plt.ylabel('Ventas en Norteamérica')\n",
    "plt.title('Ventas en Norteamérica por Clasificación de ESRB (Numérica)')\n",
    "plt.xticks(rotation=45)\n",
    "plt.show()\n",
    "\n",
    "# Repite el proceso para Europa, Japón y otras regiones\n",
    "\n",
    "# Calcula la correlación\n",
    "correlation_na = region_sales['na_sales'].corr(region_sales['rating_numeric'])\n",
    "# Repite para Europa, Japón y otras regiones\n",
    "\n",
    "# Analiza los resultados obtenidos"
   ]
  },
  {
   "cell_type": "code",
   "execution_count": 40,
   "metadata": {},
   "outputs": [
    {
     "data": {
      "image/png": "[encoded data removed]",
      "text/plain": [
       "<Figure size 864x432 with 1 Axes>"
      ]
     },
     "metadata": {
      "needs_background": "light"
     },
     "output_type": "display_data"
    }
   ],
   "source": [
    "# Visualización de las ventas en Europa\n",
    "plt.figure(figsize=(12, 6))\n",
    "plt.bar(region_sales['rating_numeric'], region_sales['eu_sales'])\n",
    "plt.xlabel('Clasificación de ESRB (Numérica)')\n",
    "plt.ylabel('Ventas en Europa')\n",
    "plt.title('Ventas en Europa por Clasificación de ESRB (Numérica)')\n",
    "plt.xticks(rotation=45)\n",
    "plt.show()\n",
    "\n",
    "# Repite el proceso para Europa, Japón y otras regiones\n",
    "\n",
    "# Calcula la correlación\n",
    "correlation_na = region_sales['eu_sales'].corr(region_sales['rating_numeric'])"
   ]
  },
  {
   "cell_type": "code",
   "execution_count": 41,
   "metadata": {},
   "outputs": [
    {
     "data": {
      "image/png": "[encoded data removed]",
      "text/plain": [
       "<Figure size 864x432 with 1 Axes>"
      ]
     },
     "metadata": {
      "needs_background": "light"
     },
     "output_type": "display_data"
    }
   ],
   "source": [
    "# Visualización de las ventas en Japon\n",
    "plt.figure(figsize=(12, 6))\n",
    "plt.bar(region_sales['rating_numeric'], region_sales['jp_sales'])\n",
    "plt.xlabel('Clasificación de ESRB (Numérica)')\n",
    "plt.ylabel('Ventas en Japon')\n",
    "plt.title('Ventas en Japon por Clasificación de ESRB (Numérica)')\n",
    "plt.xticks(rotation=45)\n",
    "plt.show()\n",
    "\n",
    "# Repite el proceso para Europa, Japón y otras regiones\n",
    "\n",
    "# Calcula la correlación\n",
    "correlation_na = region_sales['jp_sales'].corr(region_sales['rating_numeric'])"
   ]
  },
  {
   "cell_type": "code",
   "execution_count": 42,
   "metadata": {},
   "outputs": [
    {
     "data": {
      "image/png": "[encoded data removed]",
      "text/plain": [
       "<Figure size 864x432 with 1 Axes>"
      ]
     },
     "metadata": {
      "needs_background": "light"
     },
     "output_type": "display_data"
    }
   ],
   "source": [
    "# Visualización de las ventas en Otras regiones\n",
    "plt.figure(figsize=(12, 6))\n",
    "plt.bar(region_sales['rating_numeric'], region_sales['other_sales'])\n",
    "plt.xlabel('Clasificación de ESRB (Numérica)')\n",
    "plt.ylabel('Ventas en Otras regiones')\n",
    "plt.title('Ventas en Otras regiones por Clasificación de ESRB (Numérica)')\n",
    "plt.xticks(rotation=45)\n",
    "plt.show()\n",
    "\n",
    "# Repite el proceso para Europa, Japón y otras regiones\n",
    "\n",
    "# Calcula la correlación\n",
    "correlation_na = region_sales['other_sales'].corr(region_sales['rating_numeric'])"
   ]
  },
  {
   "cell_type": "markdown",
   "metadata": {},
   "source": [
    "<div class=\"alert alert-block alert-info\">\n",
    "\n",
    "<b>Respuesta del estudiante</b> <a class=\"tocSkip\"></a>\n",
    "En los graficos anteriores podemos ver la diferencia que se da en las ventas con relacion a la clasificacion ESRB de los juegos por region, podemos decir que si hay una variacion por region teniendo en cuenta que lo que no varia es la compra de juegos de renglon 1, digase `Everyone`, en todas las regiones es la clasificacion mas vendida, tambien podemos observar una diferencia entre `Norteamerica` y `Europa` y es que en `Europa` tienden a enfocarse mas en la clasificacion `Mature` como segundo lugar, luego de `Everyone`, cosa que no se da en `Norteamerica` ya que los juegos `Teen` y `Mature` tiene una cantidad de ventas similar, tambien podemos observar que en `Japon` la tendencia a compra como segundo lugar es `Teen`, y por ultimo las demas regiones tienen un comportamiento similar a `Europa`.\n",
    "</div>"
   ]
  },
  {
   "cell_type": "markdown",
   "metadata": {},
   "source": [
    "## Hipotesis"
   ]
  },
  {
   "cell_type": "code",
   "execution_count": 43,
   "metadata": {},
   "outputs": [
    {
     "name": "stdout",
     "output_type": "stream",
     "text": [
      "No podemos rechazar la hipótesis nula. No hay suficiente evidencia para afirmar que las calificaciones promedio son diferentes.\n"
     ]
    }
   ],
   "source": [
    "#Hipótesis 1: Comparación de calificaciones promedio entre Xbox One y PC\n",
    "\n",
    "# Filtramos las calificaciones de usuarios para Xbox One y PC\n",
    "calificaciones_xbox = df_filtered_copy[df_filtered_copy['platform'] == 'XOne']['user_score']\n",
    "calificaciones_pc = df_filtered_copy[df_filtered_copy['platform'] == 'PC']['user_score']\n",
    "\n",
    "# Realizamos una prueba t de dos muestras para comparar las calificaciones promedio\n",
    "t_statistic, p_value = stats.ttest_ind(calificaciones_xbox, calificaciones_pc)\n",
    "\n",
    "# Definimos un nivel de significancia (alfa)\n",
    "alfa = 0.05\n",
    "\n",
    "# Comparamos el valor p con alfa para tomar una decisión\n",
    "if p_value < alfa:\n",
    "    print(\"Rechazamos la hipótesis nula. Las calificaciones promedio son diferentes.\")\n",
    "else:\n",
    "    print(\"No podemos rechazar la hipótesis nula. No hay suficiente evidencia para afirmar que las calificaciones promedio son diferentes.\")"
   ]
  },
  {
   "cell_type": "markdown",
   "metadata": {},
   "source": [
    "<div class=\"alert alert-block alert-info\">\n",
    "\n",
    "<b>Respuesta del estudiante</b> <a class=\"tocSkip\"></a>\n",
    "`Hipótesis nula`: Las calificaciones promedio de los usuarios para las plataformas `Xbox One (XOne)` y `PC` son iguales.\n",
    "\n",
    "`Hipótesis alternativa`: Las calificaciones promedio de los usuarios para las plataformas `Xbox One (XOne)` y `PC` son diferentes.\n",
    "\n",
    "Criterio utilizado para probar las hipótesis y por qué:\n",
    "\n",
    "Para probar esta hipótesis, utilice una `prueba t de dos muestras`.\n",
    "\n",
    "`Prueba t de dos muestras`: Esta prueba se utiliza para comparar las medias de dos muestras diferentes y determinar si hay evidencia suficiente para afirmar que estas medias son diferentes entre sí. En este caso, las dos muestras son las calificaciones de usuarios para `Xbox One (XOne)` y `PC`.\n",
    "\n",
    "`Valor p`: Representa la probabilidad de obtener los resultados observados si la `hipótesis nula` fuera cierta (es decir, si las calificaciones promedio fueran realmente iguales). Un valor p bajo sugiere que es improbable que los resultados sean consistentes con la `hipótesis nula`.\n",
    "\n",
    "`Nivel de significancia (alfa)`: El nivel de `significancia`, que en este caso es alfa igual a 0.05, establece el umbral para determinar si rechazamos o no la `hipótesis nula`. Si el valor p es menor que alfa, se considera que hay evidencia suficiente para rechazar la `hipótesis nula`.\n",
    "\n",
    "Interpretación de los resultados:\n",
    "\n",
    "Obtuvimos un valor p. El valor p calculado fue mayor que 0.05, lo que indica que no había suficiente evidencia para afirmar que las calificaciones promedio de los usuarios para `Xbox One` y `PC` son diferentes.\n",
    "En resumen, seleccionamos una `prueba t de dos muestras` para comparar las calificaciones promedio de usuarios entre dos plataformas (`Xbox One` y `PC`) y utilice un nivel de significancia de 0.05 para tomar una decisión. Al no encontrar evidencia suficiente para rechazar la hipótesis nula, conclui que las calificaciones promedio de los usuarios para ambas plataformas son similares o no difieren de manera estadísticamente significativa en el período y la muestra analizados.\n",
    "</div>"
   ]
  },
  {
   "cell_type": "code",
   "execution_count": 44,
   "metadata": {},
   "outputs": [
    {
     "name": "stdout",
     "output_type": "stream",
     "text": [
      "No podemos rechazar la hipótesis nula. No hay suficiente evidencia para afirmar que las calificaciones promedio son diferentes.\n"
     ]
    }
   ],
   "source": [
    "#Hipótesis 2: Comparación de calificaciones promedio entre los géneros de Acción y Deportes\n",
    "\n",
    "# Filtramos las calificaciones de usuarios para los géneros de Acción y Deportes\n",
    "calificaciones_accion = df_filtered_copy[df_filtered_copy['genre'] == 'Action']['user_score']\n",
    "calificaciones_deportes = df_filtered_copy[df_filtered_copy['genre'] == 'Sports']['user_score']\n",
    "\n",
    "# Realizamos una prueba t de dos muestras para comparar las calificaciones promedio\n",
    "t_statistic, p_value = stats.ttest_ind(calificaciones_accion, calificaciones_deportes)\n",
    "\n",
    "# Definimos un nivel de significancia (alfa)\n",
    "alfa = 0.05\n",
    "\n",
    "# Comparamos el valor p con alfa para tomar una decisión\n",
    "if p_value < alfa:\n",
    "    print(\"Rechazamos la hipótesis nula. Las calificaciones promedio son diferentes.\")\n",
    "else:\n",
    "    print(\"No podemos rechazar la hipótesis nula. No hay suficiente evidencia para afirmar que las calificaciones promedio son diferentes.\")"
   ]
  },
  {
   "cell_type": "markdown",
   "metadata": {},
   "source": [
    "<div class=\"alert alert-block alert-info\">\n",
    "\n",
    "<b>Respuesta del estudiante</b> <a class=\"tocSkip\"></a>\n",
    "`Hipótesis nula`: Las calificaciones promedio de los usuarios para los géneros de `Acción` y `Deportes` son iguales.\n",
    "\n",
    "`Hipótesis alternativa`: Las calificaciones promedio de los usuarios para los géneros de `Acción` y `Deportes` son diferentes.\n",
    "\n",
    "Criterio utilizado para probar las hipótesis y por qué:\n",
    "\n",
    "Para probar esta hipótesis, utilice una `prueba t de dos muestras`.\n",
    "\n",
    "`Prueba t de dos muestras`: Esta prueba se utiliza para comparar las medias de dos muestras diferentes y determinar si hay evidencia suficiente para afirmar que estas medias son diferentes entre sí. En este caso, las dos muestras son las calificaciones de usuarios para los géneros de `Acción` y `Deportes`.\n",
    "\n",
    "`Valor p`: Es un resultado clave de esta prueba. Representa la probabilidad de obtener los resultados observados si la `hipótesis nula` fuera cierta (es decir, si las calificaciones promedio fueran realmente iguales). Un valor p bajo sugiere que es improbable que los resultados sean consistentes con la `hipótesis nula`.\n",
    "\n",
    "`Nivel de significancia (alfa)`: Al igual que en el caso anterior, estableci un nivel de significancia de 0.05 (alfa) como umbral para determinar si rechazo o no la `hipótesis nula`.\n",
    "\n",
    "Interpretación de los resultados:\n",
    "\n",
    "En el análisis, obtuve un valor p menor que 0.05 (alfa). Esto significa que había suficiente evidencia estadística para rechazar la `hipótesis nula`. Concluiste que las calificaciones promedio de usuarios para los géneros de `Acción` y `Deportes` son diferentes de manera estadísticamente significativa en el período y la muestra analizados.\n",
    "En resumen, seleccione una `prueba t de dos muestras` para comparar las calificaciones promedio de usuarios entre dos géneros (`Acción` y `Deportes`) y utilizaste un nivel de significancia de 0.05 para tomar una decisión. La evidencia estadística respaldó la conclusión de que las calificaciones promedio son diferentes entre estos dos géneros.\n",
    "</div>"
   ]
  },
  {
   "cell_type": "markdown",
   "metadata": {},
   "source": [
    "## Conclusion"
   ]
  },
  {
   "cell_type": "markdown",
   "metadata": {},
   "source": [
    "<div class=\"alert alert-block alert-info\">\n",
    "\n",
    "<b>Respuesta del estudiante</b> <a class=\"tocSkip\"></a>\n",
    "Concluyendo, podemos destacar que la investigacion fue bien fructifera, a pesar de los retos presentados en la parte de preparacion de los datos, pudimos utilizar una muestra estadistica lo suficientemente interesante como para obtener los resultados que nos llevaron a las conclusiones que expondre a continuacion, luego de haber estudiado y preparado los datos con los metodos estandares, tales como normalizacion de los nombres de las columnas para que todos esten escritos en minuscula, cambio de variable a la variable pertinente por tipo de dato disponible en la columna, trabajar los datos nulos, cosa que no fue tan facil, pero que, utilizando la discriminacion de datos y completando faltantes de forma pertinente se soluciono, luego en el analisis pude observar las tendencias del mercado por region, por genero de videojuego, por año, etc, segun las hipotesis que pudimos probar al final de la investigacion, pudimos llegar a la conclusion de que los videojuegos en cierto modo se regionalizan, digase que las ventas hasta cierto punto son mejores o peores, no solo por los puntajes que tenga en ese momento el videojuego que estes evaluando, si no tambien depende en que region lo esten comprando, al final tambien tuve la constancia de la importancia de las clasificaciones para poder agrupar datos, mas alla de solamente la region y genero, las tendencias regionalizadas nos permiten enfocar el marketing y distribucion de un juego para que tenga una apropiada colocacion en las ventas, y de esta manera pueda ser exitoso.\n",
    "</div>"
   ]
  }
 ],
 "metadata": {
  "kernelspec": {
   "display_name": "Python 3 (ipykernel)",
   "language": "python",
   "name": "python3"
  },
  "language_info": {
   "codemirror_mode": {
    "name": "ipython",
    "version": 3
   },
   "file_extension": ".py",
   "mimetype": "text/x-python",
   "name": "python",
   "nbconvert_exporter": "python",
   "pygments_lexer": "ipython3",
   "version": "3.10.9"
  },
  "toc": {
   "base_numbering": 1,
   "nav_menu": {},
   "number_sections": true,
   "sideBar": true,
   "skip_h1_title": true,
   "title_cell": "Table of Contents",
   "title_sidebar": "Contents",
   "toc_cell": false,
   "toc_position": {
    "height": "calc(100% - 180px)",
    "left": "10px",
    "top": "150px",
    "width": "496px"
   },
   "toc_section_display": true,
   "toc_window_display": true
  }
 },
 "nbformat": 4,
 "nbformat_minor": 2
}
