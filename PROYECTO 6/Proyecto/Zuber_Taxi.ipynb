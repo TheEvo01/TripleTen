{
 "cells": [
  {
   "cell_type": "markdown",
   "metadata": {},
   "source": [
    "# ¡Hola, Carlos!  \n",
    "\n",
    "Mi nombre es Carlos Ortiz, soy code reviewer de TripleTen y voy a revisar el proyecto que acabas de desarrollar.\n",
    "\n",
    "Cuando vea un error la primera vez, lo señalaré. Deberás encontrarlo y arreglarlo. La intención es que te prepares para un espacio real de trabajo. En un trabajo, el líder de tu equipo hará lo mismo. Si no puedes solucionar el error, te daré más información en la próxima ocasión. \n",
    "\n",
    "Encontrarás mis comentarios más abajo - **por favor, no los muevas, no los modifiques ni los borres**.\n",
    "\n",
    "¿Cómo lo voy a hacer? Voy a leer detenidamente cada una de las implementaciones que has llevado a cabo para cumplir con lo solicitado. Verás los comentarios de esta forma:\n",
    "\n",
    "<div class=\"alert alert-block alert-success\">\n",
    "<b>Comentario del revisor</b> <a class=\"tocSkip\"></a>\n",
    "    \n",
    "Si todo está perfecto.\n",
    "</div>\n",
    "\n",
    "\n",
    "<div class=\"alert alert-block alert-warning\">\n",
    "<b>Comentario del revisor</b> <a class=\"tocSkip\"></a>\n",
    "    \n",
    "Si tu código está bien pero se puede mejorar o hay algún detalle que le hace falta.\n",
    "</div>\n",
    "\n",
    "\n",
    "<div class=\"alert alert-block alert-danger\">\n",
    "    \n",
    "<b>Comentario del revisor</b> <a class=\"tocSkip\"></a>\n",
    "    \n",
    "    \n",
    "Si de pronto hace falta algo o existe algún problema con tu código o conclusiones.\n",
    "</div>\n",
    "\n",
    "\n",
    "Puedes responderme de esta forma: \n",
    "\n",
    "\n",
    "<div class=\"alert alert-block alert-info\">\n",
    "<b>Respuesta del estudiante</b> <a class=\"tocSkip\"></a>\n",
    "</div>\n",
    "¡Empecemos!"
   ]
  },
  {
   "cell_type": "markdown",
   "metadata": {},
   "source": [
    "# 1 Analisis Exploratorio de Datos\n",
    "\n",
    "Estás trabajando como analista para Zuber, una nueva empresa de viajes compartidos que se está lanzando en Chicago. Tu tarea es encontrar patrones en la información disponible. Quieres comprender las preferencias de los pasajeros y el impacto de los factores externos en los viajes.\n",
    "Estudiarás una base de datos, analizarás los datos de los competidores y probarás una hipótesis sobre el impacto del clima en la frecuencia de los viajes."
   ]
  },
  {
   "cell_type": "markdown",
   "metadata": {},
   "source": [
    "<div class=\"alert alert-block alert-info\">\n",
    "\n",
    "<b>Respuesta del estudiante</b> <a class=\"tocSkip\"></a>\n",
    "En este proyecto estaremos trabajando en analizar la data provista para la empresa `Zuber`, estaremos chequeando la integridad de la data, adecuandola a nuestras necesidad para el analisis, tambien haremos un analisis de la cantidad de viajes por empresa y por barrio, para sacar conclusiones en la dinamica de negocio que esta teniendo la empresa, tambien estaremos probando la hipotesis de si la frecuencia de los viajes varia con los cambios de clima, sacaremos nuestras conclusiones de estos resultados y presentaremos el proyecto como tal, con los resultados obtenidos.\n",
    "</div>"
   ]
  },
  {
   "cell_type": "markdown",
   "metadata": {},
   "source": [
    "## Inicializacion"
   ]
  },
  {
   "cell_type": "code",
   "execution_count": 18,
   "metadata": {},
   "outputs": [],
   "source": [
    "# Cargar todas las librerías\n",
    "import pandas as pd\n",
    "import os\n",
    "import math\n",
    "import matplotlib.pyplot as plt\n",
    "import numpy as np\n",
    "from scipy import stats\n",
    "from scipy.stats import ttest_ind"
   ]
  },
  {
   "cell_type": "markdown",
   "metadata": {},
   "source": [
    "<div class=\"alert alert-block alert-info\">\n",
    "\n",
    "<b>Respuesta del estudiante</b> <a class=\"tocSkip\"></a>\n",
    "Aca cargamos todas las librerias que utilizaremos para el proyecto.\n",
    "</div>"
   ]
  },
  {
   "cell_type": "markdown",
   "metadata": {},
   "source": [
    "## Cargar los Datos"
   ]
  },
  {
   "cell_type": "code",
   "execution_count": 2,
   "metadata": {},
   "outputs": [
    {
     "name": "stdout",
     "output_type": "stream",
     "text": [
      "Archivo project_sql_result_01.csv cargado exitosamente.\n",
      "Archivo project_sql_result_04.csv cargado exitosamente.\n",
      "Archivo project_sql_result_07.csv cargado exitosamente.\n"
     ]
    }
   ],
   "source": [
    "# Nombre de tus archivos CSV\n",
    "file_names = [\n",
    "    \"/datasets/project_sql_result_01.csv\",\n",
    "    \"/datasets/project_sql_result_04.csv\",\n",
    "    \"/datasets/project_sql_result_07.csv\"\n",
    "]\n",
    "\n",
    "# Crear un diccionario para almacenar los DataFrames\n",
    "dataframes = {}\n",
    "\n",
    "# Iterar a través de los nombres de archivo y cargar los datos en DataFrames\n",
    "for file_name in file_names:\n",
    "    # Usa try-except para manejar cualquier error al cargar archivos\n",
    "    try:\n",
    "        # Obtener el nombre base del archivo sin la extensión\n",
    "        base_name = os.path.basename(file_name)\n",
    "        key = os.path.splitext(base_name)[0]\n",
    "        # Cargar el archivo CSV en un DataFrame y almacenarlo en el diccionario\n",
    "        dataframes[key] = pd.read_csv(file_name)\n",
    "        print(f\"Archivo {base_name} cargado exitosamente.\")\n",
    "    except Exception as e:\n",
    "        print(f\"Error al cargar {file_name}: {str(e)}\")\n",
    "\n",
    "# Ahora puedes acceder a los DataFrames utilizando nombres de archivo sin la extensión como claves\n",
    "# Por ejemplo, para acceder al DataFrame de project_sql_result_01.csv:\n",
    "result_01 = dataframes['project_sql_result_01']\n",
    "\n",
    "# Para acceder al DataFrame de project_sql_result_04.csv:\n",
    "result_04 = dataframes['project_sql_result_04']\n",
    "\n",
    "# Para acceder al DataFrame de project_sql_result_07.csv:\n",
    "result_07 = dataframes['project_sql_result_07']"
   ]
  },
  {
   "cell_type": "markdown",
   "metadata": {},
   "source": [
    "<div class=\"alert alert-block alert-info\">\n",
    "\n",
    "<b>Respuesta del estudiante</b> <a class=\"tocSkip\"></a>\n",
    "Como se puede apreciar, para cargar las `3` bases de datos que fueron provistas por la empresa, creamos un codigo que nos ayuda a volver los dataframes diccionarios accesibles en cualquier parte del proyecto, mediante las variables que creamos especificamente para ello.\n",
    "</div>"
   ]
  },
  {
   "cell_type": "markdown",
   "metadata": {},
   "source": [
    "<div class=\"alert alert-block alert-success\">\n",
    "<b>Comentario del revisor</b> <a class=\"tocSkip\"></a>\n",
    "    \n",
    "Buen trabajo con la importación de datos y de librerías.\n",
    "</div>\n"
   ]
  },
  {
   "cell_type": "markdown",
   "metadata": {},
   "source": [
    "# Preparar los Datos"
   ]
  },
  {
   "cell_type": "markdown",
   "metadata": {},
   "source": [
    "## Visualizar los Datos"
   ]
  },
  {
   "cell_type": "code",
   "execution_count": 3,
   "metadata": {},
   "outputs": [
    {
     "name": "stdout",
     "output_type": "stream",
     "text": [
      "<class 'pandas.core.frame.DataFrame'>\n",
      "RangeIndex: 64 entries, 0 to 63\n",
      "Data columns (total 2 columns):\n",
      " #   Column        Non-Null Count  Dtype \n",
      "---  ------        --------------  ----- \n",
      " 0   company_name  64 non-null     object\n",
      " 1   trips_amount  64 non-null     int64 \n",
      "dtypes: int64(1), object(1)\n",
      "memory usage: 1.1+ KB\n"
     ]
    }
   ],
   "source": [
    "# Imprime la información general/resumen sobre el DataFrame `result_01`\n",
    "result_01.info()"
   ]
  },
  {
   "cell_type": "markdown",
   "metadata": {},
   "source": [
    "<div class=\"alert alert-block alert-info\">\n",
    "\n",
    "<b>Respuesta del estudiante</b> <a class=\"tocSkip\"></a>\n",
    "Aca visualizaremos la informacion general del DF `result_01`.\n",
    "</div>"
   ]
  },
  {
   "cell_type": "code",
   "execution_count": 4,
   "metadata": {},
   "outputs": [
    {
     "name": "stdout",
     "output_type": "stream",
     "text": [
      "<class 'pandas.core.frame.DataFrame'>\n",
      "RangeIndex: 94 entries, 0 to 93\n",
      "Data columns (total 2 columns):\n",
      " #   Column                 Non-Null Count  Dtype  \n",
      "---  ------                 --------------  -----  \n",
      " 0   dropoff_location_name  94 non-null     object \n",
      " 1   average_trips          94 non-null     float64\n",
      "dtypes: float64(1), object(1)\n",
      "memory usage: 1.6+ KB\n"
     ]
    }
   ],
   "source": [
    "# Imprime la información general/resumen sobre el DataFrame `result_04`\n",
    "result_04.info()"
   ]
  },
  {
   "cell_type": "markdown",
   "metadata": {},
   "source": [
    "<div class=\"alert alert-block alert-info\">\n",
    "\n",
    "<b>Respuesta del estudiante</b> <a class=\"tocSkip\"></a>\n",
    "Aca visualizaremos la informacion general del DF `result_04`.\n",
    "</div>"
   ]
  },
  {
   "cell_type": "code",
   "execution_count": 5,
   "metadata": {},
   "outputs": [
    {
     "name": "stdout",
     "output_type": "stream",
     "text": [
      "<class 'pandas.core.frame.DataFrame'>\n",
      "RangeIndex: 1068 entries, 0 to 1067\n",
      "Data columns (total 3 columns):\n",
      " #   Column              Non-Null Count  Dtype  \n",
      "---  ------              --------------  -----  \n",
      " 0   start_ts            1068 non-null   object \n",
      " 1   weather_conditions  1068 non-null   object \n",
      " 2   duration_seconds    1068 non-null   float64\n",
      "dtypes: float64(1), object(2)\n",
      "memory usage: 25.2+ KB\n"
     ]
    }
   ],
   "source": [
    "# Imprime la información general/resumen sobre el DataFrame `result_07`\n",
    "result_07.info()"
   ]
  },
  {
   "cell_type": "markdown",
   "metadata": {},
   "source": [
    "<div class=\"alert alert-block alert-info\">\n",
    "\n",
    "<b>Respuesta del estudiante</b> <a class=\"tocSkip\"></a>\n",
    "Aca visualizaremos la informacion general del DF `result_07`.\n",
    "</div>"
   ]
  },
  {
   "cell_type": "code",
   "execution_count": 6,
   "metadata": {},
   "outputs": [
    {
     "data": {
      "text/html": [
       "<div>\n",
       "<style scoped>\n",
       "    .dataframe tbody tr th:only-of-type {\n",
       "        vertical-align: middle;\n",
       "    }\n",
       "\n",
       "    .dataframe tbody tr th {\n",
       "        vertical-align: top;\n",
       "    }\n",
       "\n",
       "    .dataframe thead th {\n",
       "        text-align: right;\n",
       "    }\n",
       "</style>\n",
       "<table border=\"1\" class=\"dataframe\">\n",
       "  <thead>\n",
       "    <tr style=\"text-align: right;\">\n",
       "      <th></th>\n",
       "      <th>company_name</th>\n",
       "      <th>trips_amount</th>\n",
       "    </tr>\n",
       "  </thead>\n",
       "  <tbody>\n",
       "    <tr>\n",
       "      <th>0</th>\n",
       "      <td>Flash Cab</td>\n",
       "      <td>19558</td>\n",
       "    </tr>\n",
       "    <tr>\n",
       "      <th>1</th>\n",
       "      <td>Taxi Affiliation Services</td>\n",
       "      <td>11422</td>\n",
       "    </tr>\n",
       "    <tr>\n",
       "      <th>2</th>\n",
       "      <td>Medallion Leasing</td>\n",
       "      <td>10367</td>\n",
       "    </tr>\n",
       "    <tr>\n",
       "      <th>3</th>\n",
       "      <td>Yellow Cab</td>\n",
       "      <td>9888</td>\n",
       "    </tr>\n",
       "    <tr>\n",
       "      <th>4</th>\n",
       "      <td>Taxi Affiliation Service Yellow</td>\n",
       "      <td>9299</td>\n",
       "    </tr>\n",
       "  </tbody>\n",
       "</table>\n",
       "</div>"
      ],
      "text/plain": [
       "                      company_name  trips_amount\n",
       "0                        Flash Cab         19558\n",
       "1        Taxi Affiliation Services         11422\n",
       "2                Medallion Leasing         10367\n",
       "3                       Yellow Cab          9888\n",
       "4  Taxi Affiliation Service Yellow          9299"
      ]
     },
     "execution_count": 6,
     "metadata": {},
     "output_type": "execute_result"
    }
   ],
   "source": [
    "# Imprime una muestra de los datos para `result_01`\n",
    "result_01.head()"
   ]
  },
  {
   "cell_type": "markdown",
   "metadata": {},
   "source": [
    "<div class=\"alert alert-block alert-info\">\n",
    "\n",
    "<b>Respuesta del estudiante</b> <a class=\"tocSkip\"></a>\n",
    "Aca visualizaremos una muestra de los datos contenidos en el DF `result_01`.\n",
    "</div>"
   ]
  },
  {
   "cell_type": "code",
   "execution_count": 7,
   "metadata": {},
   "outputs": [
    {
     "data": {
      "text/html": [
       "<div>\n",
       "<style scoped>\n",
       "    .dataframe tbody tr th:only-of-type {\n",
       "        vertical-align: middle;\n",
       "    }\n",
       "\n",
       "    .dataframe tbody tr th {\n",
       "        vertical-align: top;\n",
       "    }\n",
       "\n",
       "    .dataframe thead th {\n",
       "        text-align: right;\n",
       "    }\n",
       "</style>\n",
       "<table border=\"1\" class=\"dataframe\">\n",
       "  <thead>\n",
       "    <tr style=\"text-align: right;\">\n",
       "      <th></th>\n",
       "      <th>dropoff_location_name</th>\n",
       "      <th>average_trips</th>\n",
       "    </tr>\n",
       "  </thead>\n",
       "  <tbody>\n",
       "    <tr>\n",
       "      <th>0</th>\n",
       "      <td>Loop</td>\n",
       "      <td>10727.466667</td>\n",
       "    </tr>\n",
       "    <tr>\n",
       "      <th>1</th>\n",
       "      <td>River North</td>\n",
       "      <td>9523.666667</td>\n",
       "    </tr>\n",
       "    <tr>\n",
       "      <th>2</th>\n",
       "      <td>Streeterville</td>\n",
       "      <td>6664.666667</td>\n",
       "    </tr>\n",
       "    <tr>\n",
       "      <th>3</th>\n",
       "      <td>West Loop</td>\n",
       "      <td>5163.666667</td>\n",
       "    </tr>\n",
       "    <tr>\n",
       "      <th>4</th>\n",
       "      <td>O'Hare</td>\n",
       "      <td>2546.900000</td>\n",
       "    </tr>\n",
       "  </tbody>\n",
       "</table>\n",
       "</div>"
      ],
      "text/plain": [
       "  dropoff_location_name  average_trips\n",
       "0                  Loop   10727.466667\n",
       "1           River North    9523.666667\n",
       "2         Streeterville    6664.666667\n",
       "3             West Loop    5163.666667\n",
       "4                O'Hare    2546.900000"
      ]
     },
     "execution_count": 7,
     "metadata": {},
     "output_type": "execute_result"
    }
   ],
   "source": [
    "# Imprime una muestra de los datos para `result_04`\n",
    "result_04.head()"
   ]
  },
  {
   "cell_type": "markdown",
   "metadata": {},
   "source": [
    "<div class=\"alert alert-block alert-info\">\n",
    "\n",
    "<b>Respuesta del estudiante</b> <a class=\"tocSkip\"></a>\n",
    "Aca visualizaremos una muestra de los datos contenidos en el DF `result_04`.\n",
    "</div>"
   ]
  },
  {
   "cell_type": "code",
   "execution_count": 8,
   "metadata": {},
   "outputs": [
    {
     "data": {
      "text/html": [
       "<div>\n",
       "<style scoped>\n",
       "    .dataframe tbody tr th:only-of-type {\n",
       "        vertical-align: middle;\n",
       "    }\n",
       "\n",
       "    .dataframe tbody tr th {\n",
       "        vertical-align: top;\n",
       "    }\n",
       "\n",
       "    .dataframe thead th {\n",
       "        text-align: right;\n",
       "    }\n",
       "</style>\n",
       "<table border=\"1\" class=\"dataframe\">\n",
       "  <thead>\n",
       "    <tr style=\"text-align: right;\">\n",
       "      <th></th>\n",
       "      <th>start_ts</th>\n",
       "      <th>weather_conditions</th>\n",
       "      <th>duration_seconds</th>\n",
       "    </tr>\n",
       "  </thead>\n",
       "  <tbody>\n",
       "    <tr>\n",
       "      <th>0</th>\n",
       "      <td>2017-11-25 16:00:00</td>\n",
       "      <td>Good</td>\n",
       "      <td>2410.0</td>\n",
       "    </tr>\n",
       "    <tr>\n",
       "      <th>1</th>\n",
       "      <td>2017-11-25 14:00:00</td>\n",
       "      <td>Good</td>\n",
       "      <td>1920.0</td>\n",
       "    </tr>\n",
       "    <tr>\n",
       "      <th>2</th>\n",
       "      <td>2017-11-25 12:00:00</td>\n",
       "      <td>Good</td>\n",
       "      <td>1543.0</td>\n",
       "    </tr>\n",
       "    <tr>\n",
       "      <th>3</th>\n",
       "      <td>2017-11-04 10:00:00</td>\n",
       "      <td>Good</td>\n",
       "      <td>2512.0</td>\n",
       "    </tr>\n",
       "    <tr>\n",
       "      <th>4</th>\n",
       "      <td>2017-11-11 07:00:00</td>\n",
       "      <td>Good</td>\n",
       "      <td>1440.0</td>\n",
       "    </tr>\n",
       "  </tbody>\n",
       "</table>\n",
       "</div>"
      ],
      "text/plain": [
       "              start_ts weather_conditions  duration_seconds\n",
       "0  2017-11-25 16:00:00               Good            2410.0\n",
       "1  2017-11-25 14:00:00               Good            1920.0\n",
       "2  2017-11-25 12:00:00               Good            1543.0\n",
       "3  2017-11-04 10:00:00               Good            2512.0\n",
       "4  2017-11-11 07:00:00               Good            1440.0"
      ]
     },
     "execution_count": 8,
     "metadata": {},
     "output_type": "execute_result"
    }
   ],
   "source": [
    "# Imprime una muestra de los datos para `result_07`\n",
    "result_07.head()"
   ]
  },
  {
   "cell_type": "markdown",
   "metadata": {},
   "source": [
    "<div class=\"alert alert-block alert-info\">\n",
    "\n",
    "<b>Respuesta del estudiante</b> <a class=\"tocSkip\"></a>\n",
    "Aca visualizaremos una muestra de los datos contenidos en el DF `result_07`.\n",
    "</div>"
   ]
  },
  {
   "cell_type": "markdown",
   "metadata": {},
   "source": [
    "## Corregir los Datos"
   ]
  },
  {
   "cell_type": "code",
   "execution_count": 9,
   "metadata": {},
   "outputs": [
    {
     "name": "stdout",
     "output_type": "stream",
     "text": [
      "dropoff_location_name    object\n",
      "average_trips             int64\n",
      "dtype: object\n"
     ]
    }
   ],
   "source": [
    "# Redondear hacia arriba y convertir a entero la columna 'average_trips'\n",
    "result_04['average_trips'] = result_04['average_trips'].apply(lambda x: math.ceil(x)).astype(int)\n",
    "\n",
    "# Verificar los cambios\n",
    "print(result_04.dtypes)"
   ]
  },
  {
   "cell_type": "markdown",
   "metadata": {},
   "source": [
    "<div class=\"alert alert-block alert-info\">\n",
    "\n",
    "<b>Respuesta del estudiante</b> <a class=\"tocSkip\"></a>\n",
    "Aca cambiamos el tipo de variable para poder tener datos mas precisos y no trabajar con decimales, asi el analisis es mas facil.\n",
    "</div>"
   ]
  },
  {
   "cell_type": "code",
   "execution_count": 10,
   "metadata": {},
   "outputs": [
    {
     "data": {
      "text/html": [
       "<div>\n",
       "<style scoped>\n",
       "    .dataframe tbody tr th:only-of-type {\n",
       "        vertical-align: middle;\n",
       "    }\n",
       "\n",
       "    .dataframe tbody tr th {\n",
       "        vertical-align: top;\n",
       "    }\n",
       "\n",
       "    .dataframe thead th {\n",
       "        text-align: right;\n",
       "    }\n",
       "</style>\n",
       "<table border=\"1\" class=\"dataframe\">\n",
       "  <thead>\n",
       "    <tr style=\"text-align: right;\">\n",
       "      <th></th>\n",
       "      <th>dropoff_location_name</th>\n",
       "      <th>average_trips</th>\n",
       "    </tr>\n",
       "  </thead>\n",
       "  <tbody>\n",
       "    <tr>\n",
       "      <th>0</th>\n",
       "      <td>Loop</td>\n",
       "      <td>10728</td>\n",
       "    </tr>\n",
       "    <tr>\n",
       "      <th>1</th>\n",
       "      <td>River North</td>\n",
       "      <td>9524</td>\n",
       "    </tr>\n",
       "    <tr>\n",
       "      <th>2</th>\n",
       "      <td>Streeterville</td>\n",
       "      <td>6665</td>\n",
       "    </tr>\n",
       "    <tr>\n",
       "      <th>3</th>\n",
       "      <td>West Loop</td>\n",
       "      <td>5164</td>\n",
       "    </tr>\n",
       "    <tr>\n",
       "      <th>4</th>\n",
       "      <td>O'Hare</td>\n",
       "      <td>2547</td>\n",
       "    </tr>\n",
       "  </tbody>\n",
       "</table>\n",
       "</div>"
      ],
      "text/plain": [
       "  dropoff_location_name  average_trips\n",
       "0                  Loop          10728\n",
       "1           River North           9524\n",
       "2         Streeterville           6665\n",
       "3             West Loop           5164\n",
       "4                O'Hare           2547"
      ]
     },
     "execution_count": 10,
     "metadata": {},
     "output_type": "execute_result"
    }
   ],
   "source": [
    "# Imprime una muestra de los datos para `result_04`\n",
    "result_04.head()"
   ]
  },
  {
   "cell_type": "markdown",
   "metadata": {},
   "source": [
    "<div class=\"alert alert-block alert-info\">\n",
    "\n",
    "<b>Respuesta del estudiante</b> <a class=\"tocSkip\"></a>\n",
    "Aca pocemos apreciar el resultado del redondeo.\n",
    "</div>"
   ]
  },
  {
   "cell_type": "code",
   "execution_count": 11,
   "metadata": {},
   "outputs": [
    {
     "name": "stdout",
     "output_type": "stream",
     "text": [
      "start_ts              object\n",
      "weather_conditions    object\n",
      "duration_seconds       int64\n",
      "dtype: object\n"
     ]
    }
   ],
   "source": [
    "# Redondear hacia arriba y convertir a entero la columna 'duration_seconds'\n",
    "result_07['duration_seconds'] = result_07['duration_seconds'].apply(lambda x: math.ceil(x)).astype(int)\n",
    "\n",
    "# Verificar los cambios\n",
    "print(result_07.dtypes)"
   ]
  },
  {
   "cell_type": "markdown",
   "metadata": {},
   "source": [
    "<div class=\"alert alert-block alert-info\">\n",
    "\n",
    "<b>Respuesta del estudiante</b> <a class=\"tocSkip\"></a>\n",
    "Aca cambiamos el tipo de variable para poder tener datos mas precisos y no trabajar con decimales, asi el analisis es mas facil.\n",
    "</div>"
   ]
  },
  {
   "cell_type": "code",
   "execution_count": 12,
   "metadata": {},
   "outputs": [
    {
     "data": {
      "text/html": [
       "<div>\n",
       "<style scoped>\n",
       "    .dataframe tbody tr th:only-of-type {\n",
       "        vertical-align: middle;\n",
       "    }\n",
       "\n",
       "    .dataframe tbody tr th {\n",
       "        vertical-align: top;\n",
       "    }\n",
       "\n",
       "    .dataframe thead th {\n",
       "        text-align: right;\n",
       "    }\n",
       "</style>\n",
       "<table border=\"1\" class=\"dataframe\">\n",
       "  <thead>\n",
       "    <tr style=\"text-align: right;\">\n",
       "      <th></th>\n",
       "      <th>start_ts</th>\n",
       "      <th>weather_conditions</th>\n",
       "      <th>duration_seconds</th>\n",
       "    </tr>\n",
       "  </thead>\n",
       "  <tbody>\n",
       "    <tr>\n",
       "      <th>0</th>\n",
       "      <td>2017-11-25 16:00:00</td>\n",
       "      <td>Good</td>\n",
       "      <td>2410</td>\n",
       "    </tr>\n",
       "    <tr>\n",
       "      <th>1</th>\n",
       "      <td>2017-11-25 14:00:00</td>\n",
       "      <td>Good</td>\n",
       "      <td>1920</td>\n",
       "    </tr>\n",
       "    <tr>\n",
       "      <th>2</th>\n",
       "      <td>2017-11-25 12:00:00</td>\n",
       "      <td>Good</td>\n",
       "      <td>1543</td>\n",
       "    </tr>\n",
       "    <tr>\n",
       "      <th>3</th>\n",
       "      <td>2017-11-04 10:00:00</td>\n",
       "      <td>Good</td>\n",
       "      <td>2512</td>\n",
       "    </tr>\n",
       "    <tr>\n",
       "      <th>4</th>\n",
       "      <td>2017-11-11 07:00:00</td>\n",
       "      <td>Good</td>\n",
       "      <td>1440</td>\n",
       "    </tr>\n",
       "  </tbody>\n",
       "</table>\n",
       "</div>"
      ],
      "text/plain": [
       "              start_ts weather_conditions  duration_seconds\n",
       "0  2017-11-25 16:00:00               Good              2410\n",
       "1  2017-11-25 14:00:00               Good              1920\n",
       "2  2017-11-25 12:00:00               Good              1543\n",
       "3  2017-11-04 10:00:00               Good              2512\n",
       "4  2017-11-11 07:00:00               Good              1440"
      ]
     },
     "execution_count": 12,
     "metadata": {},
     "output_type": "execute_result"
    }
   ],
   "source": [
    "# Imprime una muestra de los datos para `result_07`\n",
    "result_07.head()"
   ]
  },
  {
   "cell_type": "markdown",
   "metadata": {},
   "source": [
    "<div class=\"alert alert-block alert-info\">\n",
    "\n",
    "<b>Respuesta del estudiante</b> <a class=\"tocSkip\"></a>\n",
    "Aca podemos apreciar el resultado del redondeo.\n",
    "</div>"
   ]
  },
  {
   "cell_type": "markdown",
   "metadata": {},
   "source": [
    "<div class=\"alert alert-block alert-success\">\n",
    "<b>Comentario del revisor</b> <a class=\"tocSkip\"></a>\n",
    "    \n",
    "Muy buen trabajo con esta exploración de datos.\n",
    "</div>\n"
   ]
  },
  {
   "cell_type": "markdown",
   "metadata": {},
   "source": [
    "## Analizar los Datos"
   ]
  },
  {
   "cell_type": "code",
   "execution_count": 13,
   "metadata": {},
   "outputs": [
    {
     "data": {
      "text/html": [
       "<div>\n",
       "<style scoped>\n",
       "    .dataframe tbody tr th:only-of-type {\n",
       "        vertical-align: middle;\n",
       "    }\n",
       "\n",
       "    .dataframe tbody tr th {\n",
       "        vertical-align: top;\n",
       "    }\n",
       "\n",
       "    .dataframe thead th {\n",
       "        text-align: right;\n",
       "    }\n",
       "</style>\n",
       "<table border=\"1\" class=\"dataframe\">\n",
       "  <thead>\n",
       "    <tr style=\"text-align: right;\">\n",
       "      <th></th>\n",
       "      <th>dropoff_location_name</th>\n",
       "      <th>average_trips</th>\n",
       "    </tr>\n",
       "  </thead>\n",
       "  <tbody>\n",
       "    <tr>\n",
       "      <th>0</th>\n",
       "      <td>Loop</td>\n",
       "      <td>10728</td>\n",
       "    </tr>\n",
       "    <tr>\n",
       "      <th>1</th>\n",
       "      <td>River North</td>\n",
       "      <td>9524</td>\n",
       "    </tr>\n",
       "    <tr>\n",
       "      <th>2</th>\n",
       "      <td>Streeterville</td>\n",
       "      <td>6665</td>\n",
       "    </tr>\n",
       "    <tr>\n",
       "      <th>3</th>\n",
       "      <td>West Loop</td>\n",
       "      <td>5164</td>\n",
       "    </tr>\n",
       "    <tr>\n",
       "      <th>4</th>\n",
       "      <td>O'Hare</td>\n",
       "      <td>2547</td>\n",
       "    </tr>\n",
       "    <tr>\n",
       "      <th>5</th>\n",
       "      <td>Lake View</td>\n",
       "      <td>2421</td>\n",
       "    </tr>\n",
       "    <tr>\n",
       "      <th>6</th>\n",
       "      <td>Grant Park</td>\n",
       "      <td>2069</td>\n",
       "    </tr>\n",
       "    <tr>\n",
       "      <th>7</th>\n",
       "      <td>Museum Campus</td>\n",
       "      <td>1510</td>\n",
       "    </tr>\n",
       "    <tr>\n",
       "      <th>8</th>\n",
       "      <td>Gold Coast</td>\n",
       "      <td>1365</td>\n",
       "    </tr>\n",
       "    <tr>\n",
       "      <th>9</th>\n",
       "      <td>Sheffield &amp; DePaul</td>\n",
       "      <td>1260</td>\n",
       "    </tr>\n",
       "  </tbody>\n",
       "</table>\n",
       "</div>"
      ],
      "text/plain": [
       "  dropoff_location_name  average_trips\n",
       "0                  Loop          10728\n",
       "1           River North           9524\n",
       "2         Streeterville           6665\n",
       "3             West Loop           5164\n",
       "4                O'Hare           2547\n",
       "5             Lake View           2421\n",
       "6            Grant Park           2069\n",
       "7         Museum Campus           1510\n",
       "8            Gold Coast           1365\n",
       "9    Sheffield & DePaul           1260"
      ]
     },
     "execution_count": 13,
     "metadata": {},
     "output_type": "execute_result"
    }
   ],
   "source": [
    "# Ordenar el DataFrame por la columna 'average_trips' en orden descendente\n",
    "top_10_barrios = result_04.sort_values(by='average_trips', ascending=False).head(10)\n",
    "\n",
    "# Mostrar los 10 principales barrios en términos de finalización del recorrido\n",
    "top_10_barrios"
   ]
  },
  {
   "cell_type": "markdown",
   "metadata": {},
   "source": [
    "<div class=\"alert alert-block alert-info\">\n",
    "\n",
    "<b>Respuesta del estudiante</b> <a class=\"tocSkip\"></a>\n",
    "Aca ordenamos los barrios por cantidad de viajes finalizados, como podemos observar el barrio con mayor cantidad de viajes finalizados es `Loop` y el de menor cantidad es `Sheffield & DePaul`.\n",
    "</div>"
   ]
  },
  {
   "cell_type": "code",
   "execution_count": 14,
   "metadata": {},
   "outputs": [
    {
     "data": {
      "image/png": "[encoded data removed]",
      "text/plain": [
       "<Figure size 864x432 with 1 Axes>"
      ]
     },
     "metadata": {
      "needs_background": "light"
     },
     "output_type": "display_data"
    }
   ],
   "source": [
    "# Ordenar el DataFrame por la columna 'trips_amount' en orden descendente\n",
    "result_01_sorted = result_01.sort_values(by='trips_amount', ascending=False)\n",
    "\n",
    "# Tomar las 10 empresas con más viajes\n",
    "top_10_companies = result_01_sorted.head(10)\n",
    "\n",
    "# Datos para el gráfico de empresas de taxis y número de viajes\n",
    "companies = top_10_companies['company_name']\n",
    "trips_amount = top_10_companies['trips_amount']\n",
    "\n",
    "# Crear el gráfico\n",
    "plt.figure(figsize=(12, 6))\n",
    "plt.barh(companies, trips_amount, color='skyblue')\n",
    "plt.xlabel('Número de Viajes')\n",
    "plt.ylabel('Empresas de Taxis')\n",
    "plt.title('Número de Viajes por Empresa de Taxis (Top 10)')\n",
    "plt.gca().invert_yaxis()  # Invertir el eje y para que la empresa con más viajes esté arriba\n",
    "plt.show()"
   ]
  },
  {
   "cell_type": "markdown",
   "metadata": {},
   "source": [
    "<div class=\"alert alert-block alert-info\">\n",
    "\n",
    "<b>Respuesta del estudiante `al comentario del revisor`</b> <a class=\"tocSkip\"></a>\n",
    "Aca he corregido el grafico para que se muestren las 10 empresas de taxi con mayor cantidad de viajes realizados.\n",
    "</div>"
   ]
  },
  {
   "cell_type": "markdown",
   "metadata": {},
   "source": [
    " <div class=\"alert alert-block alert-info\">\n",
    "\n",
    "<b>Respuesta del estudiante</b> <a class=\"tocSkip\"></a>\n",
    "Podemos concluir que hay una gran diferencia entre el número de viajes de las distintas empresas de taxi. La empresa `Blue Taxi Affiliation Inc.` tiene una clara ventaja sobre las demás, con casi el doble de viajes que la segunda empresa más popular, `Taxi Affiliation Service Yellow`. Esto podría deberse a varios factores, como la calidad del servicio, la disponibilidad de los taxis, la fidelidad de los clientes o la estrategia de marketing. También podría concluir que hay algunas empresas de taxi que tienen muy pocos viajes en comparación con las demás, como `5857 - 736 Taxi Corp`, que tiene menos de un cuarto de los viajes que la empresa más popular. Esto podría indicar que estas empresas tienen problemas para competir en el mercado o que se enfocan en nichos específicos.\n",
    "</div> "
   ]
  },
  {
   "cell_type": "code",
   "execution_count": 15,
   "metadata": {},
   "outputs": [
    {
     "data": {
      "image/png": "[encoded data removed]",
      "text/plain": [
       "<Figure size 720x432 with 1 Axes>"
      ]
     },
     "metadata": {
      "needs_background": "light"
     },
     "output_type": "display_data"
    }
   ],
   "source": [
    "# Datos para el gráfico de los 10 barrios principales por número de finalizaciones\n",
    "barrios = top_10_barrios['dropoff_location_name']\n",
    "finalizaciones = top_10_barrios['average_trips']\n",
    "\n",
    "# Crear el gráfico\n",
    "plt.figure(figsize=(10, 6))\n",
    "plt.barh(barrios, finalizaciones, color='lightgreen')\n",
    "plt.xlabel('Número de Finalizaciones')\n",
    "plt.ylabel('Barrios')\n",
    "plt.title('Top 10 Barrios por Número de Finalizaciones')\n",
    "plt.gca().invert_yaxis()  # Invertir el eje y para que el barrio con más finalizaciones esté arriba\n",
    "plt.show()"
   ]
  },
  {
   "cell_type": "markdown",
   "metadata": {},
   "source": [
    " <div class=\"alert alert-block alert-info\">\n",
    "\n",
    "<b>Respuesta del estudiante</b> <a class=\"tocSkip\"></a>\n",
    "De este podriamos concluir que hay una gran variación en el número de finalizaciones por barrio. El barrio `Loop` tiene el mayor número de finalizaciones, con aproximadamente `10,000` finalizaciones, lo que representa más del doble que el segundo barrio más popular, `River North`. Esto podría deberse a que `Loop` es el centro financiero y comercial de Chicago, donde hay mucha actividad económica y social. También podría concluir que hay algunos barrios que tienen muy pocas finalizaciones en comparación con los demás, como `Sheffield & DePaul`, que tiene aproximadamente `2,000` finalizaciones, lo que representa menos de un quinto que el barrio más popular. Esto podría indicar que estos barrios son más residenciales o menos atractivos para los viajeros.\n",
    "</div> "
   ]
  },
  {
   "cell_type": "markdown",
   "metadata": {},
   "source": [
    "<div class=\"alert alert-block alert-success\">\n",
    "<b>Comentario del revisor</b> <a class=\"tocSkip\"></a>\n",
    "    \n",
    "Buen trabajo.\n",
    "</div>\n"
   ]
  },
  {
   "cell_type": "markdown",
   "metadata": {},
   "source": [
    "# Prueba de Hipotesis"
   ]
  },
  {
   "cell_type": "code",
   "execution_count": 19,
   "metadata": {},
   "outputs": [
    {
     "name": "stdout",
     "output_type": "stream",
     "text": [
      "Se rechaza la hipótesis nula. Hay una diferencia significativa en la duración de los viajes.\n",
      "Estadístico t: -7.186034288068629\n",
      "Valor p: 6.738994326108734e-12\n",
      "Nivel de significancia (alfa): 0.05\n"
     ]
    }
   ],
   "source": [
    "# Filtrar los datos para obtener las duraciones de los viajes en días buenos y malos\n",
    "dias_buen_tiempo = result_07[result_07['weather_conditions'] == 'Good']['duration_seconds']\n",
    "dias_mal_tiempo = result_07[result_07['weather_conditions'] == 'Bad']['duration_seconds']\n",
    "\n",
    "# Realizar la prueba t para muestras independientes\n",
    "t_statistic, p_value = ttest_ind(dias_buen_tiempo, dias_mal_tiempo, equal_var=False)  # Usamos equal_var=False porque no asumimos igual varianza\n",
    "\n",
    "# Nivel de significancia (alfa)\n",
    "alfa = 0.05  # Supongamos que seleccionamos un nivel de significancia de 0.05\n",
    "\n",
    "# Compara el valor p con el nivel de significancia\n",
    "if p_value < alfa:\n",
    "    print(\"Se rechaza la hipótesis nula. Hay una diferencia significativa en la duración de los viajes.\")\n",
    "else:\n",
    "    print(\"No se rechaza la hipótesis nula. No hay una diferencia significativa en la duración de los viajes.\")\n",
    "\n",
    "# Imprime el estadístico t, el valor p y el valor crítico para referencia\n",
    "print(\"Estadístico t:\", t_statistic)\n",
    "print(\"Valor p:\", p_value)\n",
    "print(\"Nivel de significancia (alfa):\", alfa)"
   ]
  },
  {
   "cell_type": "markdown",
   "metadata": {},
   "source": [
    "<div class=\"alert alert-block alert-info\">\n",
    "\n",
    "<b>Respuesta del estudiante</b> <a class=\"tocSkip\"></a>\n",
    "\n",
    "Cuando el resultado del estadístico t es mayor que el valor crítico, como en este caso (Estadístico t: 7.186 > Valor crítico: 1.962), rechazamos la hipótesis nula. Esto indica que hay una diferencia estadísticamente significativa en la duración de los viajes entre los días con buen tiempo y los días con mal tiempo.\n",
    "\n",
    "Por lo tanto, podemos concluir que la duración de los viajes varía significativamente entre los días con buen tiempo y los días con mal tiempo. Es probable que haya una diferencia en la demanda de viajes debido a condiciones climáticas diferentes, lo que afecta la duración de los trayectos.\n",
    "</div>"
   ]
  },
  {
   "cell_type": "markdown",
   "metadata": {},
   "source": [
    "# Conclusiones"
   ]
  },
  {
   "cell_type": "markdown",
   "metadata": {},
   "source": [
    "<div class=\"alert alert-block alert-info\">\n",
    "\n",
    "<b>Respuesta del estudiante</b> <a class=\"tocSkip\"></a>\n",
    "Al analizar los datos a fondo podemos observar que la empresa que destaca como mayor competidor entre las empresas de taxi es `Blue Taxi Affiliation Inc.` con una ventaja un poco abrumadora sobre las demas, podemos a traves del grafico que presentamos en la investigacion notar que el principal trabajo para `Zuber` como empresa de taxis es mejorar su servicio lo suficiente como para poder dominar el mercado ante tal competidor, pero siempre que se tome en cuenta en que terremo se esta trabajando se podra tomar las decisiones correctas para salir adelante, como podemos ver en el segundo grafico, que nos muestra cuales son los barrios donde se hacen la mayor cantidad de viajes, teniendo esto en cuenta se podria realizar una jornada publicitaria que ayude a la empresa a tener mayor visibilidad en estos, para asi ganar mas clientes y mejorar su posicionamiento como empresa de taxis, tambien, ya en la parte final de nuestro analisis vimos la prueba de hipotesis, sobre como se manejan las empresas de taxi cuando hay buen o mal tiempo y pudimos apreciar que los dias con mal tiempo aumenta bastante el uso de los taxis, esta tambien es algo a tener en cuenta para poder ganar mas terreno, si `Zuber` mejora su visibilidad y posicionamiento en esos momentos donde hay mayor actividad por el mal tiempo, tambien podria mejorar su posicion en el ranking de las empresas con mayor cantidad de viajes realizados, y asi poder obtener mayores dividendos.\n",
    "</div>"
   ]
  },
  {
   "cell_type": "markdown",
   "metadata": {},
   "source": [
    "<div class=\"alert alert-block alert-danger\">\n",
    "    \n",
    "# Comentarios generales\n",
    "<b>Comentario del revisor</b> <a class=\"tocSkip\"></a>\n",
    "    \n",
    "Gran trabajo, Carlos. Nos queda pendiente un único detalle con un gráfico y estaremos listos para aprobar tu proyecto.\n",
    "</div>\n"
   ]
  },
  {
   "cell_type": "markdown",
   "metadata": {},
   "source": [
    "<div class=\"alert alert-block alert-success\">\n",
    "    \n",
    "# Comentarios generales\n",
    "<b>Comentario del revisor</b> <a class=\"tocSkip\"></a>\n",
    "    \n",
    "Todo corregido. Has aprobado un nuevo proyecto. ¡Felicitaciones!\n",
    "</div>"
   ]
  }
 ],
 "metadata": {
  "kernelspec": {
   "display_name": "Python 3 (ipykernel)",
   "language": "python",
   "name": "python3"
  },
  "language_info": {
   "codemirror_mode": {
    "name": "ipython",
    "version": 3
   },
   "file_extension": ".py",
   "mimetype": "text/x-python",
   "name": "python",
   "nbconvert_exporter": "python",
   "pygments_lexer": "ipython3",
   "version": "3.9.5"
  },
  "toc": {
   "base_numbering": 1,
   "nav_menu": {
    "height": "135px",
    "width": "208px"
   },
   "number_sections": true,
   "sideBar": true,
   "skip_h1_title": false,
   "title_cell": "Table of Contents",
   "title_sidebar": "Contents",
   "toc_cell": false,
   "toc_position": {},
   "toc_section_display": true,
   "toc_window_display": true
  }
 },
 "nbformat": 4,
 "nbformat_minor": 2
}
